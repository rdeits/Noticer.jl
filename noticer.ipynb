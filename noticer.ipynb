{
 "cells": [
  {
   "cell_type": "code",
   "execution_count": 16,
   "id": "f8d1c1ce",
   "metadata": {},
   "outputs": [
    {
     "name": "stderr",
     "output_type": "stream",
     "text": [
      "\u001b[32m\u001b[1m  Activating\u001b[22m\u001b[39m project at `~/Projects/Noticer.jl`\n"
     ]
    }
   ],
   "source": [
    "]activate ."
   ]
  },
  {
   "cell_type": "code",
   "execution_count": 17,
   "id": "4fe27a3b",
   "metadata": {},
   "outputs": [],
   "source": [
    "using PuzzleTools\n",
    "using Noticer\n",
    "using Test"
   ]
  },
  {
   "cell_type": "code",
   "execution_count": 18,
   "id": "74fb1303",
   "metadata": {},
   "outputs": [],
   "source": [
    "words = PuzzleTools.Wordsets.unixwords();"
   ]
  },
  {
   "cell_type": "code",
   "execution_count": 19,
   "id": "f9edb6c7",
   "metadata": {},
   "outputs": [
    {
     "data": {
      "text/plain": [
       "5-element Vector{Noticer.EvaluationResult}:\n",
       " EvaluationResult(Number of occurrences of 'm', p=1.6e-53,\n",
       "\tobs: __▇__,\n",
       "\texp: ▇▂___)\n",
       " EvaluationResult(Number of occurrences of 'u', p=0.0019,\n",
       "\tobs: _▇___,\n",
       "\texp: ▇▂___)\n",
       " EvaluationResult(Number of occurrences of 'y', p=0.21,\n",
       "\tobs: ▇▅_,\n",
       "\texp: ▇▁_)\n",
       " EvaluationResult(Number of unique vowels, p=0.33,\n",
       "\tobs: __▇____,\n",
       "\texp: _▂▇▆▂__)\n",
       " EvaluationResult(Number of occurrences of 's', p=0.34,\n",
       "\tobs: ▇_______,\n",
       "\texp: ▆▇▂▁____)"
      ]
     },
     "execution_count": 19,
     "metadata": {},
     "output_type": "execute_result"
    }
   ],
   "source": [
    "features = all_features();\n",
    "model = train(features, words)\n",
    "\n",
    "answers = lowercase.(split(\"\"\"\n",
    "        mumble\n",
    "        tummy\n",
    "        mumford\n",
    "        bomgum\n",
    "        mumy\n",
    "        \"\"\"))\n",
    "results = evaluate(model, answers)\n",
    "@test description(first(results)) == \"Number of occurrences of 'm'\"\n",
    "results[1:5]"
   ]
  },
  {
   "cell_type": "code",
   "execution_count": 20,
   "id": "cf8b8d4f",
   "metadata": {},
   "outputs": [
    {
     "data": {
      "text/plain": [
       "5-element Vector{Noticer.EvaluationResult}:\n",
       " EvaluationResult(Number of occurrences of 'f', p=1.4e-225,\n",
       "\tobs: _▇▁__,\n",
       "\texp: ▇▁___)\n",
       " EvaluationResult(Scrabble score, p=3.2e-98,\n",
       "\tobs: ______▁▂▁▂▂▅▄▆▄▆▆▂▃▄▇▂▄_▄_▁____▁▁▁▁▁____▁______,\n",
       "\texp: ____▁▁▂▃▄▅▆▇▇▇▆▆▅▄▃▃▂▂▁▁▁▁_____________________)\n",
       " EvaluationResult(Number of occurrences of 'd', p=1.1e-46,\n",
       "\tobs: ▇▂▁__,\n",
       "\texp: ▇▂___)\n",
       " EvaluationResult(Number of occurrences of 'q', p=2.7e-38,\n",
       "\tobs: ▇__,\n",
       "\texp: ▇__)\n",
       " EvaluationResult(Number of occurrences of 'l', p=1e-07,\n",
       "\tobs: ▆▇▁__,\n",
       "\texp: ▇▃▁__)"
      ]
     },
     "execution_count": 20,
     "metadata": {},
     "output_type": "execute_result"
    }
   ],
   "source": [
    "# Based on http://web.mit.edu/puzzle/www/2015/puzzle/ukacd/\n",
    "\n",
    "    clues = [\"hip-flask\",\"infamise\",\"facade\",\"furnaced\",\"ill fame\",\"loofah\",\"odoriferously\",\"focalisation\",\"deceitful\",\"modify\",\"defoliate\",\"definabilities\",\"exemplification\",\"unfeminine\",\"icefield\",\"boastfulness\",\"cuttlefishes\",\"zinckification\",\"folkland\",\"unfeeling\",\"flanges\",\"have a short fuse\",\"pelletifying\",\"fable\",\"efts\",\"state of play\",\"fangled\",\"fitchews\",\"fasciated\",\"soulful\",\"flaunchings\",\"rust-proofing\",\"Mustafa\",\"carfuffle\",\"far-out\",\"goff\",\"quinquefoliate\",\"usufruct\",\"denazified\",\"thoughtfulness\",\"pacificists\",\"calves'-foot jelly\",\"field of view\",\"sweet flag\",\"fandangos\",\"sail-fish\",\"Cadfael\",\"fag\",\"The Return of the Native\",\"gold-foil\",\"feldspathoid\",\"caftan\",\"road-fund licence\",\"purfling\",\"febrifugal\",\"fish eagle\",\"old-fogey\",\"heffalump\",\"confutation\",\"flimping\",\"sell-off\",\"defuzed\",\"battle fatigue\",\"effluences\",\"chaudfroid\",\"flavorous\",\"floury\",\"elf\",\"fusses\",\"dog-faced\",\"felt\",\"law of excluded middle\",\"Schottky effect\",\"faddy\",\"superficializes\",\"tuner amplifiers\",\"off-plan\",\"counter-flory\",\"unselfishness\",\"sound effects\",\"Fawkes\",\"Mafikeng\",\"Laffer curve\",\"felines\",\"foundering\",\"fixed assets\",\"foins\",\"flatlets\",\"dog-fights\",\"lift-off\",\"Fluellen\",\"pouf\",\"suffused\",\"Aesop's Fables\",\"manful\",\"falsifying\",\"kifs\",\"custard coffin\",\"officials\",\"vote of no confidence\"]\n",
    "\n",
    "    map!(clues, clues) do w\n",
    "        replace(lowercase(w), r\"[^a-z]\" => \"\")\n",
    "    end\n",
    "\n",
    "    results = evaluate(model, clues)\n",
    "\n",
    "    @test first(results).feature.description == \"Number of occurrences of 'f'\"\n",
    "\n",
    "results[1:5]"
   ]
  },
  {
   "cell_type": "code",
   "execution_count": 21,
   "id": "2afab35a",
   "metadata": {},
   "outputs": [
    {
     "data": {
      "text/plain": [
       "5-element Vector{Noticer.EvaluationResult}:\n",
       " EvaluationResult(Number of unique consonants, p=1e-05,\n",
       "\tobs: __▂▇________,\n",
       "\texp: __▁▅▇▆▃▁____)\n",
       " EvaluationResult(Number of unique letters, p=0.025,\n",
       "\tobs: ____▁▇▄________,\n",
       "\texp: ___▁▂▅▇▇▅▃▁____)\n",
       " EvaluationResult(Number of occurrences of 'r', p=0.16,\n",
       "\tobs: ▇▁___,\n",
       "\texp: ▇▅▁__)\n",
       " EvaluationResult(Scrabble score, p=0.18,\n",
       "\tobs: ______▁▁▇_▁▅▁__________________________________,\n",
       "\texp: ____▁▁▂▃▄▅▆▇▇▇▆▆▅▄▃▃▂▂▁▁▁▁_____________________)\n",
       " EvaluationResult(Number of occurrences of 'e', p=0.28,\n",
       "\tobs: ▂▇_▁__,\n",
       "\texp: ▆▇▃▁__)"
      ]
     },
     "execution_count": 21,
     "metadata": {},
     "output_type": "execute_result"
    }
   ],
   "source": [
    "    clues = [\"season\", \"saveup\", \"ecowas\", \"ignore\", \"sluice\", \"hosni\", \"inbed\", \"barbeau\", \"museum\", \"tobiah\", \"unsew\", \"dolce\", \"anaphia\", \"teenage\"]\n",
    "\n",
    "    results = evaluate(model, clues)\n",
    "results[1:5]"
   ]
  },
  {
   "cell_type": "code",
   "execution_count": 23,
   "id": "662b7872",
   "metadata": {},
   "outputs": [
    {
     "data": {
      "text/plain": [
       "5-element Vector{Noticer.EvaluationResult}:\n",
       " EvaluationResult(Number of unique letters, p=3.3e-05,\n",
       "\tobs: ________▇______,\n",
       "\texp: ___▁▂▅▇▇▅▃▁____)\n",
       " EvaluationResult(Number of occurrences of 'c', p=0.04,\n",
       "\tobs: ▇▅▄__,\n",
       "\texp: ▇▂___)\n",
       " EvaluationResult(Number of occurrences of 'p', p=0.05,\n",
       "\tobs: ▆▇___,\n",
       "\texp: ▇▁___)\n",
       " EvaluationResult(Number of occurrences of 't', p=0.12,\n",
       "\tobs: ▇▄▅__,\n",
       "\texp: ▇▄▁__)\n",
       " EvaluationResult(Number of occurrences of 'v', p=0.27,\n",
       "\tobs: ▇▂_,\n",
       "\texp: ▇▁_)"
      ]
     },
     "execution_count": 23,
     "metadata": {},
     "output_type": "execute_result"
    }
   ],
   "source": [
    "    clues = [\"citygates\", \"impulsive\", \"clickspam\", \"baptistry\", \"leviathan\", \"policecar\", \"coupdetat\", \"sforzando\", \"cartwheel\"]\n",
    "    results = evaluate(model, clues)\n",
    "results[1:5]"
   ]
  },
  {
   "cell_type": "code",
   "execution_count": null,
   "id": "d8219154",
   "metadata": {},
   "outputs": [],
   "source": []
  }
 ],
 "metadata": {
  "@webio": {
   "lastCommId": null,
   "lastKernelId": null
  },
  "kernelspec": {
   "display_name": "Julia 1.7.1",
   "language": "julia",
   "name": "julia-1.7"
  },
  "language_info": {
   "file_extension": ".jl",
   "mimetype": "application/julia",
   "name": "julia",
   "version": "1.7.1"
  }
 },
 "nbformat": 4,
 "nbformat_minor": 5
}
