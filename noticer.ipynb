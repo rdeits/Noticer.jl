{
 "cells": [
  {
   "cell_type": "code",
   "execution_count": 68,
   "id": "f8d1c1ce",
   "metadata": {},
   "outputs": [
    {
     "name": "stderr",
     "output_type": "stream",
     "text": [
      "\u001b[32m\u001b[1m  Activating\u001b[22m\u001b[39m project at `~/Projects/Noticer.jl`\n"
     ]
    }
   ],
   "source": [
    "]activate ."
   ]
  },
  {
   "cell_type": "code",
   "execution_count": 69,
   "id": "4fe27a3b",
   "metadata": {},
   "outputs": [],
   "source": [
    "using PuzzleTools\n",
    "using Noticer\n",
    "using Test"
   ]
  },
  {
   "cell_type": "code",
   "execution_count": 70,
   "id": "74fb1303",
   "metadata": {},
   "outputs": [],
   "source": [
    "function normalize(phrase)\n",
    "    replace(lowercase(phrase), r\"[^a-z ]\" => \"\")\n",
    "end\n",
    "\n",
    "words = Set{String}(normalize.(open(readlines, \"data/113809of.fic\")))\n",
    "open(\"/usr/share/dict/words\") do f\n",
    "    for line in readlines(f)\n",
    "        push!(words, normalize(line))\n",
    "    end\n",
    "end"
   ]
  },
  {
   "cell_type": "code",
   "execution_count": 71,
   "id": "f9edb6c7",
   "metadata": {},
   "outputs": [
    {
     "data": {
      "text/plain": [
       "5-element Vector{Noticer.EvaluationResult}:\n",
       " EvaluationResult(Number of occurrences of 'm', p=3.2e-56,\n",
       "\tobs: __▇__,\n",
       "\texp: ▇▂___)\n",
       " EvaluationResult(Number of cardinal directions (NESW), p=1.4e-05,\n",
       "\tobs: ▇▂____________,\n",
       "\texp: ▁▅▇▅▃▁________)\n",
       " EvaluationResult(Number of occurrences of 'u', p=0.0023,\n",
       "\tobs: _▇___,\n",
       "\texp: ▇▂___)\n",
       " EvaluationResult(Number of occurrences of 'y', p=0.33,\n",
       "\tobs: ▇▅__,\n",
       "\texp: ▇▁__)\n",
       " EvaluationResult(Number of unique letters, p=0.33,\n",
       "\tobs: ___▄▄▇▄________,\n",
       "\texp: ___▁▂▄▇▇▅▂▁____)"
      ]
     },
     "execution_count": 71,
     "metadata": {},
     "output_type": "execute_result"
    }
   ],
   "source": [
    "features = all_features();\n",
    "model = train(features, words)\n",
    "\n",
    "answers = lowercase.(split(\"\"\"\n",
    "        mumble\n",
    "        tummy\n",
    "        mumford\n",
    "        bomgum\n",
    "        mumy\n",
    "        \"\"\"))\n",
    "results = evaluate(model, answers)\n",
    "@test description(first(results)) == \"Number of occurrences of 'm'\"\n",
    "results[1:5]"
   ]
  },
  {
   "cell_type": "code",
   "execution_count": 72,
   "id": "4012789d",
   "metadata": {},
   "outputs": [
    {
     "data": {
      "text/plain": [
       "5-element Vector{Noticer.EvaluationResult}:\n",
       " EvaluationResult(Number of occurrences of 'f', p=3.2e-225,\n",
       "\tobs: _▇▁__,\n",
       "\texp: ▇▁___)\n",
       " EvaluationResult(Scrabble score, p=5.4e-140,\n",
       "\tobs: ______▁▂▁▂▂▅▄▆▄▆▆▂▃▄▇▂▄_▄_▁____▁▁▁▁▁____▁______,\n",
       "\texp: _____▁▂▃▄▅▆▇▇▇▆▅▄▄▃▂▂▁▁▁▁______________________)\n",
       " EvaluationResult(Number of reverse alphabetical bigrams, p=1.7e-78,\n",
       "\tobs: _▂▄▆▇▅▂▂▁____,\n",
       "\texp: _▂▅▇▆▃▁______)\n",
       " EvaluationResult(Number of occurrences of 'q', p=3e-62,\n",
       "\tobs: ▇__,\n",
       "\texp: ▇__)\n",
       " EvaluationResult(Number of occurrences of 'd', p=4.3e-34,\n",
       "\tobs: ▇▂▁__,\n",
       "\texp: ▇▂___)"
      ]
     },
     "execution_count": 72,
     "metadata": {},
     "output_type": "execute_result"
    }
   ],
   "source": [
    "# Based on http://web.mit.edu/puzzle/www/2015/puzzle/ukacd/\n",
    "\n",
    "    clues = [\"hip-flask\",\"infamise\",\"facade\",\"furnaced\",\"ill fame\",\"loofah\",\"odoriferously\",\"focalisation\",\"deceitful\",\"modify\",\"defoliate\",\"definabilities\",\"exemplification\",\"unfeminine\",\"icefield\",\"boastfulness\",\"cuttlefishes\",\"zinckification\",\"folkland\",\"unfeeling\",\"flanges\",\"have a short fuse\",\"pelletifying\",\"fable\",\"efts\",\"state of play\",\"fangled\",\"fitchews\",\"fasciated\",\"soulful\",\"flaunchings\",\"rust-proofing\",\"Mustafa\",\"carfuffle\",\"far-out\",\"goff\",\"quinquefoliate\",\"usufruct\",\"denazified\",\"thoughtfulness\",\"pacificists\",\"calves'-foot jelly\",\"field of view\",\"sweet flag\",\"fandangos\",\"sail-fish\",\"Cadfael\",\"fag\",\"The Return of the Native\",\"gold-foil\",\"feldspathoid\",\"caftan\",\"road-fund licence\",\"purfling\",\"febrifugal\",\"fish eagle\",\"old-fogey\",\"heffalump\",\"confutation\",\"flimping\",\"sell-off\",\"defuzed\",\"battle fatigue\",\"effluences\",\"chaudfroid\",\"flavorous\",\"floury\",\"elf\",\"fusses\",\"dog-faced\",\"felt\",\"law of excluded middle\",\"Schottky effect\",\"faddy\",\"superficializes\",\"tuner amplifiers\",\"off-plan\",\"counter-flory\",\"unselfishness\",\"sound effects\",\"Fawkes\",\"Mafikeng\",\"Laffer curve\",\"felines\",\"foundering\",\"fixed assets\",\"foins\",\"flatlets\",\"dog-fights\",\"lift-off\",\"Fluellen\",\"pouf\",\"suffused\",\"Aesop's Fables\",\"manful\",\"falsifying\",\"kifs\",\"custard coffin\",\"officials\",\"vote of no confidence\"]\n",
    "\n",
    "    map!(clues, clues) do w\n",
    "        replace(lowercase(w), r\"[^a-z]\" => \"\")\n",
    "    end\n",
    "\n",
    "    results = evaluate(model, clues)\n",
    "\n",
    "    @test first(results).feature.description == \"Number of occurrences of 'f'\"\n",
    "\n",
    "results[1:5]"
   ]
  },
  {
   "cell_type": "code",
   "execution_count": 73,
   "id": "a866da49",
   "metadata": {},
   "outputs": [
    {
     "data": {
      "text/plain": [
       "5-element Vector{Noticer.EvaluationResult}:\n",
       " EvaluationResult(Number of unique consonants, p=2.4e-05,\n",
       "\tobs: __▂▇________,\n",
       "\texp: __▁▄▇▆▃▁____)\n",
       " EvaluationResult(Number of alphabetical bigrams, p=0.035,\n",
       "\tobs: _▁▇▃_________,\n",
       "\texp: _▁▄▇▆▃▁______)\n",
       " EvaluationResult(Number of unique letters, p=0.038,\n",
       "\tobs: ____▁▇▄________,\n",
       "\texp: ___▁▂▄▇▇▅▂▁____)\n",
       " EvaluationResult(Number of occurrences of 'r', p=0.16,\n",
       "\tobs: ▇▁___,\n",
       "\texp: ▇▅▁__)\n",
       " EvaluationResult(Scrabble score, p=0.26,\n",
       "\tobs: ______▁▁▇_▁▅▁__________________________________,\n",
       "\texp: _____▁▂▃▄▅▆▇▇▇▆▅▄▄▃▂▂▁▁▁▁______________________)"
      ]
     },
     "execution_count": 73,
     "metadata": {},
     "output_type": "execute_result"
    }
   ],
   "source": [
    "    clues = [\"season\", \"saveup\", \"ecowas\", \"ignore\", \"sluice\", \"hosni\", \"inbed\", \"barbeau\", \"museum\", \"tobiah\", \"unsew\", \"dolce\", \"anaphia\", \"teenage\"]\n",
    "\n",
    "    results = evaluate(model, clues)\n",
    "results[1:5]"
   ]
  },
  {
   "cell_type": "code",
   "execution_count": 74,
   "id": "2b7f7755",
   "metadata": {},
   "outputs": [
    {
     "data": {
      "text/plain": [
       "5-element Vector{Noticer.EvaluationResult}:\n",
       " EvaluationResult(Number of unique letters, p=1.5e-05,\n",
       "\tobs: ________▇______,\n",
       "\texp: ___▁▂▄▇▇▅▂▁____)\n",
       " EvaluationResult(Number of occurrences of 'c', p=0.022,\n",
       "\tobs: ▇▅▄__,\n",
       "\texp: ▇▂___)\n",
       " EvaluationResult(Number of occurrences of 'p', p=0.054,\n",
       "\tobs: ▆▇___,\n",
       "\texp: ▇▂___)\n",
       " EvaluationResult(Number of occurrences of 't', p=0.069,\n",
       "\tobs: ▇▄▅__,\n",
       "\texp: ▇▄▁__)\n",
       " EvaluationResult(Number of alphabetical bigrams, p=0.25,\n",
       "\tobs: __▁▁▃▇_______,\n",
       "\texp: _▁▄▇▆▃▁______)"
      ]
     },
     "execution_count": 74,
     "metadata": {},
     "output_type": "execute_result"
    }
   ],
   "source": [
    "    clues = [\"citygates\", \"impulsive\", \"clickspam\", \"baptistry\", \"leviathan\", \"policecar\", \"coupdetat\", \"sforzando\", \"cartwheel\"]\n",
    "    results = evaluate(model, clues)\n",
    "results[1:5]"
   ]
  },
  {
   "cell_type": "code",
   "execution_count": 75,
   "id": "c8775c00",
   "metadata": {},
   "outputs": [
    {
     "name": "stdout",
     "output_type": "stream",
     "text": [
      "results[1:3] = Noticer.EvaluationResult[EvaluationResult(Number of occurrences of 'j', p=8.8e-205,\n",
      "\tobs: ▄▇▄,\n",
      "\texp: ▇__), EvaluationResult(Scrabble score, p=7.4e-34,\n",
      "\tobs: _______▇________▇___________▇▇_________________,\n",
      "\texp: _____▁▂▃▄▅▆▇▇▇▆▅▄▄▃▂▂▁▁▁▁______________________), EvaluationResult(Number of occurrences of 'q', p=0.00041,\n",
      "\tobs: ▇▂_,\n",
      "\texp: ▇__)]\n",
      "warrant 1.2: \u001b[91m\u001b[1mTest Failed\u001b[22m\u001b[39m at \u001b[39m\u001b[1mIn[75]:12\u001b[22m\n",
      "  Expression: description(first(results)) == \"Number of occurrences of '$(common_letter)'\"\n",
      "   Evaluated: \"Number of occurrences of 'j'\" == \"Number of occurrences of 'n'\"\n",
      "Stacktrace:\n",
      " [1] \u001b[0m\u001b[1mmacro expansion\u001b[22m\n",
      "\u001b[90m   @ \u001b[39m\u001b[90m~/apps/julia-1.7.1/share/julia/stdlib/v1.7/Test/src/\u001b[39m\u001b[90m\u001b[4mTest.jl:445\u001b[24m\u001b[39m\u001b[90m [inlined]\u001b[39m\n",
      " [2] \u001b[0m\u001b[1mmacro expansion\u001b[22m\n",
      "\u001b[90m   @ \u001b[39m\u001b[90m./\u001b[39m\u001b[90m\u001b[4mIn[75]:12\u001b[24m\u001b[39m\u001b[90m [inlined]\u001b[39m\n",
      " [3] \u001b[0m\u001b[1mmacro expansion\u001b[22m\n",
      "\u001b[90m   @ \u001b[39m\u001b[90m~/apps/julia-1.7.1/share/julia/stdlib/v1.7/Test/src/\u001b[39m\u001b[90m\u001b[4mTest.jl:1283\u001b[24m\u001b[39m\u001b[90m [inlined]\u001b[39m\n",
      " [4] top-level scope\n",
      "\u001b[90m   @ \u001b[39m\u001b[90m./\u001b[39m\u001b[90m\u001b[4mIn[75]:3\u001b[24m\u001b[39m\n",
      "\u001b[0m\u001b[1mTest Summary: | \u001b[22m\u001b[91m\u001b[1mFail  \u001b[22m\u001b[39m\u001b[36m\u001b[1mTotal\u001b[22m\u001b[39m\n",
      "warrant 1.2   | \u001b[91m   1  \u001b[39m\u001b[36m    1\u001b[39m\n"
     ]
    },
    {
     "ename": "LoadError",
     "evalue": "\u001b[91mSome tests did not pass: 0 passed, 1 failed, 0 errored, 0 broken.\u001b[39m",
     "output_type": "error",
     "traceback": [
      "\u001b[91mSome tests did not pass: 0 passed, 1 failed, 0 errored, 0 broken.\u001b[39m",
      "",
      "Stacktrace:",
      " [1] finish(ts::Test.DefaultTestSet)",
      "   @ Test ~/apps/julia-1.7.1/share/julia/stdlib/v1.7/Test/src/Test.jl:1044",
      " [2] macro expansion",
      "   @ ~/apps/julia-1.7.1/share/julia/stdlib/v1.7/Test/src/Test.jl:1294 [inlined]",
      " [3] top-level scope",
      "   @ ./In[75]:3",
      " [4] eval",
      "   @ ./boot.jl:373 [inlined]",
      " [5] include_string(mapexpr::typeof(REPL.softscope), mod::Module, code::String, filename::String)",
      "   @ Base ./loading.jl:1196"
     ]
    }
   ],
   "source": [
    "# http://web.mit.edu/puzzle/www/1999/puzzles/1Gumshoe/Warrants1/w1.2/w1.2.html\n",
    "@testset \"warrant 1.2\" begin\n",
    "    for (names, common_letter) in [\n",
    "#         ([\"racerx\", \"americanmaid\", \"kodachi\", \"ladyjane\"], 'a'),\n",
    "        ([\"brain\", \"judyjetson\", \"jonnyquest\", \"jeannette\"], 'n'),\n",
    "#         ([\"kenshin\", \"lisasimpson\", \"michiganjfrog\", \"sheila\"], 'i'),\n",
    "#         ([\"bedtimebear\", \"sherman\", \"stimpy\", \"mrmagoo\"], 'm'),\n",
    "#         ([\"bettyboop\", \"sweetpollypurebred\", \"skeletor\", \"firefly\"], 'e')\n",
    "        ]\n",
    "        results = evaluate(model, names)\n",
    "        @show results[1:3]\n",
    "        @test description(first(results)) == \"Number of occurrences of '$common_letter'\"\n",
    "    end\n",
    "end\n"
   ]
  },
  {
   "cell_type": "code",
   "execution_count": 76,
   "id": "a2d3d43e",
   "metadata": {},
   "outputs": [
    {
     "name": "stdout",
     "output_type": "stream",
     "text": [
      "results[1:10] = Noticer.EvaluationResult[EvaluationResult(Scrabble score, p=4.8e-71,\n",
      "\tobs: _________▇____▇▇________________▇______________,\n",
      "\texp: _____▁▂▃▄▅▆▇▇▇▆▅▄▄▃▂▂▁▁▁▁______________________), EvaluationResult(Number of reverse alphabetical bigrams, p=2.9e-09,\n",
      "\tobs: __▇▇_▇__▇____,\n",
      "\texp: _▂▅▇▆▃▁______), EvaluationResult(Number of unique consonants, p=0.0013,\n",
      "\tobs: ___▇▇▇__▇___,\n",
      "\texp: __▁▄▇▆▃▁____), EvaluationResult(Number of occurrences of 'j', p=0.0021,\n",
      "\tobs: ▇▂_,\n",
      "\texp: ▇__), EvaluationResult(Number of occurrences of 'h', p=0.021,\n",
      "\tobs: ▂▇__,\n",
      "\texp: ▇▁__), EvaluationResult(Number of occurrences of 'g', p=0.022,\n",
      "\tobs: ▇_▂__,\n",
      "\texp: ▇▂___), EvaluationResult(Number of unique letters, p=0.048,\n",
      "\tobs: ______▇_▄__▄___,\n",
      "\texp: ___▁▂▄▇▇▅▂▁____), EvaluationResult(Number of occurrences of 'i', p=0.27,\n",
      "\tobs: _▇▇____,\n",
      "\texp: ▇▆▂____), EvaluationResult(Number of occurrences of 's', p=0.4,\n",
      "\tobs: ▄▇_▄____,\n",
      "\texp: ▇▇▂▁____), EvaluationResult(Number of occurrences of 't', p=0.59,\n",
      "\tobs: ▇____,\n",
      "\texp: ▇▄▁__)]\n",
      "warrant 1.2: \u001b[91m\u001b[1mTest Failed\u001b[22m\u001b[39m at \u001b[39m\u001b[1mIn[76]:12\u001b[22m\n",
      "  Expression: description(first(results)) == \"Number of occurrences of '$(common_letter)'\"\n",
      "   Evaluated: \"Scrabble score\" == \"Number of occurrences of 'i'\"\n",
      "Stacktrace:\n",
      " [1] \u001b[0m\u001b[1mmacro expansion\u001b[22m\n",
      "\u001b[90m   @ \u001b[39m\u001b[90m~/apps/julia-1.7.1/share/julia/stdlib/v1.7/Test/src/\u001b[39m\u001b[90m\u001b[4mTest.jl:445\u001b[24m\u001b[39m\u001b[90m [inlined]\u001b[39m\n",
      " [2] \u001b[0m\u001b[1mmacro expansion\u001b[22m\n",
      "\u001b[90m   @ \u001b[39m\u001b[90m./\u001b[39m\u001b[90m\u001b[4mIn[76]:12\u001b[24m\u001b[39m\u001b[90m [inlined]\u001b[39m\n",
      " [3] \u001b[0m\u001b[1mmacro expansion\u001b[22m\n",
      "\u001b[90m   @ \u001b[39m\u001b[90m~/apps/julia-1.7.1/share/julia/stdlib/v1.7/Test/src/\u001b[39m\u001b[90m\u001b[4mTest.jl:1283\u001b[24m\u001b[39m\u001b[90m [inlined]\u001b[39m\n",
      " [4] top-level scope\n",
      "\u001b[90m   @ \u001b[39m\u001b[90m./\u001b[39m\u001b[90m\u001b[4mIn[76]:3\u001b[24m\u001b[39m\n",
      "\u001b[0m\u001b[1mTest Summary: | \u001b[22m\u001b[91m\u001b[1mFail  \u001b[22m\u001b[39m\u001b[36m\u001b[1mTotal\u001b[22m\u001b[39m\n",
      "warrant 1.2   | \u001b[91m   1  \u001b[39m\u001b[36m    1\u001b[39m\n"
     ]
    },
    {
     "ename": "LoadError",
     "evalue": "\u001b[91mSome tests did not pass: 0 passed, 1 failed, 0 errored, 0 broken.\u001b[39m",
     "output_type": "error",
     "traceback": [
      "\u001b[91mSome tests did not pass: 0 passed, 1 failed, 0 errored, 0 broken.\u001b[39m",
      "",
      "Stacktrace:",
      " [1] finish(ts::Test.DefaultTestSet)",
      "   @ Test ~/apps/julia-1.7.1/share/julia/stdlib/v1.7/Test/src/Test.jl:1044",
      " [2] macro expansion",
      "   @ ~/apps/julia-1.7.1/share/julia/stdlib/v1.7/Test/src/Test.jl:1294 [inlined]",
      " [3] top-level scope",
      "   @ ./In[76]:3",
      " [4] eval",
      "   @ ./boot.jl:373 [inlined]",
      " [5] include_string(mapexpr::typeof(REPL.softscope), mod::Module, code::String, filename::String)",
      "   @ Base ./loading.jl:1196"
     ]
    }
   ],
   "source": [
    "# http://web.mit.edu/puzzle/www/1999/puzzles/1Gumshoe/Warrants1/w1.2/w1.2.html\n",
    "@testset \"warrant 1.2\" begin\n",
    "    for (names, common_letter) in [\n",
    "#         ([\"racerx\", \"americanmaid\", \"kodachi\", \"ladyjane\"], 'a'),\n",
    "#         ([\"brain\", \"judyjetson\", \"jonnyquest\", \"jeannette\"], 'n'),\n",
    "        ([\"kenshin\", \"lisasimpson\", \"michiganjfrog\", \"sheila\"], 'i'),\n",
    "#         ([\"bedtimebear\", \"sherman\", \"stimpy\", \"mrmagoo\"], 'm'),\n",
    "#         ([\"bettyboop\", \"sweetpollypurebred\", \"skeletor\", \"firefly\"], 'e')\n",
    "        ]\n",
    "        results = evaluate(model, names)\n",
    "        @show results[1:10]\n",
    "        @test description(first(results)) == \"Number of occurrences of '$common_letter'\"\n",
    "    end\n",
    "end\n"
   ]
  },
  {
   "cell_type": "code",
   "execution_count": 79,
   "id": "d93037ec",
   "metadata": {},
   "outputs": [
    {
     "name": "stdout",
     "output_type": "stream",
     "text": [
      "\u001b[0m\u001b[1mTest Summary: | \u001b[22m\u001b[32m\u001b[1mPass  \u001b[22m\u001b[39m\u001b[36m\u001b[1mTotal\u001b[22m\u001b[39m\n",
      "behave        | \u001b[32m   3  \u001b[39m\u001b[36m    3\u001b[39m\n"
     ]
    },
    {
     "data": {
      "text/plain": [
       "Test.DefaultTestSet(\"behave\", Any[], 3, false, false)"
      ]
     },
     "execution_count": 79,
     "metadata": {},
     "output_type": "execute_result"
    }
   ],
   "source": [
    "# http://web.mit.edu/puzzle/www/2012/puzzles/william_s_bergman/behave/\n",
    "\n",
    "@testset \"behave\" begin\n",
    "    results = evaluate(model, [\"annieproulx\", \"commutative\", \"hugoweaving\", \"mountaindew\", \"mozambique\", \"sequoia\"])\n",
    "    @test \"Number of unique vowels\" in description.(results[1:2])\n",
    "\n",
    "    results = evaluate(model, [\"almost\", \"biopsy\", \"chimp\", \"films\", \"ghost\", \"tux\"])\n",
    "    @test description(first(results)) == \"Number of reverse alphabetical bigrams\"\n",
    "\n",
    "    results = evaluate(model, [\"balked\", \"barspoon\", \"highnoon\", \"klutzy\", \"onyx\", \"posted\"])\n",
    "    @test description(first(results)) == \"Number of reverse sequential bigrams\"\n",
    "end\n"
   ]
  },
  {
   "cell_type": "code",
   "execution_count": 81,
   "id": "09538761",
   "metadata": {},
   "outputs": [
    {
     "name": "stdout",
     "output_type": "stream",
     "text": [
      "results[1:5] = Noticer.EvaluationResult[EvaluationResult(Scrabble score, p=1.9e-124,\n",
      "\tobs: _______▄__▄▇_▄▄____▄_________▄_____▄___________,\n",
      "\texp: _____▁▂▃▄▅▆▇▇▇▆▅▄▄▃▂▂▁▁▁▁______________________), EvaluationResult(Number of alphabetical bigrams, p=2.4e-51,\n",
      "\tobs: __▄▄▇▇▇___▄__,\n",
      "\texp: _▁▄▇▆▃▁______), EvaluationResult(Number of occurrences of 'o', p=2.6e-44,\n",
      "\tobs: ▇▁▁▁▁_,\n",
      "\texp: ▇▄▁___), EvaluationResult(Number of unique consonants, p=3.1e-19,\n",
      "\tobs: __▂▂▂▇▂_▂▂__,\n",
      "\texp: __▁▄▇▆▃▁____), EvaluationResult(Number of cardinal directions (NESW), p=5.6e-10,\n",
      "\tobs: ____▇_________,\n",
      "\texp: ▁▅▇▅▃▁________)]\n",
      "following the news: \u001b[91m\u001b[1mTest Failed\u001b[22m\u001b[39m at \u001b[39m\u001b[1mIn[81]:13\u001b[22m\n",
      "  Expression: description(first(results)) == \"Number of cardinal directions (NESW)\"\n",
      "   Evaluated: \"Scrabble score\" == \"Number of cardinal directions (NESW)\"\n",
      "Stacktrace:\n",
      " [1] \u001b[0m\u001b[1mmacro expansion\u001b[22m\n",
      "\u001b[90m   @ \u001b[39m\u001b[90m~/apps/julia-1.7.1/share/julia/stdlib/v1.7/Test/src/\u001b[39m\u001b[90m\u001b[4mTest.jl:445\u001b[24m\u001b[39m\u001b[90m [inlined]\u001b[39m\n",
      " [2] \u001b[0m\u001b[1mmacro expansion\u001b[22m\n",
      "\u001b[90m   @ \u001b[39m\u001b[90m\u001b[4mIn[81]:13\u001b[24m\u001b[39m\u001b[90m [inlined]\u001b[39m\n",
      " [3] \u001b[0m\u001b[1mmacro expansion\u001b[22m\n",
      "\u001b[90m   @ \u001b[39m\u001b[90m~/apps/julia-1.7.1/share/julia/stdlib/v1.7/Test/src/\u001b[39m\u001b[90m\u001b[4mTest.jl:1283\u001b[24m\u001b[39m\u001b[90m [inlined]\u001b[39m\n",
      " [4] top-level scope\n",
      "\u001b[90m   @ \u001b[39m\u001b[90m\u001b[4mIn[81]:3\u001b[24m\u001b[39m\n",
      "\u001b[0m\u001b[1mTest Summary:      | \u001b[22m\u001b[91m\u001b[1mFail  \u001b[22m\u001b[39m\u001b[36m\u001b[1mTotal\u001b[22m\u001b[39m\n",
      "following the news | \u001b[91m   1  \u001b[39m\u001b[36m    1\u001b[39m\n"
     ]
    },
    {
     "ename": "LoadError",
     "evalue": "\u001b[91mSome tests did not pass: 0 passed, 1 failed, 0 errored, 0 broken.\u001b[39m",
     "output_type": "error",
     "traceback": [
      "\u001b[91mSome tests did not pass: 0 passed, 1 failed, 0 errored, 0 broken.\u001b[39m",
      "",
      "Stacktrace:",
      " [1] finish(ts::Test.DefaultTestSet)",
      "   @ Test ~/apps/julia-1.7.1/share/julia/stdlib/v1.7/Test/src/Test.jl:1044",
      " [2] macro expansion",
      "   @ ~/apps/julia-1.7.1/share/julia/stdlib/v1.7/Test/src/Test.jl:1294 [inlined]",
      " [3] top-level scope",
      "   @ In[81]:3",
      " [4] eval",
      "   @ ./boot.jl:373 [inlined]",
      " [5] include_string(mapexpr::typeof(REPL.softscope), mod::Module, code::String, filename::String)",
      "   @ Base ./loading.jl:1196"
     ]
    }
   ],
   "source": [
    "# http://web.mit.edu/puzzle/www/2013/coinheist.com/get_smart/following_the_news/index.html\n",
    "@testset  \"following the news\" begin\n",
    "    results = evaluate(model, [\"andrewlin\",\n",
    "                      \"betatests\",\n",
    "                      \"clockofthelongnow\",\n",
    "                      \"decompressor\",\n",
    "                      \"eugene\",\n",
    "                      \"fungusproofsword\",\n",
    "                      \"gleemen\",\n",
    "                      \"hansardise\",\n",
    "                      \"interpose\"])\n",
    "    @show results[1:5]\n",
    "    @test description(first(results)) == \"Number of cardinal directions (NESW)\"\n",
    "end\n"
   ]
  },
  {
   "cell_type": "code",
   "execution_count": null,
   "id": "3dd3298e",
   "metadata": {},
   "outputs": [],
   "source": []
  }
 ],
 "metadata": {
  "@webio": {
   "lastCommId": null,
   "lastKernelId": null
  },
  "kernelspec": {
   "display_name": "Julia 1.7.1",
   "language": "julia",
   "name": "julia-1.7"
  },
  "language_info": {
   "file_extension": ".jl",
   "mimetype": "application/julia",
   "name": "julia",
   "version": "1.7.1"
  }
 },
 "nbformat": 4,
 "nbformat_minor": 5
}
