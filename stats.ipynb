{
 "cells": [
  {
   "cell_type": "code",
   "execution_count": 63,
   "id": "cd75f3c4",
   "metadata": {},
   "outputs": [
    {
     "name": "stderr",
     "output_type": "stream",
     "text": [
      "\u001b[32m\u001b[1m  Activating\u001b[22m\u001b[39m project at `~/Projects/Noticer.jl`\n"
     ]
    }
   ],
   "source": [
    "]activate ."
   ]
  },
  {
   "cell_type": "code",
   "execution_count": 64,
   "id": "510d76f8",
   "metadata": {},
   "outputs": [],
   "source": [
    "using PuzzleTools"
   ]
  },
  {
   "cell_type": "code",
   "execution_count": 65,
   "id": "4b516cb7",
   "metadata": {},
   "outputs": [],
   "source": [
    "words = PuzzleTools.Wordsets.unixwords();"
   ]
  },
  {
   "cell_type": "code",
   "execution_count": 66,
   "id": "e74a147d",
   "metadata": {},
   "outputs": [],
   "source": [
    "using Distributions"
   ]
  },
  {
   "cell_type": "code",
   "execution_count": 67,
   "id": "07379f49",
   "metadata": {},
   "outputs": [],
   "source": [
    "using LinearAlgebra: normalize"
   ]
  },
  {
   "cell_type": "code",
   "execution_count": 68,
   "id": "e3aa36a9",
   "metadata": {},
   "outputs": [
    {
     "data": {
      "text/plain": [
       "Multinomial{Float64, Vector{Float64}}(n=3, p=[0.16666666666666666, 0.3333333333333333, 0.5])"
      ]
     },
     "execution_count": 68,
     "metadata": {},
     "output_type": "execute_result"
    }
   ],
   "source": [
    "dist = Multinomial(3, normalize([1, 2, 3], 1))"
   ]
  },
  {
   "cell_type": "code",
   "execution_count": 69,
   "id": "af06598f",
   "metadata": {},
   "outputs": [
    {
     "data": {
      "text/plain": [
       "0.05555555555555554"
      ]
     },
     "execution_count": 69,
     "metadata": {},
     "output_type": "execute_result"
    }
   ],
   "source": [
    "pdf(dist, [1, 2, 0])"
   ]
  },
  {
   "cell_type": "code",
   "execution_count": 70,
   "id": "4eaa8bf1",
   "metadata": {},
   "outputs": [
    {
     "data": {
      "text/plain": [
       "0.12500000000000003"
      ]
     },
     "execution_count": 70,
     "metadata": {},
     "output_type": "execute_result"
    }
   ],
   "source": [
    "pdf(dist, [0, 0, 3])"
   ]
  },
  {
   "cell_type": "code",
   "execution_count": 71,
   "id": "aef87f77",
   "metadata": {},
   "outputs": [
    {
     "data": {
      "text/plain": [
       "0.12500000000000003"
      ]
     },
     "execution_count": 71,
     "metadata": {},
     "output_type": "execute_result"
    }
   ],
   "source": [
    "pdf(dist, [1, 0, 2])"
   ]
  },
  {
   "cell_type": "code",
   "execution_count": 72,
   "id": "ab9fe91f",
   "metadata": {},
   "outputs": [
    {
     "data": {
      "text/plain": [
       "Multinomial{Float64, Vector{Float64}}(n=5, p=[0.16666666666666666, 0.3333333333333333, 0.5])"
      ]
     },
     "execution_count": 72,
     "metadata": {},
     "output_type": "execute_result"
    }
   ],
   "source": [
    "dist = Multinomial(5, normalize([1, 2, 3], 1))"
   ]
  },
  {
   "cell_type": "code",
   "execution_count": 73,
   "id": "a8412d92",
   "metadata": {},
   "outputs": [
    {
     "data": {
      "text/plain": [
       "0.03125"
      ]
     },
     "execution_count": 73,
     "metadata": {},
     "output_type": "execute_result"
    }
   ],
   "source": [
    "pdf(dist, [0, 0, 5])"
   ]
  },
  {
   "cell_type": "code",
   "execution_count": 74,
   "id": "22639124",
   "metadata": {},
   "outputs": [
    {
     "data": {
      "text/plain": [
       "0.05208333333333332"
      ]
     },
     "execution_count": 74,
     "metadata": {},
     "output_type": "execute_result"
    }
   ],
   "source": [
    "pdf(dist, [1, 0, 4])"
   ]
  },
  {
   "cell_type": "code",
   "execution_count": 75,
   "id": "8ff538d1",
   "metadata": {},
   "outputs": [
    {
     "data": {
      "text/plain": [
       "0.03125"
      ]
     },
     "execution_count": 75,
     "metadata": {},
     "output_type": "execute_result"
    }
   ],
   "source": [
    "0.5^5"
   ]
  },
  {
   "cell_type": "code",
   "execution_count": 76,
   "id": "ba125ae1",
   "metadata": {},
   "outputs": [
    {
     "data": {
      "text/plain": [
       "-2.954910279033736"
      ]
     },
     "execution_count": 76,
     "metadata": {},
     "output_type": "execute_result"
    }
   ],
   "source": [
    "logpdf(dist, [1, 0, 4])"
   ]
  },
  {
   "cell_type": "code",
   "execution_count": 77,
   "id": "9b9d8cf8",
   "metadata": {},
   "outputs": [
    {
     "data": {
      "text/plain": [
       "Multinomial{Float64, Vector{Float64}}(n=5, p=[0.16666666666666666, 0.0, 0.3333333333333333, 0.5])"
      ]
     },
     "execution_count": 77,
     "metadata": {},
     "output_type": "execute_result"
    }
   ],
   "source": [
    "dist = Multinomial(5, normalize([1, 0, 2, 3], 1))"
   ]
  },
  {
   "cell_type": "code",
   "execution_count": 78,
   "id": "e1242ed0",
   "metadata": {},
   "outputs": [
    {
     "data": {
      "text/plain": [
       "0.03125"
      ]
     },
     "execution_count": 78,
     "metadata": {},
     "output_type": "execute_result"
    }
   ],
   "source": [
    "pdf(dist, [0, 0, 0, 5])"
   ]
  },
  {
   "cell_type": "markdown",
   "id": "8947c828",
   "metadata": {},
   "source": [
    "On reflection, I'm not sure the multinomial distribution makes sense here. Let's go back to the idea of counting the number of 'm's in a set of words. It's clearly pretty interesting if all of our words have exactly 2 'm's. What if 4 out of 5 have exactly 2 'm's but the last has some other number? That might be interesting too, but does its interestingness (from a puzzle perspective) depend on how many 'm's that last word has? I'd argue that it doesn't. A count of 'm's of [2, 2, 2, 2, 5] is more unlikely (according to the multinomial distribution) than a count of [2, 2, 2, 2, 1] since few words have 5 'm's, but I don't think that actually matters from a puzzle perspective. In both cases, we have 4 of 5 words with some interesting feature (2 'm's) and 1 word without that feature. \n",
    "\n",
    "That seems to argue in favor of the original one-hot style from Collective.jl. In that case, \"has 2 'm's\" is a boolean feature, and the sample would be [true, true, true, true, false] regardless of whether we had 5 'm's or 1 in the last word. I think that's closer to what we actually want. "
   ]
  },
  {
   "cell_type": "code",
   "execution_count": 79,
   "id": "13351570",
   "metadata": {},
   "outputs": [
    {
     "data": {
      "text/plain": [
       "Binomial{Float64}(n=5, p=0.25)"
      ]
     },
     "execution_count": 79,
     "metadata": {},
     "output_type": "execute_result"
    }
   ],
   "source": [
    "dist = Binomial(5, 0.25)"
   ]
  },
  {
   "cell_type": "code",
   "execution_count": 80,
   "id": "5a88428f",
   "metadata": {},
   "outputs": [
    {
     "data": {
      "text/plain": [
       "0.23730468750000017"
      ]
     },
     "execution_count": 80,
     "metadata": {},
     "output_type": "execute_result"
    }
   ],
   "source": [
    "pdf(dist, 0)"
   ]
  },
  {
   "cell_type": "code",
   "execution_count": 81,
   "id": "e24d1a7d",
   "metadata": {},
   "outputs": [
    {
     "data": {
      "text/plain": [
       "0.2373046875"
      ]
     },
     "execution_count": 81,
     "metadata": {},
     "output_type": "execute_result"
    }
   ],
   "source": [
    "0.75^5"
   ]
  },
  {
   "cell_type": "code",
   "execution_count": 82,
   "id": "769c5531",
   "metadata": {},
   "outputs": [
    {
     "data": {
      "text/plain": [
       "0.0009765625000000009"
      ]
     },
     "execution_count": 82,
     "metadata": {},
     "output_type": "execute_result"
    }
   ],
   "source": [
    "pdf(dist, 5)"
   ]
  },
  {
   "cell_type": "code",
   "execution_count": 83,
   "id": "2abea2f9",
   "metadata": {},
   "outputs": [
    {
     "data": {
      "text/plain": [
       "0.0009765625"
      ]
     },
     "execution_count": 83,
     "metadata": {},
     "output_type": "execute_result"
    }
   ],
   "source": [
    "0.25^5"
   ]
  },
  {
   "cell_type": "code",
   "execution_count": 84,
   "id": "cbc5915e",
   "metadata": {},
   "outputs": [
    {
     "data": {
      "text/plain": [
       "0.26367187500000017"
      ]
     },
     "execution_count": 84,
     "metadata": {},
     "output_type": "execute_result"
    }
   ],
   "source": [
    "pdf(dist, 2)"
   ]
  },
  {
   "cell_type": "code",
   "execution_count": 85,
   "id": "1e777518",
   "metadata": {},
   "outputs": [
    {
     "data": {
      "text/plain": [
       "naive_pdf (generic function with 1 method)"
      ]
     },
     "execution_count": 85,
     "metadata": {},
     "output_type": "execute_result"
    }
   ],
   "source": [
    "function naive_pdf(dist, k)\n",
    "    factorial(dist.n) / (factorial(k) * factorial(dist.n - k)) * dist.p^k * (1 - dist.p)^(dist.n - k)\n",
    "end"
   ]
  },
  {
   "cell_type": "code",
   "execution_count": 86,
   "id": "49a1d816",
   "metadata": {},
   "outputs": [
    {
     "data": {
      "text/plain": [
       "Binomial{Float64}(n=5, p=0.25)"
      ]
     },
     "execution_count": 86,
     "metadata": {},
     "output_type": "execute_result"
    }
   ],
   "source": [
    "dist = Binomial(5, 0.25)"
   ]
  },
  {
   "cell_type": "code",
   "execution_count": 87,
   "id": "33124801",
   "metadata": {},
   "outputs": [
    {
     "data": {
      "text/plain": [
       "0.263671875"
      ]
     },
     "execution_count": 87,
     "metadata": {},
     "output_type": "execute_result"
    }
   ],
   "source": [
    "naive_pdf(dist, 2)"
   ]
  },
  {
   "cell_type": "code",
   "execution_count": 88,
   "id": "8384d734",
   "metadata": {},
   "outputs": [],
   "source": [
    "using BenchmarkTools"
   ]
  },
  {
   "cell_type": "code",
   "execution_count": 89,
   "id": "318743a5",
   "metadata": {},
   "outputs": [
    {
     "name": "stdout",
     "output_type": "stream",
     "text": [
      "  115.677 ns (0 allocations: 0 bytes)\n"
     ]
    },
    {
     "data": {
      "text/plain": [
       "0.26367187500000017"
      ]
     },
     "execution_count": 89,
     "metadata": {},
     "output_type": "execute_result"
    }
   ],
   "source": [
    "@btime pdf($dist, 2)"
   ]
  },
  {
   "cell_type": "code",
   "execution_count": 90,
   "id": "f5c6f6ef",
   "metadata": {},
   "outputs": [
    {
     "name": "stdout",
     "output_type": "stream",
     "text": [
      "  93.352 ns (0 allocations: 0 bytes)\n"
     ]
    },
    {
     "data": {
      "text/plain": [
       "-1.3330498466010776"
      ]
     },
     "execution_count": 90,
     "metadata": {},
     "output_type": "execute_result"
    }
   ],
   "source": [
    "@btime logpdf($dist, 2)"
   ]
  },
  {
   "cell_type": "code",
   "execution_count": 91,
   "id": "be16c17d",
   "metadata": {},
   "outputs": [
    {
     "name": "stdout",
     "output_type": "stream",
     "text": [
      "  7.730 ns (0 allocations: 0 bytes)\n"
     ]
    },
    {
     "data": {
      "text/plain": [
       "0.263671875"
      ]
     },
     "execution_count": 91,
     "metadata": {},
     "output_type": "execute_result"
    }
   ],
   "source": [
    "@btime naive_pdf($dist, 2)"
   ]
  },
  {
   "cell_type": "code",
   "execution_count": 92,
   "id": "b9b757c9",
   "metadata": {},
   "outputs": [
    {
     "data": {
      "text/plain": [
       "Binomial{Float64}(n=10, p=0.25)"
      ]
     },
     "execution_count": 92,
     "metadata": {},
     "output_type": "execute_result"
    }
   ],
   "source": [
    "dist = Binomial(10, 0.25)"
   ]
  },
  {
   "cell_type": "code",
   "execution_count": 93,
   "id": "fc9c4afd",
   "metadata": {},
   "outputs": [
    {
     "name": "stdout",
     "output_type": "stream",
     "text": [
      "  93.911 ns (0 allocations: 0 bytes)\n"
     ]
    },
    {
     "data": {
      "text/plain": [
       "0.28156757354736345"
      ]
     },
     "execution_count": 93,
     "metadata": {},
     "output_type": "execute_result"
    }
   ],
   "source": [
    "@btime pdf($dist, 2)"
   ]
  },
  {
   "cell_type": "code",
   "execution_count": 94,
   "id": "88fefd53",
   "metadata": {},
   "outputs": [
    {
     "name": "stdout",
     "output_type": "stream",
     "text": [
      "  95.766 ns (0 allocations: 0 bytes)\n"
     ]
    },
    {
     "data": {
      "text/plain": [
       "0.2815675735473633"
      ]
     },
     "execution_count": 94,
     "metadata": {},
     "output_type": "execute_result"
    }
   ],
   "source": [
    "@btime naive_pdf($dist, 2)"
   ]
  },
  {
   "cell_type": "code",
   "execution_count": 95,
   "id": "cc73dd34",
   "metadata": {},
   "outputs": [
    {
     "data": {
      "text/plain": [
       "Binomial{Float64}(n=20, p=0.25)"
      ]
     },
     "execution_count": 95,
     "metadata": {},
     "output_type": "execute_result"
    }
   ],
   "source": [
    "dist = Binomial(20, 0.25)"
   ]
  },
  {
   "cell_type": "code",
   "execution_count": 96,
   "id": "d06d14a2",
   "metadata": {},
   "outputs": [
    {
     "name": "stdout",
     "output_type": "stream",
     "text": [
      "  94.099 ns (0 allocations: 0 bytes)\n"
     ]
    },
    {
     "data": {
      "text/plain": [
       "0.06694780759971757"
      ]
     },
     "execution_count": 96,
     "metadata": {},
     "output_type": "execute_result"
    }
   ],
   "source": [
    "@btime pdf($dist, 2)"
   ]
  },
  {
   "cell_type": "code",
   "execution_count": 97,
   "id": "6995237f",
   "metadata": {},
   "outputs": [
    {
     "name": "stdout",
     "output_type": "stream",
     "text": [
      "  95.773 ns (0 allocations: 0 bytes)\n"
     ]
    },
    {
     "data": {
      "text/plain": [
       "0.06694780759971763"
      ]
     },
     "execution_count": 97,
     "metadata": {},
     "output_type": "execute_result"
    }
   ],
   "source": [
    "@btime naive_pdf($dist, 2)"
   ]
  },
  {
   "cell_type": "code",
   "execution_count": 98,
   "id": "08cae028",
   "metadata": {},
   "outputs": [
    {
     "name": "stdout",
     "output_type": "stream",
     "text": [
      "  95.471 ns (0 allocations: 0 bytes)\n"
     ]
    },
    {
     "data": {
      "text/plain": [
       "0.009922275279677708"
      ]
     },
     "execution_count": 98,
     "metadata": {},
     "output_type": "execute_result"
    }
   ],
   "source": [
    "@btime pdf($dist, 10)"
   ]
  },
  {
   "cell_type": "code",
   "execution_count": 99,
   "id": "b50db22e",
   "metadata": {},
   "outputs": [
    {
     "name": "stdout",
     "output_type": "stream",
     "text": [
      "  168.711 ns (0 allocations: 0 bytes)\n"
     ]
    },
    {
     "data": {
      "text/plain": [
       "0.009922275279677706"
      ]
     },
     "execution_count": 99,
     "metadata": {},
     "output_type": "execute_result"
    }
   ],
   "source": [
    "@btime naive_pdf($dist, 10)"
   ]
  },
  {
   "cell_type": "code",
   "execution_count": 100,
   "id": "65ddc050",
   "metadata": {},
   "outputs": [
    {
     "data": {
      "text/plain": [
       "Binomial{Float64}(n=1000, p=0.25)"
      ]
     },
     "execution_count": 100,
     "metadata": {},
     "output_type": "execute_result"
    }
   ],
   "source": [
    "dist = Binomial(1000, 0.25)"
   ]
  },
  {
   "cell_type": "code",
   "execution_count": 101,
   "id": "da83c1a1",
   "metadata": {},
   "outputs": [
    {
     "name": "stdout",
     "output_type": "stream",
     "text": [
      "  95.809 ns (0 allocations: 0 bytes)\n"
     ]
    },
    {
     "data": {
      "text/plain": [
       "8.559791450762579e-65"
      ]
     },
     "execution_count": 101,
     "metadata": {},
     "output_type": "execute_result"
    }
   ],
   "source": [
    "@btime pdf($dist, 500)"
   ]
  },
  {
   "cell_type": "code",
   "execution_count": 102,
   "id": "9d58323b",
   "metadata": {},
   "outputs": [
    {
     "ename": "LoadError",
     "evalue": "OverflowError: 1000 is too large to look up in the table; consider using `factorial(big(1000))` instead",
     "output_type": "error",
     "traceback": [
      "OverflowError: 1000 is too large to look up in the table; consider using `factorial(big(1000))` instead",
      "",
      "Stacktrace:",
      "  [1] factorial_lookup",
      "    @ ./combinatorics.jl:19 [inlined]",
      "  [2] factorial",
      "    @ ./combinatorics.jl:27 [inlined]",
      "  [3] naive_pdf(dist::Binomial{Float64}, k::Int64)",
      "    @ Main ./In[85]:2",
      "  [4] var\"##core#443\"(dist#442::Binomial{Float64})",
      "    @ Main ~/.julia/packages/BenchmarkTools/SnZV6/src/execution.jl:483",
      "  [5] var\"##sample#444\"(::Tuple{Binomial{Float64}}, __params::BenchmarkTools.Parameters)",
      "    @ Main ~/.julia/packages/BenchmarkTools/SnZV6/src/execution.jl:489",
      "  [6] _run(b::BenchmarkTools.Benchmark, p::BenchmarkTools.Parameters; verbose::Bool, pad::String, kwargs::Base.Pairs{Symbol, Integer, NTuple{4, Symbol}, NamedTuple{(:samples, :evals, :gctrial, :gcsample), Tuple{Int64, Int64, Bool, Bool}}})",
      "    @ BenchmarkTools ~/.julia/packages/BenchmarkTools/SnZV6/src/execution.jl:99",
      "  [7] #invokelatest#2",
      "    @ ./essentials.jl:718 [inlined]",
      "  [8] #run_result#45",
      "    @ ~/.julia/packages/BenchmarkTools/SnZV6/src/execution.jl:34 [inlined]",
      "  [9] run(b::BenchmarkTools.Benchmark, p::BenchmarkTools.Parameters; progressid::Nothing, nleaves::Float64, ndone::Float64, kwargs::Base.Pairs{Symbol, Integer, NTuple{5, Symbol}, NamedTuple{(:verbose, :samples, :evals, :gctrial, :gcsample), Tuple{Bool, Int64, Int64, Bool, Bool}}})",
      "    @ BenchmarkTools ~/.julia/packages/BenchmarkTools/SnZV6/src/execution.jl:117",
      " [10] #warmup#54",
      "    @ ~/.julia/packages/BenchmarkTools/SnZV6/src/execution.jl:169 [inlined]",
      " [11] warmup(item::BenchmarkTools.Benchmark)",
      "    @ BenchmarkTools ~/.julia/packages/BenchmarkTools/SnZV6/src/execution.jl:169",
      " [12] top-level scope",
      "    @ ~/.julia/packages/BenchmarkTools/SnZV6/src/execution.jl:569",
      " [13] eval",
      "    @ ./boot.jl:373 [inlined]",
      " [14] include_string(mapexpr::typeof(REPL.softscope), mod::Module, code::String, filename::String)",
      "    @ Base ./loading.jl:1196"
     ]
    }
   ],
   "source": [
    "@btime naive_pdf($dist, 500)"
   ]
  },
  {
   "cell_type": "code",
   "execution_count": 103,
   "id": "15366078",
   "metadata": {},
   "outputs": [
    {
     "name": "stdout",
     "output_type": "stream",
     "text": [
      "  29.015 ns (0 allocations: 0 bytes)\n"
     ]
    },
    {
     "data": {
      "text/plain": [
       "-Inf"
      ]
     },
     "execution_count": 103,
     "metadata": {},
     "output_type": "execute_result"
    }
   ],
   "source": [
    "@btime Distributions.betalogpdf(1, 2, 3)"
   ]
  },
  {
   "cell_type": "code",
   "execution_count": 104,
   "id": "1c254a86",
   "metadata": {},
   "outputs": [],
   "source": [
    "@edit Distributions.betalogpdf(1, 2, 3)"
   ]
  },
  {
   "cell_type": "code",
   "execution_count": 105,
   "id": "27571847",
   "metadata": {},
   "outputs": [],
   "source": [
    "using StatsBase"
   ]
  },
  {
   "cell_type": "code",
   "execution_count": 106,
   "id": "21ee2847",
   "metadata": {},
   "outputs": [
    {
     "data": {
      "text/plain": [
       "1.0986122886681098"
      ]
     },
     "execution_count": 106,
     "metadata": {},
     "output_type": "execute_result"
    }
   ],
   "source": [
    "kldivergence([1, 0, 0], [1/3, 1/3, 1/3])"
   ]
  },
  {
   "cell_type": "code",
   "execution_count": 107,
   "id": "d3cbae97",
   "metadata": {},
   "outputs": [
    {
     "data": {
      "text/plain": [
       "1.791759469228055"
      ]
     },
     "execution_count": 107,
     "metadata": {},
     "output_type": "execute_result"
    }
   ],
   "source": [
    "kldivergence([1, 0, 0], normalize([1, 2, 3], 1))"
   ]
  },
  {
   "cell_type": "code",
   "execution_count": 108,
   "id": "2cece7d9",
   "metadata": {},
   "outputs": [
    {
     "data": {
      "text/plain": [
       "0.6931471805599453"
      ]
     },
     "execution_count": 108,
     "metadata": {},
     "output_type": "execute_result"
    }
   ],
   "source": [
    "kldivergence([0, 0, 1], normalize([1, 2, 3], 1))"
   ]
  },
  {
   "cell_type": "code",
   "execution_count": 109,
   "id": "7e854c51",
   "metadata": {},
   "outputs": [
    {
     "data": {
      "text/plain": [
       "1.3862943611198906"
      ]
     },
     "execution_count": 109,
     "metadata": {},
     "output_type": "execute_result"
    }
   ],
   "source": [
    "kldivergence([1, 0], [0.25, 0.75])"
   ]
  },
  {
   "cell_type": "code",
   "execution_count": 110,
   "id": "de626a5c",
   "metadata": {},
   "outputs": [],
   "source": [
    "using HypothesisTests: MultinomialLRTest, ChisqTest"
   ]
  },
  {
   "cell_type": "code",
   "execution_count": 111,
   "id": "6cfd189f",
   "metadata": {},
   "outputs": [
    {
     "data": {
      "text/plain": [
       "Multinomial Likelihood Ratio Test\n",
       "---------------------------------\n",
       "Population details:\n",
       "    parameter of interest:   Multinomial Probabilities\n",
       "    value under h_0:         [0.333333, 0.333333, 0.333333]\n",
       "    point estimate:          [0.333333, 0.333333, 0.333333]\n",
       "    95% confidence interval: [(0.0, 1.0), (0.0, 1.0), (0.0, 1.0)]\n",
       "\n",
       "Test summary:\n",
       "    outcome with 95% confidence: fail to reject h_0\n",
       "    one-sided p-value:           1.0000\n",
       "\n",
       "Details:\n",
       "    Sample size:        3\n",
       "    statistic:          0.0\n",
       "    degrees of freedom: 2\n",
       "    residuals:          [0.0, 0.0, 0.0]\n",
       "    std. residuals:     [0.0, 0.0, 0.0]\n"
      ]
     },
     "execution_count": 111,
     "metadata": {},
     "output_type": "execute_result"
    }
   ],
   "source": [
    "MultinomialLRTest([1, 1, 1], normalize([1, 1, 1], 1))"
   ]
  },
  {
   "cell_type": "code",
   "execution_count": 112,
   "id": "c28f6dc9",
   "metadata": {},
   "outputs": [
    {
     "data": {
      "text/plain": [
       "Multinomial Likelihood Ratio Test\n",
       "---------------------------------\n",
       "Population details:\n",
       "    parameter of interest:   Multinomial Probabilities\n",
       "    value under h_0:         [0.333333, 0.333333, 0.333333]\n",
       "    point estimate:          [0.0909091, 0.0, 0.909091]\n",
       "    95% confidence interval: [(0.0, 0.2467), (0.0, 0.1558), (0.8182, 1.0)]\n",
       "\n",
       "Test summary:\n",
       "    outcome with 95% confidence: reject h_0\n",
       "    one-sided p-value:           NaN\n",
       "\n",
       "Details:\n",
       "    Sample size:        11\n",
       "    statistic:          NaN\n",
       "    degrees of freedom: 2\n",
       "    residuals:          [-1.39262, -1.91485, 3.30748]\n",
       "    std. residuals:     [-1.70561, -2.34521, 4.05081]\n"
      ]
     },
     "execution_count": 112,
     "metadata": {},
     "output_type": "execute_result"
    }
   ],
   "source": [
    "MultinomialLRTest([1, 0, 10], normalize([1, 1, 1], 1))"
   ]
  },
  {
   "cell_type": "code",
   "execution_count": 113,
   "id": "c6e40778",
   "metadata": {},
   "outputs": [
    {
     "data": {
      "text/plain": [
       "Pearson's Chi-square Test\n",
       "-------------------------\n",
       "Population details:\n",
       "    parameter of interest:   Multinomial Probabilities\n",
       "    value under h_0:         [0.333333, 0.333333, 0.333333]\n",
       "    point estimate:          [0.333333, 0.333333, 0.333333]\n",
       "    95% confidence interval: [(0.0, 1.0), (0.0, 1.0), (0.0, 1.0)]\n",
       "\n",
       "Test summary:\n",
       "    outcome with 95% confidence: fail to reject h_0\n",
       "    one-sided p-value:           1.0000\n",
       "\n",
       "Details:\n",
       "    Sample size:        3\n",
       "    statistic:          0.0\n",
       "    degrees of freedom: 2\n",
       "    residuals:          [0.0, 0.0, 0.0]\n",
       "    std. residuals:     [0.0, 0.0, 0.0]\n"
      ]
     },
     "execution_count": 113,
     "metadata": {},
     "output_type": "execute_result"
    }
   ],
   "source": [
    "ChisqTest([1, 1, 1], normalize([1, 1, 1], 1))"
   ]
  },
  {
   "cell_type": "code",
   "execution_count": 114,
   "id": "b904397e",
   "metadata": {},
   "outputs": [
    {
     "data": {
      "text/plain": [
       "Pearson's Chi-square Test\n",
       "-------------------------\n",
       "Population details:\n",
       "    parameter of interest:   Multinomial Probabilities\n",
       "    value under h_0:         [0.333333, 0.333333, 0.333333]\n",
       "    point estimate:          [0.0, 0.166667, 0.833333]\n",
       "    95% confidence interval: [(0.0, 0.2781), (0.0, 0.4448), (0.6667, 1.0)]\n",
       "\n",
       "Test summary:\n",
       "    outcome with 95% confidence: reject h_0\n",
       "    one-sided p-value:           0.0302\n",
       "\n",
       "Details:\n",
       "    Sample size:        6\n",
       "    statistic:          7.0\n",
       "    degrees of freedom: 2\n",
       "    residuals:          [-1.41421, -0.707107, 2.12132]\n",
       "    std. residuals:     [-1.73205, -0.866025, 2.59808]\n"
      ]
     },
     "execution_count": 114,
     "metadata": {},
     "output_type": "execute_result"
    }
   ],
   "source": [
    "ChisqTest([0, 1, 5], normalize([1, 1, 1], 1))"
   ]
  },
  {
   "cell_type": "code",
   "execution_count": 115,
   "id": "ac2f958a",
   "metadata": {},
   "outputs": [
    {
     "data": {
      "text/plain": [
       "Pearson's Chi-square Test\n",
       "-------------------------\n",
       "Population details:\n",
       "    parameter of interest:   Multinomial Probabilities\n",
       "    value under h_0:         [0.75, 0.25]\n",
       "    point estimate:          [0.2, 0.8]\n",
       "    95% confidence interval: [(0.0, 0.5257), (0.6, 1.0)]\n",
       "\n",
       "Test summary:\n",
       "    outcome with 95% confidence: reject h_0\n",
       "    one-sided p-value:           0.0045\n",
       "\n",
       "Details:\n",
       "    Sample size:        5\n",
       "    statistic:          8.066666666666666\n",
       "    degrees of freedom: 1\n",
       "    residuals:          [-1.42009, 2.45967]\n",
       "    std. residuals:     [-2.84019, 2.84019]\n"
      ]
     },
     "execution_count": 115,
     "metadata": {},
     "output_type": "execute_result"
    }
   ],
   "source": [
    "ChisqTest([1, 4], [0.75, 0.25])"
   ]
  },
  {
   "cell_type": "code",
   "execution_count": 116,
   "id": "6f68b334",
   "metadata": {},
   "outputs": [
    {
     "data": {
      "text/plain": [
       "0.015625000000000007"
      ]
     },
     "execution_count": 116,
     "metadata": {},
     "output_type": "execute_result"
    }
   ],
   "source": [
    "dist = Binomial(5, 0.25)\n",
    "pdf(dist, 4) + pdf(dist, 5)"
   ]
  },
  {
   "cell_type": "code",
   "execution_count": 117,
   "id": "9fe1f906",
   "metadata": {},
   "outputs": [],
   "source": [
    "using HypothesisTests: pvalue"
   ]
  },
  {
   "cell_type": "code",
   "execution_count": 118,
   "id": "b707f701",
   "metadata": {},
   "outputs": [
    {
     "data": {
      "text/plain": [
       "5.133013955787431e-5"
      ]
     },
     "execution_count": 118,
     "metadata": {},
     "output_type": "execute_result"
    }
   ],
   "source": [
    "pvalue(ChisqTest([0, 0, 5, 0], normalize([1, 3, 1, 0.5], 1)))"
   ]
  },
  {
   "cell_type": "code",
   "execution_count": 119,
   "id": "2c628890",
   "metadata": {},
   "outputs": [
    {
     "data": {
      "text/plain": [
       "0.001995790028753647"
      ]
     },
     "execution_count": 119,
     "metadata": {},
     "output_type": "execute_result"
    }
   ],
   "source": [
    "pvalue(ChisqTest([0, 0, 4, 1], normalize([1, 3, 1, 0.5], 1)))"
   ]
  },
  {
   "cell_type": "code",
   "execution_count": 120,
   "id": "40b25898",
   "metadata": {},
   "outputs": [],
   "source": [
    "using HypothesisTests, Distributions"
   ]
  },
  {
   "cell_type": "code",
   "execution_count": 124,
   "id": "926af2be",
   "metadata": {},
   "outputs": [
    {
     "data": {
      "text/plain": [
       "Exact one sample Kolmogorov-Smirnov test\n",
       "----------------------------------------\n",
       "Population details:\n",
       "    parameter of interest:   Supremum of CDF differences\n",
       "    value under h_0:         0.0\n",
       "    point estimate:          0.5\n",
       "\n",
       "Test summary:\n",
       "    outcome with 95% confidence: fail to reject h_0\n",
       "    two-sided p-value:           0.5000\n",
       "\n",
       "Details:\n",
       "    number of observations:   2\n"
      ]
     },
     "execution_count": 124,
     "metadata": {},
     "output_type": "execute_result"
    }
   ],
   "source": [
    "ExactOneSampleKSTest([5, 0], Categorical([0.01, 0.99]))"
   ]
  },
  {
   "cell_type": "code",
   "execution_count": 125,
   "id": "a398224a",
   "metadata": {},
   "outputs": [
    {
     "data": {
      "text/plain": [
       "One sample Anderson-Darling test\n",
       "--------------------------------\n",
       "Population details:\n",
       "    parameter of interest:   not implemented yet\n",
       "    value under h_0:         NaN\n",
       "    point estimate:          NaN\n",
       "\n",
       "Test summary:\n",
       "    outcome with 95% confidence: reject h_0\n",
       "    one-sided p-value:           0.0003\n",
       "\n",
       "Details:\n",
       "    number of observations:   2\n",
       "    sample mean:              2.5\n",
       "    sample SD:                3.5355339059327378\n",
       "    A² statistic:             Inf\n"
      ]
     },
     "execution_count": 125,
     "metadata": {},
     "output_type": "execute_result"
    }
   ],
   "source": [
    "OneSampleADTest([5, 0], Categorical([0.25, 0.75]))"
   ]
  },
  {
   "cell_type": "code",
   "execution_count": 132,
   "id": "6a82085f",
   "metadata": {},
   "outputs": [
    {
     "data": {
      "text/plain": [
       "One sample Anderson-Darling test\n",
       "--------------------------------\n",
       "Population details:\n",
       "    parameter of interest:   not implemented yet\n",
       "    value under h_0:         NaN\n",
       "    point estimate:          NaN\n",
       "\n",
       "Test summary:\n",
       "    outcome with 95% confidence: reject h_0\n",
       "    one-sided p-value:           0.0003\n",
       "\n",
       "Details:\n",
       "    number of observations:   2\n",
       "    sample mean:              2.5\n",
       "    sample SD:                2.1213203435596424\n",
       "    A² statistic:             Inf\n"
      ]
     },
     "execution_count": 132,
     "metadata": {},
     "output_type": "execute_result"
    }
   ],
   "source": [
    "OneSampleADTest([1, 4], Categorical([0.5, 0.5]))"
   ]
  },
  {
   "cell_type": "code",
   "execution_count": 133,
   "id": "ee45f953",
   "metadata": {},
   "outputs": [
    {
     "data": {
      "text/plain": [
       "Categorical{Float64, Vector{Float64}}(support=Base.OneTo(2), p=[0.5, 0.5])"
      ]
     },
     "execution_count": 133,
     "metadata": {},
     "output_type": "execute_result"
    }
   ],
   "source": [
    "dist = Categorical([0.5, 0.5])"
   ]
  },
  {
   "cell_type": "code",
   "execution_count": 134,
   "id": "1237b43d",
   "metadata": {},
   "outputs": [
    {
     "data": {
      "text/plain": [
       "0.5"
      ]
     },
     "execution_count": 134,
     "metadata": {},
     "output_type": "execute_result"
    }
   ],
   "source": [
    "pdf(dist, 1)"
   ]
  },
  {
   "cell_type": "code",
   "execution_count": 135,
   "id": "fc21ebe8",
   "metadata": {},
   "outputs": [
    {
     "data": {
      "text/plain": [
       "0.5"
      ]
     },
     "execution_count": 135,
     "metadata": {},
     "output_type": "execute_result"
    }
   ],
   "source": [
    "pdf(dist, 2)"
   ]
  },
  {
   "cell_type": "code",
   "execution_count": 136,
   "id": "3ee3553c",
   "metadata": {},
   "outputs": [
    {
     "data": {
      "text/plain": [
       "0.0"
      ]
     },
     "execution_count": 136,
     "metadata": {},
     "output_type": "execute_result"
    }
   ],
   "source": [
    "pdf(dist, 0)"
   ]
  },
  {
   "cell_type": "code",
   "execution_count": 139,
   "id": "af41e5c8",
   "metadata": {},
   "outputs": [
    {
     "data": {
      "text/plain": [
       "Categorical{Float64, Vector{Float64}}(support=Base.OneTo(2), p=[0.75, 0.25])"
      ]
     },
     "execution_count": 139,
     "metadata": {},
     "output_type": "execute_result"
    }
   ],
   "source": [
    "dist = Categorical([0.75, 0.25])"
   ]
  },
  {
   "cell_type": "code",
   "execution_count": 142,
   "id": "2be5e9e8",
   "metadata": {},
   "outputs": [
    {
     "data": {
      "text/plain": [
       "-0.2876820724517809"
      ]
     },
     "execution_count": 142,
     "metadata": {},
     "output_type": "execute_result"
    }
   ],
   "source": [
    "logcdf(dist, 1)"
   ]
  },
  {
   "cell_type": "code",
   "execution_count": 143,
   "id": "d092fce6",
   "metadata": {},
   "outputs": [
    {
     "data": {
      "text/plain": [
       "-Inf"
      ]
     },
     "execution_count": 143,
     "metadata": {},
     "output_type": "execute_result"
    }
   ],
   "source": [
    "logccdf(dist, 2)"
   ]
  },
  {
   "cell_type": "code",
   "execution_count": 144,
   "id": "14c99016",
   "metadata": {},
   "outputs": [
    {
     "name": "stdout",
     "output_type": "stream",
     "text": [
      "search: \u001b[0m\u001b[1ml\u001b[22m\u001b[0m\u001b[1mo\u001b[22m\u001b[0m\u001b[1mg\u001b[22m\u001b[0m\u001b[1mc\u001b[22m\u001b[0m\u001b[1mc\u001b[22m\u001b[0m\u001b[1md\u001b[22m\u001b[0m\u001b[1mf\u001b[22m inv\u001b[0m\u001b[1ml\u001b[22m\u001b[0m\u001b[1mo\u001b[22m\u001b[0m\u001b[1mg\u001b[22m\u001b[0m\u001b[1mc\u001b[22m\u001b[0m\u001b[1mc\u001b[22m\u001b[0m\u001b[1md\u001b[22m\u001b[0m\u001b[1mf\u001b[22m\n",
      "\n"
     ]
    },
    {
     "data": {
      "text/latex": [
       "\\begin{verbatim}\n",
       "logccdf(d::UnivariateDistribution, x::Real)\n",
       "\\end{verbatim}\n",
       "The logarithm of the complementary cumulative function values evaluated at x, i.e. \\texttt{log(ccdf(x))}.\n",
       "\n"
      ],
      "text/markdown": [
       "```\n",
       "logccdf(d::UnivariateDistribution, x::Real)\n",
       "```\n",
       "\n",
       "The logarithm of the complementary cumulative function values evaluated at x, i.e. `log(ccdf(x))`.\n"
      ],
      "text/plain": [
       "\u001b[36m  logccdf(d::UnivariateDistribution, x::Real)\u001b[39m\n",
       "\n",
       "  The logarithm of the complementary cumulative function values evaluated at\n",
       "  x, i.e. \u001b[36mlog(ccdf(x))\u001b[39m."
      ]
     },
     "execution_count": 144,
     "metadata": {},
     "output_type": "execute_result"
    }
   ],
   "source": [
    "?logccdf"
   ]
  },
  {
   "cell_type": "code",
   "execution_count": 138,
   "id": "5b4621e0",
   "metadata": {},
   "outputs": [
    {
     "data": {
      "text/plain": [
       "One sample Anderson-Darling test\n",
       "--------------------------------\n",
       "Population details:\n",
       "    parameter of interest:   not implemented yet\n",
       "    value under h_0:         NaN\n",
       "    point estimate:          NaN\n",
       "\n",
       "Test summary:\n",
       "    outcome with 95% confidence: reject h_0\n",
       "    one-sided p-value:           0.0001\n",
       "\n",
       "Details:\n",
       "    number of observations:   4\n",
       "    sample mean:              0.25\n",
       "    sample SD:                0.5\n",
       "    A² statistic:             Inf\n"
      ]
     },
     "execution_count": 138,
     "metadata": {},
     "output_type": "execute_result"
    }
   ],
   "source": [
    "OneSampleADTest([1, 0, 0, 0], Categorical([0.75, 0.25]) )"
   ]
  },
  {
   "cell_type": "code",
   "execution_count": 145,
   "id": "aada200f",
   "metadata": {},
   "outputs": [
    {
     "name": "stdout",
     "output_type": "stream",
     "text": [
      "search: \u001b[0m\u001b[1mM\u001b[22m\u001b[0m\u001b[1mu\u001b[22m\u001b[0m\u001b[1ml\u001b[22m\u001b[0m\u001b[1mt\u001b[22m\u001b[0m\u001b[1mi\u001b[22m\u001b[0m\u001b[1mn\u001b[22m\u001b[0m\u001b[1mo\u001b[22m\u001b[0m\u001b[1mm\u001b[22m\u001b[0m\u001b[1mi\u001b[22m\u001b[0m\u001b[1ma\u001b[22m\u001b[0m\u001b[1ml\u001b[22m \u001b[0m\u001b[1mM\u001b[22m\u001b[0m\u001b[1mu\u001b[22m\u001b[0m\u001b[1ml\u001b[22m\u001b[0m\u001b[1mt\u001b[22m\u001b[0m\u001b[1mi\u001b[22m\u001b[0m\u001b[1mn\u001b[22m\u001b[0m\u001b[1mo\u001b[22m\u001b[0m\u001b[1mm\u001b[22m\u001b[0m\u001b[1mi\u001b[22m\u001b[0m\u001b[1ma\u001b[22m\u001b[0m\u001b[1ml\u001b[22mLRT \u001b[0m\u001b[1mM\u001b[22m\u001b[0m\u001b[1mu\u001b[22m\u001b[0m\u001b[1ml\u001b[22m\u001b[0m\u001b[1mt\u001b[22m\u001b[0m\u001b[1mi\u001b[22m\u001b[0m\u001b[1mn\u001b[22m\u001b[0m\u001b[1mo\u001b[22m\u001b[0m\u001b[1mm\u001b[22m\u001b[0m\u001b[1mi\u001b[22m\u001b[0m\u001b[1ma\u001b[22m\u001b[0m\u001b[1ml\u001b[22mLRTest Dirichlet\u001b[0m\u001b[1mM\u001b[22m\u001b[0m\u001b[1mu\u001b[22m\u001b[0m\u001b[1ml\u001b[22m\u001b[0m\u001b[1mt\u001b[22m\u001b[0m\u001b[1mi\u001b[22m\u001b[0m\u001b[1mn\u001b[22m\u001b[0m\u001b[1mo\u001b[22m\u001b[0m\u001b[1mm\u001b[22m\u001b[0m\u001b[1mi\u001b[22m\u001b[0m\u001b[1ma\u001b[22m\u001b[0m\u001b[1ml\u001b[22m\n",
      "\n"
     ]
    },
    {
     "data": {
      "text/latex": [
       "The \\href{http://en.wikipedia.org/wiki/Multinomial_distribution}{Multinomial distribution} generalizes the \\emph{binomial distribution}. Consider n independent draws from a Categorical distribution over a finite set of size k, and let $X = (X_1, ..., X_k)$ where $X_i$ represents the number of times the element $i$ occurs, then the distribution of $X$ is a multinomial distribution. Each sample of a multinomial distribution is a k-dimensional integer vector that sums to n.\n",
       "\n",
       "The probability mass function is given by\n",
       "\n",
       "$$f(x; n, p) = \\frac{n!}{x_1! \\cdots x_k!} \\prod_{i=1}^k p_i^{x_i},\n",
       "\\quad x_1 + \\cdots + x_k = n$$\n",
       "\\begin{verbatim}\n",
       "Multinomial(n, p)   # Multinomial distribution for n trials with probability vector p\n",
       "Multinomial(n, k)   # Multinomial distribution for n trials with equal probabilities\n",
       "                    # over 1:k\n",
       "\\end{verbatim}\n"
      ],
      "text/markdown": [
       "The [Multinomial distribution](http://en.wikipedia.org/wiki/Multinomial_distribution) generalizes the *binomial distribution*. Consider n independent draws from a Categorical distribution over a finite set of size k, and let $X = (X_1, ..., X_k)$ where $X_i$ represents the number of times the element $i$ occurs, then the distribution of $X$ is a multinomial distribution. Each sample of a multinomial distribution is a k-dimensional integer vector that sums to n.\n",
       "\n",
       "The probability mass function is given by\n",
       "\n",
       "$$\n",
       "f(x; n, p) = \\frac{n!}{x_1! \\cdots x_k!} \\prod_{i=1}^k p_i^{x_i},\n",
       "\\quad x_1 + \\cdots + x_k = n\n",
       "$$\n",
       "\n",
       "```julia\n",
       "Multinomial(n, p)   # Multinomial distribution for n trials with probability vector p\n",
       "Multinomial(n, k)   # Multinomial distribution for n trials with equal probabilities\n",
       "                    # over 1:k\n",
       "```\n"
      ],
      "text/plain": [
       "  The Multinomial distribution\n",
       "  (http://en.wikipedia.org/wiki/Multinomial_distribution) generalizes the\n",
       "  \u001b[4mbinomial distribution\u001b[24m. Consider n independent draws from a Categorical\n",
       "  distribution over a finite set of size k, and let \u001b[35mX = (X_1, ..., X_k)\u001b[39m where\n",
       "  \u001b[35mX_i\u001b[39m represents the number of times the element \u001b[35mi\u001b[39m occurs, then the\n",
       "  distribution of \u001b[35mX\u001b[39m is a multinomial distribution. Each sample of a\n",
       "  multinomial distribution is a k-dimensional integer vector that sums to n.\n",
       "\n",
       "  The probability mass function is given by\n",
       "\n",
       "\u001b[35m  f(x; n, p) = \\frac{n!}{x_1! \\cdots x_k!} \\prod_{i=1}^k p_i^{x_i},\u001b[39m\n",
       "\u001b[35m\\quad x_1 + \\cdots + x_k = n\u001b[39m\n",
       "\n",
       "\u001b[36m  Multinomial(n, p)   # Multinomial distribution for n trials with probability vector p\u001b[39m\n",
       "\u001b[36m  Multinomial(n, k)   # Multinomial distribution for n trials with equal probabilities\u001b[39m\n",
       "\u001b[36m                      # over 1:k\u001b[39m"
      ]
     },
     "execution_count": 145,
     "metadata": {},
     "output_type": "execute_result"
    }
   ],
   "source": [
    "?Multinomial"
   ]
  },
  {
   "cell_type": "code",
   "execution_count": 146,
   "id": "0c56a07b",
   "metadata": {},
   "outputs": [
    {
     "data": {
      "text/plain": [
       "0.0009765625"
      ]
     },
     "execution_count": 146,
     "metadata": {},
     "output_type": "execute_result"
    }
   ],
   "source": [
    "pdf(Multinomial(5, [0.25, 0.75]), [5, 0])"
   ]
  },
  {
   "cell_type": "code",
   "execution_count": 147,
   "id": "b61a5b36",
   "metadata": {},
   "outputs": [
    {
     "data": {
      "text/plain": [
       "0.0009765625000000009"
      ]
     },
     "execution_count": 147,
     "metadata": {},
     "output_type": "execute_result"
    }
   ],
   "source": [
    "pdf(Binomial(5, 0.25), 5)"
   ]
  },
  {
   "cell_type": "code",
   "execution_count": 182,
   "id": "59d668e7",
   "metadata": {},
   "outputs": [],
   "source": [
    "using Combinatorics\n",
    "using Random"
   ]
  },
  {
   "cell_type": "code",
   "execution_count": 149,
   "id": "28d535c2",
   "metadata": {},
   "outputs": [
    {
     "name": "stdout",
     "output_type": "stream",
     "text": [
      "search: \u001b[0m\u001b[1mp\u001b[22m\u001b[0m\u001b[1me\u001b[22m\u001b[0m\u001b[1mr\u001b[22m\u001b[0m\u001b[1mm\u001b[22m\u001b[0m\u001b[1mu\u001b[22m\u001b[0m\u001b[1mt\u001b[22m\u001b[0m\u001b[1ma\u001b[22m\u001b[0m\u001b[1mt\u001b[22m\u001b[0m\u001b[1mi\u001b[22m\u001b[0m\u001b[1mo\u001b[22m\u001b[0m\u001b[1mn\u001b[22m\u001b[0m\u001b[1ms\u001b[22m Exact\u001b[0m\u001b[1mP\u001b[22m\u001b[0m\u001b[1me\u001b[22m\u001b[0m\u001b[1mr\u001b[22m\u001b[0m\u001b[1mm\u001b[22m\u001b[0m\u001b[1mu\u001b[22m\u001b[0m\u001b[1mt\u001b[22m\u001b[0m\u001b[1ma\u001b[22m\u001b[0m\u001b[1mt\u001b[22m\u001b[0m\u001b[1mi\u001b[22m\u001b[0m\u001b[1mo\u001b[22m\u001b[0m\u001b[1mn\u001b[22mTe\u001b[0m\u001b[1ms\u001b[22mt multiset_\u001b[0m\u001b[1mp\u001b[22m\u001b[0m\u001b[1me\u001b[22m\u001b[0m\u001b[1mr\u001b[22m\u001b[0m\u001b[1mm\u001b[22m\u001b[0m\u001b[1mu\u001b[22m\u001b[0m\u001b[1mt\u001b[22m\u001b[0m\u001b[1ma\u001b[22m\u001b[0m\u001b[1mt\u001b[22m\u001b[0m\u001b[1mi\u001b[22m\u001b[0m\u001b[1mo\u001b[22m\u001b[0m\u001b[1mn\u001b[22m\u001b[0m\u001b[1ms\u001b[22m\n",
      "\n"
     ]
    },
    {
     "data": {
      "text/latex": [
       "\\begin{verbatim}\n",
       "permutations(a)\n",
       "\\end{verbatim}\n",
       "Generate all permutations of an indexable object \\texttt{a} in lexicographic order. Because the number of permutations can be very large, this function returns an iterator object. Use \\texttt{collect(permutations(a))} to get an array of all permutations.\n",
       "\n",
       "\\rule{\\textwidth}{1pt}\n",
       "\\begin{verbatim}\n",
       "permutations(a, t)\n",
       "\\end{verbatim}\n",
       "Generate all size \\texttt{t} permutations of an indexable object \\texttt{a}.\n",
       "\n"
      ],
      "text/markdown": [
       "```\n",
       "permutations(a)\n",
       "```\n",
       "\n",
       "Generate all permutations of an indexable object `a` in lexicographic order. Because the number of permutations can be very large, this function returns an iterator object. Use `collect(permutations(a))` to get an array of all permutations.\n",
       "\n",
       "---\n",
       "\n",
       "```\n",
       "permutations(a, t)\n",
       "```\n",
       "\n",
       "Generate all size `t` permutations of an indexable object `a`.\n"
      ],
      "text/plain": [
       "\u001b[36m  permutations(a)\u001b[39m\n",
       "\n",
       "  Generate all permutations of an indexable object \u001b[36ma\u001b[39m in lexicographic order.\n",
       "  Because the number of permutations can be very large, this function returns\n",
       "  an iterator object. Use \u001b[36mcollect(permutations(a))\u001b[39m to get an array of all\n",
       "  permutations.\n",
       "\n",
       "  ────────────────────────────────────────────────────────────────────────────\n",
       "\n",
       "\u001b[36m  permutations(a, t)\u001b[39m\n",
       "\n",
       "  Generate all size \u001b[36mt\u001b[39m permutations of an indexable object \u001b[36ma\u001b[39m."
      ]
     },
     "execution_count": 149,
     "metadata": {},
     "output_type": "execute_result"
    }
   ],
   "source": [
    "?permutations"
   ]
  },
  {
   "cell_type": "code",
   "execution_count": 163,
   "id": "26750bf0",
   "metadata": {},
   "outputs": [
    {
     "name": "stdout",
     "output_type": "stream",
     "text": [
      "search: \u001b[0m\u001b[1mm\u001b[22m\u001b[0m\u001b[1mu\u001b[22m\u001b[0m\u001b[1ml\u001b[22m\u001b[0m\u001b[1mt\u001b[22m\u001b[0m\u001b[1mi\u001b[22m\u001b[0m\u001b[1me\u001b[22m\u001b[0m\u001b[1mx\u001b[22m\u001b[0m\u001b[1mp\u001b[22m\u001b[0m\u001b[1mo\u001b[22m\u001b[0m\u001b[1mn\u001b[22m\u001b[0m\u001b[1me\u001b[22m\u001b[0m\u001b[1mn\u001b[22m\u001b[0m\u001b[1mt\u001b[22m\u001b[0m\u001b[1ms\u001b[22m\n",
      "\n"
     ]
    },
    {
     "data": {
      "text/latex": [
       "\\begin{verbatim}\n",
       "multiexponents(m, n)\n",
       "\\end{verbatim}\n",
       "Returns the exponents in the multinomial expansion (x₁ + x₂ + ... + xₘ)ⁿ.\n",
       "\n",
       "For example, the expansion (x₁ + x₂ + x₃)² = x₁² + x₁x₂ + x₁x₃ + ... has the exponents:\n",
       "\n",
       "\\begin{verbatim}\n",
       "julia> collect(multiexponents(3, 2))\n",
       "\n",
       "6-element Array{Any,1}:\n",
       " [2, 0, 0]\n",
       " [1, 1, 0]\n",
       " [1, 0, 1]\n",
       " [0, 2, 0]\n",
       " [0, 1, 1]\n",
       " [0, 0, 2]\n",
       "\\end{verbatim}\n"
      ],
      "text/markdown": [
       "```\n",
       "multiexponents(m, n)\n",
       "```\n",
       "\n",
       "Returns the exponents in the multinomial expansion (x₁ + x₂ + ... + xₘ)ⁿ.\n",
       "\n",
       "For example, the expansion (x₁ + x₂ + x₃)² = x₁² + x₁x₂ + x₁x₃ + ... has the exponents:\n",
       "\n",
       "```\n",
       "julia> collect(multiexponents(3, 2))\n",
       "\n",
       "6-element Array{Any,1}:\n",
       " [2, 0, 0]\n",
       " [1, 1, 0]\n",
       " [1, 0, 1]\n",
       " [0, 2, 0]\n",
       " [0, 1, 1]\n",
       " [0, 0, 2]\n",
       "```\n"
      ],
      "text/plain": [
       "\u001b[36m  multiexponents(m, n)\u001b[39m\n",
       "\n",
       "  Returns the exponents in the multinomial expansion (x₁ + x₂ + ... + xₘ)ⁿ.\n",
       "\n",
       "  For example, the expansion (x₁ + x₂ + x₃)² = x₁² + x₁x₂ + x₁x₃ + ... has the\n",
       "  exponents:\n",
       "\n",
       "\u001b[36m  julia> collect(multiexponents(3, 2))\u001b[39m\n",
       "\u001b[36m  \u001b[39m\n",
       "\u001b[36m  6-element Array{Any,1}:\u001b[39m\n",
       "\u001b[36m   [2, 0, 0]\u001b[39m\n",
       "\u001b[36m   [1, 1, 0]\u001b[39m\n",
       "\u001b[36m   [1, 0, 1]\u001b[39m\n",
       "\u001b[36m   [0, 2, 0]\u001b[39m\n",
       "\u001b[36m   [0, 1, 1]\u001b[39m\n",
       "\u001b[36m   [0, 0, 2]\u001b[39m"
      ]
     },
     "execution_count": 163,
     "metadata": {},
     "output_type": "execute_result"
    }
   ],
   "source": [
    "?multiexponents"
   ]
  },
  {
   "cell_type": "code",
   "execution_count": 156,
   "id": "35404a89",
   "metadata": {},
   "outputs": [
    {
     "data": {
      "text/plain": [
       "52451256"
      ]
     },
     "execution_count": 156,
     "metadata": {},
     "output_type": "execute_result"
    }
   ],
   "source": [
    "length(multiexponents(26, 9))"
   ]
  },
  {
   "cell_type": "code",
   "execution_count": 187,
   "id": "50cc4507",
   "metadata": {},
   "outputs": [],
   "source": [
    "using Plots"
   ]
  },
  {
   "cell_type": "code",
   "execution_count": 222,
   "id": "ed3134f9",
   "metadata": {},
   "outputs": [
    {
     "data": {
      "text/plain": [
       "70-element Vector{Any}:\n",
       " [4, 0, 0, 0, 0]\n",
       " [3, 1, 0, 0, 0]\n",
       " [3, 0, 1, 0, 0]\n",
       " [3, 0, 0, 1, 0]\n",
       " [3, 0, 0, 0, 1]\n",
       " [2, 2, 0, 0, 0]\n",
       " [2, 1, 1, 0, 0]\n",
       " [2, 1, 0, 1, 0]\n",
       " [2, 1, 0, 0, 1]\n",
       " [2, 0, 2, 0, 0]\n",
       " [2, 0, 1, 1, 0]\n",
       " [2, 0, 1, 0, 1]\n",
       " [2, 0, 0, 2, 0]\n",
       " ⋮\n",
       " [0, 0, 2, 2, 0]\n",
       " [0, 0, 2, 1, 1]\n",
       " [0, 0, 2, 0, 2]\n",
       " [0, 0, 1, 3, 0]\n",
       " [0, 0, 1, 2, 1]\n",
       " [0, 0, 1, 1, 2]\n",
       " [0, 0, 1, 0, 3]\n",
       " [0, 0, 0, 4, 0]\n",
       " [0, 0, 0, 3, 1]\n",
       " [0, 0, 0, 2, 2]\n",
       " [0, 0, 0, 1, 3]\n",
       " [0, 0, 0, 0, 4]"
      ]
     },
     "execution_count": 222,
     "metadata": {},
     "output_type": "execute_result"
    }
   ],
   "source": [
    "m = 5\n",
    "n = 4\n",
    "expected = collect(multiexponents(m, n))"
   ]
  },
  {
   "cell_type": "code",
   "execution_count": 223,
   "id": "089f3063",
   "metadata": {},
   "outputs": [
    {
     "data": {
      "text/plain": [
       "10000-element Vector{Vector{Int64}}:\n",
       " [1, 0, 0, 0, 3]\n",
       " [2, 0, 0, 1, 1]\n",
       " [1, 1, 0, 1, 1]\n",
       " [1, 0, 3, 0, 0]\n",
       " [0, 0, 3, 1, 0]\n",
       " [1, 1, 1, 1, 0]\n",
       " [1, 0, 0, 3, 0]\n",
       " [0, 1, 1, 1, 1]\n",
       " [0, 2, 1, 0, 1]\n",
       " [0, 1, 1, 0, 2]\n",
       " [1, 2, 0, 0, 1]\n",
       " [2, 1, 0, 1, 0]\n",
       " [0, 2, 0, 1, 1]\n",
       " ⋮\n",
       " [1, 0, 0, 1, 2]\n",
       " [0, 1, 1, 2, 0]\n",
       " [0, 1, 3, 0, 0]\n",
       " [0, 2, 1, 0, 1]\n",
       " [0, 0, 3, 0, 1]\n",
       " [0, 1, 0, 2, 1]\n",
       " [0, 0, 1, 2, 1]\n",
       " [0, 1, 3, 0, 0]\n",
       " [1, 0, 1, 1, 1]\n",
       " [0, 1, 2, 0, 1]\n",
       " [1, 0, 0, 1, 2]\n",
       " [0, 0, 2, 1, 1]"
      ]
     },
     "execution_count": 223,
     "metadata": {},
     "output_type": "execute_result"
    }
   ],
   "source": [
    "samples = map(1:10000) do i\n",
    "#     counts = zeros(Int, m)\n",
    "#     for i in 1:m\n",
    "#         counts[i] = rand(1:(n - sum(counts)))\n",
    "#         if sum(counts) == n\n",
    "#             break\n",
    "#         end\n",
    "#     end\n",
    "#     shuffle!(counts)\n",
    "#     counts\n",
    "        \n",
    "    \n",
    "#     counts = zeros(Int, m)\n",
    "#     for i in 1:n\n",
    "#         counts[rand(1:m)] += 1\n",
    "#     end\n",
    "#     counts\n",
    "    \n",
    "#     bars = rand(1:(n + 1), (m - 1))\n",
    "#     sort!(bars)\n",
    "#     vcat(bars[1] - 1, bars[2:end] .- bars[1:end-1], n + 1 - bars[end])\n",
    "    \n",
    "    rand(Multinomial(n, normalize(ones(m), 1)))\n",
    "end"
   ]
  },
  {
   "cell_type": "code",
   "execution_count": 224,
   "id": "6fbf9248",
   "metadata": {},
   "outputs": [
    {
     "data": {
      "image/svg+xml": [
       "<?xml version=\"1.0\" encoding=\"utf-8\"?>\n",
       "<svg xmlns=\"http://www.w3.org/2000/svg\" xmlns:xlink=\"http://www.w3.org/1999/xlink\" width=\"600\" height=\"400\" viewBox=\"0 0 2400 1600\">\n",
       "<defs>\n",
       "  <clipPath id=\"clip050\">\n",
       "    <rect x=\"0\" y=\"0\" width=\"2400\" height=\"1600\"/>\n",
       "  </clipPath>\n",
       "</defs>\n",
       "<path clip-path=\"url(#clip050)\" d=\"\n",
       "M0 1600 L2400 1600 L2400 0 L0 0  Z\n",
       "  \" fill=\"#ffffff\" fill-rule=\"evenodd\" fill-opacity=\"1\"/>\n",
       "<defs>\n",
       "  <clipPath id=\"clip051\">\n",
       "    <rect x=\"480\" y=\"0\" width=\"1681\" height=\"1600\"/>\n",
       "  </clipPath>\n",
       "</defs>\n",
       "<path clip-path=\"url(#clip050)\" d=\"\n",
       "M172.015 1486.45 L2352.76 1486.45 L2352.76 47.2441 L172.015 47.2441  Z\n",
       "  \" fill=\"#ffffff\" fill-rule=\"evenodd\" fill-opacity=\"1\"/>\n",
       "<defs>\n",
       "  <clipPath id=\"clip052\">\n",
       "    <rect x=\"172\" y=\"47\" width=\"2182\" height=\"1440\"/>\n",
       "  </clipPath>\n",
       "</defs>\n",
       "<polyline clip-path=\"url(#clip052)\" style=\"stroke:#000000; stroke-linecap:butt; stroke-linejoin:round; stroke-width:2; stroke-opacity:0.1; fill:none\" points=\"\n",
       "  303.082,1486.45 303.082,47.2441 \n",
       "  \"/>\n",
       "<polyline clip-path=\"url(#clip052)\" style=\"stroke:#000000; stroke-linecap:butt; stroke-linejoin:round; stroke-width:2; stroke-opacity:0.1; fill:none\" points=\"\n",
       "  330.888,1486.45 330.888,47.2441 \n",
       "  \"/>\n",
       "<polyline clip-path=\"url(#clip052)\" style=\"stroke:#000000; stroke-linecap:butt; stroke-linejoin:round; stroke-width:2; stroke-opacity:0.1; fill:none\" points=\"\n",
       "  358.694,1486.45 358.694,47.2441 \n",
       "  \"/>\n",
       "<polyline clip-path=\"url(#clip052)\" style=\"stroke:#000000; stroke-linecap:butt; stroke-linejoin:round; stroke-width:2; stroke-opacity:0.1; fill:none\" points=\"\n",
       "  386.5,1486.45 386.5,47.2441 \n",
       "  \"/>\n",
       "<polyline clip-path=\"url(#clip052)\" style=\"stroke:#000000; stroke-linecap:butt; stroke-linejoin:round; stroke-width:2; stroke-opacity:0.1; fill:none\" points=\"\n",
       "  414.305,1486.45 414.305,47.2441 \n",
       "  \"/>\n",
       "<polyline clip-path=\"url(#clip052)\" style=\"stroke:#000000; stroke-linecap:butt; stroke-linejoin:round; stroke-width:2; stroke-opacity:0.1; fill:none\" points=\"\n",
       "  442.111,1486.45 442.111,47.2441 \n",
       "  \"/>\n",
       "<polyline clip-path=\"url(#clip052)\" style=\"stroke:#000000; stroke-linecap:butt; stroke-linejoin:round; stroke-width:2; stroke-opacity:0.1; fill:none\" points=\"\n",
       "  469.917,1486.45 469.917,47.2441 \n",
       "  \"/>\n",
       "<polyline clip-path=\"url(#clip052)\" style=\"stroke:#000000; stroke-linecap:butt; stroke-linejoin:round; stroke-width:2; stroke-opacity:0.1; fill:none\" points=\"\n",
       "  497.723,1486.45 497.723,47.2441 \n",
       "  \"/>\n",
       "<polyline clip-path=\"url(#clip052)\" style=\"stroke:#000000; stroke-linecap:butt; stroke-linejoin:round; stroke-width:2; stroke-opacity:0.1; fill:none\" points=\"\n",
       "  525.529,1486.45 525.529,47.2441 \n",
       "  \"/>\n",
       "<polyline clip-path=\"url(#clip052)\" style=\"stroke:#000000; stroke-linecap:butt; stroke-linejoin:round; stroke-width:2; stroke-opacity:0.1; fill:none\" points=\"\n",
       "  553.335,1486.45 553.335,47.2441 \n",
       "  \"/>\n",
       "<polyline clip-path=\"url(#clip052)\" style=\"stroke:#000000; stroke-linecap:butt; stroke-linejoin:round; stroke-width:2; stroke-opacity:0.1; fill:none\" points=\"\n",
       "  581.141,1486.45 581.141,47.2441 \n",
       "  \"/>\n",
       "<polyline clip-path=\"url(#clip052)\" style=\"stroke:#000000; stroke-linecap:butt; stroke-linejoin:round; stroke-width:2; stroke-opacity:0.1; fill:none\" points=\"\n",
       "  608.947,1486.45 608.947,47.2441 \n",
       "  \"/>\n",
       "<polyline clip-path=\"url(#clip052)\" style=\"stroke:#000000; stroke-linecap:butt; stroke-linejoin:round; stroke-width:2; stroke-opacity:0.1; fill:none\" points=\"\n",
       "  636.753,1486.45 636.753,47.2441 \n",
       "  \"/>\n",
       "<polyline clip-path=\"url(#clip052)\" style=\"stroke:#000000; stroke-linecap:butt; stroke-linejoin:round; stroke-width:2; stroke-opacity:0.1; fill:none\" points=\"\n",
       "  664.559,1486.45 664.559,47.2441 \n",
       "  \"/>\n",
       "<polyline clip-path=\"url(#clip052)\" style=\"stroke:#000000; stroke-linecap:butt; stroke-linejoin:round; stroke-width:2; stroke-opacity:0.1; fill:none\" points=\"\n",
       "  692.364,1486.45 692.364,47.2441 \n",
       "  \"/>\n",
       "<polyline clip-path=\"url(#clip052)\" style=\"stroke:#000000; stroke-linecap:butt; stroke-linejoin:round; stroke-width:2; stroke-opacity:0.1; fill:none\" points=\"\n",
       "  720.17,1486.45 720.17,47.2441 \n",
       "  \"/>\n",
       "<polyline clip-path=\"url(#clip052)\" style=\"stroke:#000000; stroke-linecap:butt; stroke-linejoin:round; stroke-width:2; stroke-opacity:0.1; fill:none\" points=\"\n",
       "  747.976,1486.45 747.976,47.2441 \n",
       "  \"/>\n",
       "<polyline clip-path=\"url(#clip052)\" style=\"stroke:#000000; stroke-linecap:butt; stroke-linejoin:round; stroke-width:2; stroke-opacity:0.1; fill:none\" points=\"\n",
       "  775.782,1486.45 775.782,47.2441 \n",
       "  \"/>\n",
       "<polyline clip-path=\"url(#clip052)\" style=\"stroke:#000000; stroke-linecap:butt; stroke-linejoin:round; stroke-width:2; stroke-opacity:0.1; fill:none\" points=\"\n",
       "  803.588,1486.45 803.588,47.2441 \n",
       "  \"/>\n",
       "<polyline clip-path=\"url(#clip052)\" style=\"stroke:#000000; stroke-linecap:butt; stroke-linejoin:round; stroke-width:2; stroke-opacity:0.1; fill:none\" points=\"\n",
       "  831.394,1486.45 831.394,47.2441 \n",
       "  \"/>\n",
       "<polyline clip-path=\"url(#clip052)\" style=\"stroke:#000000; stroke-linecap:butt; stroke-linejoin:round; stroke-width:2; stroke-opacity:0.1; fill:none\" points=\"\n",
       "  859.2,1486.45 859.2,47.2441 \n",
       "  \"/>\n",
       "<polyline clip-path=\"url(#clip052)\" style=\"stroke:#000000; stroke-linecap:butt; stroke-linejoin:round; stroke-width:2; stroke-opacity:0.1; fill:none\" points=\"\n",
       "  887.006,1486.45 887.006,47.2441 \n",
       "  \"/>\n",
       "<polyline clip-path=\"url(#clip052)\" style=\"stroke:#000000; stroke-linecap:butt; stroke-linejoin:round; stroke-width:2; stroke-opacity:0.1; fill:none\" points=\"\n",
       "  914.812,1486.45 914.812,47.2441 \n",
       "  \"/>\n",
       "<polyline clip-path=\"url(#clip052)\" style=\"stroke:#000000; stroke-linecap:butt; stroke-linejoin:round; stroke-width:2; stroke-opacity:0.1; fill:none\" points=\"\n",
       "  942.618,1486.45 942.618,47.2441 \n",
       "  \"/>\n",
       "<polyline clip-path=\"url(#clip052)\" style=\"stroke:#000000; stroke-linecap:butt; stroke-linejoin:round; stroke-width:2; stroke-opacity:0.1; fill:none\" points=\"\n",
       "  970.423,1486.45 970.423,47.2441 \n",
       "  \"/>\n",
       "<polyline clip-path=\"url(#clip052)\" style=\"stroke:#000000; stroke-linecap:butt; stroke-linejoin:round; stroke-width:2; stroke-opacity:0.1; fill:none\" points=\"\n",
       "  998.229,1486.45 998.229,47.2441 \n",
       "  \"/>\n",
       "<polyline clip-path=\"url(#clip052)\" style=\"stroke:#000000; stroke-linecap:butt; stroke-linejoin:round; stroke-width:2; stroke-opacity:0.1; fill:none\" points=\"\n",
       "  1026.04,1486.45 1026.04,47.2441 \n",
       "  \"/>\n",
       "<polyline clip-path=\"url(#clip052)\" style=\"stroke:#000000; stroke-linecap:butt; stroke-linejoin:round; stroke-width:2; stroke-opacity:0.1; fill:none\" points=\"\n",
       "  1053.84,1486.45 1053.84,47.2441 \n",
       "  \"/>\n",
       "<polyline clip-path=\"url(#clip052)\" style=\"stroke:#000000; stroke-linecap:butt; stroke-linejoin:round; stroke-width:2; stroke-opacity:0.1; fill:none\" points=\"\n",
       "  1081.65,1486.45 1081.65,47.2441 \n",
       "  \"/>\n",
       "<polyline clip-path=\"url(#clip052)\" style=\"stroke:#000000; stroke-linecap:butt; stroke-linejoin:round; stroke-width:2; stroke-opacity:0.1; fill:none\" points=\"\n",
       "  1109.45,1486.45 1109.45,47.2441 \n",
       "  \"/>\n",
       "<polyline clip-path=\"url(#clip052)\" style=\"stroke:#000000; stroke-linecap:butt; stroke-linejoin:round; stroke-width:2; stroke-opacity:0.1; fill:none\" points=\"\n",
       "  1137.26,1486.45 1137.26,47.2441 \n",
       "  \"/>\n",
       "<polyline clip-path=\"url(#clip052)\" style=\"stroke:#000000; stroke-linecap:butt; stroke-linejoin:round; stroke-width:2; stroke-opacity:0.1; fill:none\" points=\"\n",
       "  1165.06,1486.45 1165.06,47.2441 \n",
       "  \"/>\n",
       "<polyline clip-path=\"url(#clip052)\" style=\"stroke:#000000; stroke-linecap:butt; stroke-linejoin:round; stroke-width:2; stroke-opacity:0.1; fill:none\" points=\"\n",
       "  1192.87,1486.45 1192.87,47.2441 \n",
       "  \"/>\n",
       "<polyline clip-path=\"url(#clip052)\" style=\"stroke:#000000; stroke-linecap:butt; stroke-linejoin:round; stroke-width:2; stroke-opacity:0.1; fill:none\" points=\"\n",
       "  1220.68,1486.45 1220.68,47.2441 \n",
       "  \"/>\n",
       "<polyline clip-path=\"url(#clip052)\" style=\"stroke:#000000; stroke-linecap:butt; stroke-linejoin:round; stroke-width:2; stroke-opacity:0.1; fill:none\" points=\"\n",
       "  1248.48,1486.45 1248.48,47.2441 \n",
       "  \"/>\n",
       "<polyline clip-path=\"url(#clip052)\" style=\"stroke:#000000; stroke-linecap:butt; stroke-linejoin:round; stroke-width:2; stroke-opacity:0.1; fill:none\" points=\"\n",
       "  1276.29,1486.45 1276.29,47.2441 \n",
       "  \"/>\n",
       "<polyline clip-path=\"url(#clip052)\" style=\"stroke:#000000; stroke-linecap:butt; stroke-linejoin:round; stroke-width:2; stroke-opacity:0.1; fill:none\" points=\"\n",
       "  1304.09,1486.45 1304.09,47.2441 \n",
       "  \"/>\n",
       "<polyline clip-path=\"url(#clip052)\" style=\"stroke:#000000; stroke-linecap:butt; stroke-linejoin:round; stroke-width:2; stroke-opacity:0.1; fill:none\" points=\"\n",
       "  1331.9,1486.45 1331.9,47.2441 \n",
       "  \"/>\n",
       "<polyline clip-path=\"url(#clip052)\" style=\"stroke:#000000; stroke-linecap:butt; stroke-linejoin:round; stroke-width:2; stroke-opacity:0.1; fill:none\" points=\"\n",
       "  1359.71,1486.45 1359.71,47.2441 \n",
       "  \"/>\n",
       "<polyline clip-path=\"url(#clip052)\" style=\"stroke:#000000; stroke-linecap:butt; stroke-linejoin:round; stroke-width:2; stroke-opacity:0.1; fill:none\" points=\"\n",
       "  1387.51,1486.45 1387.51,47.2441 \n",
       "  \"/>\n",
       "<polyline clip-path=\"url(#clip052)\" style=\"stroke:#000000; stroke-linecap:butt; stroke-linejoin:round; stroke-width:2; stroke-opacity:0.1; fill:none\" points=\"\n",
       "  1415.32,1486.45 1415.32,47.2441 \n",
       "  \"/>\n",
       "<polyline clip-path=\"url(#clip052)\" style=\"stroke:#000000; stroke-linecap:butt; stroke-linejoin:round; stroke-width:2; stroke-opacity:0.1; fill:none\" points=\"\n",
       "  1443.12,1486.45 1443.12,47.2441 \n",
       "  \"/>\n",
       "<polyline clip-path=\"url(#clip052)\" style=\"stroke:#000000; stroke-linecap:butt; stroke-linejoin:round; stroke-width:2; stroke-opacity:0.1; fill:none\" points=\"\n",
       "  1470.93,1486.45 1470.93,47.2441 \n",
       "  \"/>\n",
       "<polyline clip-path=\"url(#clip052)\" style=\"stroke:#000000; stroke-linecap:butt; stroke-linejoin:round; stroke-width:2; stroke-opacity:0.1; fill:none\" points=\"\n",
       "  1498.74,1486.45 1498.74,47.2441 \n",
       "  \"/>\n",
       "<polyline clip-path=\"url(#clip052)\" style=\"stroke:#000000; stroke-linecap:butt; stroke-linejoin:round; stroke-width:2; stroke-opacity:0.1; fill:none\" points=\"\n",
       "  1526.54,1486.45 1526.54,47.2441 \n",
       "  \"/>\n",
       "<polyline clip-path=\"url(#clip052)\" style=\"stroke:#000000; stroke-linecap:butt; stroke-linejoin:round; stroke-width:2; stroke-opacity:0.1; fill:none\" points=\"\n",
       "  1554.35,1486.45 1554.35,47.2441 \n",
       "  \"/>\n",
       "<polyline clip-path=\"url(#clip052)\" style=\"stroke:#000000; stroke-linecap:butt; stroke-linejoin:round; stroke-width:2; stroke-opacity:0.1; fill:none\" points=\"\n",
       "  1582.15,1486.45 1582.15,47.2441 \n",
       "  \"/>\n",
       "<polyline clip-path=\"url(#clip052)\" style=\"stroke:#000000; stroke-linecap:butt; stroke-linejoin:round; stroke-width:2; stroke-opacity:0.1; fill:none\" points=\"\n",
       "  1609.96,1486.45 1609.96,47.2441 \n",
       "  \"/>\n",
       "<polyline clip-path=\"url(#clip052)\" style=\"stroke:#000000; stroke-linecap:butt; stroke-linejoin:round; stroke-width:2; stroke-opacity:0.1; fill:none\" points=\"\n",
       "  1637.77,1486.45 1637.77,47.2441 \n",
       "  \"/>\n",
       "<polyline clip-path=\"url(#clip052)\" style=\"stroke:#000000; stroke-linecap:butt; stroke-linejoin:round; stroke-width:2; stroke-opacity:0.1; fill:none\" points=\"\n",
       "  1665.57,1486.45 1665.57,47.2441 \n",
       "  \"/>\n",
       "<polyline clip-path=\"url(#clip052)\" style=\"stroke:#000000; stroke-linecap:butt; stroke-linejoin:round; stroke-width:2; stroke-opacity:0.1; fill:none\" points=\"\n",
       "  1693.38,1486.45 1693.38,47.2441 \n",
       "  \"/>\n",
       "<polyline clip-path=\"url(#clip052)\" style=\"stroke:#000000; stroke-linecap:butt; stroke-linejoin:round; stroke-width:2; stroke-opacity:0.1; fill:none\" points=\"\n",
       "  1721.18,1486.45 1721.18,47.2441 \n",
       "  \"/>\n",
       "<polyline clip-path=\"url(#clip052)\" style=\"stroke:#000000; stroke-linecap:butt; stroke-linejoin:round; stroke-width:2; stroke-opacity:0.1; fill:none\" points=\"\n",
       "  1748.99,1486.45 1748.99,47.2441 \n",
       "  \"/>\n",
       "<polyline clip-path=\"url(#clip052)\" style=\"stroke:#000000; stroke-linecap:butt; stroke-linejoin:round; stroke-width:2; stroke-opacity:0.1; fill:none\" points=\"\n",
       "  1776.79,1486.45 1776.79,47.2441 \n",
       "  \"/>\n",
       "<polyline clip-path=\"url(#clip052)\" style=\"stroke:#000000; stroke-linecap:butt; stroke-linejoin:round; stroke-width:2; stroke-opacity:0.1; fill:none\" points=\"\n",
       "  1804.6,1486.45 1804.6,47.2441 \n",
       "  \"/>\n",
       "<polyline clip-path=\"url(#clip052)\" style=\"stroke:#000000; stroke-linecap:butt; stroke-linejoin:round; stroke-width:2; stroke-opacity:0.1; fill:none\" points=\"\n",
       "  1832.41,1486.45 1832.41,47.2441 \n",
       "  \"/>\n",
       "<polyline clip-path=\"url(#clip052)\" style=\"stroke:#000000; stroke-linecap:butt; stroke-linejoin:round; stroke-width:2; stroke-opacity:0.1; fill:none\" points=\"\n",
       "  1860.21,1486.45 1860.21,47.2441 \n",
       "  \"/>\n",
       "<polyline clip-path=\"url(#clip052)\" style=\"stroke:#000000; stroke-linecap:butt; stroke-linejoin:round; stroke-width:2; stroke-opacity:0.1; fill:none\" points=\"\n",
       "  1888.02,1486.45 1888.02,47.2441 \n",
       "  \"/>\n",
       "<polyline clip-path=\"url(#clip052)\" style=\"stroke:#000000; stroke-linecap:butt; stroke-linejoin:round; stroke-width:2; stroke-opacity:0.1; fill:none\" points=\"\n",
       "  1915.82,1486.45 1915.82,47.2441 \n",
       "  \"/>\n",
       "<polyline clip-path=\"url(#clip052)\" style=\"stroke:#000000; stroke-linecap:butt; stroke-linejoin:round; stroke-width:2; stroke-opacity:0.1; fill:none\" points=\"\n",
       "  1943.63,1486.45 1943.63,47.2441 \n",
       "  \"/>\n",
       "<polyline clip-path=\"url(#clip052)\" style=\"stroke:#000000; stroke-linecap:butt; stroke-linejoin:round; stroke-width:2; stroke-opacity:0.1; fill:none\" points=\"\n",
       "  1971.44,1486.45 1971.44,47.2441 \n",
       "  \"/>\n",
       "<polyline clip-path=\"url(#clip052)\" style=\"stroke:#000000; stroke-linecap:butt; stroke-linejoin:round; stroke-width:2; stroke-opacity:0.1; fill:none\" points=\"\n",
       "  1999.24,1486.45 1999.24,47.2441 \n",
       "  \"/>\n",
       "<polyline clip-path=\"url(#clip052)\" style=\"stroke:#000000; stroke-linecap:butt; stroke-linejoin:round; stroke-width:2; stroke-opacity:0.1; fill:none\" points=\"\n",
       "  2027.05,1486.45 2027.05,47.2441 \n",
       "  \"/>\n",
       "<polyline clip-path=\"url(#clip052)\" style=\"stroke:#000000; stroke-linecap:butt; stroke-linejoin:round; stroke-width:2; stroke-opacity:0.1; fill:none\" points=\"\n",
       "  2054.85,1486.45 2054.85,47.2441 \n",
       "  \"/>\n",
       "<polyline clip-path=\"url(#clip052)\" style=\"stroke:#000000; stroke-linecap:butt; stroke-linejoin:round; stroke-width:2; stroke-opacity:0.1; fill:none\" points=\"\n",
       "  2082.66,1486.45 2082.66,47.2441 \n",
       "  \"/>\n",
       "<polyline clip-path=\"url(#clip052)\" style=\"stroke:#000000; stroke-linecap:butt; stroke-linejoin:round; stroke-width:2; stroke-opacity:0.1; fill:none\" points=\"\n",
       "  2110.47,1486.45 2110.47,47.2441 \n",
       "  \"/>\n",
       "<polyline clip-path=\"url(#clip052)\" style=\"stroke:#000000; stroke-linecap:butt; stroke-linejoin:round; stroke-width:2; stroke-opacity:0.1; fill:none\" points=\"\n",
       "  2138.27,1486.45 2138.27,47.2441 \n",
       "  \"/>\n",
       "<polyline clip-path=\"url(#clip052)\" style=\"stroke:#000000; stroke-linecap:butt; stroke-linejoin:round; stroke-width:2; stroke-opacity:0.1; fill:none\" points=\"\n",
       "  2166.08,1486.45 2166.08,47.2441 \n",
       "  \"/>\n",
       "<polyline clip-path=\"url(#clip052)\" style=\"stroke:#000000; stroke-linecap:butt; stroke-linejoin:round; stroke-width:2; stroke-opacity:0.1; fill:none\" points=\"\n",
       "  2193.88,1486.45 2193.88,47.2441 \n",
       "  \"/>\n",
       "<polyline clip-path=\"url(#clip052)\" style=\"stroke:#000000; stroke-linecap:butt; stroke-linejoin:round; stroke-width:2; stroke-opacity:0.1; fill:none\" points=\"\n",
       "  2221.69,1486.45 2221.69,47.2441 \n",
       "  \"/>\n",
       "<polyline clip-path=\"url(#clip050)\" style=\"stroke:#000000; stroke-linecap:butt; stroke-linejoin:round; stroke-width:4; stroke-opacity:1; fill:none\" points=\"\n",
       "  172.015,1486.45 2352.76,1486.45 \n",
       "  \"/>\n",
       "<polyline clip-path=\"url(#clip050)\" style=\"stroke:#000000; stroke-linecap:butt; stroke-linejoin:round; stroke-width:4; stroke-opacity:1; fill:none\" points=\"\n",
       "  303.082,1486.45 303.082,1467.55 \n",
       "  \"/>\n",
       "<polyline clip-path=\"url(#clip050)\" style=\"stroke:#000000; stroke-linecap:butt; stroke-linejoin:round; stroke-width:4; stroke-opacity:1; fill:none\" points=\"\n",
       "  330.888,1486.45 330.888,1467.55 \n",
       "  \"/>\n",
       "<polyline clip-path=\"url(#clip050)\" style=\"stroke:#000000; stroke-linecap:butt; stroke-linejoin:round; stroke-width:4; stroke-opacity:1; fill:none\" points=\"\n",
       "  358.694,1486.45 358.694,1467.55 \n",
       "  \"/>\n",
       "<polyline clip-path=\"url(#clip050)\" style=\"stroke:#000000; stroke-linecap:butt; stroke-linejoin:round; stroke-width:4; stroke-opacity:1; fill:none\" points=\"\n",
       "  386.5,1486.45 386.5,1467.55 \n",
       "  \"/>\n",
       "<polyline clip-path=\"url(#clip050)\" style=\"stroke:#000000; stroke-linecap:butt; stroke-linejoin:round; stroke-width:4; stroke-opacity:1; fill:none\" points=\"\n",
       "  414.305,1486.45 414.305,1467.55 \n",
       "  \"/>\n",
       "<polyline clip-path=\"url(#clip050)\" style=\"stroke:#000000; stroke-linecap:butt; stroke-linejoin:round; stroke-width:4; stroke-opacity:1; fill:none\" points=\"\n",
       "  442.111,1486.45 442.111,1467.55 \n",
       "  \"/>\n",
       "<polyline clip-path=\"url(#clip050)\" style=\"stroke:#000000; stroke-linecap:butt; stroke-linejoin:round; stroke-width:4; stroke-opacity:1; fill:none\" points=\"\n",
       "  469.917,1486.45 469.917,1467.55 \n",
       "  \"/>\n",
       "<polyline clip-path=\"url(#clip050)\" style=\"stroke:#000000; stroke-linecap:butt; stroke-linejoin:round; stroke-width:4; stroke-opacity:1; fill:none\" points=\"\n",
       "  497.723,1486.45 497.723,1467.55 \n",
       "  \"/>\n",
       "<polyline clip-path=\"url(#clip050)\" style=\"stroke:#000000; stroke-linecap:butt; stroke-linejoin:round; stroke-width:4; stroke-opacity:1; fill:none\" points=\"\n",
       "  525.529,1486.45 525.529,1467.55 \n",
       "  \"/>\n",
       "<polyline clip-path=\"url(#clip050)\" style=\"stroke:#000000; stroke-linecap:butt; stroke-linejoin:round; stroke-width:4; stroke-opacity:1; fill:none\" points=\"\n",
       "  553.335,1486.45 553.335,1467.55 \n",
       "  \"/>\n",
       "<polyline clip-path=\"url(#clip050)\" style=\"stroke:#000000; stroke-linecap:butt; stroke-linejoin:round; stroke-width:4; stroke-opacity:1; fill:none\" points=\"\n",
       "  581.141,1486.45 581.141,1467.55 \n",
       "  \"/>\n",
       "<polyline clip-path=\"url(#clip050)\" style=\"stroke:#000000; stroke-linecap:butt; stroke-linejoin:round; stroke-width:4; stroke-opacity:1; fill:none\" points=\"\n",
       "  608.947,1486.45 608.947,1467.55 \n",
       "  \"/>\n",
       "<polyline clip-path=\"url(#clip050)\" style=\"stroke:#000000; stroke-linecap:butt; stroke-linejoin:round; stroke-width:4; stroke-opacity:1; fill:none\" points=\"\n",
       "  636.753,1486.45 636.753,1467.55 \n",
       "  \"/>\n",
       "<polyline clip-path=\"url(#clip050)\" style=\"stroke:#000000; stroke-linecap:butt; stroke-linejoin:round; stroke-width:4; stroke-opacity:1; fill:none\" points=\"\n",
       "  664.559,1486.45 664.559,1467.55 \n",
       "  \"/>\n",
       "<polyline clip-path=\"url(#clip050)\" style=\"stroke:#000000; stroke-linecap:butt; stroke-linejoin:round; stroke-width:4; stroke-opacity:1; fill:none\" points=\"\n",
       "  692.364,1486.45 692.364,1467.55 \n",
       "  \"/>\n",
       "<polyline clip-path=\"url(#clip050)\" style=\"stroke:#000000; stroke-linecap:butt; stroke-linejoin:round; stroke-width:4; stroke-opacity:1; fill:none\" points=\"\n",
       "  720.17,1486.45 720.17,1467.55 \n",
       "  \"/>\n",
       "<polyline clip-path=\"url(#clip050)\" style=\"stroke:#000000; stroke-linecap:butt; stroke-linejoin:round; stroke-width:4; stroke-opacity:1; fill:none\" points=\"\n",
       "  747.976,1486.45 747.976,1467.55 \n",
       "  \"/>\n",
       "<polyline clip-path=\"url(#clip050)\" style=\"stroke:#000000; stroke-linecap:butt; stroke-linejoin:round; stroke-width:4; stroke-opacity:1; fill:none\" points=\"\n",
       "  775.782,1486.45 775.782,1467.55 \n",
       "  \"/>\n",
       "<polyline clip-path=\"url(#clip050)\" style=\"stroke:#000000; stroke-linecap:butt; stroke-linejoin:round; stroke-width:4; stroke-opacity:1; fill:none\" points=\"\n",
       "  803.588,1486.45 803.588,1467.55 \n",
       "  \"/>\n",
       "<polyline clip-path=\"url(#clip050)\" style=\"stroke:#000000; stroke-linecap:butt; stroke-linejoin:round; stroke-width:4; stroke-opacity:1; fill:none\" points=\"\n",
       "  831.394,1486.45 831.394,1467.55 \n",
       "  \"/>\n",
       "<polyline clip-path=\"url(#clip050)\" style=\"stroke:#000000; stroke-linecap:butt; stroke-linejoin:round; stroke-width:4; stroke-opacity:1; fill:none\" points=\"\n",
       "  859.2,1486.45 859.2,1467.55 \n",
       "  \"/>\n",
       "<polyline clip-path=\"url(#clip050)\" style=\"stroke:#000000; stroke-linecap:butt; stroke-linejoin:round; stroke-width:4; stroke-opacity:1; fill:none\" points=\"\n",
       "  887.006,1486.45 887.006,1467.55 \n",
       "  \"/>\n",
       "<polyline clip-path=\"url(#clip050)\" style=\"stroke:#000000; stroke-linecap:butt; stroke-linejoin:round; stroke-width:4; stroke-opacity:1; fill:none\" points=\"\n",
       "  914.812,1486.45 914.812,1467.55 \n",
       "  \"/>\n",
       "<polyline clip-path=\"url(#clip050)\" style=\"stroke:#000000; stroke-linecap:butt; stroke-linejoin:round; stroke-width:4; stroke-opacity:1; fill:none\" points=\"\n",
       "  942.618,1486.45 942.618,1467.55 \n",
       "  \"/>\n",
       "<polyline clip-path=\"url(#clip050)\" style=\"stroke:#000000; stroke-linecap:butt; stroke-linejoin:round; stroke-width:4; stroke-opacity:1; fill:none\" points=\"\n",
       "  970.423,1486.45 970.423,1467.55 \n",
       "  \"/>\n",
       "<polyline clip-path=\"url(#clip050)\" style=\"stroke:#000000; stroke-linecap:butt; stroke-linejoin:round; stroke-width:4; stroke-opacity:1; fill:none\" points=\"\n",
       "  998.229,1486.45 998.229,1467.55 \n",
       "  \"/>\n",
       "<polyline clip-path=\"url(#clip050)\" style=\"stroke:#000000; stroke-linecap:butt; stroke-linejoin:round; stroke-width:4; stroke-opacity:1; fill:none\" points=\"\n",
       "  1026.04,1486.45 1026.04,1467.55 \n",
       "  \"/>\n",
       "<polyline clip-path=\"url(#clip050)\" style=\"stroke:#000000; stroke-linecap:butt; stroke-linejoin:round; stroke-width:4; stroke-opacity:1; fill:none\" points=\"\n",
       "  1053.84,1486.45 1053.84,1467.55 \n",
       "  \"/>\n",
       "<polyline clip-path=\"url(#clip050)\" style=\"stroke:#000000; stroke-linecap:butt; stroke-linejoin:round; stroke-width:4; stroke-opacity:1; fill:none\" points=\"\n",
       "  1081.65,1486.45 1081.65,1467.55 \n",
       "  \"/>\n",
       "<polyline clip-path=\"url(#clip050)\" style=\"stroke:#000000; stroke-linecap:butt; stroke-linejoin:round; stroke-width:4; stroke-opacity:1; fill:none\" points=\"\n",
       "  1109.45,1486.45 1109.45,1467.55 \n",
       "  \"/>\n",
       "<polyline clip-path=\"url(#clip050)\" style=\"stroke:#000000; stroke-linecap:butt; stroke-linejoin:round; stroke-width:4; stroke-opacity:1; fill:none\" points=\"\n",
       "  1137.26,1486.45 1137.26,1467.55 \n",
       "  \"/>\n",
       "<polyline clip-path=\"url(#clip050)\" style=\"stroke:#000000; stroke-linecap:butt; stroke-linejoin:round; stroke-width:4; stroke-opacity:1; fill:none\" points=\"\n",
       "  1165.06,1486.45 1165.06,1467.55 \n",
       "  \"/>\n",
       "<polyline clip-path=\"url(#clip050)\" style=\"stroke:#000000; stroke-linecap:butt; stroke-linejoin:round; stroke-width:4; stroke-opacity:1; fill:none\" points=\"\n",
       "  1192.87,1486.45 1192.87,1467.55 \n",
       "  \"/>\n",
       "<polyline clip-path=\"url(#clip050)\" style=\"stroke:#000000; stroke-linecap:butt; stroke-linejoin:round; stroke-width:4; stroke-opacity:1; fill:none\" points=\"\n",
       "  1220.68,1486.45 1220.68,1467.55 \n",
       "  \"/>\n",
       "<polyline clip-path=\"url(#clip050)\" style=\"stroke:#000000; stroke-linecap:butt; stroke-linejoin:round; stroke-width:4; stroke-opacity:1; fill:none\" points=\"\n",
       "  1248.48,1486.45 1248.48,1467.55 \n",
       "  \"/>\n",
       "<polyline clip-path=\"url(#clip050)\" style=\"stroke:#000000; stroke-linecap:butt; stroke-linejoin:round; stroke-width:4; stroke-opacity:1; fill:none\" points=\"\n",
       "  1276.29,1486.45 1276.29,1467.55 \n",
       "  \"/>\n",
       "<polyline clip-path=\"url(#clip050)\" style=\"stroke:#000000; stroke-linecap:butt; stroke-linejoin:round; stroke-width:4; stroke-opacity:1; fill:none\" points=\"\n",
       "  1304.09,1486.45 1304.09,1467.55 \n",
       "  \"/>\n",
       "<polyline clip-path=\"url(#clip050)\" style=\"stroke:#000000; stroke-linecap:butt; stroke-linejoin:round; stroke-width:4; stroke-opacity:1; fill:none\" points=\"\n",
       "  1331.9,1486.45 1331.9,1467.55 \n",
       "  \"/>\n",
       "<polyline clip-path=\"url(#clip050)\" style=\"stroke:#000000; stroke-linecap:butt; stroke-linejoin:round; stroke-width:4; stroke-opacity:1; fill:none\" points=\"\n",
       "  1359.71,1486.45 1359.71,1467.55 \n",
       "  \"/>\n",
       "<polyline clip-path=\"url(#clip050)\" style=\"stroke:#000000; stroke-linecap:butt; stroke-linejoin:round; stroke-width:4; stroke-opacity:1; fill:none\" points=\"\n",
       "  1387.51,1486.45 1387.51,1467.55 \n",
       "  \"/>\n",
       "<polyline clip-path=\"url(#clip050)\" style=\"stroke:#000000; stroke-linecap:butt; stroke-linejoin:round; stroke-width:4; stroke-opacity:1; fill:none\" points=\"\n",
       "  1415.32,1486.45 1415.32,1467.55 \n",
       "  \"/>\n",
       "<polyline clip-path=\"url(#clip050)\" style=\"stroke:#000000; stroke-linecap:butt; stroke-linejoin:round; stroke-width:4; stroke-opacity:1; fill:none\" points=\"\n",
       "  1443.12,1486.45 1443.12,1467.55 \n",
       "  \"/>\n",
       "<polyline clip-path=\"url(#clip050)\" style=\"stroke:#000000; stroke-linecap:butt; stroke-linejoin:round; stroke-width:4; stroke-opacity:1; fill:none\" points=\"\n",
       "  1470.93,1486.45 1470.93,1467.55 \n",
       "  \"/>\n",
       "<polyline clip-path=\"url(#clip050)\" style=\"stroke:#000000; stroke-linecap:butt; stroke-linejoin:round; stroke-width:4; stroke-opacity:1; fill:none\" points=\"\n",
       "  1498.74,1486.45 1498.74,1467.55 \n",
       "  \"/>\n",
       "<polyline clip-path=\"url(#clip050)\" style=\"stroke:#000000; stroke-linecap:butt; stroke-linejoin:round; stroke-width:4; stroke-opacity:1; fill:none\" points=\"\n",
       "  1526.54,1486.45 1526.54,1467.55 \n",
       "  \"/>\n",
       "<polyline clip-path=\"url(#clip050)\" style=\"stroke:#000000; stroke-linecap:butt; stroke-linejoin:round; stroke-width:4; stroke-opacity:1; fill:none\" points=\"\n",
       "  1554.35,1486.45 1554.35,1467.55 \n",
       "  \"/>\n",
       "<polyline clip-path=\"url(#clip050)\" style=\"stroke:#000000; stroke-linecap:butt; stroke-linejoin:round; stroke-width:4; stroke-opacity:1; fill:none\" points=\"\n",
       "  1582.15,1486.45 1582.15,1467.55 \n",
       "  \"/>\n",
       "<polyline clip-path=\"url(#clip050)\" style=\"stroke:#000000; stroke-linecap:butt; stroke-linejoin:round; stroke-width:4; stroke-opacity:1; fill:none\" points=\"\n",
       "  1609.96,1486.45 1609.96,1467.55 \n",
       "  \"/>\n",
       "<polyline clip-path=\"url(#clip050)\" style=\"stroke:#000000; stroke-linecap:butt; stroke-linejoin:round; stroke-width:4; stroke-opacity:1; fill:none\" points=\"\n",
       "  1637.77,1486.45 1637.77,1467.55 \n",
       "  \"/>\n",
       "<polyline clip-path=\"url(#clip050)\" style=\"stroke:#000000; stroke-linecap:butt; stroke-linejoin:round; stroke-width:4; stroke-opacity:1; fill:none\" points=\"\n",
       "  1665.57,1486.45 1665.57,1467.55 \n",
       "  \"/>\n",
       "<polyline clip-path=\"url(#clip050)\" style=\"stroke:#000000; stroke-linecap:butt; stroke-linejoin:round; stroke-width:4; stroke-opacity:1; fill:none\" points=\"\n",
       "  1693.38,1486.45 1693.38,1467.55 \n",
       "  \"/>\n",
       "<polyline clip-path=\"url(#clip050)\" style=\"stroke:#000000; stroke-linecap:butt; stroke-linejoin:round; stroke-width:4; stroke-opacity:1; fill:none\" points=\"\n",
       "  1721.18,1486.45 1721.18,1467.55 \n",
       "  \"/>\n",
       "<polyline clip-path=\"url(#clip050)\" style=\"stroke:#000000; stroke-linecap:butt; stroke-linejoin:round; stroke-width:4; stroke-opacity:1; fill:none\" points=\"\n",
       "  1748.99,1486.45 1748.99,1467.55 \n",
       "  \"/>\n",
       "<polyline clip-path=\"url(#clip050)\" style=\"stroke:#000000; stroke-linecap:butt; stroke-linejoin:round; stroke-width:4; stroke-opacity:1; fill:none\" points=\"\n",
       "  1776.79,1486.45 1776.79,1467.55 \n",
       "  \"/>\n",
       "<polyline clip-path=\"url(#clip050)\" style=\"stroke:#000000; stroke-linecap:butt; stroke-linejoin:round; stroke-width:4; stroke-opacity:1; fill:none\" points=\"\n",
       "  1804.6,1486.45 1804.6,1467.55 \n",
       "  \"/>\n",
       "<polyline clip-path=\"url(#clip050)\" style=\"stroke:#000000; stroke-linecap:butt; stroke-linejoin:round; stroke-width:4; stroke-opacity:1; fill:none\" points=\"\n",
       "  1832.41,1486.45 1832.41,1467.55 \n",
       "  \"/>\n",
       "<polyline clip-path=\"url(#clip050)\" style=\"stroke:#000000; stroke-linecap:butt; stroke-linejoin:round; stroke-width:4; stroke-opacity:1; fill:none\" points=\"\n",
       "  1860.21,1486.45 1860.21,1467.55 \n",
       "  \"/>\n",
       "<polyline clip-path=\"url(#clip050)\" style=\"stroke:#000000; stroke-linecap:butt; stroke-linejoin:round; stroke-width:4; stroke-opacity:1; fill:none\" points=\"\n",
       "  1888.02,1486.45 1888.02,1467.55 \n",
       "  \"/>\n",
       "<polyline clip-path=\"url(#clip050)\" style=\"stroke:#000000; stroke-linecap:butt; stroke-linejoin:round; stroke-width:4; stroke-opacity:1; fill:none\" points=\"\n",
       "  1915.82,1486.45 1915.82,1467.55 \n",
       "  \"/>\n",
       "<polyline clip-path=\"url(#clip050)\" style=\"stroke:#000000; stroke-linecap:butt; stroke-linejoin:round; stroke-width:4; stroke-opacity:1; fill:none\" points=\"\n",
       "  1943.63,1486.45 1943.63,1467.55 \n",
       "  \"/>\n",
       "<polyline clip-path=\"url(#clip050)\" style=\"stroke:#000000; stroke-linecap:butt; stroke-linejoin:round; stroke-width:4; stroke-opacity:1; fill:none\" points=\"\n",
       "  1971.44,1486.45 1971.44,1467.55 \n",
       "  \"/>\n",
       "<polyline clip-path=\"url(#clip050)\" style=\"stroke:#000000; stroke-linecap:butt; stroke-linejoin:round; stroke-width:4; stroke-opacity:1; fill:none\" points=\"\n",
       "  1999.24,1486.45 1999.24,1467.55 \n",
       "  \"/>\n",
       "<polyline clip-path=\"url(#clip050)\" style=\"stroke:#000000; stroke-linecap:butt; stroke-linejoin:round; stroke-width:4; stroke-opacity:1; fill:none\" points=\"\n",
       "  2027.05,1486.45 2027.05,1467.55 \n",
       "  \"/>\n",
       "<polyline clip-path=\"url(#clip050)\" style=\"stroke:#000000; stroke-linecap:butt; stroke-linejoin:round; stroke-width:4; stroke-opacity:1; fill:none\" points=\"\n",
       "  2054.85,1486.45 2054.85,1467.55 \n",
       "  \"/>\n",
       "<polyline clip-path=\"url(#clip050)\" style=\"stroke:#000000; stroke-linecap:butt; stroke-linejoin:round; stroke-width:4; stroke-opacity:1; fill:none\" points=\"\n",
       "  2082.66,1486.45 2082.66,1467.55 \n",
       "  \"/>\n",
       "<polyline clip-path=\"url(#clip050)\" style=\"stroke:#000000; stroke-linecap:butt; stroke-linejoin:round; stroke-width:4; stroke-opacity:1; fill:none\" points=\"\n",
       "  2110.47,1486.45 2110.47,1467.55 \n",
       "  \"/>\n",
       "<polyline clip-path=\"url(#clip050)\" style=\"stroke:#000000; stroke-linecap:butt; stroke-linejoin:round; stroke-width:4; stroke-opacity:1; fill:none\" points=\"\n",
       "  2138.27,1486.45 2138.27,1467.55 \n",
       "  \"/>\n",
       "<polyline clip-path=\"url(#clip050)\" style=\"stroke:#000000; stroke-linecap:butt; stroke-linejoin:round; stroke-width:4; stroke-opacity:1; fill:none\" points=\"\n",
       "  2166.08,1486.45 2166.08,1467.55 \n",
       "  \"/>\n",
       "<polyline clip-path=\"url(#clip050)\" style=\"stroke:#000000; stroke-linecap:butt; stroke-linejoin:round; stroke-width:4; stroke-opacity:1; fill:none\" points=\"\n",
       "  2193.88,1486.45 2193.88,1467.55 \n",
       "  \"/>\n",
       "<polyline clip-path=\"url(#clip050)\" style=\"stroke:#000000; stroke-linecap:butt; stroke-linejoin:round; stroke-width:4; stroke-opacity:1; fill:none\" points=\"\n",
       "  2221.69,1486.45 2221.69,1467.55 \n",
       "  \"/>\n",
       "<path clip-path=\"url(#clip050)\" d=\"M152.978 1512.83 L162.793 1512.83 L162.793 1516.14 L157.238 1516.14 L157.238 1551.79 L162.793 1551.79 L162.793 1555.1 L152.978 1555.1 L152.978 1512.83 Z\" fill=\"#000000\" fill-rule=\"evenodd\" fill-opacity=\"1\" /><path clip-path=\"url(#clip050)\" d=\"M185.316 1518.36 L173.511 1536.81 L185.316 1536.81 L185.316 1518.36 M184.089 1514.29 L189.969 1514.29 L189.969 1536.81 L194.9 1536.81 L194.9 1540.7 L189.969 1540.7 L189.969 1548.85 L185.316 1548.85 L185.316 1540.7 L169.714 1540.7 L169.714 1536.19 L184.089 1514.29 Z\" fill=\"#000000\" fill-rule=\"evenodd\" fill-opacity=\"1\" /><path clip-path=\"url(#clip050)\" d=\"M203.117 1542.97 L208.001 1542.97 L208.001 1546.95 L204.205 1554.36 L201.219 1554.36 L203.117 1546.95 L203.117 1542.97 Z\" fill=\"#000000\" fill-rule=\"evenodd\" fill-opacity=\"1\" /><path clip-path=\"url(#clip050)\" d=\"M242.77 1517.37 Q239.159 1517.37 237.33 1520.93 Q235.524 1524.47 235.524 1531.6 Q235.524 1538.71 237.33 1542.27 Q239.159 1545.82 242.77 1545.82 Q246.404 1545.82 248.209 1542.27 Q250.038 1538.71 250.038 1531.6 Q250.038 1524.47 248.209 1520.93 Q246.404 1517.37 242.77 1517.37 M242.77 1513.66 Q248.58 1513.66 251.635 1518.27 Q254.714 1522.85 254.714 1531.6 Q254.714 1540.33 251.635 1544.94 Q248.58 1549.52 242.77 1549.52 Q236.959 1549.52 233.881 1544.94 Q230.825 1540.33 230.825 1531.6 Q230.825 1522.85 233.881 1518.27 Q236.959 1513.66 242.77 1513.66 Z\" fill=\"#000000\" fill-rule=\"evenodd\" fill-opacity=\"1\" /><path clip-path=\"url(#clip050)\" d=\"M263.418 1542.97 L268.302 1542.97 L268.302 1546.95 L264.506 1554.36 L261.52 1554.36 L263.418 1546.95 L263.418 1542.97 Z\" fill=\"#000000\" fill-rule=\"evenodd\" fill-opacity=\"1\" /><path clip-path=\"url(#clip050)\" d=\"M303.07 1517.37 Q299.459 1517.37 297.63 1520.93 Q295.825 1524.47 295.825 1531.6 Q295.825 1538.71 297.63 1542.27 Q299.459 1545.82 303.07 1545.82 Q306.704 1545.82 308.51 1542.27 Q310.339 1538.71 310.339 1531.6 Q310.339 1524.47 308.51 1520.93 Q306.704 1517.37 303.07 1517.37 M303.07 1513.66 Q308.88 1513.66 311.936 1518.27 Q315.015 1522.85 315.015 1531.6 Q315.015 1540.33 311.936 1544.94 Q308.88 1549.52 303.07 1549.52 Q297.26 1549.52 294.181 1544.94 Q291.126 1540.33 291.126 1531.6 Q291.126 1522.85 294.181 1518.27 Q297.26 1513.66 303.07 1513.66 Z\" fill=\"#000000\" fill-rule=\"evenodd\" fill-opacity=\"1\" /><path clip-path=\"url(#clip050)\" d=\"M323.718 1542.97 L328.603 1542.97 L328.603 1546.95 L324.806 1554.36 L321.82 1554.36 L323.718 1546.95 L323.718 1542.97 Z\" fill=\"#000000\" fill-rule=\"evenodd\" fill-opacity=\"1\" /><path clip-path=\"url(#clip050)\" d=\"M363.371 1517.37 Q359.76 1517.37 357.931 1520.93 Q356.126 1524.47 356.126 1531.6 Q356.126 1538.71 357.931 1542.27 Q359.76 1545.82 363.371 1545.82 Q367.005 1545.82 368.811 1542.27 Q370.639 1538.71 370.639 1531.6 Q370.639 1524.47 368.811 1520.93 Q367.005 1517.37 363.371 1517.37 M363.371 1513.66 Q369.181 1513.66 372.237 1518.27 Q375.315 1522.85 375.315 1531.6 Q375.315 1540.33 372.237 1544.94 Q369.181 1549.52 363.371 1549.52 Q357.561 1549.52 354.482 1544.94 Q351.426 1540.33 351.426 1531.6 Q351.426 1522.85 354.482 1518.27 Q357.561 1513.66 363.371 1513.66 Z\" fill=\"#000000\" fill-rule=\"evenodd\" fill-opacity=\"1\" /><path clip-path=\"url(#clip050)\" d=\"M384.019 1542.97 L388.903 1542.97 L388.903 1546.95 L385.107 1554.36 L382.121 1554.36 L384.019 1546.95 L384.019 1542.97 Z\" fill=\"#000000\" fill-rule=\"evenodd\" fill-opacity=\"1\" /><path clip-path=\"url(#clip050)\" d=\"M423.671 1517.37 Q420.06 1517.37 418.232 1520.93 Q416.426 1524.47 416.426 1531.6 Q416.426 1538.71 418.232 1542.27 Q420.06 1545.82 423.671 1545.82 Q427.306 1545.82 429.111 1542.27 Q430.94 1538.71 430.94 1531.6 Q430.94 1524.47 429.111 1520.93 Q427.306 1517.37 423.671 1517.37 M423.671 1513.66 Q429.482 1513.66 432.537 1518.27 Q435.616 1522.85 435.616 1531.6 Q435.616 1540.33 432.537 1544.94 Q429.482 1549.52 423.671 1549.52 Q417.861 1549.52 414.783 1544.94 Q411.727 1540.33 411.727 1531.6 Q411.727 1522.85 414.783 1518.27 Q417.861 1513.66 423.671 1513.66 Z\" fill=\"#000000\" fill-rule=\"evenodd\" fill-opacity=\"1\" /><path clip-path=\"url(#clip050)\" d=\"M453.185 1512.83 L453.185 1555.1 L443.37 1555.1 L443.37 1551.79 L448.903 1551.79 L448.903 1516.14 L443.37 1516.14 L443.37 1512.83 L453.185 1512.83 Z\" fill=\"#000000\" fill-rule=\"evenodd\" fill-opacity=\"1\" /><path clip-path=\"url(#clip050)\" d=\"M180.784 1512.83 L190.599 1512.83 L190.599 1516.14 L185.044 1516.14 L185.044 1551.79 L190.599 1551.79 L190.599 1555.1 L180.784 1555.1 L180.784 1512.83 Z\" fill=\"#000000\" fill-rule=\"evenodd\" fill-opacity=\"1\" /><path clip-path=\"url(#clip050)\" d=\"M214.442 1530.21 Q217.798 1530.93 219.673 1533.2 Q221.571 1535.47 221.571 1538.8 Q221.571 1543.92 218.053 1546.72 Q214.534 1549.52 208.053 1549.52 Q205.877 1549.52 203.562 1549.08 Q201.27 1548.66 198.817 1547.81 L198.817 1543.29 Q200.761 1544.43 203.076 1545.01 Q205.391 1545.58 207.914 1545.58 Q212.312 1545.58 214.604 1543.85 Q216.918 1542.11 216.918 1538.8 Q216.918 1535.75 214.766 1534.03 Q212.636 1532.3 208.817 1532.3 L204.789 1532.3 L204.789 1528.45 L209.002 1528.45 Q212.451 1528.45 214.28 1527.09 Q216.108 1525.7 216.108 1523.11 Q216.108 1520.45 214.21 1519.03 Q212.335 1517.6 208.817 1517.6 Q206.895 1517.6 204.696 1518.01 Q202.497 1518.43 199.858 1519.31 L199.858 1515.14 Q202.52 1514.4 204.835 1514.03 Q207.173 1513.66 209.233 1513.66 Q214.557 1513.66 217.659 1516.09 Q220.761 1518.5 220.761 1522.62 Q220.761 1525.49 219.117 1527.48 Q217.474 1529.45 214.442 1530.21 Z\" fill=\"#000000\" fill-rule=\"evenodd\" fill-opacity=\"1\" /><path clip-path=\"url(#clip050)\" d=\"M230.923 1542.97 L235.807 1542.97 L235.807 1546.95 L232.011 1554.36 L229.025 1554.36 L230.923 1546.95 L230.923 1542.97 Z\" fill=\"#000000\" fill-rule=\"evenodd\" fill-opacity=\"1\" /><path clip-path=\"url(#clip050)\" d=\"M261.386 1544.91 L269.025 1544.91 L269.025 1518.55 L260.714 1520.21 L260.714 1515.95 L268.978 1514.29 L273.654 1514.29 L273.654 1544.91 L281.293 1544.91 L281.293 1548.85 L261.386 1548.85 L261.386 1544.91 Z\" fill=\"#000000\" fill-rule=\"evenodd\" fill-opacity=\"1\" /><path clip-path=\"url(#clip050)\" d=\"M291.224 1542.97 L296.108 1542.97 L296.108 1546.95 L292.312 1554.36 L289.325 1554.36 L291.224 1546.95 L291.224 1542.97 Z\" fill=\"#000000\" fill-rule=\"evenodd\" fill-opacity=\"1\" /><path clip-path=\"url(#clip050)\" d=\"M330.876 1517.37 Q327.265 1517.37 325.436 1520.93 Q323.631 1524.47 323.631 1531.6 Q323.631 1538.71 325.436 1542.27 Q327.265 1545.82 330.876 1545.82 Q334.51 1545.82 336.316 1542.27 Q338.145 1538.71 338.145 1531.6 Q338.145 1524.47 336.316 1520.93 Q334.51 1517.37 330.876 1517.37 M330.876 1513.66 Q336.686 1513.66 339.742 1518.27 Q342.821 1522.85 342.821 1531.6 Q342.821 1540.33 339.742 1544.94 Q336.686 1549.52 330.876 1549.52 Q325.066 1549.52 321.987 1544.94 Q318.932 1540.33 318.932 1531.6 Q318.932 1522.85 321.987 1518.27 Q325.066 1513.66 330.876 1513.66 Z\" fill=\"#000000\" fill-rule=\"evenodd\" fill-opacity=\"1\" /><path clip-path=\"url(#clip050)\" d=\"M351.524 1542.97 L356.408 1542.97 L356.408 1546.95 L352.612 1554.36 L349.626 1554.36 L351.524 1546.95 L351.524 1542.97 Z\" fill=\"#000000\" fill-rule=\"evenodd\" fill-opacity=\"1\" /><path clip-path=\"url(#clip050)\" d=\"M391.177 1517.37 Q387.566 1517.37 385.737 1520.93 Q383.931 1524.47 383.931 1531.6 Q383.931 1538.71 385.737 1542.27 Q387.566 1545.82 391.177 1545.82 Q394.811 1545.82 396.617 1542.27 Q398.445 1538.71 398.445 1531.6 Q398.445 1524.47 396.617 1520.93 Q394.811 1517.37 391.177 1517.37 M391.177 1513.66 Q396.987 1513.66 400.042 1518.27 Q403.121 1522.85 403.121 1531.6 Q403.121 1540.33 400.042 1544.94 Q396.987 1549.52 391.177 1549.52 Q385.367 1549.52 382.288 1544.94 Q379.232 1540.33 379.232 1531.6 Q379.232 1522.85 382.288 1518.27 Q385.367 1513.66 391.177 1513.66 Z\" fill=\"#000000\" fill-rule=\"evenodd\" fill-opacity=\"1\" /><path clip-path=\"url(#clip050)\" d=\"M411.825 1542.97 L416.709 1542.97 L416.709 1546.95 L412.913 1554.36 L409.927 1554.36 L411.825 1546.95 L411.825 1542.97 Z\" fill=\"#000000\" fill-rule=\"evenodd\" fill-opacity=\"1\" /><path clip-path=\"url(#clip050)\" d=\"M451.477 1517.37 Q447.866 1517.37 446.038 1520.93 Q444.232 1524.47 444.232 1531.6 Q444.232 1538.71 446.038 1542.27 Q447.866 1545.82 451.477 1545.82 Q455.112 1545.82 456.917 1542.27 Q458.746 1538.71 458.746 1531.6 Q458.746 1524.47 456.917 1520.93 Q455.112 1517.37 451.477 1517.37 M451.477 1513.66 Q457.288 1513.66 460.343 1518.27 Q463.422 1522.85 463.422 1531.6 Q463.422 1540.33 460.343 1544.94 Q457.288 1549.52 451.477 1549.52 Q445.667 1549.52 442.589 1544.94 Q439.533 1540.33 439.533 1531.6 Q439.533 1522.85 442.589 1518.27 Q445.667 1513.66 451.477 1513.66 Z\" fill=\"#000000\" fill-rule=\"evenodd\" fill-opacity=\"1\" /><path clip-path=\"url(#clip050)\" d=\"M480.991 1512.83 L480.991 1555.1 L471.176 1555.1 L471.176 1551.79 L476.709 1551.79 L476.709 1516.14 L471.176 1516.14 L471.176 1512.83 L480.991 1512.83 Z\" fill=\"#000000\" fill-rule=\"evenodd\" fill-opacity=\"1\" /><path clip-path=\"url(#clip050)\" d=\"M208.59 1512.83 L218.405 1512.83 L218.405 1516.14 L212.849 1516.14 L212.849 1551.79 L218.405 1551.79 L218.405 1555.1 L208.59 1555.1 L208.59 1512.83 Z\" fill=\"#000000\" fill-rule=\"evenodd\" fill-opacity=\"1\" /><path clip-path=\"url(#clip050)\" d=\"M242.247 1530.21 Q245.604 1530.93 247.479 1533.2 Q249.377 1535.47 249.377 1538.8 Q249.377 1543.92 245.859 1546.72 Q242.34 1549.52 235.859 1549.52 Q233.683 1549.52 231.368 1549.08 Q229.076 1548.66 226.623 1547.81 L226.623 1543.29 Q228.567 1544.43 230.882 1545.01 Q233.197 1545.58 235.72 1545.58 Q240.118 1545.58 242.41 1543.85 Q244.724 1542.11 244.724 1538.8 Q244.724 1535.75 242.572 1534.03 Q240.442 1532.3 236.623 1532.3 L232.595 1532.3 L232.595 1528.45 L236.808 1528.45 Q240.257 1528.45 242.085 1527.09 Q243.914 1525.7 243.914 1523.11 Q243.914 1520.45 242.016 1519.03 Q240.141 1517.6 236.623 1517.6 Q234.701 1517.6 232.502 1518.01 Q230.303 1518.43 227.664 1519.31 L227.664 1515.14 Q230.326 1514.4 232.641 1514.03 Q234.979 1513.66 237.039 1513.66 Q242.363 1513.66 245.465 1516.09 Q248.567 1518.5 248.567 1522.62 Q248.567 1525.49 246.923 1527.48 Q245.28 1529.45 242.247 1530.21 Z\" fill=\"#000000\" fill-rule=\"evenodd\" fill-opacity=\"1\" /><path clip-path=\"url(#clip050)\" d=\"M258.729 1542.97 L263.613 1542.97 L263.613 1546.95 L259.817 1554.36 L256.831 1554.36 L258.729 1546.95 L258.729 1542.97 Z\" fill=\"#000000\" fill-rule=\"evenodd\" fill-opacity=\"1\" /><path clip-path=\"url(#clip050)\" d=\"M298.381 1517.37 Q294.77 1517.37 292.942 1520.93 Q291.136 1524.47 291.136 1531.6 Q291.136 1538.71 292.942 1542.27 Q294.77 1545.82 298.381 1545.82 Q302.016 1545.82 303.821 1542.27 Q305.65 1538.71 305.65 1531.6 Q305.65 1524.47 303.821 1520.93 Q302.016 1517.37 298.381 1517.37 M298.381 1513.66 Q304.192 1513.66 307.247 1518.27 Q310.326 1522.85 310.326 1531.6 Q310.326 1540.33 307.247 1544.94 Q304.192 1549.52 298.381 1549.52 Q292.571 1549.52 289.493 1544.94 Q286.437 1540.33 286.437 1531.6 Q286.437 1522.85 289.493 1518.27 Q292.571 1513.66 298.381 1513.66 Z\" fill=\"#000000\" fill-rule=\"evenodd\" fill-opacity=\"1\" /><path clip-path=\"url(#clip050)\" d=\"M319.029 1542.97 L323.914 1542.97 L323.914 1546.95 L320.117 1554.36 L317.131 1554.36 L319.029 1546.95 L319.029 1542.97 Z\" fill=\"#000000\" fill-rule=\"evenodd\" fill-opacity=\"1\" /><path clip-path=\"url(#clip050)\" d=\"M349.492 1544.91 L357.131 1544.91 L357.131 1518.55 L348.821 1520.21 L348.821 1515.95 L357.085 1514.29 L361.761 1514.29 L361.761 1544.91 L369.4 1544.91 L369.4 1548.85 L349.492 1548.85 L349.492 1544.91 Z\" fill=\"#000000\" fill-rule=\"evenodd\" fill-opacity=\"1\" /><path clip-path=\"url(#clip050)\" d=\"M379.33 1542.97 L384.214 1542.97 L384.214 1546.95 L380.418 1554.36 L377.432 1554.36 L379.33 1546.95 L379.33 1542.97 Z\" fill=\"#000000\" fill-rule=\"evenodd\" fill-opacity=\"1\" /><path clip-path=\"url(#clip050)\" d=\"M418.983 1517.37 Q415.372 1517.37 413.543 1520.93 Q411.737 1524.47 411.737 1531.6 Q411.737 1538.71 413.543 1542.27 Q415.372 1545.82 418.983 1545.82 Q422.617 1545.82 424.422 1542.27 Q426.251 1538.71 426.251 1531.6 Q426.251 1524.47 424.422 1520.93 Q422.617 1517.37 418.983 1517.37 M418.983 1513.66 Q424.793 1513.66 427.848 1518.27 Q430.927 1522.85 430.927 1531.6 Q430.927 1540.33 427.848 1544.94 Q424.793 1549.52 418.983 1549.52 Q413.172 1549.52 410.094 1544.94 Q407.038 1540.33 407.038 1531.6 Q407.038 1522.85 410.094 1518.27 Q413.172 1513.66 418.983 1513.66 Z\" fill=\"#000000\" fill-rule=\"evenodd\" fill-opacity=\"1\" /><path clip-path=\"url(#clip050)\" d=\"M439.631 1542.97 L444.515 1542.97 L444.515 1546.95 L440.719 1554.36 L437.733 1554.36 L439.631 1546.95 L439.631 1542.97 Z\" fill=\"#000000\" fill-rule=\"evenodd\" fill-opacity=\"1\" /><path clip-path=\"url(#clip050)\" d=\"M479.283 1517.37 Q475.672 1517.37 473.843 1520.93 Q472.038 1524.47 472.038 1531.6 Q472.038 1538.71 473.843 1542.27 Q475.672 1545.82 479.283 1545.82 Q482.917 1545.82 484.723 1542.27 Q486.552 1538.71 486.552 1531.6 Q486.552 1524.47 484.723 1520.93 Q482.917 1517.37 479.283 1517.37 M479.283 1513.66 Q485.093 1513.66 488.149 1518.27 Q491.228 1522.85 491.228 1531.6 Q491.228 1540.33 488.149 1544.94 Q485.093 1549.52 479.283 1549.52 Q473.473 1549.52 470.394 1544.94 Q467.339 1540.33 467.339 1531.6 Q467.339 1522.85 470.394 1518.27 Q473.473 1513.66 479.283 1513.66 Z\" fill=\"#000000\" fill-rule=\"evenodd\" fill-opacity=\"1\" /><path clip-path=\"url(#clip050)\" d=\"M508.797 1512.83 L508.797 1555.1 L498.982 1555.1 L498.982 1551.79 L504.515 1551.79 L504.515 1516.14 L498.982 1516.14 L498.982 1512.83 L508.797 1512.83 Z\" fill=\"#000000\" fill-rule=\"evenodd\" fill-opacity=\"1\" /><path clip-path=\"url(#clip050)\" d=\"M236.396 1512.83 L246.211 1512.83 L246.211 1516.14 L240.655 1516.14 L240.655 1551.79 L246.211 1551.79 L246.211 1555.1 L236.396 1555.1 L236.396 1512.83 Z\" fill=\"#000000\" fill-rule=\"evenodd\" fill-opacity=\"1\" /><path clip-path=\"url(#clip050)\" d=\"M270.053 1530.21 Q273.41 1530.93 275.285 1533.2 Q277.183 1535.47 277.183 1538.8 Q277.183 1543.92 273.664 1546.72 Q270.146 1549.52 263.665 1549.52 Q261.489 1549.52 259.174 1549.08 Q256.882 1548.66 254.428 1547.81 L254.428 1543.29 Q256.373 1544.43 258.688 1545.01 Q261.003 1545.58 263.526 1545.58 Q267.924 1545.58 270.215 1543.85 Q272.53 1542.11 272.53 1538.8 Q272.53 1535.75 270.377 1534.03 Q268.248 1532.3 264.428 1532.3 L260.401 1532.3 L260.401 1528.45 L264.614 1528.45 Q268.063 1528.45 269.891 1527.09 Q271.72 1525.7 271.72 1523.11 Q271.72 1520.45 269.822 1519.03 Q267.947 1517.6 264.428 1517.6 Q262.507 1517.6 260.308 1518.01 Q258.109 1518.43 255.47 1519.31 L255.47 1515.14 Q258.132 1514.4 260.447 1514.03 Q262.785 1513.66 264.845 1513.66 Q270.169 1513.66 273.271 1516.09 Q276.373 1518.5 276.373 1522.62 Q276.373 1525.49 274.729 1527.48 Q273.086 1529.45 270.053 1530.21 Z\" fill=\"#000000\" fill-rule=\"evenodd\" fill-opacity=\"1\" /><path clip-path=\"url(#clip050)\" d=\"M286.535 1542.97 L291.419 1542.97 L291.419 1546.95 L287.623 1554.36 L284.637 1554.36 L286.535 1546.95 L286.535 1542.97 Z\" fill=\"#000000\" fill-rule=\"evenodd\" fill-opacity=\"1\" /><path clip-path=\"url(#clip050)\" d=\"M326.187 1517.37 Q322.576 1517.37 320.748 1520.93 Q318.942 1524.47 318.942 1531.6 Q318.942 1538.71 320.748 1542.27 Q322.576 1545.82 326.187 1545.82 Q329.822 1545.82 331.627 1542.27 Q333.456 1538.71 333.456 1531.6 Q333.456 1524.47 331.627 1520.93 Q329.822 1517.37 326.187 1517.37 M326.187 1513.66 Q331.997 1513.66 335.053 1518.27 Q338.132 1522.85 338.132 1531.6 Q338.132 1540.33 335.053 1544.94 Q331.997 1549.52 326.187 1549.52 Q320.377 1549.52 317.299 1544.94 Q314.243 1540.33 314.243 1531.6 Q314.243 1522.85 317.299 1518.27 Q320.377 1513.66 326.187 1513.66 Z\" fill=\"#000000\" fill-rule=\"evenodd\" fill-opacity=\"1\" /><path clip-path=\"url(#clip050)\" d=\"M346.835 1542.97 L351.72 1542.97 L351.72 1546.95 L347.923 1554.36 L344.937 1554.36 L346.835 1546.95 L346.835 1542.97 Z\" fill=\"#000000\" fill-rule=\"evenodd\" fill-opacity=\"1\" /><path clip-path=\"url(#clip050)\" d=\"M386.488 1517.37 Q382.877 1517.37 381.048 1520.93 Q379.243 1524.47 379.243 1531.6 Q379.243 1538.71 381.048 1542.27 Q382.877 1545.82 386.488 1545.82 Q390.122 1545.82 391.928 1542.27 Q393.756 1538.71 393.756 1531.6 Q393.756 1524.47 391.928 1520.93 Q390.122 1517.37 386.488 1517.37 M386.488 1513.66 Q392.298 1513.66 395.354 1518.27 Q398.432 1522.85 398.432 1531.6 Q398.432 1540.33 395.354 1544.94 Q392.298 1549.52 386.488 1549.52 Q380.678 1549.52 377.599 1544.94 Q374.544 1540.33 374.544 1531.6 Q374.544 1522.85 377.599 1518.27 Q380.678 1513.66 386.488 1513.66 Z\" fill=\"#000000\" fill-rule=\"evenodd\" fill-opacity=\"1\" /><path clip-path=\"url(#clip050)\" d=\"M407.136 1542.97 L412.02 1542.97 L412.02 1546.95 L408.224 1554.36 L405.238 1554.36 L407.136 1546.95 L407.136 1542.97 Z\" fill=\"#000000\" fill-rule=\"evenodd\" fill-opacity=\"1\" /><path clip-path=\"url(#clip050)\" d=\"M437.599 1544.91 L445.238 1544.91 L445.238 1518.55 L436.927 1520.21 L436.927 1515.95 L445.191 1514.29 L449.867 1514.29 L449.867 1544.91 L457.506 1544.91 L457.506 1548.85 L437.599 1548.85 L437.599 1544.91 Z\" fill=\"#000000\" fill-rule=\"evenodd\" fill-opacity=\"1\" /><path clip-path=\"url(#clip050)\" d=\"M467.437 1542.97 L472.321 1542.97 L472.321 1546.95 L468.525 1554.36 L465.538 1554.36 L467.437 1546.95 L467.437 1542.97 Z\" fill=\"#000000\" fill-rule=\"evenodd\" fill-opacity=\"1\" /><path clip-path=\"url(#clip050)\" d=\"M507.089 1517.37 Q503.478 1517.37 501.649 1520.93 Q499.844 1524.47 499.844 1531.6 Q499.844 1538.71 501.649 1542.27 Q503.478 1545.82 507.089 1545.82 Q510.723 1545.82 512.529 1542.27 Q514.358 1538.71 514.358 1531.6 Q514.358 1524.47 512.529 1520.93 Q510.723 1517.37 507.089 1517.37 M507.089 1513.66 Q512.899 1513.66 515.955 1518.27 Q519.034 1522.85 519.034 1531.6 Q519.034 1540.33 515.955 1544.94 Q512.899 1549.52 507.089 1549.52 Q501.279 1549.52 498.2 1544.94 Q495.145 1540.33 495.145 1531.6 Q495.145 1522.85 498.2 1518.27 Q501.279 1513.66 507.089 1513.66 Z\" fill=\"#000000\" fill-rule=\"evenodd\" fill-opacity=\"1\" /><path clip-path=\"url(#clip050)\" d=\"M536.603 1512.83 L536.603 1555.1 L526.788 1555.1 L526.788 1551.79 L532.32 1551.79 L532.32 1516.14 L526.788 1516.14 L526.788 1512.83 L536.603 1512.83 Z\" fill=\"#000000\" fill-rule=\"evenodd\" fill-opacity=\"1\" /><path clip-path=\"url(#clip050)\" d=\"M264.202 1512.83 L274.017 1512.83 L274.017 1516.14 L268.461 1516.14 L268.461 1551.79 L274.017 1551.79 L274.017 1555.1 L264.202 1555.1 L264.202 1512.83 Z\" fill=\"#000000\" fill-rule=\"evenodd\" fill-opacity=\"1\" /><path clip-path=\"url(#clip050)\" d=\"M297.859 1530.21 Q301.216 1530.93 303.091 1533.2 Q304.989 1535.47 304.989 1538.8 Q304.989 1543.92 301.47 1546.72 Q297.952 1549.52 291.47 1549.52 Q289.295 1549.52 286.98 1549.08 Q284.688 1548.66 282.234 1547.81 L282.234 1543.29 Q284.179 1544.43 286.494 1545.01 Q288.808 1545.58 291.332 1545.58 Q295.73 1545.58 298.021 1543.85 Q300.336 1542.11 300.336 1538.8 Q300.336 1535.75 298.183 1534.03 Q296.054 1532.3 292.234 1532.3 L288.207 1532.3 L288.207 1528.45 L292.419 1528.45 Q295.869 1528.45 297.697 1527.09 Q299.526 1525.7 299.526 1523.11 Q299.526 1520.45 297.628 1519.03 Q295.753 1517.6 292.234 1517.6 Q290.313 1517.6 288.114 1518.01 Q285.915 1518.43 283.276 1519.31 L283.276 1515.14 Q285.938 1514.4 288.253 1514.03 Q290.591 1513.66 292.651 1513.66 Q297.975 1513.66 301.077 1516.09 Q304.179 1518.5 304.179 1522.62 Q304.179 1525.49 302.535 1527.48 Q300.892 1529.45 297.859 1530.21 Z\" fill=\"#000000\" fill-rule=\"evenodd\" fill-opacity=\"1\" /><path clip-path=\"url(#clip050)\" d=\"M314.341 1542.97 L319.225 1542.97 L319.225 1546.95 L315.429 1554.36 L312.443 1554.36 L314.341 1546.95 L314.341 1542.97 Z\" fill=\"#000000\" fill-rule=\"evenodd\" fill-opacity=\"1\" /><path clip-path=\"url(#clip050)\" d=\"M353.993 1517.37 Q350.382 1517.37 348.553 1520.93 Q346.748 1524.47 346.748 1531.6 Q346.748 1538.71 348.553 1542.27 Q350.382 1545.82 353.993 1545.82 Q357.627 1545.82 359.433 1542.27 Q361.262 1538.71 361.262 1531.6 Q361.262 1524.47 359.433 1520.93 Q357.627 1517.37 353.993 1517.37 M353.993 1513.66 Q359.803 1513.66 362.859 1518.27 Q365.938 1522.85 365.938 1531.6 Q365.938 1540.33 362.859 1544.94 Q359.803 1549.52 353.993 1549.52 Q348.183 1549.52 345.104 1544.94 Q342.049 1540.33 342.049 1531.6 Q342.049 1522.85 345.104 1518.27 Q348.183 1513.66 353.993 1513.66 Z\" fill=\"#000000\" fill-rule=\"evenodd\" fill-opacity=\"1\" /><path clip-path=\"url(#clip050)\" d=\"M374.641 1542.97 L379.526 1542.97 L379.526 1546.95 L375.729 1554.36 L372.743 1554.36 L374.641 1546.95 L374.641 1542.97 Z\" fill=\"#000000\" fill-rule=\"evenodd\" fill-opacity=\"1\" /><path clip-path=\"url(#clip050)\" d=\"M414.294 1517.37 Q410.683 1517.37 408.854 1520.93 Q407.049 1524.47 407.049 1531.6 Q407.049 1538.71 408.854 1542.27 Q410.683 1545.82 414.294 1545.82 Q417.928 1545.82 419.734 1542.27 Q421.562 1538.71 421.562 1531.6 Q421.562 1524.47 419.734 1520.93 Q417.928 1517.37 414.294 1517.37 M414.294 1513.66 Q420.104 1513.66 423.16 1518.27 Q426.238 1522.85 426.238 1531.6 Q426.238 1540.33 423.16 1544.94 Q420.104 1549.52 414.294 1549.52 Q408.484 1549.52 405.405 1544.94 Q402.349 1540.33 402.349 1531.6 Q402.349 1522.85 405.405 1518.27 Q408.484 1513.66 414.294 1513.66 Z\" fill=\"#000000\" fill-rule=\"evenodd\" fill-opacity=\"1\" /><path clip-path=\"url(#clip050)\" d=\"M434.942 1542.97 L439.826 1542.97 L439.826 1546.95 L436.03 1554.36 L433.044 1554.36 L434.942 1546.95 L434.942 1542.97 Z\" fill=\"#000000\" fill-rule=\"evenodd\" fill-opacity=\"1\" /><path clip-path=\"url(#clip050)\" d=\"M474.594 1517.37 Q470.983 1517.37 469.155 1520.93 Q467.349 1524.47 467.349 1531.6 Q467.349 1538.71 469.155 1542.27 Q470.983 1545.82 474.594 1545.82 Q478.229 1545.82 480.034 1542.27 Q481.863 1538.71 481.863 1531.6 Q481.863 1524.47 480.034 1520.93 Q478.229 1517.37 474.594 1517.37 M474.594 1513.66 Q480.405 1513.66 483.46 1518.27 Q486.539 1522.85 486.539 1531.6 Q486.539 1540.33 483.46 1544.94 Q480.405 1549.52 474.594 1549.52 Q468.784 1549.52 465.706 1544.94 Q462.65 1540.33 462.65 1531.6 Q462.65 1522.85 465.706 1518.27 Q468.784 1513.66 474.594 1513.66 Z\" fill=\"#000000\" fill-rule=\"evenodd\" fill-opacity=\"1\" /><path clip-path=\"url(#clip050)\" d=\"M495.242 1542.97 L500.127 1542.97 L500.127 1546.95 L496.33 1554.36 L493.344 1554.36 L495.242 1546.95 L495.242 1542.97 Z\" fill=\"#000000\" fill-rule=\"evenodd\" fill-opacity=\"1\" /><path clip-path=\"url(#clip050)\" d=\"M525.705 1544.91 L533.344 1544.91 L533.344 1518.55 L525.034 1520.21 L525.034 1515.95 L533.298 1514.29 L537.974 1514.29 L537.974 1544.91 L545.613 1544.91 L545.613 1548.85 L525.705 1548.85 L525.705 1544.91 Z\" fill=\"#000000\" fill-rule=\"evenodd\" fill-opacity=\"1\" /><path clip-path=\"url(#clip050)\" d=\"M564.409 1512.83 L564.409 1555.1 L554.594 1555.1 L554.594 1551.79 L560.126 1551.79 L560.126 1516.14 L554.594 1516.14 L554.594 1512.83 L564.409 1512.83 Z\" fill=\"#000000\" fill-rule=\"evenodd\" fill-opacity=\"1\" /><path clip-path=\"url(#clip050)\" d=\"M292.008 1512.83 L301.823 1512.83 L301.823 1516.14 L296.267 1516.14 L296.267 1551.79 L301.823 1551.79 L301.823 1555.1 L292.008 1555.1 L292.008 1512.83 Z\" fill=\"#000000\" fill-rule=\"evenodd\" fill-opacity=\"1\" /><path clip-path=\"url(#clip050)\" d=\"M315.526 1544.91 L331.846 1544.91 L331.846 1548.85 L309.901 1548.85 L309.901 1544.91 Q312.563 1542.16 317.147 1537.53 Q321.753 1532.88 322.934 1531.53 Q325.179 1529.01 326.059 1527.27 Q326.961 1525.51 326.961 1523.82 Q326.961 1521.07 325.017 1519.33 Q323.096 1517.6 319.994 1517.6 Q317.795 1517.6 315.341 1518.36 Q312.911 1519.13 310.133 1520.68 L310.133 1515.95 Q312.957 1514.82 315.411 1514.24 Q317.864 1513.66 319.901 1513.66 Q325.272 1513.66 328.466 1516.35 Q331.661 1519.03 331.661 1523.52 Q331.661 1525.65 330.85 1527.57 Q330.063 1529.47 327.957 1532.07 Q327.378 1532.74 324.276 1535.95 Q321.174 1539.15 315.526 1544.91 Z\" fill=\"#000000\" fill-rule=\"evenodd\" fill-opacity=\"1\" /><path clip-path=\"url(#clip050)\" d=\"M342.147 1542.97 L347.031 1542.97 L347.031 1546.95 L343.235 1554.36 L340.248 1554.36 L342.147 1546.95 L342.147 1542.97 Z\" fill=\"#000000\" fill-rule=\"evenodd\" fill-opacity=\"1\" /><path clip-path=\"url(#clip050)\" d=\"M375.827 1544.91 L392.146 1544.91 L392.146 1548.85 L370.202 1548.85 L370.202 1544.91 Q372.864 1542.16 377.447 1537.53 Q382.054 1532.88 383.234 1531.53 Q385.48 1529.01 386.359 1527.27 Q387.262 1525.51 387.262 1523.82 Q387.262 1521.07 385.318 1519.33 Q383.396 1517.6 380.295 1517.6 Q378.095 1517.6 375.642 1518.36 Q373.211 1519.13 370.433 1520.68 L370.433 1515.95 Q373.258 1514.82 375.711 1514.24 Q378.165 1513.66 380.202 1513.66 Q385.572 1513.66 388.767 1516.35 Q391.961 1519.03 391.961 1523.52 Q391.961 1525.65 391.151 1527.57 Q390.364 1529.47 388.257 1532.07 Q387.679 1532.74 384.577 1535.95 Q381.475 1539.15 375.827 1544.91 Z\" fill=\"#000000\" fill-rule=\"evenodd\" fill-opacity=\"1\" /><path clip-path=\"url(#clip050)\" d=\"M402.447 1542.97 L407.331 1542.97 L407.331 1546.95 L403.535 1554.36 L400.549 1554.36 L402.447 1546.95 L402.447 1542.97 Z\" fill=\"#000000\" fill-rule=\"evenodd\" fill-opacity=\"1\" /><path clip-path=\"url(#clip050)\" d=\"M442.1 1517.37 Q438.489 1517.37 436.66 1520.93 Q434.854 1524.47 434.854 1531.6 Q434.854 1538.71 436.66 1542.27 Q438.489 1545.82 442.1 1545.82 Q445.734 1545.82 447.54 1542.27 Q449.368 1538.71 449.368 1531.6 Q449.368 1524.47 447.54 1520.93 Q445.734 1517.37 442.1 1517.37 M442.1 1513.66 Q447.91 1513.66 450.965 1518.27 Q454.044 1522.85 454.044 1531.6 Q454.044 1540.33 450.965 1544.94 Q447.91 1549.52 442.1 1549.52 Q436.29 1549.52 433.211 1544.94 Q430.155 1540.33 430.155 1531.6 Q430.155 1522.85 433.211 1518.27 Q436.29 1513.66 442.1 1513.66 Z\" fill=\"#000000\" fill-rule=\"evenodd\" fill-opacity=\"1\" /><path clip-path=\"url(#clip050)\" d=\"M462.748 1542.97 L467.632 1542.97 L467.632 1546.95 L463.836 1554.36 L460.85 1554.36 L462.748 1546.95 L462.748 1542.97 Z\" fill=\"#000000\" fill-rule=\"evenodd\" fill-opacity=\"1\" /><path clip-path=\"url(#clip050)\" d=\"M502.4 1517.37 Q498.789 1517.37 496.961 1520.93 Q495.155 1524.47 495.155 1531.6 Q495.155 1538.71 496.961 1542.27 Q498.789 1545.82 502.4 1545.82 Q506.035 1545.82 507.84 1542.27 Q509.669 1538.71 509.669 1531.6 Q509.669 1524.47 507.84 1520.93 Q506.035 1517.37 502.4 1517.37 M502.4 1513.66 Q508.211 1513.66 511.266 1518.27 Q514.345 1522.85 514.345 1531.6 Q514.345 1540.33 511.266 1544.94 Q508.211 1549.52 502.4 1549.52 Q496.59 1549.52 493.512 1544.94 Q490.456 1540.33 490.456 1531.6 Q490.456 1522.85 493.512 1518.27 Q496.59 1513.66 502.4 1513.66 Z\" fill=\"#000000\" fill-rule=\"evenodd\" fill-opacity=\"1\" /><path clip-path=\"url(#clip050)\" d=\"M523.048 1542.97 L527.933 1542.97 L527.933 1546.95 L524.136 1554.36 L521.15 1554.36 L523.048 1546.95 L523.048 1542.97 Z\" fill=\"#000000\" fill-rule=\"evenodd\" fill-opacity=\"1\" /><path clip-path=\"url(#clip050)\" d=\"M562.701 1517.37 Q559.09 1517.37 557.261 1520.93 Q555.456 1524.47 555.456 1531.6 Q555.456 1538.71 557.261 1542.27 Q559.09 1545.82 562.701 1545.82 Q566.335 1545.82 568.141 1542.27 Q569.969 1538.71 569.969 1531.6 Q569.969 1524.47 568.141 1520.93 Q566.335 1517.37 562.701 1517.37 M562.701 1513.66 Q568.511 1513.66 571.567 1518.27 Q574.645 1522.85 574.645 1531.6 Q574.645 1540.33 571.567 1544.94 Q568.511 1549.52 562.701 1549.52 Q556.891 1549.52 553.812 1544.94 Q550.757 1540.33 550.757 1531.6 Q550.757 1522.85 553.812 1518.27 Q556.891 1513.66 562.701 1513.66 Z\" fill=\"#000000\" fill-rule=\"evenodd\" fill-opacity=\"1\" /><path clip-path=\"url(#clip050)\" d=\"M592.215 1512.83 L592.215 1555.1 L582.4 1555.1 L582.4 1551.79 L587.932 1551.79 L587.932 1516.14 L582.4 1516.14 L582.4 1512.83 L592.215 1512.83 Z\" fill=\"#000000\" fill-rule=\"evenodd\" fill-opacity=\"1\" /><path clip-path=\"url(#clip050)\" d=\"M319.814 1512.83 L329.629 1512.83 L329.629 1516.14 L324.073 1516.14 L324.073 1551.79 L329.629 1551.79 L329.629 1555.1 L319.814 1555.1 L319.814 1512.83 Z\" fill=\"#000000\" fill-rule=\"evenodd\" fill-opacity=\"1\" /><path clip-path=\"url(#clip050)\" d=\"M343.332 1544.91 L359.652 1544.91 L359.652 1548.85 L337.707 1548.85 L337.707 1544.91 Q340.369 1542.16 344.953 1537.53 Q349.559 1532.88 350.74 1531.53 Q352.985 1529.01 353.865 1527.27 Q354.767 1525.51 354.767 1523.82 Q354.767 1521.07 352.823 1519.33 Q350.902 1517.6 347.8 1517.6 Q345.601 1517.6 343.147 1518.36 Q340.717 1519.13 337.939 1520.68 L337.939 1515.95 Q340.763 1514.82 343.217 1514.24 Q345.67 1513.66 347.707 1513.66 Q353.078 1513.66 356.272 1516.35 Q359.466 1519.03 359.466 1523.52 Q359.466 1525.65 358.656 1527.57 Q357.869 1529.47 355.763 1532.07 Q355.184 1532.74 352.082 1535.95 Q348.98 1539.15 343.332 1544.91 Z\" fill=\"#000000\" fill-rule=\"evenodd\" fill-opacity=\"1\" /><path clip-path=\"url(#clip050)\" d=\"M369.952 1542.97 L374.837 1542.97 L374.837 1546.95 L371.04 1554.36 L368.054 1554.36 L369.952 1546.95 L369.952 1542.97 Z\" fill=\"#000000\" fill-rule=\"evenodd\" fill-opacity=\"1\" /><path clip-path=\"url(#clip050)\" d=\"M400.415 1544.91 L408.054 1544.91 L408.054 1518.55 L399.744 1520.21 L399.744 1515.95 L408.008 1514.29 L412.684 1514.29 L412.684 1544.91 L420.323 1544.91 L420.323 1548.85 L400.415 1548.85 L400.415 1544.91 Z\" fill=\"#000000\" fill-rule=\"evenodd\" fill-opacity=\"1\" /><path clip-path=\"url(#clip050)\" d=\"M430.253 1542.97 L435.137 1542.97 L435.137 1546.95 L431.341 1554.36 L428.355 1554.36 L430.253 1546.95 L430.253 1542.97 Z\" fill=\"#000000\" fill-rule=\"evenodd\" fill-opacity=\"1\" /><path clip-path=\"url(#clip050)\" d=\"M460.716 1544.91 L468.355 1544.91 L468.355 1518.55 L460.045 1520.21 L460.045 1515.95 L468.308 1514.29 L472.984 1514.29 L472.984 1544.91 L480.623 1544.91 L480.623 1548.85 L460.716 1548.85 L460.716 1544.91 Z\" fill=\"#000000\" fill-rule=\"evenodd\" fill-opacity=\"1\" /><path clip-path=\"url(#clip050)\" d=\"M490.554 1542.97 L495.438 1542.97 L495.438 1546.95 L491.642 1554.36 L488.656 1554.36 L490.554 1546.95 L490.554 1542.97 Z\" fill=\"#000000\" fill-rule=\"evenodd\" fill-opacity=\"1\" /><path clip-path=\"url(#clip050)\" d=\"M530.206 1517.37 Q526.595 1517.37 524.766 1520.93 Q522.961 1524.47 522.961 1531.6 Q522.961 1538.71 524.766 1542.27 Q526.595 1545.82 530.206 1545.82 Q533.84 1545.82 535.646 1542.27 Q537.475 1538.71 537.475 1531.6 Q537.475 1524.47 535.646 1520.93 Q533.84 1517.37 530.206 1517.37 M530.206 1513.66 Q536.016 1513.66 539.072 1518.27 Q542.151 1522.85 542.151 1531.6 Q542.151 1540.33 539.072 1544.94 Q536.016 1549.52 530.206 1549.52 Q524.396 1549.52 521.317 1544.94 Q518.262 1540.33 518.262 1531.6 Q518.262 1522.85 521.317 1518.27 Q524.396 1513.66 530.206 1513.66 Z\" fill=\"#000000\" fill-rule=\"evenodd\" fill-opacity=\"1\" /><path clip-path=\"url(#clip050)\" d=\"M550.854 1542.97 L555.739 1542.97 L555.739 1546.95 L551.942 1554.36 L548.956 1554.36 L550.854 1546.95 L550.854 1542.97 Z\" fill=\"#000000\" fill-rule=\"evenodd\" fill-opacity=\"1\" /><path clip-path=\"url(#clip050)\" d=\"M590.507 1517.37 Q586.896 1517.37 585.067 1520.93 Q583.262 1524.47 583.262 1531.6 Q583.262 1538.71 585.067 1542.27 Q586.896 1545.82 590.507 1545.82 Q594.141 1545.82 595.947 1542.27 Q597.775 1538.71 597.775 1531.6 Q597.775 1524.47 595.947 1520.93 Q594.141 1517.37 590.507 1517.37 M590.507 1513.66 Q596.317 1513.66 599.373 1518.27 Q602.451 1522.85 602.451 1531.6 Q602.451 1540.33 599.373 1544.94 Q596.317 1549.52 590.507 1549.52 Q584.697 1549.52 581.618 1544.94 Q578.562 1540.33 578.562 1531.6 Q578.562 1522.85 581.618 1518.27 Q584.697 1513.66 590.507 1513.66 Z\" fill=\"#000000\" fill-rule=\"evenodd\" fill-opacity=\"1\" /><path clip-path=\"url(#clip050)\" d=\"M620.021 1512.83 L620.021 1555.1 L610.206 1555.1 L610.206 1551.79 L615.738 1551.79 L615.738 1516.14 L610.206 1516.14 L610.206 1512.83 L620.021 1512.83 Z\" fill=\"#000000\" fill-rule=\"evenodd\" fill-opacity=\"1\" /><path clip-path=\"url(#clip050)\" d=\"M347.62 1512.83 L357.435 1512.83 L357.435 1516.14 L351.879 1516.14 L351.879 1551.79 L357.435 1551.79 L357.435 1555.1 L347.62 1555.1 L347.62 1512.83 Z\" fill=\"#000000\" fill-rule=\"evenodd\" fill-opacity=\"1\" /><path clip-path=\"url(#clip050)\" d=\"M371.138 1544.91 L387.458 1544.91 L387.458 1548.85 L365.513 1548.85 L365.513 1544.91 Q368.175 1542.16 372.759 1537.53 Q377.365 1532.88 378.546 1531.53 Q380.791 1529.01 381.67 1527.27 Q382.573 1525.51 382.573 1523.82 Q382.573 1521.07 380.629 1519.33 Q378.708 1517.6 375.606 1517.6 Q373.407 1517.6 370.953 1518.36 Q368.522 1519.13 365.745 1520.68 L365.745 1515.95 Q368.569 1514.82 371.022 1514.24 Q373.476 1513.66 375.513 1513.66 Q380.883 1513.66 384.078 1516.35 Q387.272 1519.03 387.272 1523.52 Q387.272 1525.65 386.462 1527.57 Q385.675 1529.47 383.569 1532.07 Q382.99 1532.74 379.888 1535.95 Q376.786 1539.15 371.138 1544.91 Z\" fill=\"#000000\" fill-rule=\"evenodd\" fill-opacity=\"1\" /><path clip-path=\"url(#clip050)\" d=\"M397.758 1542.97 L402.643 1542.97 L402.643 1546.95 L398.846 1554.36 L395.86 1554.36 L397.758 1546.95 L397.758 1542.97 Z\" fill=\"#000000\" fill-rule=\"evenodd\" fill-opacity=\"1\" /><path clip-path=\"url(#clip050)\" d=\"M428.221 1544.91 L435.86 1544.91 L435.86 1518.55 L427.55 1520.21 L427.55 1515.95 L435.814 1514.29 L440.49 1514.29 L440.49 1544.91 L448.128 1544.91 L448.128 1548.85 L428.221 1548.85 L428.221 1544.91 Z\" fill=\"#000000\" fill-rule=\"evenodd\" fill-opacity=\"1\" /><path clip-path=\"url(#clip050)\" d=\"M458.059 1542.97 L462.943 1542.97 L462.943 1546.95 L459.147 1554.36 L456.161 1554.36 L458.059 1546.95 L458.059 1542.97 Z\" fill=\"#000000\" fill-rule=\"evenodd\" fill-opacity=\"1\" /><path clip-path=\"url(#clip050)\" d=\"M497.712 1517.37 Q494.1 1517.37 492.272 1520.93 Q490.466 1524.47 490.466 1531.6 Q490.466 1538.71 492.272 1542.27 Q494.1 1545.82 497.712 1545.82 Q501.346 1545.82 503.151 1542.27 Q504.98 1538.71 504.98 1531.6 Q504.98 1524.47 503.151 1520.93 Q501.346 1517.37 497.712 1517.37 M497.712 1513.66 Q503.522 1513.66 506.577 1518.27 Q509.656 1522.85 509.656 1531.6 Q509.656 1540.33 506.577 1544.94 Q503.522 1549.52 497.712 1549.52 Q491.901 1549.52 488.823 1544.94 Q485.767 1540.33 485.767 1531.6 Q485.767 1522.85 488.823 1518.27 Q491.901 1513.66 497.712 1513.66 Z\" fill=\"#000000\" fill-rule=\"evenodd\" fill-opacity=\"1\" /><path clip-path=\"url(#clip050)\" d=\"M518.36 1542.97 L523.244 1542.97 L523.244 1546.95 L519.448 1554.36 L516.461 1554.36 L518.36 1546.95 L518.36 1542.97 Z\" fill=\"#000000\" fill-rule=\"evenodd\" fill-opacity=\"1\" /><path clip-path=\"url(#clip050)\" d=\"M548.822 1544.91 L556.461 1544.91 L556.461 1518.55 L548.151 1520.21 L548.151 1515.95 L556.415 1514.29 L561.091 1514.29 L561.091 1544.91 L568.73 1544.91 L568.73 1548.85 L548.822 1548.85 L548.822 1544.91 Z\" fill=\"#000000\" fill-rule=\"evenodd\" fill-opacity=\"1\" /><path clip-path=\"url(#clip050)\" d=\"M578.66 1542.97 L583.544 1542.97 L583.544 1546.95 L579.748 1554.36 L576.762 1554.36 L578.66 1546.95 L578.66 1542.97 Z\" fill=\"#000000\" fill-rule=\"evenodd\" fill-opacity=\"1\" /><path clip-path=\"url(#clip050)\" d=\"M618.313 1517.37 Q614.702 1517.37 612.873 1520.93 Q611.067 1524.47 611.067 1531.6 Q611.067 1538.71 612.873 1542.27 Q614.702 1545.82 618.313 1545.82 Q621.947 1545.82 623.753 1542.27 Q625.581 1538.71 625.581 1531.6 Q625.581 1524.47 623.753 1520.93 Q621.947 1517.37 618.313 1517.37 M618.313 1513.66 Q624.123 1513.66 627.178 1518.27 Q630.257 1522.85 630.257 1531.6 Q630.257 1540.33 627.178 1544.94 Q624.123 1549.52 618.313 1549.52 Q612.503 1549.52 609.424 1544.94 Q606.368 1540.33 606.368 1531.6 Q606.368 1522.85 609.424 1518.27 Q612.503 1513.66 618.313 1513.66 Z\" fill=\"#000000\" fill-rule=\"evenodd\" fill-opacity=\"1\" /><path clip-path=\"url(#clip050)\" d=\"M647.826 1512.83 L647.826 1555.1 L638.012 1555.1 L638.012 1551.79 L643.544 1551.79 L643.544 1516.14 L638.012 1516.14 L638.012 1512.83 L647.826 1512.83 Z\" fill=\"#000000\" fill-rule=\"evenodd\" fill-opacity=\"1\" /><path clip-path=\"url(#clip050)\" d=\"M375.426 1512.83 L385.24 1512.83 L385.24 1516.14 L379.685 1516.14 L379.685 1551.79 L385.24 1551.79 L385.24 1555.1 L375.426 1555.1 L375.426 1512.83 Z\" fill=\"#000000\" fill-rule=\"evenodd\" fill-opacity=\"1\" /><path clip-path=\"url(#clip050)\" d=\"M398.944 1544.91 L415.263 1544.91 L415.263 1548.85 L393.319 1548.85 L393.319 1544.91 Q395.981 1542.16 400.564 1537.53 Q405.171 1532.88 406.351 1531.53 Q408.597 1529.01 409.476 1527.27 Q410.379 1525.51 410.379 1523.82 Q410.379 1521.07 408.435 1519.33 Q406.513 1517.6 403.412 1517.6 Q401.213 1517.6 398.759 1518.36 Q396.328 1519.13 393.551 1520.68 L393.551 1515.95 Q396.375 1514.82 398.828 1514.24 Q401.282 1513.66 403.319 1513.66 Q408.689 1513.66 411.884 1516.35 Q415.078 1519.03 415.078 1523.52 Q415.078 1525.65 414.268 1527.57 Q413.481 1529.47 411.375 1532.07 Q410.796 1532.74 407.694 1535.95 Q404.592 1539.15 398.944 1544.91 Z\" fill=\"#000000\" fill-rule=\"evenodd\" fill-opacity=\"1\" /><path clip-path=\"url(#clip050)\" d=\"M425.564 1542.97 L430.449 1542.97 L430.449 1546.95 L426.652 1554.36 L423.666 1554.36 L425.564 1546.95 L425.564 1542.97 Z\" fill=\"#000000\" fill-rule=\"evenodd\" fill-opacity=\"1\" /><path clip-path=\"url(#clip050)\" d=\"M456.027 1544.91 L463.666 1544.91 L463.666 1518.55 L455.356 1520.21 L455.356 1515.95 L463.62 1514.29 L468.296 1514.29 L468.296 1544.91 L475.934 1544.91 L475.934 1548.85 L456.027 1548.85 L456.027 1544.91 Z\" fill=\"#000000\" fill-rule=\"evenodd\" fill-opacity=\"1\" /><path clip-path=\"url(#clip050)\" d=\"M485.865 1542.97 L490.749 1542.97 L490.749 1546.95 L486.953 1554.36 L483.967 1554.36 L485.865 1546.95 L485.865 1542.97 Z\" fill=\"#000000\" fill-rule=\"evenodd\" fill-opacity=\"1\" /><path clip-path=\"url(#clip050)\" d=\"M525.517 1517.37 Q521.906 1517.37 520.078 1520.93 Q518.272 1524.47 518.272 1531.6 Q518.272 1538.71 520.078 1542.27 Q521.906 1545.82 525.517 1545.82 Q529.152 1545.82 530.957 1542.27 Q532.786 1538.71 532.786 1531.6 Q532.786 1524.47 530.957 1520.93 Q529.152 1517.37 525.517 1517.37 M525.517 1513.66 Q531.328 1513.66 534.383 1518.27 Q537.462 1522.85 537.462 1531.6 Q537.462 1540.33 534.383 1544.94 Q531.328 1549.52 525.517 1549.52 Q519.707 1549.52 516.629 1544.94 Q513.573 1540.33 513.573 1531.6 Q513.573 1522.85 516.629 1518.27 Q519.707 1513.66 525.517 1513.66 Z\" fill=\"#000000\" fill-rule=\"evenodd\" fill-opacity=\"1\" /><path clip-path=\"url(#clip050)\" d=\"M546.165 1542.97 L551.05 1542.97 L551.05 1546.95 L547.253 1554.36 L544.267 1554.36 L546.165 1546.95 L546.165 1542.97 Z\" fill=\"#000000\" fill-rule=\"evenodd\" fill-opacity=\"1\" /><path clip-path=\"url(#clip050)\" d=\"M585.818 1517.37 Q582.207 1517.37 580.378 1520.93 Q578.573 1524.47 578.573 1531.6 Q578.573 1538.71 580.378 1542.27 Q582.207 1545.82 585.818 1545.82 Q589.452 1545.82 591.258 1542.27 Q593.087 1538.71 593.087 1531.6 Q593.087 1524.47 591.258 1520.93 Q589.452 1517.37 585.818 1517.37 M585.818 1513.66 Q591.628 1513.66 594.684 1518.27 Q597.762 1522.85 597.762 1531.6 Q597.762 1540.33 594.684 1544.94 Q591.628 1549.52 585.818 1549.52 Q580.008 1549.52 576.929 1544.94 Q573.874 1540.33 573.874 1531.6 Q573.874 1522.85 576.929 1518.27 Q580.008 1513.66 585.818 1513.66 Z\" fill=\"#000000\" fill-rule=\"evenodd\" fill-opacity=\"1\" /><path clip-path=\"url(#clip050)\" d=\"M606.466 1542.97 L611.35 1542.97 L611.35 1546.95 L607.554 1554.36 L604.568 1554.36 L606.466 1546.95 L606.466 1542.97 Z\" fill=\"#000000\" fill-rule=\"evenodd\" fill-opacity=\"1\" /><path clip-path=\"url(#clip050)\" d=\"M636.929 1544.91 L644.568 1544.91 L644.568 1518.55 L636.258 1520.21 L636.258 1515.95 L644.521 1514.29 L649.197 1514.29 L649.197 1544.91 L656.836 1544.91 L656.836 1548.85 L636.929 1548.85 L636.929 1544.91 Z\" fill=\"#000000\" fill-rule=\"evenodd\" fill-opacity=\"1\" /><path clip-path=\"url(#clip050)\" d=\"M675.632 1512.83 L675.632 1555.1 L665.818 1555.1 L665.818 1551.79 L671.35 1551.79 L671.35 1516.14 L665.818 1516.14 L665.818 1512.83 L675.632 1512.83 Z\" fill=\"#000000\" fill-rule=\"evenodd\" fill-opacity=\"1\" /><path clip-path=\"url(#clip050)\" d=\"M403.232 1512.83 L413.046 1512.83 L413.046 1516.14 L407.491 1516.14 L407.491 1551.79 L413.046 1551.79 L413.046 1555.1 L403.232 1555.1 L403.232 1512.83 Z\" fill=\"#000000\" fill-rule=\"evenodd\" fill-opacity=\"1\" /><path clip-path=\"url(#clip050)\" d=\"M426.75 1544.91 L443.069 1544.91 L443.069 1548.85 L421.125 1548.85 L421.125 1544.91 Q423.787 1542.16 428.37 1537.53 Q432.977 1532.88 434.157 1531.53 Q436.403 1529.01 437.282 1527.27 Q438.185 1525.51 438.185 1523.82 Q438.185 1521.07 436.241 1519.33 Q434.319 1517.6 431.218 1517.6 Q429.018 1517.6 426.565 1518.36 Q424.134 1519.13 421.356 1520.68 L421.356 1515.95 Q424.181 1514.82 426.634 1514.24 Q429.088 1513.66 431.125 1513.66 Q436.495 1513.66 439.69 1516.35 Q442.884 1519.03 442.884 1523.52 Q442.884 1525.65 442.074 1527.57 Q441.287 1529.47 439.18 1532.07 Q438.602 1532.74 435.5 1535.95 Q432.398 1539.15 426.75 1544.91 Z\" fill=\"#000000\" fill-rule=\"evenodd\" fill-opacity=\"1\" /><path clip-path=\"url(#clip050)\" d=\"M453.37 1542.97 L458.254 1542.97 L458.254 1546.95 L454.458 1554.36 L451.472 1554.36 L453.37 1546.95 L453.37 1542.97 Z\" fill=\"#000000\" fill-rule=\"evenodd\" fill-opacity=\"1\" /><path clip-path=\"url(#clip050)\" d=\"M493.023 1517.37 Q489.412 1517.37 487.583 1520.93 Q485.777 1524.47 485.777 1531.6 Q485.777 1538.71 487.583 1542.27 Q489.412 1545.82 493.023 1545.82 Q496.657 1545.82 498.463 1542.27 Q500.291 1538.71 500.291 1531.6 Q500.291 1524.47 498.463 1520.93 Q496.657 1517.37 493.023 1517.37 M493.023 1513.66 Q498.833 1513.66 501.888 1518.27 Q504.967 1522.85 504.967 1531.6 Q504.967 1540.33 501.888 1544.94 Q498.833 1549.52 493.023 1549.52 Q487.213 1549.52 484.134 1544.94 Q481.078 1540.33 481.078 1531.6 Q481.078 1522.85 484.134 1518.27 Q487.213 1513.66 493.023 1513.66 Z\" fill=\"#000000\" fill-rule=\"evenodd\" fill-opacity=\"1\" /><path clip-path=\"url(#clip050)\" d=\"M513.671 1542.97 L518.555 1542.97 L518.555 1546.95 L514.759 1554.36 L511.773 1554.36 L513.671 1546.95 L513.671 1542.97 Z\" fill=\"#000000\" fill-rule=\"evenodd\" fill-opacity=\"1\" /><path clip-path=\"url(#clip050)\" d=\"M547.351 1544.91 L563.671 1544.91 L563.671 1548.85 L541.726 1548.85 L541.726 1544.91 Q544.388 1542.16 548.972 1537.53 Q553.578 1532.88 554.759 1531.53 Q557.004 1529.01 557.884 1527.27 Q558.786 1525.51 558.786 1523.82 Q558.786 1521.07 556.842 1519.33 Q554.921 1517.6 551.819 1517.6 Q549.62 1517.6 547.166 1518.36 Q544.735 1519.13 541.958 1520.68 L541.958 1515.95 Q544.782 1514.82 547.235 1514.24 Q549.689 1513.66 551.726 1513.66 Q557.096 1513.66 560.291 1516.35 Q563.485 1519.03 563.485 1523.52 Q563.485 1525.65 562.675 1527.57 Q561.888 1529.47 559.782 1532.07 Q559.203 1532.74 556.101 1535.95 Q552.999 1539.15 547.351 1544.91 Z\" fill=\"#000000\" fill-rule=\"evenodd\" fill-opacity=\"1\" /><path clip-path=\"url(#clip050)\" d=\"M573.971 1542.97 L578.856 1542.97 L578.856 1546.95 L575.059 1554.36 L572.073 1554.36 L573.971 1546.95 L573.971 1542.97 Z\" fill=\"#000000\" fill-rule=\"evenodd\" fill-opacity=\"1\" /><path clip-path=\"url(#clip050)\" d=\"M613.624 1517.37 Q610.013 1517.37 608.184 1520.93 Q606.379 1524.47 606.379 1531.6 Q606.379 1538.71 608.184 1542.27 Q610.013 1545.82 613.624 1545.82 Q617.258 1545.82 619.064 1542.27 Q620.892 1538.71 620.892 1531.6 Q620.892 1524.47 619.064 1520.93 Q617.258 1517.37 613.624 1517.37 M613.624 1513.66 Q619.434 1513.66 622.49 1518.27 Q625.568 1522.85 625.568 1531.6 Q625.568 1540.33 622.49 1544.94 Q619.434 1549.52 613.624 1549.52 Q607.814 1549.52 604.735 1544.94 Q601.68 1540.33 601.68 1531.6 Q601.68 1522.85 604.735 1518.27 Q607.814 1513.66 613.624 1513.66 Z\" fill=\"#000000\" fill-rule=\"evenodd\" fill-opacity=\"1\" /><path clip-path=\"url(#clip050)\" d=\"M634.272 1542.97 L639.156 1542.97 L639.156 1546.95 L635.36 1554.36 L632.374 1554.36 L634.272 1546.95 L634.272 1542.97 Z\" fill=\"#000000\" fill-rule=\"evenodd\" fill-opacity=\"1\" /><path clip-path=\"url(#clip050)\" d=\"M673.925 1517.37 Q670.313 1517.37 668.485 1520.93 Q666.679 1524.47 666.679 1531.6 Q666.679 1538.71 668.485 1542.27 Q670.313 1545.82 673.925 1545.82 Q677.559 1545.82 679.364 1542.27 Q681.193 1538.71 681.193 1531.6 Q681.193 1524.47 679.364 1520.93 Q677.559 1517.37 673.925 1517.37 M673.925 1513.66 Q679.735 1513.66 682.79 1518.27 Q685.869 1522.85 685.869 1531.6 Q685.869 1540.33 682.79 1544.94 Q679.735 1549.52 673.925 1549.52 Q668.114 1549.52 665.036 1544.94 Q661.98 1540.33 661.98 1531.6 Q661.98 1522.85 665.036 1518.27 Q668.114 1513.66 673.925 1513.66 Z\" fill=\"#000000\" fill-rule=\"evenodd\" fill-opacity=\"1\" /><path clip-path=\"url(#clip050)\" d=\"M703.438 1512.83 L703.438 1555.1 L693.624 1555.1 L693.624 1551.79 L699.156 1551.79 L699.156 1516.14 L693.624 1516.14 L693.624 1512.83 L703.438 1512.83 Z\" fill=\"#000000\" fill-rule=\"evenodd\" fill-opacity=\"1\" /><path clip-path=\"url(#clip050)\" d=\"M431.037 1512.83 L440.852 1512.83 L440.852 1516.14 L435.297 1516.14 L435.297 1551.79 L440.852 1551.79 L440.852 1555.1 L431.037 1555.1 L431.037 1512.83 Z\" fill=\"#000000\" fill-rule=\"evenodd\" fill-opacity=\"1\" /><path clip-path=\"url(#clip050)\" d=\"M454.556 1544.91 L470.875 1544.91 L470.875 1548.85 L448.931 1548.85 L448.931 1544.91 Q451.593 1542.16 456.176 1537.53 Q460.783 1532.88 461.963 1531.53 Q464.209 1529.01 465.088 1527.27 Q465.991 1525.51 465.991 1523.82 Q465.991 1521.07 464.047 1519.33 Q462.125 1517.6 459.023 1517.6 Q456.824 1517.6 454.371 1518.36 Q451.94 1519.13 449.162 1520.68 L449.162 1515.95 Q451.986 1514.82 454.44 1514.24 Q456.894 1513.66 458.931 1513.66 Q464.301 1513.66 467.496 1516.35 Q470.69 1519.03 470.69 1523.52 Q470.69 1525.65 469.88 1527.57 Q469.093 1529.47 466.986 1532.07 Q466.408 1532.74 463.306 1535.95 Q460.204 1539.15 454.556 1544.91 Z\" fill=\"#000000\" fill-rule=\"evenodd\" fill-opacity=\"1\" /><path clip-path=\"url(#clip050)\" d=\"M481.176 1542.97 L486.06 1542.97 L486.06 1546.95 L482.264 1554.36 L479.278 1554.36 L481.176 1546.95 L481.176 1542.97 Z\" fill=\"#000000\" fill-rule=\"evenodd\" fill-opacity=\"1\" /><path clip-path=\"url(#clip050)\" d=\"M520.829 1517.37 Q517.218 1517.37 515.389 1520.93 Q513.583 1524.47 513.583 1531.6 Q513.583 1538.71 515.389 1542.27 Q517.218 1545.82 520.829 1545.82 Q524.463 1545.82 526.268 1542.27 Q528.097 1538.71 528.097 1531.6 Q528.097 1524.47 526.268 1520.93 Q524.463 1517.37 520.829 1517.37 M520.829 1513.66 Q526.639 1513.66 529.694 1518.27 Q532.773 1522.85 532.773 1531.6 Q532.773 1540.33 529.694 1544.94 Q526.639 1549.52 520.829 1549.52 Q515.018 1549.52 511.94 1544.94 Q508.884 1540.33 508.884 1531.6 Q508.884 1522.85 511.94 1518.27 Q515.018 1513.66 520.829 1513.66 Z\" fill=\"#000000\" fill-rule=\"evenodd\" fill-opacity=\"1\" /><path clip-path=\"url(#clip050)\" d=\"M541.477 1542.97 L546.361 1542.97 L546.361 1546.95 L542.565 1554.36 L539.579 1554.36 L541.477 1546.95 L541.477 1542.97 Z\" fill=\"#000000\" fill-rule=\"evenodd\" fill-opacity=\"1\" /><path clip-path=\"url(#clip050)\" d=\"M571.939 1544.91 L579.578 1544.91 L579.578 1518.55 L571.268 1520.21 L571.268 1515.95 L579.532 1514.29 L584.208 1514.29 L584.208 1544.91 L591.847 1544.91 L591.847 1548.85 L571.939 1548.85 L571.939 1544.91 Z\" fill=\"#000000\" fill-rule=\"evenodd\" fill-opacity=\"1\" /><path clip-path=\"url(#clip050)\" d=\"M601.777 1542.97 L606.662 1542.97 L606.662 1546.95 L602.865 1554.36 L599.879 1554.36 L601.777 1546.95 L601.777 1542.97 Z\" fill=\"#000000\" fill-rule=\"evenodd\" fill-opacity=\"1\" /><path clip-path=\"url(#clip050)\" d=\"M632.24 1544.91 L639.879 1544.91 L639.879 1518.55 L631.569 1520.21 L631.569 1515.95 L639.833 1514.29 L644.509 1514.29 L644.509 1544.91 L652.147 1544.91 L652.147 1548.85 L632.24 1548.85 L632.24 1544.91 Z\" fill=\"#000000\" fill-rule=\"evenodd\" fill-opacity=\"1\" /><path clip-path=\"url(#clip050)\" d=\"M662.078 1542.97 L666.962 1542.97 L666.962 1546.95 L663.166 1554.36 L660.18 1554.36 L662.078 1546.95 L662.078 1542.97 Z\" fill=\"#000000\" fill-rule=\"evenodd\" fill-opacity=\"1\" /><path clip-path=\"url(#clip050)\" d=\"M701.73 1517.37 Q698.119 1517.37 696.291 1520.93 Q694.485 1524.47 694.485 1531.6 Q694.485 1538.71 696.291 1542.27 Q698.119 1545.82 701.73 1545.82 Q705.365 1545.82 707.17 1542.27 Q708.999 1538.71 708.999 1531.6 Q708.999 1524.47 707.17 1520.93 Q705.365 1517.37 701.73 1517.37 M701.73 1513.66 Q707.541 1513.66 710.596 1518.27 Q713.675 1522.85 713.675 1531.6 Q713.675 1540.33 710.596 1544.94 Q707.541 1549.52 701.73 1549.52 Q695.92 1549.52 692.842 1544.94 Q689.786 1540.33 689.786 1531.6 Q689.786 1522.85 692.842 1518.27 Q695.92 1513.66 701.73 1513.66 Z\" fill=\"#000000\" fill-rule=\"evenodd\" fill-opacity=\"1\" /><path clip-path=\"url(#clip050)\" d=\"M731.244 1512.83 L731.244 1555.1 L721.429 1555.1 L721.429 1551.79 L726.962 1551.79 L726.962 1516.14 L721.429 1516.14 L721.429 1512.83 L731.244 1512.83 Z\" fill=\"#000000\" fill-rule=\"evenodd\" fill-opacity=\"1\" /><path clip-path=\"url(#clip050)\" d=\"M458.843 1512.83 L468.658 1512.83 L468.658 1516.14 L463.103 1516.14 L463.103 1551.79 L468.658 1551.79 L468.658 1555.1 L458.843 1555.1 L458.843 1512.83 Z\" fill=\"#000000\" fill-rule=\"evenodd\" fill-opacity=\"1\" /><path clip-path=\"url(#clip050)\" d=\"M482.362 1544.91 L498.681 1544.91 L498.681 1548.85 L476.737 1548.85 L476.737 1544.91 Q479.399 1542.16 483.982 1537.53 Q488.589 1532.88 489.769 1531.53 Q492.014 1529.01 492.894 1527.27 Q493.797 1525.51 493.797 1523.82 Q493.797 1521.07 491.852 1519.33 Q489.931 1517.6 486.829 1517.6 Q484.63 1517.6 482.177 1518.36 Q479.746 1519.13 476.968 1520.68 L476.968 1515.95 Q479.792 1514.82 482.246 1514.24 Q484.7 1513.66 486.737 1513.66 Q492.107 1513.66 495.301 1516.35 Q498.496 1519.03 498.496 1523.52 Q498.496 1525.65 497.686 1527.57 Q496.899 1529.47 494.792 1532.07 Q494.214 1532.74 491.112 1535.95 Q488.01 1539.15 482.362 1544.91 Z\" fill=\"#000000\" fill-rule=\"evenodd\" fill-opacity=\"1\" /><path clip-path=\"url(#clip050)\" d=\"M508.982 1542.97 L513.866 1542.97 L513.866 1546.95 L510.07 1554.36 L507.084 1554.36 L508.982 1546.95 L508.982 1542.97 Z\" fill=\"#000000\" fill-rule=\"evenodd\" fill-opacity=\"1\" /><path clip-path=\"url(#clip050)\" d=\"M548.635 1517.37 Q545.023 1517.37 543.195 1520.93 Q541.389 1524.47 541.389 1531.6 Q541.389 1538.71 543.195 1542.27 Q545.023 1545.82 548.635 1545.82 Q552.269 1545.82 554.074 1542.27 Q555.903 1538.71 555.903 1531.6 Q555.903 1524.47 554.074 1520.93 Q552.269 1517.37 548.635 1517.37 M548.635 1513.66 Q554.445 1513.66 557.5 1518.27 Q560.579 1522.85 560.579 1531.6 Q560.579 1540.33 557.5 1544.94 Q554.445 1549.52 548.635 1549.52 Q542.824 1549.52 539.746 1544.94 Q536.69 1540.33 536.69 1531.6 Q536.69 1522.85 539.746 1518.27 Q542.824 1513.66 548.635 1513.66 Z\" fill=\"#000000\" fill-rule=\"evenodd\" fill-opacity=\"1\" /><path clip-path=\"url(#clip050)\" d=\"M569.283 1542.97 L574.167 1542.97 L574.167 1546.95 L570.371 1554.36 L567.384 1554.36 L569.283 1546.95 L569.283 1542.97 Z\" fill=\"#000000\" fill-rule=\"evenodd\" fill-opacity=\"1\" /><path clip-path=\"url(#clip050)\" d=\"M599.745 1544.91 L607.384 1544.91 L607.384 1518.55 L599.074 1520.21 L599.074 1515.95 L607.338 1514.29 L612.014 1514.29 L612.014 1544.91 L619.653 1544.91 L619.653 1548.85 L599.745 1548.85 L599.745 1544.91 Z\" fill=\"#000000\" fill-rule=\"evenodd\" fill-opacity=\"1\" /><path clip-path=\"url(#clip050)\" d=\"M629.583 1542.97 L634.467 1542.97 L634.467 1546.95 L630.671 1554.36 L627.685 1554.36 L629.583 1546.95 L629.583 1542.97 Z\" fill=\"#000000\" fill-rule=\"evenodd\" fill-opacity=\"1\" /><path clip-path=\"url(#clip050)\" d=\"M669.236 1517.37 Q665.625 1517.37 663.796 1520.93 Q661.99 1524.47 661.99 1531.6 Q661.99 1538.71 663.796 1542.27 Q665.625 1545.82 669.236 1545.82 Q672.87 1545.82 674.676 1542.27 Q676.504 1538.71 676.504 1531.6 Q676.504 1524.47 674.676 1520.93 Q672.87 1517.37 669.236 1517.37 M669.236 1513.66 Q675.046 1513.66 678.101 1518.27 Q681.18 1522.85 681.18 1531.6 Q681.18 1540.33 678.101 1544.94 Q675.046 1549.52 669.236 1549.52 Q663.426 1549.52 660.347 1544.94 Q657.291 1540.33 657.291 1531.6 Q657.291 1522.85 660.347 1518.27 Q663.426 1513.66 669.236 1513.66 Z\" fill=\"#000000\" fill-rule=\"evenodd\" fill-opacity=\"1\" /><path clip-path=\"url(#clip050)\" d=\"M689.884 1542.97 L694.768 1542.97 L694.768 1546.95 L690.972 1554.36 L687.986 1554.36 L689.884 1546.95 L689.884 1542.97 Z\" fill=\"#000000\" fill-rule=\"evenodd\" fill-opacity=\"1\" /><path clip-path=\"url(#clip050)\" d=\"M720.347 1544.91 L727.985 1544.91 L727.985 1518.55 L719.675 1520.21 L719.675 1515.95 L727.939 1514.29 L732.615 1514.29 L732.615 1544.91 L740.254 1544.91 L740.254 1548.85 L720.347 1548.85 L720.347 1544.91 Z\" fill=\"#000000\" fill-rule=\"evenodd\" fill-opacity=\"1\" /><path clip-path=\"url(#clip050)\" d=\"M759.05 1512.83 L759.05 1555.1 L749.235 1555.1 L749.235 1551.79 L754.768 1551.79 L754.768 1516.14 L749.235 1516.14 L749.235 1512.83 L759.05 1512.83 Z\" fill=\"#000000\" fill-rule=\"evenodd\" fill-opacity=\"1\" /><path clip-path=\"url(#clip050)\" d=\"M486.649 1512.83 L496.464 1512.83 L496.464 1516.14 L490.908 1516.14 L490.908 1551.79 L496.464 1551.79 L496.464 1555.1 L486.649 1555.1 L486.649 1512.83 Z\" fill=\"#000000\" fill-rule=\"evenodd\" fill-opacity=\"1\" /><path clip-path=\"url(#clip050)\" d=\"M510.168 1544.91 L526.487 1544.91 L526.487 1548.85 L504.543 1548.85 L504.543 1544.91 Q507.205 1542.16 511.788 1537.53 Q516.394 1532.88 517.575 1531.53 Q519.82 1529.01 520.7 1527.27 Q521.603 1525.51 521.603 1523.82 Q521.603 1521.07 519.658 1519.33 Q517.737 1517.6 514.635 1517.6 Q512.436 1517.6 509.982 1518.36 Q507.552 1519.13 504.774 1520.68 L504.774 1515.95 Q507.598 1514.82 510.052 1514.24 Q512.506 1513.66 514.543 1513.66 Q519.913 1513.66 523.107 1516.35 Q526.302 1519.03 526.302 1523.52 Q526.302 1525.65 525.492 1527.57 Q524.705 1529.47 522.598 1532.07 Q522.019 1532.74 518.918 1535.95 Q515.816 1539.15 510.168 1544.91 Z\" fill=\"#000000\" fill-rule=\"evenodd\" fill-opacity=\"1\" /><path clip-path=\"url(#clip050)\" d=\"M536.788 1542.97 L541.672 1542.97 L541.672 1546.95 L537.876 1554.36 L534.89 1554.36 L536.788 1546.95 L536.788 1542.97 Z\" fill=\"#000000\" fill-rule=\"evenodd\" fill-opacity=\"1\" /><path clip-path=\"url(#clip050)\" d=\"M576.44 1517.37 Q572.829 1517.37 571.001 1520.93 Q569.195 1524.47 569.195 1531.6 Q569.195 1538.71 571.001 1542.27 Q572.829 1545.82 576.44 1545.82 Q580.075 1545.82 581.88 1542.27 Q583.709 1538.71 583.709 1531.6 Q583.709 1524.47 581.88 1520.93 Q580.075 1517.37 576.44 1517.37 M576.44 1513.66 Q582.251 1513.66 585.306 1518.27 Q588.385 1522.85 588.385 1531.6 Q588.385 1540.33 585.306 1544.94 Q582.251 1549.52 576.44 1549.52 Q570.63 1549.52 567.552 1544.94 Q564.496 1540.33 564.496 1531.6 Q564.496 1522.85 567.552 1518.27 Q570.63 1513.66 576.44 1513.66 Z\" fill=\"#000000\" fill-rule=\"evenodd\" fill-opacity=\"1\" /><path clip-path=\"url(#clip050)\" d=\"M597.088 1542.97 L601.973 1542.97 L601.973 1546.95 L598.176 1554.36 L595.19 1554.36 L597.088 1546.95 L597.088 1542.97 Z\" fill=\"#000000\" fill-rule=\"evenodd\" fill-opacity=\"1\" /><path clip-path=\"url(#clip050)\" d=\"M636.741 1517.37 Q633.13 1517.37 631.301 1520.93 Q629.496 1524.47 629.496 1531.6 Q629.496 1538.71 631.301 1542.27 Q633.13 1545.82 636.741 1545.82 Q640.375 1545.82 642.181 1542.27 Q644.01 1538.71 644.01 1531.6 Q644.01 1524.47 642.181 1520.93 Q640.375 1517.37 636.741 1517.37 M636.741 1513.66 Q642.551 1513.66 645.607 1518.27 Q648.685 1522.85 648.685 1531.6 Q648.685 1540.33 645.607 1544.94 Q642.551 1549.52 636.741 1549.52 Q630.931 1549.52 627.852 1544.94 Q624.797 1540.33 624.797 1531.6 Q624.797 1522.85 627.852 1518.27 Q630.931 1513.66 636.741 1513.66 Z\" fill=\"#000000\" fill-rule=\"evenodd\" fill-opacity=\"1\" /><path clip-path=\"url(#clip050)\" d=\"M657.389 1542.97 L662.273 1542.97 L662.273 1546.95 L658.477 1554.36 L655.491 1554.36 L657.389 1546.95 L657.389 1542.97 Z\" fill=\"#000000\" fill-rule=\"evenodd\" fill-opacity=\"1\" /><path clip-path=\"url(#clip050)\" d=\"M691.069 1544.91 L707.389 1544.91 L707.389 1548.85 L685.444 1548.85 L685.444 1544.91 Q688.107 1542.16 692.69 1537.53 Q697.296 1532.88 698.477 1531.53 Q700.722 1529.01 701.602 1527.27 Q702.505 1525.51 702.505 1523.82 Q702.505 1521.07 700.56 1519.33 Q698.639 1517.6 695.537 1517.6 Q693.338 1517.6 690.884 1518.36 Q688.454 1519.13 685.676 1520.68 L685.676 1515.95 Q688.5 1514.82 690.954 1514.24 Q693.407 1513.66 695.444 1513.66 Q700.815 1513.66 704.009 1516.35 Q707.204 1519.03 707.204 1523.52 Q707.204 1525.65 706.393 1527.57 Q705.606 1529.47 703.5 1532.07 Q702.921 1532.74 699.819 1535.95 Q696.718 1539.15 691.069 1544.91 Z\" fill=\"#000000\" fill-rule=\"evenodd\" fill-opacity=\"1\" /><path clip-path=\"url(#clip050)\" d=\"M717.69 1542.97 L722.574 1542.97 L722.574 1546.95 L718.778 1554.36 L715.792 1554.36 L717.69 1546.95 L717.69 1542.97 Z\" fill=\"#000000\" fill-rule=\"evenodd\" fill-opacity=\"1\" /><path clip-path=\"url(#clip050)\" d=\"M757.342 1517.37 Q753.731 1517.37 751.902 1520.93 Q750.097 1524.47 750.097 1531.6 Q750.097 1538.71 751.902 1542.27 Q753.731 1545.82 757.342 1545.82 Q760.976 1545.82 762.782 1542.27 Q764.611 1538.71 764.611 1531.6 Q764.611 1524.47 762.782 1520.93 Q760.976 1517.37 757.342 1517.37 M757.342 1513.66 Q763.152 1513.66 766.208 1518.27 Q769.287 1522.85 769.287 1531.6 Q769.287 1540.33 766.208 1544.94 Q763.152 1549.52 757.342 1549.52 Q751.532 1549.52 748.453 1544.94 Q745.398 1540.33 745.398 1531.6 Q745.398 1522.85 748.453 1518.27 Q751.532 1513.66 757.342 1513.66 Z\" fill=\"#000000\" fill-rule=\"evenodd\" fill-opacity=\"1\" /><path clip-path=\"url(#clip050)\" d=\"M786.856 1512.83 L786.856 1555.1 L777.041 1555.1 L777.041 1551.79 L782.574 1551.79 L782.574 1516.14 L777.041 1516.14 L777.041 1512.83 L786.856 1512.83 Z\" fill=\"#000000\" fill-rule=\"evenodd\" fill-opacity=\"1\" /><path clip-path=\"url(#clip050)\" d=\"M514.455 1512.83 L524.27 1512.83 L524.27 1516.14 L518.714 1516.14 L518.714 1551.79 L524.27 1551.79 L524.27 1555.1 L514.455 1555.1 L514.455 1512.83 Z\" fill=\"#000000\" fill-rule=\"evenodd\" fill-opacity=\"1\" /><path clip-path=\"url(#clip050)\" d=\"M537.974 1544.91 L554.293 1544.91 L554.293 1548.85 L532.349 1548.85 L532.349 1544.91 Q535.011 1542.16 539.594 1537.53 Q544.2 1532.88 545.381 1531.53 Q547.626 1529.01 548.506 1527.27 Q549.409 1525.51 549.409 1523.82 Q549.409 1521.07 547.464 1519.33 Q545.543 1517.6 542.441 1517.6 Q540.242 1517.6 537.788 1518.36 Q535.358 1519.13 532.58 1520.68 L532.58 1515.95 Q535.404 1514.82 537.858 1514.24 Q540.311 1513.66 542.349 1513.66 Q547.719 1513.66 550.913 1516.35 Q554.108 1519.03 554.108 1523.52 Q554.108 1525.65 553.298 1527.57 Q552.511 1529.47 550.404 1532.07 Q549.825 1532.74 546.724 1535.95 Q543.622 1539.15 537.974 1544.91 Z\" fill=\"#000000\" fill-rule=\"evenodd\" fill-opacity=\"1\" /><path clip-path=\"url(#clip050)\" d=\"M564.594 1542.97 L569.478 1542.97 L569.478 1546.95 L565.682 1554.36 L562.696 1554.36 L564.594 1546.95 L564.594 1542.97 Z\" fill=\"#000000\" fill-rule=\"evenodd\" fill-opacity=\"1\" /><path clip-path=\"url(#clip050)\" d=\"M604.246 1517.37 Q600.635 1517.37 598.807 1520.93 Q597.001 1524.47 597.001 1531.6 Q597.001 1538.71 598.807 1542.27 Q600.635 1545.82 604.246 1545.82 Q607.881 1545.82 609.686 1542.27 Q611.515 1538.71 611.515 1531.6 Q611.515 1524.47 609.686 1520.93 Q607.881 1517.37 604.246 1517.37 M604.246 1513.66 Q610.056 1513.66 613.112 1518.27 Q616.191 1522.85 616.191 1531.6 Q616.191 1540.33 613.112 1544.94 Q610.056 1549.52 604.246 1549.52 Q598.436 1549.52 595.357 1544.94 Q592.302 1540.33 592.302 1531.6 Q592.302 1522.85 595.357 1518.27 Q598.436 1513.66 604.246 1513.66 Z\" fill=\"#000000\" fill-rule=\"evenodd\" fill-opacity=\"1\" /><path clip-path=\"url(#clip050)\" d=\"M624.894 1542.97 L629.779 1542.97 L629.779 1546.95 L625.982 1554.36 L622.996 1554.36 L624.894 1546.95 L624.894 1542.97 Z\" fill=\"#000000\" fill-rule=\"evenodd\" fill-opacity=\"1\" /><path clip-path=\"url(#clip050)\" d=\"M664.547 1517.37 Q660.936 1517.37 659.107 1520.93 Q657.302 1524.47 657.302 1531.6 Q657.302 1538.71 659.107 1542.27 Q660.936 1545.82 664.547 1545.82 Q668.181 1545.82 669.987 1542.27 Q671.815 1538.71 671.815 1531.6 Q671.815 1524.47 669.987 1520.93 Q668.181 1517.37 664.547 1517.37 M664.547 1513.66 Q670.357 1513.66 673.413 1518.27 Q676.491 1522.85 676.491 1531.6 Q676.491 1540.33 673.413 1544.94 Q670.357 1549.52 664.547 1549.52 Q658.737 1549.52 655.658 1544.94 Q652.603 1540.33 652.603 1531.6 Q652.603 1522.85 655.658 1518.27 Q658.737 1513.66 664.547 1513.66 Z\" fill=\"#000000\" fill-rule=\"evenodd\" fill-opacity=\"1\" /><path clip-path=\"url(#clip050)\" d=\"M685.195 1542.97 L690.079 1542.97 L690.079 1546.95 L686.283 1554.36 L683.297 1554.36 L685.195 1546.95 L685.195 1542.97 Z\" fill=\"#000000\" fill-rule=\"evenodd\" fill-opacity=\"1\" /><path clip-path=\"url(#clip050)\" d=\"M715.658 1544.91 L723.297 1544.91 L723.297 1518.55 L714.986 1520.21 L714.986 1515.95 L723.25 1514.29 L727.926 1514.29 L727.926 1544.91 L735.565 1544.91 L735.565 1548.85 L715.658 1548.85 L715.658 1544.91 Z\" fill=\"#000000\" fill-rule=\"evenodd\" fill-opacity=\"1\" /><path clip-path=\"url(#clip050)\" d=\"M745.496 1542.97 L750.38 1542.97 L750.38 1546.95 L746.584 1554.36 L743.597 1554.36 L745.496 1546.95 L745.496 1542.97 Z\" fill=\"#000000\" fill-rule=\"evenodd\" fill-opacity=\"1\" /><path clip-path=\"url(#clip050)\" d=\"M775.958 1544.91 L783.597 1544.91 L783.597 1518.55 L775.287 1520.21 L775.287 1515.95 L783.551 1514.29 L788.227 1514.29 L788.227 1544.91 L795.866 1544.91 L795.866 1548.85 L775.958 1548.85 L775.958 1544.91 Z\" fill=\"#000000\" fill-rule=\"evenodd\" fill-opacity=\"1\" /><path clip-path=\"url(#clip050)\" d=\"M814.662 1512.83 L814.662 1555.1 L804.847 1555.1 L804.847 1551.79 L810.379 1551.79 L810.379 1516.14 L804.847 1516.14 L804.847 1512.83 L814.662 1512.83 Z\" fill=\"#000000\" fill-rule=\"evenodd\" fill-opacity=\"1\" /><path clip-path=\"url(#clip050)\" d=\"M542.261 1512.83 L552.076 1512.83 L552.076 1516.14 L546.52 1516.14 L546.52 1551.79 L552.076 1551.79 L552.076 1555.1 L542.261 1555.1 L542.261 1512.83 Z\" fill=\"#000000\" fill-rule=\"evenodd\" fill-opacity=\"1\" /><path clip-path=\"url(#clip050)\" d=\"M565.779 1544.91 L582.099 1544.91 L582.099 1548.85 L560.154 1548.85 L560.154 1544.91 Q562.816 1542.16 567.4 1537.53 Q572.006 1532.88 573.187 1531.53 Q575.432 1529.01 576.312 1527.27 Q577.215 1525.51 577.215 1523.82 Q577.215 1521.07 575.27 1519.33 Q573.349 1517.6 570.247 1517.6 Q568.048 1517.6 565.594 1518.36 Q563.164 1519.13 560.386 1520.68 L560.386 1515.95 Q563.21 1514.82 565.664 1514.24 Q568.117 1513.66 570.154 1513.66 Q575.525 1513.66 578.719 1516.35 Q581.914 1519.03 581.914 1523.52 Q581.914 1525.65 581.103 1527.57 Q580.316 1529.47 578.21 1532.07 Q577.631 1532.74 574.529 1535.95 Q571.428 1539.15 565.779 1544.91 Z\" fill=\"#000000\" fill-rule=\"evenodd\" fill-opacity=\"1\" /><path clip-path=\"url(#clip050)\" d=\"M592.4 1542.97 L597.284 1542.97 L597.284 1546.95 L593.488 1554.36 L590.502 1554.36 L592.4 1546.95 L592.4 1542.97 Z\" fill=\"#000000\" fill-rule=\"evenodd\" fill-opacity=\"1\" /><path clip-path=\"url(#clip050)\" d=\"M632.052 1517.37 Q628.441 1517.37 626.612 1520.93 Q624.807 1524.47 624.807 1531.6 Q624.807 1538.71 626.612 1542.27 Q628.441 1545.82 632.052 1545.82 Q635.686 1545.82 637.492 1542.27 Q639.321 1538.71 639.321 1531.6 Q639.321 1524.47 637.492 1520.93 Q635.686 1517.37 632.052 1517.37 M632.052 1513.66 Q637.862 1513.66 640.918 1518.27 Q643.997 1522.85 643.997 1531.6 Q643.997 1540.33 640.918 1544.94 Q637.862 1549.52 632.052 1549.52 Q626.242 1549.52 623.163 1544.94 Q620.108 1540.33 620.108 1531.6 Q620.108 1522.85 623.163 1518.27 Q626.242 1513.66 632.052 1513.66 Z\" fill=\"#000000\" fill-rule=\"evenodd\" fill-opacity=\"1\" /><path clip-path=\"url(#clip050)\" d=\"M652.7 1542.97 L657.585 1542.97 L657.585 1546.95 L653.788 1554.36 L650.802 1554.36 L652.7 1546.95 L652.7 1542.97 Z\" fill=\"#000000\" fill-rule=\"evenodd\" fill-opacity=\"1\" /><path clip-path=\"url(#clip050)\" d=\"M692.353 1517.37 Q688.742 1517.37 686.913 1520.93 Q685.108 1524.47 685.108 1531.6 Q685.108 1538.71 686.913 1542.27 Q688.742 1545.82 692.353 1545.82 Q695.987 1545.82 697.793 1542.27 Q699.621 1538.71 699.621 1531.6 Q699.621 1524.47 697.793 1520.93 Q695.987 1517.37 692.353 1517.37 M692.353 1513.66 Q698.163 1513.66 701.219 1518.27 Q704.297 1522.85 704.297 1531.6 Q704.297 1540.33 701.219 1544.94 Q698.163 1549.52 692.353 1549.52 Q686.543 1549.52 683.464 1544.94 Q680.408 1540.33 680.408 1531.6 Q680.408 1522.85 683.464 1518.27 Q686.543 1513.66 692.353 1513.66 Z\" fill=\"#000000\" fill-rule=\"evenodd\" fill-opacity=\"1\" /><path clip-path=\"url(#clip050)\" d=\"M713.001 1542.97 L717.885 1542.97 L717.885 1546.95 L714.089 1554.36 L711.103 1554.36 L713.001 1546.95 L713.001 1542.97 Z\" fill=\"#000000\" fill-rule=\"evenodd\" fill-opacity=\"1\" /><path clip-path=\"url(#clip050)\" d=\"M752.653 1517.37 Q749.042 1517.37 747.214 1520.93 Q745.408 1524.47 745.408 1531.6 Q745.408 1538.71 747.214 1542.27 Q749.042 1545.82 752.653 1545.82 Q756.288 1545.82 758.093 1542.27 Q759.922 1538.71 759.922 1531.6 Q759.922 1524.47 758.093 1520.93 Q756.288 1517.37 752.653 1517.37 M752.653 1513.66 Q758.464 1513.66 761.519 1518.27 Q764.598 1522.85 764.598 1531.6 Q764.598 1540.33 761.519 1544.94 Q758.464 1549.52 752.653 1549.52 Q746.843 1549.52 743.765 1544.94 Q740.709 1540.33 740.709 1531.6 Q740.709 1522.85 743.765 1518.27 Q746.843 1513.66 752.653 1513.66 Z\" fill=\"#000000\" fill-rule=\"evenodd\" fill-opacity=\"1\" /><path clip-path=\"url(#clip050)\" d=\"M773.301 1542.97 L778.186 1542.97 L778.186 1546.95 L774.389 1554.36 L771.403 1554.36 L773.301 1546.95 L773.301 1542.97 Z\" fill=\"#000000\" fill-rule=\"evenodd\" fill-opacity=\"1\" /><path clip-path=\"url(#clip050)\" d=\"M806.982 1544.91 L823.301 1544.91 L823.301 1548.85 L801.357 1548.85 L801.357 1544.91 Q804.019 1542.16 808.602 1537.53 Q813.209 1532.88 814.389 1531.53 Q816.635 1529.01 817.514 1527.27 Q818.417 1525.51 818.417 1523.82 Q818.417 1521.07 816.473 1519.33 Q814.551 1517.6 811.449 1517.6 Q809.25 1517.6 806.797 1518.36 Q804.366 1519.13 801.588 1520.68 L801.588 1515.95 Q804.412 1514.82 806.866 1514.24 Q809.32 1513.66 811.357 1513.66 Q816.727 1513.66 819.922 1516.35 Q823.116 1519.03 823.116 1523.52 Q823.116 1525.65 822.306 1527.57 Q821.519 1529.47 819.412 1532.07 Q818.834 1532.74 815.732 1535.95 Q812.63 1539.15 806.982 1544.91 Z\" fill=\"#000000\" fill-rule=\"evenodd\" fill-opacity=\"1\" /><path clip-path=\"url(#clip050)\" d=\"M842.468 1512.83 L842.468 1555.1 L832.653 1555.1 L832.653 1551.79 L838.185 1551.79 L838.185 1516.14 L832.653 1516.14 L832.653 1512.83 L842.468 1512.83 Z\" fill=\"#000000\" fill-rule=\"evenodd\" fill-opacity=\"1\" /><path clip-path=\"url(#clip050)\" d=\"M570.067 1512.83 L579.882 1512.83 L579.882 1516.14 L574.326 1516.14 L574.326 1551.79 L579.882 1551.79 L579.882 1555.1 L570.067 1555.1 L570.067 1512.83 Z\" fill=\"#000000\" fill-rule=\"evenodd\" fill-opacity=\"1\" /><path clip-path=\"url(#clip050)\" d=\"M590.368 1544.91 L598.007 1544.91 L598.007 1518.55 L589.696 1520.21 L589.696 1515.95 L597.96 1514.29 L602.636 1514.29 L602.636 1544.91 L610.275 1544.91 L610.275 1548.85 L590.368 1548.85 L590.368 1544.91 Z\" fill=\"#000000\" fill-rule=\"evenodd\" fill-opacity=\"1\" /><path clip-path=\"url(#clip050)\" d=\"M620.206 1542.97 L625.09 1542.97 L625.09 1546.95 L621.294 1554.36 L618.307 1554.36 L620.206 1546.95 L620.206 1542.97 Z\" fill=\"#000000\" fill-rule=\"evenodd\" fill-opacity=\"1\" /><path clip-path=\"url(#clip050)\" d=\"M664.025 1530.21 Q667.381 1530.93 669.256 1533.2 Q671.154 1535.47 671.154 1538.8 Q671.154 1543.92 667.636 1546.72 Q664.117 1549.52 657.636 1549.52 Q655.46 1549.52 653.145 1549.08 Q650.854 1548.66 648.4 1547.81 L648.4 1543.29 Q650.344 1544.43 652.659 1545.01 Q654.974 1545.58 657.497 1545.58 Q661.895 1545.58 664.187 1543.85 Q666.502 1542.11 666.502 1538.8 Q666.502 1535.75 664.349 1534.03 Q662.219 1532.3 658.4 1532.3 L654.372 1532.3 L654.372 1528.45 L658.585 1528.45 Q662.034 1528.45 663.863 1527.09 Q665.691 1525.7 665.691 1523.11 Q665.691 1520.45 663.793 1519.03 Q661.918 1517.6 658.4 1517.6 Q656.479 1517.6 654.279 1518.01 Q652.08 1518.43 649.442 1519.31 L649.442 1515.14 Q652.104 1514.4 654.418 1514.03 Q656.756 1513.66 658.816 1513.66 Q664.141 1513.66 667.242 1516.09 Q670.344 1518.5 670.344 1522.62 Q670.344 1525.49 668.701 1527.48 Q667.057 1529.45 664.025 1530.21 Z\" fill=\"#000000\" fill-rule=\"evenodd\" fill-opacity=\"1\" /><path clip-path=\"url(#clip050)\" d=\"M680.506 1542.97 L685.39 1542.97 L685.39 1546.95 L681.594 1554.36 L678.608 1554.36 L680.506 1546.95 L680.506 1542.97 Z\" fill=\"#000000\" fill-rule=\"evenodd\" fill-opacity=\"1\" /><path clip-path=\"url(#clip050)\" d=\"M720.159 1517.37 Q716.548 1517.37 714.719 1520.93 Q712.913 1524.47 712.913 1531.6 Q712.913 1538.71 714.719 1542.27 Q716.548 1545.82 720.159 1545.82 Q723.793 1545.82 725.599 1542.27 Q727.427 1538.71 727.427 1531.6 Q727.427 1524.47 725.599 1520.93 Q723.793 1517.37 720.159 1517.37 M720.159 1513.66 Q725.969 1513.66 729.024 1518.27 Q732.103 1522.85 732.103 1531.6 Q732.103 1540.33 729.024 1544.94 Q725.969 1549.52 720.159 1549.52 Q714.349 1549.52 711.27 1544.94 Q708.214 1540.33 708.214 1531.6 Q708.214 1522.85 711.27 1518.27 Q714.349 1513.66 720.159 1513.66 Z\" fill=\"#000000\" fill-rule=\"evenodd\" fill-opacity=\"1\" /><path clip-path=\"url(#clip050)\" d=\"M740.807 1542.97 L745.691 1542.97 L745.691 1546.95 L741.895 1554.36 L738.909 1554.36 L740.807 1546.95 L740.807 1542.97 Z\" fill=\"#000000\" fill-rule=\"evenodd\" fill-opacity=\"1\" /><path clip-path=\"url(#clip050)\" d=\"M780.459 1517.37 Q776.848 1517.37 775.02 1520.93 Q773.214 1524.47 773.214 1531.6 Q773.214 1538.71 775.02 1542.27 Q776.848 1545.82 780.459 1545.82 Q784.094 1545.82 785.899 1542.27 Q787.728 1538.71 787.728 1531.6 Q787.728 1524.47 785.899 1520.93 Q784.094 1517.37 780.459 1517.37 M780.459 1513.66 Q786.269 1513.66 789.325 1518.27 Q792.404 1522.85 792.404 1531.6 Q792.404 1540.33 789.325 1544.94 Q786.269 1549.52 780.459 1549.52 Q774.649 1549.52 771.571 1544.94 Q768.515 1540.33 768.515 1531.6 Q768.515 1522.85 771.571 1518.27 Q774.649 1513.66 780.459 1513.66 Z\" fill=\"#000000\" fill-rule=\"evenodd\" fill-opacity=\"1\" /><path clip-path=\"url(#clip050)\" d=\"M801.107 1542.97 L805.992 1542.97 L805.992 1546.95 L802.195 1554.36 L799.209 1554.36 L801.107 1546.95 L801.107 1542.97 Z\" fill=\"#000000\" fill-rule=\"evenodd\" fill-opacity=\"1\" /><path clip-path=\"url(#clip050)\" d=\"M840.76 1517.37 Q837.149 1517.37 835.32 1520.93 Q833.515 1524.47 833.515 1531.6 Q833.515 1538.71 835.32 1542.27 Q837.149 1545.82 840.76 1545.82 Q844.394 1545.82 846.2 1542.27 Q848.028 1538.71 848.028 1531.6 Q848.028 1524.47 846.2 1520.93 Q844.394 1517.37 840.76 1517.37 M840.76 1513.66 Q846.57 1513.66 849.626 1518.27 Q852.704 1522.85 852.704 1531.6 Q852.704 1540.33 849.626 1544.94 Q846.57 1549.52 840.76 1549.52 Q834.95 1549.52 831.871 1544.94 Q828.816 1540.33 828.816 1531.6 Q828.816 1522.85 831.871 1518.27 Q834.95 1513.66 840.76 1513.66 Z\" fill=\"#000000\" fill-rule=\"evenodd\" fill-opacity=\"1\" /><path clip-path=\"url(#clip050)\" d=\"M870.274 1512.83 L870.274 1555.1 L860.459 1555.1 L860.459 1551.79 L865.991 1551.79 L865.991 1516.14 L860.459 1516.14 L860.459 1512.83 L870.274 1512.83 Z\" fill=\"#000000\" fill-rule=\"evenodd\" fill-opacity=\"1\" /><path clip-path=\"url(#clip050)\" d=\"M597.873 1512.83 L607.688 1512.83 L607.688 1516.14 L602.132 1516.14 L602.132 1551.79 L607.688 1551.79 L607.688 1555.1 L597.873 1555.1 L597.873 1512.83 Z\" fill=\"#000000\" fill-rule=\"evenodd\" fill-opacity=\"1\" /><path clip-path=\"url(#clip050)\" d=\"M618.174 1544.91 L625.813 1544.91 L625.813 1518.55 L617.502 1520.21 L617.502 1515.95 L625.766 1514.29 L630.442 1514.29 L630.442 1544.91 L638.081 1544.91 L638.081 1548.85 L618.174 1548.85 L618.174 1544.91 Z\" fill=\"#000000\" fill-rule=\"evenodd\" fill-opacity=\"1\" /><path clip-path=\"url(#clip050)\" d=\"M648.011 1542.97 L652.896 1542.97 L652.896 1546.95 L649.099 1554.36 L646.113 1554.36 L648.011 1546.95 L648.011 1542.97 Z\" fill=\"#000000\" fill-rule=\"evenodd\" fill-opacity=\"1\" /><path clip-path=\"url(#clip050)\" d=\"M681.692 1544.91 L698.011 1544.91 L698.011 1548.85 L676.067 1548.85 L676.067 1544.91 Q678.729 1542.16 683.312 1537.53 Q687.919 1532.88 689.099 1531.53 Q691.345 1529.01 692.224 1527.27 Q693.127 1525.51 693.127 1523.82 Q693.127 1521.07 691.183 1519.33 Q689.261 1517.6 686.159 1517.6 Q683.96 1517.6 681.507 1518.36 Q679.076 1519.13 676.298 1520.68 L676.298 1515.95 Q679.122 1514.82 681.576 1514.24 Q684.03 1513.66 686.067 1513.66 Q691.437 1513.66 694.632 1516.35 Q697.826 1519.03 697.826 1523.52 Q697.826 1525.65 697.016 1527.57 Q696.229 1529.47 694.122 1532.07 Q693.544 1532.74 690.442 1535.95 Q687.34 1539.15 681.692 1544.91 Z\" fill=\"#000000\" fill-rule=\"evenodd\" fill-opacity=\"1\" /><path clip-path=\"url(#clip050)\" d=\"M708.312 1542.97 L713.196 1542.97 L713.196 1546.95 L709.4 1554.36 L706.414 1554.36 L708.312 1546.95 L708.312 1542.97 Z\" fill=\"#000000\" fill-rule=\"evenodd\" fill-opacity=\"1\" /><path clip-path=\"url(#clip050)\" d=\"M738.775 1544.91 L746.414 1544.91 L746.414 1518.55 L738.104 1520.21 L738.104 1515.95 L746.367 1514.29 L751.043 1514.29 L751.043 1544.91 L758.682 1544.91 L758.682 1548.85 L738.775 1548.85 L738.775 1544.91 Z\" fill=\"#000000\" fill-rule=\"evenodd\" fill-opacity=\"1\" /><path clip-path=\"url(#clip050)\" d=\"M768.613 1542.97 L773.497 1542.97 L773.497 1546.95 L769.701 1554.36 L766.715 1554.36 L768.613 1546.95 L768.613 1542.97 Z\" fill=\"#000000\" fill-rule=\"evenodd\" fill-opacity=\"1\" /><path clip-path=\"url(#clip050)\" d=\"M808.265 1517.37 Q804.654 1517.37 802.825 1520.93 Q801.02 1524.47 801.02 1531.6 Q801.02 1538.71 802.825 1542.27 Q804.654 1545.82 808.265 1545.82 Q811.899 1545.82 813.705 1542.27 Q815.534 1538.71 815.534 1531.6 Q815.534 1524.47 813.705 1520.93 Q811.899 1517.37 808.265 1517.37 M808.265 1513.66 Q814.075 1513.66 817.131 1518.27 Q820.21 1522.85 820.21 1531.6 Q820.21 1540.33 817.131 1544.94 Q814.075 1549.52 808.265 1549.52 Q802.455 1549.52 799.376 1544.94 Q796.321 1540.33 796.321 1531.6 Q796.321 1522.85 799.376 1518.27 Q802.455 1513.66 808.265 1513.66 Z\" fill=\"#000000\" fill-rule=\"evenodd\" fill-opacity=\"1\" /><path clip-path=\"url(#clip050)\" d=\"M828.913 1542.97 L833.798 1542.97 L833.798 1546.95 L830.001 1554.36 L827.015 1554.36 L828.913 1546.95 L828.913 1542.97 Z\" fill=\"#000000\" fill-rule=\"evenodd\" fill-opacity=\"1\" /><path clip-path=\"url(#clip050)\" d=\"M868.566 1517.37 Q864.955 1517.37 863.126 1520.93 Q861.321 1524.47 861.321 1531.6 Q861.321 1538.71 863.126 1542.27 Q864.955 1545.82 868.566 1545.82 Q872.2 1545.82 874.006 1542.27 Q875.834 1538.71 875.834 1531.6 Q875.834 1524.47 874.006 1520.93 Q872.2 1517.37 868.566 1517.37 M868.566 1513.66 Q874.376 1513.66 877.432 1518.27 Q880.51 1522.85 880.51 1531.6 Q880.51 1540.33 877.432 1544.94 Q874.376 1549.52 868.566 1549.52 Q862.756 1549.52 859.677 1544.94 Q856.621 1540.33 856.621 1531.6 Q856.621 1522.85 859.677 1518.27 Q862.756 1513.66 868.566 1513.66 Z\" fill=\"#000000\" fill-rule=\"evenodd\" fill-opacity=\"1\" /><path clip-path=\"url(#clip050)\" d=\"M898.08 1512.83 L898.08 1555.1 L888.265 1555.1 L888.265 1551.79 L893.797 1551.79 L893.797 1516.14 L888.265 1516.14 L888.265 1512.83 L898.08 1512.83 Z\" fill=\"#000000\" fill-rule=\"evenodd\" fill-opacity=\"1\" /><path clip-path=\"url(#clip050)\" d=\"M625.679 1512.83 L635.494 1512.83 L635.494 1516.14 L629.938 1516.14 L629.938 1551.79 L635.494 1551.79 L635.494 1555.1 L625.679 1555.1 L625.679 1512.83 Z\" fill=\"#000000\" fill-rule=\"evenodd\" fill-opacity=\"1\" /><path clip-path=\"url(#clip050)\" d=\"M645.98 1544.91 L653.618 1544.91 L653.618 1518.55 L645.308 1520.21 L645.308 1515.95 L653.572 1514.29 L658.248 1514.29 L658.248 1544.91 L665.887 1544.91 L665.887 1548.85 L645.98 1548.85 L645.98 1544.91 Z\" fill=\"#000000\" fill-rule=\"evenodd\" fill-opacity=\"1\" /><path clip-path=\"url(#clip050)\" d=\"M675.817 1542.97 L680.702 1542.97 L680.702 1546.95 L676.905 1554.36 L673.919 1554.36 L675.817 1546.95 L675.817 1542.97 Z\" fill=\"#000000\" fill-rule=\"evenodd\" fill-opacity=\"1\" /><path clip-path=\"url(#clip050)\" d=\"M709.498 1544.91 L725.817 1544.91 L725.817 1548.85 L703.873 1548.85 L703.873 1544.91 Q706.535 1542.16 711.118 1537.53 Q715.725 1532.88 716.905 1531.53 Q719.15 1529.01 720.03 1527.27 Q720.933 1525.51 720.933 1523.82 Q720.933 1521.07 718.988 1519.33 Q717.067 1517.6 713.965 1517.6 Q711.766 1517.6 709.313 1518.36 Q706.882 1519.13 704.104 1520.68 L704.104 1515.95 Q706.928 1514.82 709.382 1514.24 Q711.836 1513.66 713.873 1513.66 Q719.243 1513.66 722.437 1516.35 Q725.632 1519.03 725.632 1523.52 Q725.632 1525.65 724.822 1527.57 Q724.035 1529.47 721.928 1532.07 Q721.35 1532.74 718.248 1535.95 Q715.146 1539.15 709.498 1544.91 Z\" fill=\"#000000\" fill-rule=\"evenodd\" fill-opacity=\"1\" /><path clip-path=\"url(#clip050)\" d=\"M736.118 1542.97 L741.002 1542.97 L741.002 1546.95 L737.206 1554.36 L734.22 1554.36 L736.118 1546.95 L736.118 1542.97 Z\" fill=\"#000000\" fill-rule=\"evenodd\" fill-opacity=\"1\" /><path clip-path=\"url(#clip050)\" d=\"M775.771 1517.37 Q772.159 1517.37 770.331 1520.93 Q768.525 1524.47 768.525 1531.6 Q768.525 1538.71 770.331 1542.27 Q772.159 1545.82 775.771 1545.82 Q779.405 1545.82 781.21 1542.27 Q783.039 1538.71 783.039 1531.6 Q783.039 1524.47 781.21 1520.93 Q779.405 1517.37 775.771 1517.37 M775.771 1513.66 Q781.581 1513.66 784.636 1518.27 Q787.715 1522.85 787.715 1531.6 Q787.715 1540.33 784.636 1544.94 Q781.581 1549.52 775.771 1549.52 Q769.96 1549.52 766.882 1544.94 Q763.826 1540.33 763.826 1531.6 Q763.826 1522.85 766.882 1518.27 Q769.96 1513.66 775.771 1513.66 Z\" fill=\"#000000\" fill-rule=\"evenodd\" fill-opacity=\"1\" /><path clip-path=\"url(#clip050)\" d=\"M796.419 1542.97 L801.303 1542.97 L801.303 1546.95 L797.507 1554.36 L794.52 1554.36 L796.419 1546.95 L796.419 1542.97 Z\" fill=\"#000000\" fill-rule=\"evenodd\" fill-opacity=\"1\" /><path clip-path=\"url(#clip050)\" d=\"M826.881 1544.91 L834.52 1544.91 L834.52 1518.55 L826.21 1520.21 L826.21 1515.95 L834.474 1514.29 L839.15 1514.29 L839.15 1544.91 L846.789 1544.91 L846.789 1548.85 L826.881 1548.85 L826.881 1544.91 Z\" fill=\"#000000\" fill-rule=\"evenodd\" fill-opacity=\"1\" /><path clip-path=\"url(#clip050)\" d=\"M856.719 1542.97 L861.603 1542.97 L861.603 1546.95 L857.807 1554.36 L854.821 1554.36 L856.719 1546.95 L856.719 1542.97 Z\" fill=\"#000000\" fill-rule=\"evenodd\" fill-opacity=\"1\" /><path clip-path=\"url(#clip050)\" d=\"M896.372 1517.37 Q892.761 1517.37 890.932 1520.93 Q889.126 1524.47 889.126 1531.6 Q889.126 1538.71 890.932 1542.27 Q892.761 1545.82 896.372 1545.82 Q900.006 1545.82 901.812 1542.27 Q903.64 1538.71 903.64 1531.6 Q903.64 1524.47 901.812 1520.93 Q900.006 1517.37 896.372 1517.37 M896.372 1513.66 Q902.182 1513.66 905.237 1518.27 Q908.316 1522.85 908.316 1531.6 Q908.316 1540.33 905.237 1544.94 Q902.182 1549.52 896.372 1549.52 Q890.562 1549.52 887.483 1544.94 Q884.427 1540.33 884.427 1531.6 Q884.427 1522.85 887.483 1518.27 Q890.562 1513.66 896.372 1513.66 Z\" fill=\"#000000\" fill-rule=\"evenodd\" fill-opacity=\"1\" /><path clip-path=\"url(#clip050)\" d=\"M925.885 1512.83 L925.885 1555.1 L916.071 1555.1 L916.071 1551.79 L921.603 1551.79 L921.603 1516.14 L916.071 1516.14 L916.071 1512.83 L925.885 1512.83 Z\" fill=\"#000000\" fill-rule=\"evenodd\" fill-opacity=\"1\" /><path clip-path=\"url(#clip050)\" d=\"M653.485 1512.83 L663.299 1512.83 L663.299 1516.14 L657.744 1516.14 L657.744 1551.79 L663.299 1551.79 L663.299 1555.1 L653.485 1555.1 L653.485 1512.83 Z\" fill=\"#000000\" fill-rule=\"evenodd\" fill-opacity=\"1\" /><path clip-path=\"url(#clip050)\" d=\"M673.785 1544.91 L681.424 1544.91 L681.424 1518.55 L673.114 1520.21 L673.114 1515.95 L681.378 1514.29 L686.054 1514.29 L686.054 1544.91 L693.693 1544.91 L693.693 1548.85 L673.785 1548.85 L673.785 1544.91 Z\" fill=\"#000000\" fill-rule=\"evenodd\" fill-opacity=\"1\" /><path clip-path=\"url(#clip050)\" d=\"M703.623 1542.97 L708.508 1542.97 L708.508 1546.95 L704.711 1554.36 L701.725 1554.36 L703.623 1546.95 L703.623 1542.97 Z\" fill=\"#000000\" fill-rule=\"evenodd\" fill-opacity=\"1\" /><path clip-path=\"url(#clip050)\" d=\"M737.304 1544.91 L753.623 1544.91 L753.623 1548.85 L731.679 1548.85 L731.679 1544.91 Q734.341 1542.16 738.924 1537.53 Q743.53 1532.88 744.711 1531.53 Q746.956 1529.01 747.836 1527.27 Q748.739 1525.51 748.739 1523.82 Q748.739 1521.07 746.794 1519.33 Q744.873 1517.6 741.771 1517.6 Q739.572 1517.6 737.118 1518.36 Q734.688 1519.13 731.91 1520.68 L731.91 1515.95 Q734.734 1514.82 737.188 1514.24 Q739.642 1513.66 741.679 1513.66 Q747.049 1513.66 750.243 1516.35 Q753.438 1519.03 753.438 1523.52 Q753.438 1525.65 752.628 1527.57 Q751.841 1529.47 749.734 1532.07 Q749.155 1532.74 746.054 1535.95 Q742.952 1539.15 737.304 1544.91 Z\" fill=\"#000000\" fill-rule=\"evenodd\" fill-opacity=\"1\" /><path clip-path=\"url(#clip050)\" d=\"M763.924 1542.97 L768.808 1542.97 L768.808 1546.95 L765.012 1554.36 L762.026 1554.36 L763.924 1546.95 L763.924 1542.97 Z\" fill=\"#000000\" fill-rule=\"evenodd\" fill-opacity=\"1\" /><path clip-path=\"url(#clip050)\" d=\"M803.576 1517.37 Q799.965 1517.37 798.137 1520.93 Q796.331 1524.47 796.331 1531.6 Q796.331 1538.71 798.137 1542.27 Q799.965 1545.82 803.576 1545.82 Q807.211 1545.82 809.016 1542.27 Q810.845 1538.71 810.845 1531.6 Q810.845 1524.47 809.016 1520.93 Q807.211 1517.37 803.576 1517.37 M803.576 1513.66 Q809.387 1513.66 812.442 1518.27 Q815.521 1522.85 815.521 1531.6 Q815.521 1540.33 812.442 1544.94 Q809.387 1549.52 803.576 1549.52 Q797.766 1549.52 794.688 1544.94 Q791.632 1540.33 791.632 1531.6 Q791.632 1522.85 794.688 1518.27 Q797.766 1513.66 803.576 1513.66 Z\" fill=\"#000000\" fill-rule=\"evenodd\" fill-opacity=\"1\" /><path clip-path=\"url(#clip050)\" d=\"M824.224 1542.97 L829.109 1542.97 L829.109 1546.95 L825.312 1554.36 L822.326 1554.36 L824.224 1546.95 L824.224 1542.97 Z\" fill=\"#000000\" fill-rule=\"evenodd\" fill-opacity=\"1\" /><path clip-path=\"url(#clip050)\" d=\"M863.877 1517.37 Q860.266 1517.37 858.437 1520.93 Q856.632 1524.47 856.632 1531.6 Q856.632 1538.71 858.437 1542.27 Q860.266 1545.82 863.877 1545.82 Q867.511 1545.82 869.317 1542.27 Q871.146 1538.71 871.146 1531.6 Q871.146 1524.47 869.317 1520.93 Q867.511 1517.37 863.877 1517.37 M863.877 1513.66 Q869.687 1513.66 872.743 1518.27 Q875.821 1522.85 875.821 1531.6 Q875.821 1540.33 872.743 1544.94 Q869.687 1549.52 863.877 1549.52 Q858.067 1549.52 854.988 1544.94 Q851.933 1540.33 851.933 1531.6 Q851.933 1522.85 854.988 1518.27 Q858.067 1513.66 863.877 1513.66 Z\" fill=\"#000000\" fill-rule=\"evenodd\" fill-opacity=\"1\" /><path clip-path=\"url(#clip050)\" d=\"M884.525 1542.97 L889.409 1542.97 L889.409 1546.95 L885.613 1554.36 L882.627 1554.36 L884.525 1546.95 L884.525 1542.97 Z\" fill=\"#000000\" fill-rule=\"evenodd\" fill-opacity=\"1\" /><path clip-path=\"url(#clip050)\" d=\"M914.988 1544.91 L922.627 1544.91 L922.627 1518.55 L914.317 1520.21 L914.317 1515.95 L922.58 1514.29 L927.256 1514.29 L927.256 1544.91 L934.895 1544.91 L934.895 1548.85 L914.988 1548.85 L914.988 1544.91 Z\" fill=\"#000000\" fill-rule=\"evenodd\" fill-opacity=\"1\" /><path clip-path=\"url(#clip050)\" d=\"M953.691 1512.83 L953.691 1555.1 L943.877 1555.1 L943.877 1551.79 L949.409 1551.79 L949.409 1516.14 L943.877 1516.14 L943.877 1512.83 L953.691 1512.83 Z\" fill=\"#000000\" fill-rule=\"evenodd\" fill-opacity=\"1\" /><path clip-path=\"url(#clip050)\" d=\"M681.291 1512.83 L691.105 1512.83 L691.105 1516.14 L685.55 1516.14 L685.55 1551.79 L691.105 1551.79 L691.105 1555.1 L681.291 1555.1 L681.291 1512.83 Z\" fill=\"#000000\" fill-rule=\"evenodd\" fill-opacity=\"1\" /><path clip-path=\"url(#clip050)\" d=\"M701.591 1544.91 L709.23 1544.91 L709.23 1518.55 L700.92 1520.21 L700.92 1515.95 L709.184 1514.29 L713.86 1514.29 L713.86 1544.91 L721.499 1544.91 L721.499 1548.85 L701.591 1548.85 L701.591 1544.91 Z\" fill=\"#000000\" fill-rule=\"evenodd\" fill-opacity=\"1\" /><path clip-path=\"url(#clip050)\" d=\"M731.429 1542.97 L736.313 1542.97 L736.313 1546.95 L732.517 1554.36 L729.531 1554.36 L731.429 1546.95 L731.429 1542.97 Z\" fill=\"#000000\" fill-rule=\"evenodd\" fill-opacity=\"1\" /><path clip-path=\"url(#clip050)\" d=\"M761.892 1544.91 L769.531 1544.91 L769.531 1518.55 L761.221 1520.21 L761.221 1515.95 L769.485 1514.29 L774.16 1514.29 L774.16 1544.91 L781.799 1544.91 L781.799 1548.85 L761.892 1548.85 L761.892 1544.91 Z\" fill=\"#000000\" fill-rule=\"evenodd\" fill-opacity=\"1\" /><path clip-path=\"url(#clip050)\" d=\"M791.73 1542.97 L796.614 1542.97 L796.614 1546.95 L792.818 1554.36 L789.832 1554.36 L791.73 1546.95 L791.73 1542.97 Z\" fill=\"#000000\" fill-rule=\"evenodd\" fill-opacity=\"1\" /><path clip-path=\"url(#clip050)\" d=\"M825.41 1544.91 L841.73 1544.91 L841.73 1548.85 L819.785 1548.85 L819.785 1544.91 Q822.447 1542.16 827.031 1537.53 Q831.637 1532.88 832.818 1531.53 Q835.063 1529.01 835.943 1527.27 Q836.845 1525.51 836.845 1523.82 Q836.845 1521.07 834.901 1519.33 Q832.98 1517.6 829.878 1517.6 Q827.679 1517.6 825.225 1518.36 Q822.794 1519.13 820.017 1520.68 L820.017 1515.95 Q822.841 1514.82 825.294 1514.24 Q827.748 1513.66 829.785 1513.66 Q835.155 1513.66 838.35 1516.35 Q841.544 1519.03 841.544 1523.52 Q841.544 1525.65 840.734 1527.57 Q839.947 1529.47 837.841 1532.07 Q837.262 1532.74 834.16 1535.95 Q831.058 1539.15 825.41 1544.91 Z\" fill=\"#000000\" fill-rule=\"evenodd\" fill-opacity=\"1\" /><path clip-path=\"url(#clip050)\" d=\"M852.03 1542.97 L856.915 1542.97 L856.915 1546.95 L853.118 1554.36 L850.132 1554.36 L852.03 1546.95 L852.03 1542.97 Z\" fill=\"#000000\" fill-rule=\"evenodd\" fill-opacity=\"1\" /><path clip-path=\"url(#clip050)\" d=\"M891.683 1517.37 Q888.072 1517.37 886.243 1520.93 Q884.438 1524.47 884.438 1531.6 Q884.438 1538.71 886.243 1542.27 Q888.072 1545.82 891.683 1545.82 Q895.317 1545.82 897.123 1542.27 Q898.951 1538.71 898.951 1531.6 Q898.951 1524.47 897.123 1520.93 Q895.317 1517.37 891.683 1517.37 M891.683 1513.66 Q897.493 1513.66 900.549 1518.27 Q903.627 1522.85 903.627 1531.6 Q903.627 1540.33 900.549 1544.94 Q897.493 1549.52 891.683 1549.52 Q885.873 1549.52 882.794 1544.94 Q879.739 1540.33 879.739 1531.6 Q879.739 1522.85 882.794 1518.27 Q885.873 1513.66 891.683 1513.66 Z\" fill=\"#000000\" fill-rule=\"evenodd\" fill-opacity=\"1\" /><path clip-path=\"url(#clip050)\" d=\"M912.331 1542.97 L917.215 1542.97 L917.215 1546.95 L913.419 1554.36 L910.433 1554.36 L912.331 1546.95 L912.331 1542.97 Z\" fill=\"#000000\" fill-rule=\"evenodd\" fill-opacity=\"1\" /><path clip-path=\"url(#clip050)\" d=\"M951.984 1517.37 Q948.372 1517.37 946.544 1520.93 Q944.738 1524.47 944.738 1531.6 Q944.738 1538.71 946.544 1542.27 Q948.372 1545.82 951.984 1545.82 Q955.618 1545.82 957.423 1542.27 Q959.252 1538.71 959.252 1531.6 Q959.252 1524.47 957.423 1520.93 Q955.618 1517.37 951.984 1517.37 M951.984 1513.66 Q957.794 1513.66 960.849 1518.27 Q963.928 1522.85 963.928 1531.6 Q963.928 1540.33 960.849 1544.94 Q957.794 1549.52 951.984 1549.52 Q946.173 1549.52 943.095 1544.94 Q940.039 1540.33 940.039 1531.6 Q940.039 1522.85 943.095 1518.27 Q946.173 1513.66 951.984 1513.66 Z\" fill=\"#000000\" fill-rule=\"evenodd\" fill-opacity=\"1\" /><path clip-path=\"url(#clip050)\" d=\"M981.497 1512.83 L981.497 1555.1 L971.683 1555.1 L971.683 1551.79 L977.215 1551.79 L977.215 1516.14 L971.683 1516.14 L971.683 1512.83 L981.497 1512.83 Z\" fill=\"#000000\" fill-rule=\"evenodd\" fill-opacity=\"1\" /><path clip-path=\"url(#clip050)\" d=\"M709.096 1512.83 L718.911 1512.83 L718.911 1516.14 L713.356 1516.14 L713.356 1551.79 L718.911 1551.79 L718.911 1555.1 L709.096 1555.1 L709.096 1512.83 Z\" fill=\"#000000\" fill-rule=\"evenodd\" fill-opacity=\"1\" /><path clip-path=\"url(#clip050)\" d=\"M729.397 1544.91 L737.036 1544.91 L737.036 1518.55 L728.726 1520.21 L728.726 1515.95 L736.99 1514.29 L741.666 1514.29 L741.666 1544.91 L749.305 1544.91 L749.305 1548.85 L729.397 1548.85 L729.397 1544.91 Z\" fill=\"#000000\" fill-rule=\"evenodd\" fill-opacity=\"1\" /><path clip-path=\"url(#clip050)\" d=\"M759.235 1542.97 L764.119 1542.97 L764.119 1546.95 L760.323 1554.36 L757.337 1554.36 L759.235 1546.95 L759.235 1542.97 Z\" fill=\"#000000\" fill-rule=\"evenodd\" fill-opacity=\"1\" /><path clip-path=\"url(#clip050)\" d=\"M789.698 1544.91 L797.337 1544.91 L797.337 1518.55 L789.027 1520.21 L789.027 1515.95 L797.29 1514.29 L801.966 1514.29 L801.966 1544.91 L809.605 1544.91 L809.605 1548.85 L789.698 1548.85 L789.698 1544.91 Z\" fill=\"#000000\" fill-rule=\"evenodd\" fill-opacity=\"1\" /><path clip-path=\"url(#clip050)\" d=\"M819.536 1542.97 L824.42 1542.97 L824.42 1546.95 L820.624 1554.36 L817.638 1554.36 L819.536 1546.95 L819.536 1542.97 Z\" fill=\"#000000\" fill-rule=\"evenodd\" fill-opacity=\"1\" /><path clip-path=\"url(#clip050)\" d=\"M849.998 1544.91 L857.637 1544.91 L857.637 1518.55 L849.327 1520.21 L849.327 1515.95 L857.591 1514.29 L862.267 1514.29 L862.267 1544.91 L869.906 1544.91 L869.906 1548.85 L849.998 1548.85 L849.998 1544.91 Z\" fill=\"#000000\" fill-rule=\"evenodd\" fill-opacity=\"1\" /><path clip-path=\"url(#clip050)\" d=\"M879.836 1542.97 L884.721 1542.97 L884.721 1546.95 L880.924 1554.36 L877.938 1554.36 L879.836 1546.95 L879.836 1542.97 Z\" fill=\"#000000\" fill-rule=\"evenodd\" fill-opacity=\"1\" /><path clip-path=\"url(#clip050)\" d=\"M910.299 1544.91 L917.938 1544.91 L917.938 1518.55 L909.628 1520.21 L909.628 1515.95 L917.892 1514.29 L922.568 1514.29 L922.568 1544.91 L930.206 1544.91 L930.206 1548.85 L910.299 1548.85 L910.299 1544.91 Z\" fill=\"#000000\" fill-rule=\"evenodd\" fill-opacity=\"1\" /><path clip-path=\"url(#clip050)\" d=\"M940.137 1542.97 L945.021 1542.97 L945.021 1546.95 L941.225 1554.36 L938.239 1554.36 L940.137 1546.95 L940.137 1542.97 Z\" fill=\"#000000\" fill-rule=\"evenodd\" fill-opacity=\"1\" /><path clip-path=\"url(#clip050)\" d=\"M979.789 1517.37 Q976.178 1517.37 974.35 1520.93 Q972.544 1524.47 972.544 1531.6 Q972.544 1538.71 974.35 1542.27 Q976.178 1545.82 979.789 1545.82 Q983.424 1545.82 985.229 1542.27 Q987.058 1538.71 987.058 1531.6 Q987.058 1524.47 985.229 1520.93 Q983.424 1517.37 979.789 1517.37 M979.789 1513.66 Q985.6 1513.66 988.655 1518.27 Q991.734 1522.85 991.734 1531.6 Q991.734 1540.33 988.655 1544.94 Q985.6 1549.52 979.789 1549.52 Q973.979 1549.52 970.901 1544.94 Q967.845 1540.33 967.845 1531.6 Q967.845 1522.85 970.901 1518.27 Q973.979 1513.66 979.789 1513.66 Z\" fill=\"#000000\" fill-rule=\"evenodd\" fill-opacity=\"1\" /><path clip-path=\"url(#clip050)\" d=\"M1009.3 1512.83 L1009.3 1555.1 L999.488 1555.1 L999.488 1551.79 L1005.02 1551.79 L1005.02 1516.14 L999.488 1516.14 L999.488 1512.83 L1009.3 1512.83 Z\" fill=\"#000000\" fill-rule=\"evenodd\" fill-opacity=\"1\" /><path clip-path=\"url(#clip050)\" d=\"M736.902 1512.83 L746.717 1512.83 L746.717 1516.14 L741.162 1516.14 L741.162 1551.79 L746.717 1551.79 L746.717 1555.1 L736.902 1555.1 L736.902 1512.83 Z\" fill=\"#000000\" fill-rule=\"evenodd\" fill-opacity=\"1\" /><path clip-path=\"url(#clip050)\" d=\"M757.203 1544.91 L764.842 1544.91 L764.842 1518.55 L756.532 1520.21 L756.532 1515.95 L764.796 1514.29 L769.472 1514.29 L769.472 1544.91 L777.11 1544.91 L777.11 1548.85 L757.203 1548.85 L757.203 1544.91 Z\" fill=\"#000000\" fill-rule=\"evenodd\" fill-opacity=\"1\" /><path clip-path=\"url(#clip050)\" d=\"M787.041 1542.97 L791.925 1542.97 L791.925 1546.95 L788.129 1554.36 L785.143 1554.36 L787.041 1546.95 L787.041 1542.97 Z\" fill=\"#000000\" fill-rule=\"evenodd\" fill-opacity=\"1\" /><path clip-path=\"url(#clip050)\" d=\"M817.504 1544.91 L825.143 1544.91 L825.143 1518.55 L816.832 1520.21 L816.832 1515.95 L825.096 1514.29 L829.772 1514.29 L829.772 1544.91 L837.411 1544.91 L837.411 1548.85 L817.504 1548.85 L817.504 1544.91 Z\" fill=\"#000000\" fill-rule=\"evenodd\" fill-opacity=\"1\" /><path clip-path=\"url(#clip050)\" d=\"M847.342 1542.97 L852.226 1542.97 L852.226 1546.95 L848.43 1554.36 L845.443 1554.36 L847.342 1546.95 L847.342 1542.97 Z\" fill=\"#000000\" fill-rule=\"evenodd\" fill-opacity=\"1\" /><path clip-path=\"url(#clip050)\" d=\"M877.804 1544.91 L885.443 1544.91 L885.443 1518.55 L877.133 1520.21 L877.133 1515.95 L885.397 1514.29 L890.073 1514.29 L890.073 1544.91 L897.712 1544.91 L897.712 1548.85 L877.804 1548.85 L877.804 1544.91 Z\" fill=\"#000000\" fill-rule=\"evenodd\" fill-opacity=\"1\" /><path clip-path=\"url(#clip050)\" d=\"M907.642 1542.97 L912.526 1542.97 L912.526 1546.95 L908.73 1554.36 L905.744 1554.36 L907.642 1546.95 L907.642 1542.97 Z\" fill=\"#000000\" fill-rule=\"evenodd\" fill-opacity=\"1\" /><path clip-path=\"url(#clip050)\" d=\"M947.295 1517.37 Q943.684 1517.37 941.855 1520.93 Q940.049 1524.47 940.049 1531.6 Q940.049 1538.71 941.855 1542.27 Q943.684 1545.82 947.295 1545.82 Q950.929 1545.82 952.735 1542.27 Q954.563 1538.71 954.563 1531.6 Q954.563 1524.47 952.735 1520.93 Q950.929 1517.37 947.295 1517.37 M947.295 1513.66 Q953.105 1513.66 956.16 1518.27 Q959.239 1522.85 959.239 1531.6 Q959.239 1540.33 956.16 1544.94 Q953.105 1549.52 947.295 1549.52 Q941.485 1549.52 938.406 1544.94 Q935.35 1540.33 935.35 1531.6 Q935.35 1522.85 938.406 1518.27 Q941.485 1513.66 947.295 1513.66 Z\" fill=\"#000000\" fill-rule=\"evenodd\" fill-opacity=\"1\" /><path clip-path=\"url(#clip050)\" d=\"M967.943 1542.97 L972.827 1542.97 L972.827 1546.95 L969.031 1554.36 L966.045 1554.36 L967.943 1546.95 L967.943 1542.97 Z\" fill=\"#000000\" fill-rule=\"evenodd\" fill-opacity=\"1\" /><path clip-path=\"url(#clip050)\" d=\"M998.406 1544.91 L1006.04 1544.91 L1006.04 1518.55 L997.734 1520.21 L997.734 1515.95 L1006 1514.29 L1010.67 1514.29 L1010.67 1544.91 L1018.31 1544.91 L1018.31 1548.85 L998.406 1548.85 L998.406 1544.91 Z\" fill=\"#000000\" fill-rule=\"evenodd\" fill-opacity=\"1\" /><path clip-path=\"url(#clip050)\" d=\"M1037.11 1512.83 L1037.11 1555.1 L1027.29 1555.1 L1027.29 1551.79 L1032.83 1551.79 L1032.83 1516.14 L1027.29 1516.14 L1027.29 1512.83 L1037.11 1512.83 Z\" fill=\"#000000\" fill-rule=\"evenodd\" fill-opacity=\"1\" /><path clip-path=\"url(#clip050)\" d=\"M764.708 1512.83 L774.523 1512.83 L774.523 1516.14 L768.967 1516.14 L768.967 1551.79 L774.523 1551.79 L774.523 1555.1 L764.708 1555.1 L764.708 1512.83 Z\" fill=\"#000000\" fill-rule=\"evenodd\" fill-opacity=\"1\" /><path clip-path=\"url(#clip050)\" d=\"M785.009 1544.91 L792.648 1544.91 L792.648 1518.55 L784.338 1520.21 L784.338 1515.95 L792.602 1514.29 L797.278 1514.29 L797.278 1544.91 L804.916 1544.91 L804.916 1548.85 L785.009 1548.85 L785.009 1544.91 Z\" fill=\"#000000\" fill-rule=\"evenodd\" fill-opacity=\"1\" /><path clip-path=\"url(#clip050)\" d=\"M814.847 1542.97 L819.731 1542.97 L819.731 1546.95 L815.935 1554.36 L812.949 1554.36 L814.847 1546.95 L814.847 1542.97 Z\" fill=\"#000000\" fill-rule=\"evenodd\" fill-opacity=\"1\" /><path clip-path=\"url(#clip050)\" d=\"M845.31 1544.91 L852.949 1544.91 L852.949 1518.55 L844.638 1520.21 L844.638 1515.95 L852.902 1514.29 L857.578 1514.29 L857.578 1544.91 L865.217 1544.91 L865.217 1548.85 L845.31 1548.85 L845.31 1544.91 Z\" fill=\"#000000\" fill-rule=\"evenodd\" fill-opacity=\"1\" /><path clip-path=\"url(#clip050)\" d=\"M875.147 1542.97 L880.032 1542.97 L880.032 1546.95 L876.235 1554.36 L873.249 1554.36 L875.147 1546.95 L875.147 1542.97 Z\" fill=\"#000000\" fill-rule=\"evenodd\" fill-opacity=\"1\" /><path clip-path=\"url(#clip050)\" d=\"M914.8 1517.37 Q911.189 1517.37 909.36 1520.93 Q907.555 1524.47 907.555 1531.6 Q907.555 1538.71 909.36 1542.27 Q911.189 1545.82 914.8 1545.82 Q918.434 1545.82 920.24 1542.27 Q922.069 1538.71 922.069 1531.6 Q922.069 1524.47 920.24 1520.93 Q918.434 1517.37 914.8 1517.37 M914.8 1513.66 Q920.61 1513.66 923.666 1518.27 Q926.744 1522.85 926.744 1531.6 Q926.744 1540.33 923.666 1544.94 Q920.61 1549.52 914.8 1549.52 Q908.99 1549.52 905.911 1544.94 Q902.856 1540.33 902.856 1531.6 Q902.856 1522.85 905.911 1518.27 Q908.99 1513.66 914.8 1513.66 Z\" fill=\"#000000\" fill-rule=\"evenodd\" fill-opacity=\"1\" /><path clip-path=\"url(#clip050)\" d=\"M935.448 1542.97 L940.332 1542.97 L940.332 1546.95 L936.536 1554.36 L933.55 1554.36 L935.448 1546.95 L935.448 1542.97 Z\" fill=\"#000000\" fill-rule=\"evenodd\" fill-opacity=\"1\" /><path clip-path=\"url(#clip050)\" d=\"M969.128 1544.91 L985.448 1544.91 L985.448 1548.85 L963.503 1548.85 L963.503 1544.91 Q966.166 1542.16 970.749 1537.53 Q975.355 1532.88 976.536 1531.53 Q978.781 1529.01 979.661 1527.27 Q980.564 1525.51 980.564 1523.82 Q980.564 1521.07 978.619 1519.33 Q976.698 1517.6 973.596 1517.6 Q971.397 1517.6 968.943 1518.36 Q966.513 1519.13 963.735 1520.68 L963.735 1515.95 Q966.559 1514.82 969.013 1514.24 Q971.466 1513.66 973.503 1513.66 Q978.874 1513.66 982.068 1516.35 Q985.263 1519.03 985.263 1523.52 Q985.263 1525.65 984.452 1527.57 Q983.665 1529.47 981.559 1532.07 Q980.98 1532.74 977.878 1535.95 Q974.777 1539.15 969.128 1544.91 Z\" fill=\"#000000\" fill-rule=\"evenodd\" fill-opacity=\"1\" /><path clip-path=\"url(#clip050)\" d=\"M995.749 1542.97 L1000.63 1542.97 L1000.63 1546.95 L996.837 1554.36 L993.851 1554.36 L995.749 1546.95 L995.749 1542.97 Z\" fill=\"#000000\" fill-rule=\"evenodd\" fill-opacity=\"1\" /><path clip-path=\"url(#clip050)\" d=\"M1035.4 1517.37 Q1031.79 1517.37 1029.96 1520.93 Q1028.16 1524.47 1028.16 1531.6 Q1028.16 1538.71 1029.96 1542.27 Q1031.79 1545.82 1035.4 1545.82 Q1039.04 1545.82 1040.84 1542.27 Q1042.67 1538.71 1042.67 1531.6 Q1042.67 1524.47 1040.84 1520.93 Q1039.04 1517.37 1035.4 1517.37 M1035.4 1513.66 Q1041.21 1513.66 1044.27 1518.27 Q1047.35 1522.85 1047.35 1531.6 Q1047.35 1540.33 1044.27 1544.94 Q1041.21 1549.52 1035.4 1549.52 Q1029.59 1549.52 1026.51 1544.94 Q1023.46 1540.33 1023.46 1531.6 Q1023.46 1522.85 1026.51 1518.27 Q1029.59 1513.66 1035.4 1513.66 Z\" fill=\"#000000\" fill-rule=\"evenodd\" fill-opacity=\"1\" /><path clip-path=\"url(#clip050)\" d=\"M1064.91 1512.83 L1064.91 1555.1 L1055.1 1555.1 L1055.1 1551.79 L1060.63 1551.79 L1060.63 1516.14 L1055.1 1516.14 L1055.1 1512.83 L1064.91 1512.83 Z\" fill=\"#000000\" fill-rule=\"evenodd\" fill-opacity=\"1\" /><path clip-path=\"url(#clip050)\" d=\"M792.514 1512.83 L802.329 1512.83 L802.329 1516.14 L796.773 1516.14 L796.773 1551.79 L802.329 1551.79 L802.329 1555.1 L792.514 1555.1 L792.514 1512.83 Z\" fill=\"#000000\" fill-rule=\"evenodd\" fill-opacity=\"1\" /><path clip-path=\"url(#clip050)\" d=\"M812.815 1544.91 L820.454 1544.91 L820.454 1518.55 L812.144 1520.21 L812.144 1515.95 L820.408 1514.29 L825.083 1514.29 L825.083 1544.91 L832.722 1544.91 L832.722 1548.85 L812.815 1548.85 L812.815 1544.91 Z\" fill=\"#000000\" fill-rule=\"evenodd\" fill-opacity=\"1\" /><path clip-path=\"url(#clip050)\" d=\"M842.653 1542.97 L847.537 1542.97 L847.537 1546.95 L843.741 1554.36 L840.755 1554.36 L842.653 1546.95 L842.653 1542.97 Z\" fill=\"#000000\" fill-rule=\"evenodd\" fill-opacity=\"1\" /><path clip-path=\"url(#clip050)\" d=\"M873.116 1544.91 L880.754 1544.91 L880.754 1518.55 L872.444 1520.21 L872.444 1515.95 L880.708 1514.29 L885.384 1514.29 L885.384 1544.91 L893.023 1544.91 L893.023 1548.85 L873.116 1548.85 L873.116 1544.91 Z\" fill=\"#000000\" fill-rule=\"evenodd\" fill-opacity=\"1\" /><path clip-path=\"url(#clip050)\" d=\"M902.953 1542.97 L907.838 1542.97 L907.838 1546.95 L904.041 1554.36 L901.055 1554.36 L902.953 1546.95 L902.953 1542.97 Z\" fill=\"#000000\" fill-rule=\"evenodd\" fill-opacity=\"1\" /><path clip-path=\"url(#clip050)\" d=\"M942.606 1517.37 Q938.995 1517.37 937.166 1520.93 Q935.361 1524.47 935.361 1531.6 Q935.361 1538.71 937.166 1542.27 Q938.995 1545.82 942.606 1545.82 Q946.24 1545.82 948.046 1542.27 Q949.874 1538.71 949.874 1531.6 Q949.874 1524.47 948.046 1520.93 Q946.24 1517.37 942.606 1517.37 M942.606 1513.66 Q948.416 1513.66 951.472 1518.27 Q954.55 1522.85 954.55 1531.6 Q954.55 1540.33 951.472 1544.94 Q948.416 1549.52 942.606 1549.52 Q936.796 1549.52 933.717 1544.94 Q930.662 1540.33 930.662 1531.6 Q930.662 1522.85 933.717 1518.27 Q936.796 1513.66 942.606 1513.66 Z\" fill=\"#000000\" fill-rule=\"evenodd\" fill-opacity=\"1\" /><path clip-path=\"url(#clip050)\" d=\"M963.254 1542.97 L968.138 1542.97 L968.138 1546.95 L964.342 1554.36 L961.356 1554.36 L963.254 1546.95 L963.254 1542.97 Z\" fill=\"#000000\" fill-rule=\"evenodd\" fill-opacity=\"1\" /><path clip-path=\"url(#clip050)\" d=\"M993.717 1544.91 L1001.36 1544.91 L1001.36 1518.55 L993.045 1520.21 L993.045 1515.95 L1001.31 1514.29 L1005.99 1514.29 L1005.99 1544.91 L1013.62 1544.91 L1013.62 1548.85 L993.717 1548.85 L993.717 1544.91 Z\" fill=\"#000000\" fill-rule=\"evenodd\" fill-opacity=\"1\" /><path clip-path=\"url(#clip050)\" d=\"M1023.55 1542.97 L1028.44 1542.97 L1028.44 1546.95 L1024.64 1554.36 L1021.66 1554.36 L1023.55 1546.95 L1023.55 1542.97 Z\" fill=\"#000000\" fill-rule=\"evenodd\" fill-opacity=\"1\" /><path clip-path=\"url(#clip050)\" d=\"M1054.02 1544.91 L1061.66 1544.91 L1061.66 1518.55 L1053.35 1520.21 L1053.35 1515.95 L1061.61 1514.29 L1066.29 1514.29 L1066.29 1544.91 L1073.92 1544.91 L1073.92 1548.85 L1054.02 1548.85 L1054.02 1544.91 Z\" fill=\"#000000\" fill-rule=\"evenodd\" fill-opacity=\"1\" /><path clip-path=\"url(#clip050)\" d=\"M1092.72 1512.83 L1092.72 1555.1 L1082.91 1555.1 L1082.91 1551.79 L1088.44 1551.79 L1088.44 1516.14 L1082.91 1516.14 L1082.91 1512.83 L1092.72 1512.83 Z\" fill=\"#000000\" fill-rule=\"evenodd\" fill-opacity=\"1\" /><path clip-path=\"url(#clip050)\" d=\"M820.32 1512.83 L830.135 1512.83 L830.135 1516.14 L824.579 1516.14 L824.579 1551.79 L830.135 1551.79 L830.135 1555.1 L820.32 1555.1 L820.32 1512.83 Z\" fill=\"#000000\" fill-rule=\"evenodd\" fill-opacity=\"1\" /><path clip-path=\"url(#clip050)\" d=\"M840.621 1544.91 L848.26 1544.91 L848.26 1518.55 L839.95 1520.21 L839.95 1515.95 L848.213 1514.29 L852.889 1514.29 L852.889 1544.91 L860.528 1544.91 L860.528 1548.85 L840.621 1548.85 L840.621 1544.91 Z\" fill=\"#000000\" fill-rule=\"evenodd\" fill-opacity=\"1\" /><path clip-path=\"url(#clip050)\" d=\"M870.459 1542.97 L875.343 1542.97 L875.343 1546.95 L871.547 1554.36 L868.561 1554.36 L870.459 1546.95 L870.459 1542.97 Z\" fill=\"#000000\" fill-rule=\"evenodd\" fill-opacity=\"1\" /><path clip-path=\"url(#clip050)\" d=\"M900.921 1544.91 L908.56 1544.91 L908.56 1518.55 L900.25 1520.21 L900.25 1515.95 L908.514 1514.29 L913.19 1514.29 L913.19 1544.91 L920.829 1544.91 L920.829 1548.85 L900.921 1548.85 L900.921 1544.91 Z\" fill=\"#000000\" fill-rule=\"evenodd\" fill-opacity=\"1\" /><path clip-path=\"url(#clip050)\" d=\"M930.759 1542.97 L935.644 1542.97 L935.644 1546.95 L931.847 1554.36 L928.861 1554.36 L930.759 1546.95 L930.759 1542.97 Z\" fill=\"#000000\" fill-rule=\"evenodd\" fill-opacity=\"1\" /><path clip-path=\"url(#clip050)\" d=\"M970.412 1517.37 Q966.801 1517.37 964.972 1520.93 Q963.167 1524.47 963.167 1531.6 Q963.167 1538.71 964.972 1542.27 Q966.801 1545.82 970.412 1545.82 Q974.046 1545.82 975.852 1542.27 Q977.68 1538.71 977.68 1531.6 Q977.68 1524.47 975.852 1520.93 Q974.046 1517.37 970.412 1517.37 M970.412 1513.66 Q976.222 1513.66 979.278 1518.27 Q982.356 1522.85 982.356 1531.6 Q982.356 1540.33 979.278 1544.94 Q976.222 1549.52 970.412 1549.52 Q964.602 1549.52 961.523 1544.94 Q958.467 1540.33 958.467 1531.6 Q958.467 1522.85 961.523 1518.27 Q964.602 1513.66 970.412 1513.66 Z\" fill=\"#000000\" fill-rule=\"evenodd\" fill-opacity=\"1\" /><path clip-path=\"url(#clip050)\" d=\"M991.06 1542.97 L995.944 1542.97 L995.944 1546.95 L992.148 1554.36 L989.162 1554.36 L991.06 1546.95 L991.06 1542.97 Z\" fill=\"#000000\" fill-rule=\"evenodd\" fill-opacity=\"1\" /><path clip-path=\"url(#clip050)\" d=\"M1030.71 1517.37 Q1027.1 1517.37 1025.27 1520.93 Q1023.47 1524.47 1023.47 1531.6 Q1023.47 1538.71 1025.27 1542.27 Q1027.1 1545.82 1030.71 1545.82 Q1034.35 1545.82 1036.15 1542.27 Q1037.98 1538.71 1037.98 1531.6 Q1037.98 1524.47 1036.15 1520.93 Q1034.35 1517.37 1030.71 1517.37 M1030.71 1513.66 Q1036.52 1513.66 1039.58 1518.27 Q1042.66 1522.85 1042.66 1531.6 Q1042.66 1540.33 1039.58 1544.94 Q1036.52 1549.52 1030.71 1549.52 Q1024.9 1549.52 1021.82 1544.94 Q1018.77 1540.33 1018.77 1531.6 Q1018.77 1522.85 1021.82 1518.27 Q1024.9 1513.66 1030.71 1513.66 Z\" fill=\"#000000\" fill-rule=\"evenodd\" fill-opacity=\"1\" /><path clip-path=\"url(#clip050)\" d=\"M1051.36 1542.97 L1056.24 1542.97 L1056.24 1546.95 L1052.45 1554.36 L1049.46 1554.36 L1051.36 1546.95 L1051.36 1542.97 Z\" fill=\"#000000\" fill-rule=\"evenodd\" fill-opacity=\"1\" /><path clip-path=\"url(#clip050)\" d=\"M1085.04 1544.91 L1101.36 1544.91 L1101.36 1548.85 L1079.42 1548.85 L1079.42 1544.91 Q1082.08 1542.16 1086.66 1537.53 Q1091.27 1532.88 1092.45 1531.53 Q1094.69 1529.01 1095.57 1527.27 Q1096.48 1525.51 1096.48 1523.82 Q1096.48 1521.07 1094.53 1519.33 Q1092.61 1517.6 1089.51 1517.6 Q1087.31 1517.6 1084.86 1518.36 Q1082.43 1519.13 1079.65 1520.68 L1079.65 1515.95 Q1082.47 1514.82 1084.93 1514.24 Q1087.38 1513.66 1089.42 1513.66 Q1094.79 1513.66 1097.98 1516.35 Q1101.18 1519.03 1101.18 1523.52 Q1101.18 1525.65 1100.36 1527.57 Q1099.58 1529.47 1097.47 1532.07 Q1096.89 1532.74 1093.79 1535.95 Q1090.69 1539.15 1085.04 1544.91 Z\" fill=\"#000000\" fill-rule=\"evenodd\" fill-opacity=\"1\" /><path clip-path=\"url(#clip050)\" d=\"M1120.53 1512.83 L1120.53 1555.1 L1110.71 1555.1 L1110.71 1551.79 L1116.24 1551.79 L1116.24 1516.14 L1110.71 1516.14 L1110.71 1512.83 L1120.53 1512.83 Z\" fill=\"#000000\" fill-rule=\"evenodd\" fill-opacity=\"1\" /><path clip-path=\"url(#clip050)\" d=\"M848.126 1512.83 L857.941 1512.83 L857.941 1516.14 L852.385 1516.14 L852.385 1551.79 L857.941 1551.79 L857.941 1555.1 L848.126 1555.1 L848.126 1512.83 Z\" fill=\"#000000\" fill-rule=\"evenodd\" fill-opacity=\"1\" /><path clip-path=\"url(#clip050)\" d=\"M868.427 1544.91 L876.066 1544.91 L876.066 1518.55 L867.755 1520.21 L867.755 1515.95 L876.019 1514.29 L880.695 1514.29 L880.695 1544.91 L888.334 1544.91 L888.334 1548.85 L868.427 1548.85 L868.427 1544.91 Z\" fill=\"#000000\" fill-rule=\"evenodd\" fill-opacity=\"1\" /><path clip-path=\"url(#clip050)\" d=\"M898.265 1542.97 L903.149 1542.97 L903.149 1546.95 L899.353 1554.36 L896.366 1554.36 L898.265 1546.95 L898.265 1542.97 Z\" fill=\"#000000\" fill-rule=\"evenodd\" fill-opacity=\"1\" /><path clip-path=\"url(#clip050)\" d=\"M937.917 1517.37 Q934.306 1517.37 932.477 1520.93 Q930.672 1524.47 930.672 1531.6 Q930.672 1538.71 932.477 1542.27 Q934.306 1545.82 937.917 1545.82 Q941.551 1545.82 943.357 1542.27 Q945.186 1538.71 945.186 1531.6 Q945.186 1524.47 943.357 1520.93 Q941.551 1517.37 937.917 1517.37 M937.917 1513.66 Q943.727 1513.66 946.783 1518.27 Q949.862 1522.85 949.862 1531.6 Q949.862 1540.33 946.783 1544.94 Q943.727 1549.52 937.917 1549.52 Q932.107 1549.52 929.028 1544.94 Q925.973 1540.33 925.973 1531.6 Q925.973 1522.85 929.028 1518.27 Q932.107 1513.66 937.917 1513.66 Z\" fill=\"#000000\" fill-rule=\"evenodd\" fill-opacity=\"1\" /><path clip-path=\"url(#clip050)\" d=\"M958.565 1542.97 L963.449 1542.97 L963.449 1546.95 L959.653 1554.36 L956.667 1554.36 L958.565 1546.95 L958.565 1542.97 Z\" fill=\"#000000\" fill-rule=\"evenodd\" fill-opacity=\"1\" /><path clip-path=\"url(#clip050)\" d=\"M1002.38 1530.21 Q1005.74 1530.93 1007.62 1533.2 Q1009.51 1535.47 1009.51 1538.8 Q1009.51 1543.92 1006 1546.72 Q1002.48 1549.52 995.996 1549.52 Q993.82 1549.52 991.505 1549.08 Q989.213 1548.66 986.759 1547.81 L986.759 1543.29 Q988.704 1544.43 991.019 1545.01 Q993.334 1545.58 995.857 1545.58 Q1000.25 1545.58 1002.55 1543.85 Q1004.86 1542.11 1004.86 1538.8 Q1004.86 1535.75 1002.71 1534.03 Q1000.58 1532.3 996.759 1532.3 L992.732 1532.3 L992.732 1528.45 L996.945 1528.45 Q1000.39 1528.45 1002.22 1527.09 Q1004.05 1525.7 1004.05 1523.11 Q1004.05 1520.45 1002.15 1519.03 Q1000.28 1517.6 996.759 1517.6 Q994.838 1517.6 992.639 1518.01 Q990.44 1518.43 987.801 1519.31 L987.801 1515.14 Q990.463 1514.4 992.778 1514.03 Q995.116 1513.66 997.176 1513.66 Q1002.5 1513.66 1005.6 1516.09 Q1008.7 1518.5 1008.7 1522.62 Q1008.7 1525.49 1007.06 1527.48 Q1005.42 1529.45 1002.38 1530.21 Z\" fill=\"#000000\" fill-rule=\"evenodd\" fill-opacity=\"1\" /><path clip-path=\"url(#clip050)\" d=\"M1018.87 1542.97 L1023.75 1542.97 L1023.75 1546.95 L1019.95 1554.36 L1016.97 1554.36 L1018.87 1546.95 L1018.87 1542.97 Z\" fill=\"#000000\" fill-rule=\"evenodd\" fill-opacity=\"1\" /><path clip-path=\"url(#clip050)\" d=\"M1058.52 1517.37 Q1054.91 1517.37 1053.08 1520.93 Q1051.27 1524.47 1051.27 1531.6 Q1051.27 1538.71 1053.08 1542.27 Q1054.91 1545.82 1058.52 1545.82 Q1062.15 1545.82 1063.96 1542.27 Q1065.79 1538.71 1065.79 1531.6 Q1065.79 1524.47 1063.96 1520.93 Q1062.15 1517.37 1058.52 1517.37 M1058.52 1513.66 Q1064.33 1513.66 1067.38 1518.27 Q1070.46 1522.85 1070.46 1531.6 Q1070.46 1540.33 1067.38 1544.94 Q1064.33 1549.52 1058.52 1549.52 Q1052.71 1549.52 1049.63 1544.94 Q1046.57 1540.33 1046.57 1531.6 Q1046.57 1522.85 1049.63 1518.27 Q1052.71 1513.66 1058.52 1513.66 Z\" fill=\"#000000\" fill-rule=\"evenodd\" fill-opacity=\"1\" /><path clip-path=\"url(#clip050)\" d=\"M1079.17 1542.97 L1084.05 1542.97 L1084.05 1546.95 L1080.25 1554.36 L1077.27 1554.36 L1079.17 1546.95 L1079.17 1542.97 Z\" fill=\"#000000\" fill-rule=\"evenodd\" fill-opacity=\"1\" /><path clip-path=\"url(#clip050)\" d=\"M1118.82 1517.37 Q1115.21 1517.37 1113.38 1520.93 Q1111.57 1524.47 1111.57 1531.6 Q1111.57 1538.71 1113.38 1542.27 Q1115.21 1545.82 1118.82 1545.82 Q1122.45 1545.82 1124.26 1542.27 Q1126.09 1538.71 1126.09 1531.6 Q1126.09 1524.47 1124.26 1520.93 Q1122.45 1517.37 1118.82 1517.37 M1118.82 1513.66 Q1124.63 1513.66 1127.68 1518.27 Q1130.76 1522.85 1130.76 1531.6 Q1130.76 1540.33 1127.68 1544.94 Q1124.63 1549.52 1118.82 1549.52 Q1113.01 1549.52 1109.93 1544.94 Q1106.87 1540.33 1106.87 1531.6 Q1106.87 1522.85 1109.93 1518.27 Q1113.01 1513.66 1118.82 1513.66 Z\" fill=\"#000000\" fill-rule=\"evenodd\" fill-opacity=\"1\" /><path clip-path=\"url(#clip050)\" d=\"M1148.33 1512.83 L1148.33 1555.1 L1138.52 1555.1 L1138.52 1551.79 L1144.05 1551.79 L1144.05 1516.14 L1138.52 1516.14 L1138.52 1512.83 L1148.33 1512.83 Z\" fill=\"#000000\" fill-rule=\"evenodd\" fill-opacity=\"1\" /><path clip-path=\"url(#clip050)\" d=\"M875.932 1512.83 L885.747 1512.83 L885.747 1516.14 L880.191 1516.14 L880.191 1551.79 L885.747 1551.79 L885.747 1555.1 L875.932 1555.1 L875.932 1512.83 Z\" fill=\"#000000\" fill-rule=\"evenodd\" fill-opacity=\"1\" /><path clip-path=\"url(#clip050)\" d=\"M896.233 1544.91 L903.872 1544.91 L903.872 1518.55 L895.561 1520.21 L895.561 1515.95 L903.825 1514.29 L908.501 1514.29 L908.501 1544.91 L916.14 1544.91 L916.14 1548.85 L896.233 1548.85 L896.233 1544.91 Z\" fill=\"#000000\" fill-rule=\"evenodd\" fill-opacity=\"1\" /><path clip-path=\"url(#clip050)\" d=\"M926.07 1542.97 L930.955 1542.97 L930.955 1546.95 L927.158 1554.36 L924.172 1554.36 L926.07 1546.95 L926.07 1542.97 Z\" fill=\"#000000\" fill-rule=\"evenodd\" fill-opacity=\"1\" /><path clip-path=\"url(#clip050)\" d=\"M965.723 1517.37 Q962.112 1517.37 960.283 1520.93 Q958.478 1524.47 958.478 1531.6 Q958.478 1538.71 960.283 1542.27 Q962.112 1545.82 965.723 1545.82 Q969.357 1545.82 971.163 1542.27 Q972.992 1538.71 972.992 1531.6 Q972.992 1524.47 971.163 1520.93 Q969.357 1517.37 965.723 1517.37 M965.723 1513.66 Q971.533 1513.66 974.589 1518.27 Q977.667 1522.85 977.667 1531.6 Q977.667 1540.33 974.589 1544.94 Q971.533 1549.52 965.723 1549.52 Q959.913 1549.52 956.834 1544.94 Q953.779 1540.33 953.779 1531.6 Q953.779 1522.85 956.834 1518.27 Q959.913 1513.66 965.723 1513.66 Z\" fill=\"#000000\" fill-rule=\"evenodd\" fill-opacity=\"1\" /><path clip-path=\"url(#clip050)\" d=\"M986.371 1542.97 L991.255 1542.97 L991.255 1546.95 L987.459 1554.36 L984.473 1554.36 L986.371 1546.95 L986.371 1542.97 Z\" fill=\"#000000\" fill-rule=\"evenodd\" fill-opacity=\"1\" /><path clip-path=\"url(#clip050)\" d=\"M1020.05 1544.91 L1036.37 1544.91 L1036.37 1548.85 L1014.43 1548.85 L1014.43 1544.91 Q1017.09 1542.16 1021.67 1537.53 Q1026.28 1532.88 1027.46 1531.53 Q1029.7 1529.01 1030.58 1527.27 Q1031.49 1525.51 1031.49 1523.82 Q1031.49 1521.07 1029.54 1519.33 Q1027.62 1517.6 1024.52 1517.6 Q1022.32 1517.6 1019.87 1518.36 Q1017.44 1519.13 1014.66 1520.68 L1014.66 1515.95 Q1017.48 1514.82 1019.94 1514.24 Q1022.39 1513.66 1024.43 1513.66 Q1029.8 1513.66 1032.99 1516.35 Q1036.19 1519.03 1036.19 1523.52 Q1036.19 1525.65 1035.38 1527.57 Q1034.59 1529.47 1032.48 1532.07 Q1031.9 1532.74 1028.8 1535.95 Q1025.7 1539.15 1020.05 1544.91 Z\" fill=\"#000000\" fill-rule=\"evenodd\" fill-opacity=\"1\" /><path clip-path=\"url(#clip050)\" d=\"M1046.67 1542.97 L1051.56 1542.97 L1051.56 1546.95 L1047.76 1554.36 L1044.77 1554.36 L1046.67 1546.95 L1046.67 1542.97 Z\" fill=\"#000000\" fill-rule=\"evenodd\" fill-opacity=\"1\" /><path clip-path=\"url(#clip050)\" d=\"M1077.13 1544.91 L1084.77 1544.91 L1084.77 1518.55 L1076.46 1520.21 L1076.46 1515.95 L1084.73 1514.29 L1089.4 1514.29 L1089.4 1544.91 L1097.04 1544.91 L1097.04 1548.85 L1077.13 1548.85 L1077.13 1544.91 Z\" fill=\"#000000\" fill-rule=\"evenodd\" fill-opacity=\"1\" /><path clip-path=\"url(#clip050)\" d=\"M1106.97 1542.97 L1111.86 1542.97 L1111.86 1546.95 L1108.06 1554.36 L1105.07 1554.36 L1106.97 1546.95 L1106.97 1542.97 Z\" fill=\"#000000\" fill-rule=\"evenodd\" fill-opacity=\"1\" /><path clip-path=\"url(#clip050)\" d=\"M1146.62 1517.37 Q1143.01 1517.37 1141.19 1520.93 Q1139.38 1524.47 1139.38 1531.6 Q1139.38 1538.71 1141.19 1542.27 Q1143.01 1545.82 1146.62 1545.82 Q1150.26 1545.82 1152.06 1542.27 Q1153.89 1538.71 1153.89 1531.6 Q1153.89 1524.47 1152.06 1520.93 Q1150.26 1517.37 1146.62 1517.37 M1146.62 1513.66 Q1152.43 1513.66 1155.49 1518.27 Q1158.57 1522.85 1158.57 1531.6 Q1158.57 1540.33 1155.49 1544.94 Q1152.43 1549.52 1146.62 1549.52 Q1140.81 1549.52 1137.74 1544.94 Q1134.68 1540.33 1134.68 1531.6 Q1134.68 1522.85 1137.74 1518.27 Q1140.81 1513.66 1146.62 1513.66 Z\" fill=\"#000000\" fill-rule=\"evenodd\" fill-opacity=\"1\" /><path clip-path=\"url(#clip050)\" d=\"M1176.14 1512.83 L1176.14 1555.1 L1166.32 1555.1 L1166.32 1551.79 L1171.86 1551.79 L1171.86 1516.14 L1166.32 1516.14 L1166.32 1512.83 L1176.14 1512.83 Z\" fill=\"#000000\" fill-rule=\"evenodd\" fill-opacity=\"1\" /><path clip-path=\"url(#clip050)\" d=\"M903.738 1512.83 L913.553 1512.83 L913.553 1516.14 L907.997 1516.14 L907.997 1551.79 L913.553 1551.79 L913.553 1555.1 L903.738 1555.1 L903.738 1512.83 Z\" fill=\"#000000\" fill-rule=\"evenodd\" fill-opacity=\"1\" /><path clip-path=\"url(#clip050)\" d=\"M924.039 1544.91 L931.677 1544.91 L931.677 1518.55 L923.367 1520.21 L923.367 1515.95 L931.631 1514.29 L936.307 1514.29 L936.307 1544.91 L943.946 1544.91 L943.946 1548.85 L924.039 1548.85 L924.039 1544.91 Z\" fill=\"#000000\" fill-rule=\"evenodd\" fill-opacity=\"1\" /><path clip-path=\"url(#clip050)\" d=\"M953.876 1542.97 L958.761 1542.97 L958.761 1546.95 L954.964 1554.36 L951.978 1554.36 L953.876 1546.95 L953.876 1542.97 Z\" fill=\"#000000\" fill-rule=\"evenodd\" fill-opacity=\"1\" /><path clip-path=\"url(#clip050)\" d=\"M993.529 1517.37 Q989.918 1517.37 988.089 1520.93 Q986.284 1524.47 986.284 1531.6 Q986.284 1538.71 988.089 1542.27 Q989.918 1545.82 993.529 1545.82 Q997.163 1545.82 998.969 1542.27 Q1000.8 1538.71 1000.8 1531.6 Q1000.8 1524.47 998.969 1520.93 Q997.163 1517.37 993.529 1517.37 M993.529 1513.66 Q999.339 1513.66 1002.39 1518.27 Q1005.47 1522.85 1005.47 1531.6 Q1005.47 1540.33 1002.39 1544.94 Q999.339 1549.52 993.529 1549.52 Q987.719 1549.52 984.64 1544.94 Q981.585 1540.33 981.585 1531.6 Q981.585 1522.85 984.64 1518.27 Q987.719 1513.66 993.529 1513.66 Z\" fill=\"#000000\" fill-rule=\"evenodd\" fill-opacity=\"1\" /><path clip-path=\"url(#clip050)\" d=\"M1014.18 1542.97 L1019.06 1542.97 L1019.06 1546.95 L1015.26 1554.36 L1012.28 1554.36 L1014.18 1546.95 L1014.18 1542.97 Z\" fill=\"#000000\" fill-rule=\"evenodd\" fill-opacity=\"1\" /><path clip-path=\"url(#clip050)\" d=\"M1047.86 1544.91 L1064.18 1544.91 L1064.18 1548.85 L1042.23 1548.85 L1042.23 1544.91 Q1044.89 1542.16 1049.48 1537.53 Q1054.08 1532.88 1055.26 1531.53 Q1057.51 1529.01 1058.39 1527.27 Q1059.29 1525.51 1059.29 1523.82 Q1059.29 1521.07 1057.35 1519.33 Q1055.43 1517.6 1052.32 1517.6 Q1050.13 1517.6 1047.67 1518.36 Q1045.24 1519.13 1042.46 1520.68 L1042.46 1515.95 Q1045.29 1514.82 1047.74 1514.24 Q1050.2 1513.66 1052.23 1513.66 Q1057.6 1513.66 1060.8 1516.35 Q1063.99 1519.03 1063.99 1523.52 Q1063.99 1525.65 1063.18 1527.57 Q1062.39 1529.47 1060.29 1532.07 Q1059.71 1532.74 1056.61 1535.95 Q1053.51 1539.15 1047.86 1544.91 Z\" fill=\"#000000\" fill-rule=\"evenodd\" fill-opacity=\"1\" /><path clip-path=\"url(#clip050)\" d=\"M1074.48 1542.97 L1079.36 1542.97 L1079.36 1546.95 L1075.57 1554.36 L1072.58 1554.36 L1074.48 1546.95 L1074.48 1542.97 Z\" fill=\"#000000\" fill-rule=\"evenodd\" fill-opacity=\"1\" /><path clip-path=\"url(#clip050)\" d=\"M1114.13 1517.37 Q1110.52 1517.37 1108.69 1520.93 Q1106.88 1524.47 1106.88 1531.6 Q1106.88 1538.71 1108.69 1542.27 Q1110.52 1545.82 1114.13 1545.82 Q1117.76 1545.82 1119.57 1542.27 Q1121.4 1538.71 1121.4 1531.6 Q1121.4 1524.47 1119.57 1520.93 Q1117.76 1517.37 1114.13 1517.37 M1114.13 1513.66 Q1119.94 1513.66 1123 1518.27 Q1126.07 1522.85 1126.07 1531.6 Q1126.07 1540.33 1123 1544.94 Q1119.94 1549.52 1114.13 1549.52 Q1108.32 1549.52 1105.24 1544.94 Q1102.19 1540.33 1102.19 1531.6 Q1102.19 1522.85 1105.24 1518.27 Q1108.32 1513.66 1114.13 1513.66 Z\" fill=\"#000000\" fill-rule=\"evenodd\" fill-opacity=\"1\" /><path clip-path=\"url(#clip050)\" d=\"M1134.78 1542.97 L1139.66 1542.97 L1139.66 1546.95 L1135.87 1554.36 L1132.88 1554.36 L1134.78 1546.95 L1134.78 1542.97 Z\" fill=\"#000000\" fill-rule=\"evenodd\" fill-opacity=\"1\" /><path clip-path=\"url(#clip050)\" d=\"M1165.24 1544.91 L1172.88 1544.91 L1172.88 1518.55 L1164.57 1520.21 L1164.57 1515.95 L1172.83 1514.29 L1177.51 1514.29 L1177.51 1544.91 L1185.15 1544.91 L1185.15 1548.85 L1165.24 1548.85 L1165.24 1544.91 Z\" fill=\"#000000\" fill-rule=\"evenodd\" fill-opacity=\"1\" /><path clip-path=\"url(#clip050)\" d=\"M1203.94 1512.83 L1203.94 1555.1 L1194.13 1555.1 L1194.13 1551.79 L1199.66 1551.79 L1199.66 1516.14 L1194.13 1516.14 L1194.13 1512.83 L1203.94 1512.83 Z\" fill=\"#000000\" fill-rule=\"evenodd\" fill-opacity=\"1\" /><path clip-path=\"url(#clip050)\" d=\"M931.544 1512.83 L941.358 1512.83 L941.358 1516.14 L935.803 1516.14 L935.803 1551.79 L941.358 1551.79 L941.358 1555.1 L931.544 1555.1 L931.544 1512.83 Z\" fill=\"#000000\" fill-rule=\"evenodd\" fill-opacity=\"1\" /><path clip-path=\"url(#clip050)\" d=\"M951.844 1544.91 L959.483 1544.91 L959.483 1518.55 L951.173 1520.21 L951.173 1515.95 L959.437 1514.29 L964.113 1514.29 L964.113 1544.91 L971.752 1544.91 L971.752 1548.85 L951.844 1548.85 L951.844 1544.91 Z\" fill=\"#000000\" fill-rule=\"evenodd\" fill-opacity=\"1\" /><path clip-path=\"url(#clip050)\" d=\"M981.682 1542.97 L986.567 1542.97 L986.567 1546.95 L982.77 1554.36 L979.784 1554.36 L981.682 1546.95 L981.682 1542.97 Z\" fill=\"#000000\" fill-rule=\"evenodd\" fill-opacity=\"1\" /><path clip-path=\"url(#clip050)\" d=\"M1021.33 1517.37 Q1017.72 1517.37 1015.9 1520.93 Q1014.09 1524.47 1014.09 1531.6 Q1014.09 1538.71 1015.9 1542.27 Q1017.72 1545.82 1021.33 1545.82 Q1024.97 1545.82 1026.77 1542.27 Q1028.6 1538.71 1028.6 1531.6 Q1028.6 1524.47 1026.77 1520.93 Q1024.97 1517.37 1021.33 1517.37 M1021.33 1513.66 Q1027.14 1513.66 1030.2 1518.27 Q1033.28 1522.85 1033.28 1531.6 Q1033.28 1540.33 1030.2 1544.94 Q1027.14 1549.52 1021.33 1549.52 Q1015.52 1549.52 1012.45 1544.94 Q1009.39 1540.33 1009.39 1531.6 Q1009.39 1522.85 1012.45 1518.27 Q1015.52 1513.66 1021.33 1513.66 Z\" fill=\"#000000\" fill-rule=\"evenodd\" fill-opacity=\"1\" /><path clip-path=\"url(#clip050)\" d=\"M1041.98 1542.97 L1046.87 1542.97 L1046.87 1546.95 L1043.07 1554.36 L1040.08 1554.36 L1041.98 1546.95 L1041.98 1542.97 Z\" fill=\"#000000\" fill-rule=\"evenodd\" fill-opacity=\"1\" /><path clip-path=\"url(#clip050)\" d=\"M1072.45 1544.91 L1080.08 1544.91 L1080.08 1518.55 L1071.77 1520.21 L1071.77 1515.95 L1080.04 1514.29 L1084.71 1514.29 L1084.71 1544.91 L1092.35 1544.91 L1092.35 1548.85 L1072.45 1548.85 L1072.45 1544.91 Z\" fill=\"#000000\" fill-rule=\"evenodd\" fill-opacity=\"1\" /><path clip-path=\"url(#clip050)\" d=\"M1102.28 1542.97 L1107.17 1542.97 L1107.17 1546.95 L1103.37 1554.36 L1100.39 1554.36 L1102.28 1546.95 L1102.28 1542.97 Z\" fill=\"#000000\" fill-rule=\"evenodd\" fill-opacity=\"1\" /><path clip-path=\"url(#clip050)\" d=\"M1135.96 1544.91 L1152.28 1544.91 L1152.28 1548.85 L1130.34 1548.85 L1130.34 1544.91 Q1133 1542.16 1137.58 1537.53 Q1142.19 1532.88 1143.37 1531.53 Q1145.62 1529.01 1146.5 1527.27 Q1147.4 1525.51 1147.4 1523.82 Q1147.4 1521.07 1145.45 1519.33 Q1143.53 1517.6 1140.43 1517.6 Q1138.23 1517.6 1135.78 1518.36 Q1133.35 1519.13 1130.57 1520.68 L1130.57 1515.95 Q1133.39 1514.82 1135.85 1514.24 Q1138.3 1513.66 1140.34 1513.66 Q1145.71 1513.66 1148.9 1516.35 Q1152.1 1519.03 1152.1 1523.52 Q1152.1 1525.65 1151.29 1527.57 Q1150.5 1529.47 1148.39 1532.07 Q1147.82 1532.74 1144.71 1535.95 Q1141.61 1539.15 1135.96 1544.91 Z\" fill=\"#000000\" fill-rule=\"evenodd\" fill-opacity=\"1\" /><path clip-path=\"url(#clip050)\" d=\"M1162.58 1542.97 L1167.47 1542.97 L1167.47 1546.95 L1163.67 1554.36 L1160.69 1554.36 L1162.58 1546.95 L1162.58 1542.97 Z\" fill=\"#000000\" fill-rule=\"evenodd\" fill-opacity=\"1\" /><path clip-path=\"url(#clip050)\" d=\"M1202.24 1517.37 Q1198.63 1517.37 1196.8 1520.93 Q1194.99 1524.47 1194.99 1531.6 Q1194.99 1538.71 1196.8 1542.27 Q1198.63 1545.82 1202.24 1545.82 Q1205.87 1545.82 1207.68 1542.27 Q1209.51 1538.71 1209.51 1531.6 Q1209.51 1524.47 1207.68 1520.93 Q1205.87 1517.37 1202.24 1517.37 M1202.24 1513.66 Q1208.05 1513.66 1211.1 1518.27 Q1214.18 1522.85 1214.18 1531.6 Q1214.18 1540.33 1211.1 1544.94 Q1208.05 1549.52 1202.24 1549.52 Q1196.43 1549.52 1193.35 1544.94 Q1190.29 1540.33 1190.29 1531.6 Q1190.29 1522.85 1193.35 1518.27 Q1196.43 1513.66 1202.24 1513.66 Z\" fill=\"#000000\" fill-rule=\"evenodd\" fill-opacity=\"1\" /><path clip-path=\"url(#clip050)\" d=\"M1231.75 1512.83 L1231.75 1555.1 L1221.94 1555.1 L1221.94 1551.79 L1227.47 1551.79 L1227.47 1516.14 L1221.94 1516.14 L1221.94 1512.83 L1231.75 1512.83 Z\" fill=\"#000000\" fill-rule=\"evenodd\" fill-opacity=\"1\" /><path clip-path=\"url(#clip050)\" d=\"M959.35 1512.83 L969.164 1512.83 L969.164 1516.14 L963.609 1516.14 L963.609 1551.79 L969.164 1551.79 L969.164 1555.1 L959.35 1555.1 L959.35 1512.83 Z\" fill=\"#000000\" fill-rule=\"evenodd\" fill-opacity=\"1\" /><path clip-path=\"url(#clip050)\" d=\"M979.65 1544.91 L987.289 1544.91 L987.289 1518.55 L978.979 1520.21 L978.979 1515.95 L987.243 1514.29 L991.919 1514.29 L991.919 1544.91 L999.558 1544.91 L999.558 1548.85 L979.65 1548.85 L979.65 1544.91 Z\" fill=\"#000000\" fill-rule=\"evenodd\" fill-opacity=\"1\" /><path clip-path=\"url(#clip050)\" d=\"M1009.49 1542.97 L1014.37 1542.97 L1014.37 1546.95 L1010.58 1554.36 L1007.59 1554.36 L1009.49 1546.95 L1009.49 1542.97 Z\" fill=\"#000000\" fill-rule=\"evenodd\" fill-opacity=\"1\" /><path clip-path=\"url(#clip050)\" d=\"M1049.14 1517.37 Q1045.53 1517.37 1043.7 1520.93 Q1041.9 1524.47 1041.9 1531.6 Q1041.9 1538.71 1043.7 1542.27 Q1045.53 1545.82 1049.14 1545.82 Q1052.77 1545.82 1054.58 1542.27 Q1056.41 1538.71 1056.41 1531.6 Q1056.41 1524.47 1054.58 1520.93 Q1052.77 1517.37 1049.14 1517.37 M1049.14 1513.66 Q1054.95 1513.66 1058.01 1518.27 Q1061.09 1522.85 1061.09 1531.6 Q1061.09 1540.33 1058.01 1544.94 Q1054.95 1549.52 1049.14 1549.52 Q1043.33 1549.52 1040.25 1544.94 Q1037.2 1540.33 1037.2 1531.6 Q1037.2 1522.85 1040.25 1518.27 Q1043.33 1513.66 1049.14 1513.66 Z\" fill=\"#000000\" fill-rule=\"evenodd\" fill-opacity=\"1\" /><path clip-path=\"url(#clip050)\" d=\"M1069.79 1542.97 L1074.67 1542.97 L1074.67 1546.95 L1070.88 1554.36 L1067.89 1554.36 L1069.79 1546.95 L1069.79 1542.97 Z\" fill=\"#000000\" fill-rule=\"evenodd\" fill-opacity=\"1\" /><path clip-path=\"url(#clip050)\" d=\"M1100.25 1544.91 L1107.89 1544.91 L1107.89 1518.55 L1099.58 1520.21 L1099.58 1515.95 L1107.84 1514.29 L1112.52 1514.29 L1112.52 1544.91 L1120.16 1544.91 L1120.16 1548.85 L1100.25 1548.85 L1100.25 1544.91 Z\" fill=\"#000000\" fill-rule=\"evenodd\" fill-opacity=\"1\" /><path clip-path=\"url(#clip050)\" d=\"M1130.09 1542.97 L1134.97 1542.97 L1134.97 1546.95 L1131.18 1554.36 L1128.19 1554.36 L1130.09 1546.95 L1130.09 1542.97 Z\" fill=\"#000000\" fill-rule=\"evenodd\" fill-opacity=\"1\" /><path clip-path=\"url(#clip050)\" d=\"M1160.55 1544.91 L1168.19 1544.91 L1168.19 1518.55 L1159.88 1520.21 L1159.88 1515.95 L1168.14 1514.29 L1172.82 1514.29 L1172.82 1544.91 L1180.46 1544.91 L1180.46 1548.85 L1160.55 1548.85 L1160.55 1544.91 Z\" fill=\"#000000\" fill-rule=\"evenodd\" fill-opacity=\"1\" /><path clip-path=\"url(#clip050)\" d=\"M1190.39 1542.97 L1195.27 1542.97 L1195.27 1546.95 L1191.48 1554.36 L1188.49 1554.36 L1190.39 1546.95 L1190.39 1542.97 Z\" fill=\"#000000\" fill-rule=\"evenodd\" fill-opacity=\"1\" /><path clip-path=\"url(#clip050)\" d=\"M1220.85 1544.91 L1228.49 1544.91 L1228.49 1518.55 L1220.18 1520.21 L1220.18 1515.95 L1228.45 1514.29 L1233.12 1514.29 L1233.12 1544.91 L1240.76 1544.91 L1240.76 1548.85 L1220.85 1548.85 L1220.85 1544.91 Z\" fill=\"#000000\" fill-rule=\"evenodd\" fill-opacity=\"1\" /><path clip-path=\"url(#clip050)\" d=\"M1259.56 1512.83 L1259.56 1555.1 L1249.74 1555.1 L1249.74 1551.79 L1255.27 1551.79 L1255.27 1516.14 L1249.74 1516.14 L1249.74 1512.83 L1259.56 1512.83 Z\" fill=\"#000000\" fill-rule=\"evenodd\" fill-opacity=\"1\" /><path clip-path=\"url(#clip050)\" d=\"M987.155 1512.83 L996.97 1512.83 L996.97 1516.14 L991.415 1516.14 L991.415 1551.79 L996.97 1551.79 L996.97 1555.1 L987.155 1555.1 L987.155 1512.83 Z\" fill=\"#000000\" fill-rule=\"evenodd\" fill-opacity=\"1\" /><path clip-path=\"url(#clip050)\" d=\"M1007.46 1544.91 L1015.1 1544.91 L1015.1 1518.55 L1006.78 1520.21 L1006.78 1515.95 L1015.05 1514.29 L1019.72 1514.29 L1019.72 1544.91 L1027.36 1544.91 L1027.36 1548.85 L1007.46 1548.85 L1007.46 1544.91 Z\" fill=\"#000000\" fill-rule=\"evenodd\" fill-opacity=\"1\" /><path clip-path=\"url(#clip050)\" d=\"M1037.29 1542.97 L1042.18 1542.97 L1042.18 1546.95 L1038.38 1554.36 L1035.4 1554.36 L1037.29 1546.95 L1037.29 1542.97 Z\" fill=\"#000000\" fill-rule=\"evenodd\" fill-opacity=\"1\" /><path clip-path=\"url(#clip050)\" d=\"M1076.95 1517.37 Q1073.34 1517.37 1071.51 1520.93 Q1069.7 1524.47 1069.7 1531.6 Q1069.7 1538.71 1071.51 1542.27 Q1073.34 1545.82 1076.95 1545.82 Q1080.58 1545.82 1082.39 1542.27 Q1084.22 1538.71 1084.22 1531.6 Q1084.22 1524.47 1082.39 1520.93 Q1080.58 1517.37 1076.95 1517.37 M1076.95 1513.66 Q1082.76 1513.66 1085.81 1518.27 Q1088.89 1522.85 1088.89 1531.6 Q1088.89 1540.33 1085.81 1544.94 Q1082.76 1549.52 1076.95 1549.52 Q1071.14 1549.52 1068.06 1544.94 Q1065 1540.33 1065 1531.6 Q1065 1522.85 1068.06 1518.27 Q1071.14 1513.66 1076.95 1513.66 Z\" fill=\"#000000\" fill-rule=\"evenodd\" fill-opacity=\"1\" /><path clip-path=\"url(#clip050)\" d=\"M1097.59 1542.97 L1102.48 1542.97 L1102.48 1546.95 L1098.68 1554.36 L1095.7 1554.36 L1097.59 1546.95 L1097.59 1542.97 Z\" fill=\"#000000\" fill-rule=\"evenodd\" fill-opacity=\"1\" /><path clip-path=\"url(#clip050)\" d=\"M1128.06 1544.91 L1135.7 1544.91 L1135.7 1518.55 L1127.39 1520.21 L1127.39 1515.95 L1135.65 1514.29 L1140.33 1514.29 L1140.33 1544.91 L1147.96 1544.91 L1147.96 1548.85 L1128.06 1548.85 L1128.06 1544.91 Z\" fill=\"#000000\" fill-rule=\"evenodd\" fill-opacity=\"1\" /><path clip-path=\"url(#clip050)\" d=\"M1157.9 1542.97 L1162.78 1542.97 L1162.78 1546.95 L1158.98 1554.36 L1156 1554.36 L1157.9 1546.95 L1157.9 1542.97 Z\" fill=\"#000000\" fill-rule=\"evenodd\" fill-opacity=\"1\" /><path clip-path=\"url(#clip050)\" d=\"M1197.55 1517.37 Q1193.94 1517.37 1192.11 1520.93 Q1190.3 1524.47 1190.3 1531.6 Q1190.3 1538.71 1192.11 1542.27 Q1193.94 1545.82 1197.55 1545.82 Q1201.18 1545.82 1202.99 1542.27 Q1204.82 1538.71 1204.82 1531.6 Q1204.82 1524.47 1202.99 1520.93 Q1201.18 1517.37 1197.55 1517.37 M1197.55 1513.66 Q1203.36 1513.66 1206.41 1518.27 Q1209.49 1522.85 1209.49 1531.6 Q1209.49 1540.33 1206.41 1544.94 Q1203.36 1549.52 1197.55 1549.52 Q1191.74 1549.52 1188.66 1544.94 Q1185.6 1540.33 1185.6 1531.6 Q1185.6 1522.85 1188.66 1518.27 Q1191.74 1513.66 1197.55 1513.66 Z\" fill=\"#000000\" fill-rule=\"evenodd\" fill-opacity=\"1\" /><path clip-path=\"url(#clip050)\" d=\"M1218.2 1542.97 L1223.08 1542.97 L1223.08 1546.95 L1219.28 1554.36 L1216.3 1554.36 L1218.2 1546.95 L1218.2 1542.97 Z\" fill=\"#000000\" fill-rule=\"evenodd\" fill-opacity=\"1\" /><path clip-path=\"url(#clip050)\" d=\"M1251.88 1544.91 L1268.2 1544.91 L1268.2 1548.85 L1246.25 1548.85 L1246.25 1544.91 Q1248.91 1542.16 1253.5 1537.53 Q1258.1 1532.88 1259.28 1531.53 Q1261.53 1529.01 1262.41 1527.27 Q1263.31 1525.51 1263.31 1523.82 Q1263.31 1521.07 1261.37 1519.33 Q1259.45 1517.6 1256.34 1517.6 Q1254.14 1517.6 1251.69 1518.36 Q1249.26 1519.13 1246.48 1520.68 L1246.48 1515.95 Q1249.31 1514.82 1251.76 1514.24 Q1254.21 1513.66 1256.25 1513.66 Q1261.62 1513.66 1264.82 1516.35 Q1268.01 1519.03 1268.01 1523.52 Q1268.01 1525.65 1267.2 1527.57 Q1266.41 1529.47 1264.31 1532.07 Q1263.73 1532.74 1260.63 1535.95 Q1257.52 1539.15 1251.88 1544.91 Z\" fill=\"#000000\" fill-rule=\"evenodd\" fill-opacity=\"1\" /><path clip-path=\"url(#clip050)\" d=\"M1287.36 1512.83 L1287.36 1555.1 L1277.55 1555.1 L1277.55 1551.79 L1283.08 1551.79 L1283.08 1516.14 L1277.55 1516.14 L1277.55 1512.83 L1287.36 1512.83 Z\" fill=\"#000000\" fill-rule=\"evenodd\" fill-opacity=\"1\" /><path clip-path=\"url(#clip050)\" d=\"M1014.96 1512.83 L1024.78 1512.83 L1024.78 1516.14 L1019.22 1516.14 L1019.22 1551.79 L1024.78 1551.79 L1024.78 1555.1 L1014.96 1555.1 L1014.96 1512.83 Z\" fill=\"#000000\" fill-rule=\"evenodd\" fill-opacity=\"1\" /><path clip-path=\"url(#clip050)\" d=\"M1035.26 1544.91 L1042.9 1544.91 L1042.9 1518.55 L1034.59 1520.21 L1034.59 1515.95 L1042.85 1514.29 L1047.53 1514.29 L1047.53 1544.91 L1055.17 1544.91 L1055.17 1548.85 L1035.26 1548.85 L1035.26 1544.91 Z\" fill=\"#000000\" fill-rule=\"evenodd\" fill-opacity=\"1\" /><path clip-path=\"url(#clip050)\" d=\"M1065.1 1542.97 L1069.98 1542.97 L1069.98 1546.95 L1066.19 1554.36 L1063.2 1554.36 L1065.1 1546.95 L1065.1 1542.97 Z\" fill=\"#000000\" fill-rule=\"evenodd\" fill-opacity=\"1\" /><path clip-path=\"url(#clip050)\" d=\"M1104.75 1517.37 Q1101.14 1517.37 1099.31 1520.93 Q1097.51 1524.47 1097.51 1531.6 Q1097.51 1538.71 1099.31 1542.27 Q1101.14 1545.82 1104.75 1545.82 Q1108.39 1545.82 1110.19 1542.27 Q1112.02 1538.71 1112.02 1531.6 Q1112.02 1524.47 1110.19 1520.93 Q1108.39 1517.37 1104.75 1517.37 M1104.75 1513.66 Q1110.56 1513.66 1113.62 1518.27 Q1116.7 1522.85 1116.7 1531.6 Q1116.7 1540.33 1113.62 1544.94 Q1110.56 1549.52 1104.75 1549.52 Q1098.94 1549.52 1095.86 1544.94 Q1092.81 1540.33 1092.81 1531.6 Q1092.81 1522.85 1095.86 1518.27 Q1098.94 1513.66 1104.75 1513.66 Z\" fill=\"#000000\" fill-rule=\"evenodd\" fill-opacity=\"1\" /><path clip-path=\"url(#clip050)\" d=\"M1125.4 1542.97 L1130.28 1542.97 L1130.28 1546.95 L1126.49 1554.36 L1123.5 1554.36 L1125.4 1546.95 L1125.4 1542.97 Z\" fill=\"#000000\" fill-rule=\"evenodd\" fill-opacity=\"1\" /><path clip-path=\"url(#clip050)\" d=\"M1165.05 1517.37 Q1161.44 1517.37 1159.61 1520.93 Q1157.81 1524.47 1157.81 1531.6 Q1157.81 1538.71 1159.61 1542.27 Q1161.44 1545.82 1165.05 1545.82 Q1168.69 1545.82 1170.49 1542.27 Q1172.32 1538.71 1172.32 1531.6 Q1172.32 1524.47 1170.49 1520.93 Q1168.69 1517.37 1165.05 1517.37 M1165.05 1513.66 Q1170.86 1513.66 1173.92 1518.27 Q1177 1522.85 1177 1531.6 Q1177 1540.33 1173.92 1544.94 Q1170.86 1549.52 1165.05 1549.52 Q1159.24 1549.52 1156.16 1544.94 Q1153.11 1540.33 1153.11 1531.6 Q1153.11 1522.85 1156.16 1518.27 Q1159.24 1513.66 1165.05 1513.66 Z\" fill=\"#000000\" fill-rule=\"evenodd\" fill-opacity=\"1\" /><path clip-path=\"url(#clip050)\" d=\"M1185.7 1542.97 L1190.59 1542.97 L1190.59 1546.95 L1186.79 1554.36 L1183.8 1554.36 L1185.7 1546.95 L1185.7 1542.97 Z\" fill=\"#000000\" fill-rule=\"evenodd\" fill-opacity=\"1\" /><path clip-path=\"url(#clip050)\" d=\"M1229.52 1530.21 Q1232.88 1530.93 1234.75 1533.2 Q1236.65 1535.47 1236.65 1538.8 Q1236.65 1543.92 1233.13 1546.72 Q1229.61 1549.52 1223.13 1549.52 Q1220.96 1549.52 1218.64 1549.08 Q1216.35 1548.66 1213.9 1547.81 L1213.9 1543.29 Q1215.84 1544.43 1218.15 1545.01 Q1220.47 1545.58 1222.99 1545.58 Q1227.39 1545.58 1229.68 1543.85 Q1232 1542.11 1232 1538.8 Q1232 1535.75 1229.84 1534.03 Q1227.71 1532.3 1223.9 1532.3 L1219.87 1532.3 L1219.87 1528.45 L1224.08 1528.45 Q1227.53 1528.45 1229.36 1527.09 Q1231.19 1525.7 1231.19 1523.11 Q1231.19 1520.45 1229.29 1519.03 Q1227.41 1517.6 1223.9 1517.6 Q1221.97 1517.6 1219.78 1518.01 Q1217.58 1518.43 1214.94 1519.31 L1214.94 1515.14 Q1217.6 1514.4 1219.91 1514.03 Q1222.25 1513.66 1224.31 1513.66 Q1229.64 1513.66 1232.74 1516.09 Q1235.84 1518.5 1235.84 1522.62 Q1235.84 1525.49 1234.2 1527.48 Q1232.55 1529.45 1229.52 1530.21 Z\" fill=\"#000000\" fill-rule=\"evenodd\" fill-opacity=\"1\" /><path clip-path=\"url(#clip050)\" d=\"M1246 1542.97 L1250.89 1542.97 L1250.89 1546.95 L1247.09 1554.36 L1244.1 1554.36 L1246 1546.95 L1246 1542.97 Z\" fill=\"#000000\" fill-rule=\"evenodd\" fill-opacity=\"1\" /><path clip-path=\"url(#clip050)\" d=\"M1285.65 1517.37 Q1282.04 1517.37 1280.21 1520.93 Q1278.41 1524.47 1278.41 1531.6 Q1278.41 1538.71 1280.21 1542.27 Q1282.04 1545.82 1285.65 1545.82 Q1289.29 1545.82 1291.09 1542.27 Q1292.92 1538.71 1292.92 1531.6 Q1292.92 1524.47 1291.09 1520.93 Q1289.29 1517.37 1285.65 1517.37 M1285.65 1513.66 Q1291.46 1513.66 1294.52 1518.27 Q1297.6 1522.85 1297.6 1531.6 Q1297.6 1540.33 1294.52 1544.94 Q1291.46 1549.52 1285.65 1549.52 Q1279.84 1549.52 1276.77 1544.94 Q1273.71 1540.33 1273.71 1531.6 Q1273.71 1522.85 1276.77 1518.27 Q1279.84 1513.66 1285.65 1513.66 Z\" fill=\"#000000\" fill-rule=\"evenodd\" fill-opacity=\"1\" /><path clip-path=\"url(#clip050)\" d=\"M1315.17 1512.83 L1315.17 1555.1 L1305.35 1555.1 L1305.35 1551.79 L1310.89 1551.79 L1310.89 1516.14 L1305.35 1516.14 L1305.35 1512.83 L1315.17 1512.83 Z\" fill=\"#000000\" fill-rule=\"evenodd\" fill-opacity=\"1\" /><path clip-path=\"url(#clip050)\" d=\"M1042.77 1512.83 L1052.58 1512.83 L1052.58 1516.14 L1047.03 1516.14 L1047.03 1551.79 L1052.58 1551.79 L1052.58 1555.1 L1042.77 1555.1 L1042.77 1512.83 Z\" fill=\"#000000\" fill-rule=\"evenodd\" fill-opacity=\"1\" /><path clip-path=\"url(#clip050)\" d=\"M1063.07 1544.91 L1070.71 1544.91 L1070.71 1518.55 L1062.4 1520.21 L1062.4 1515.95 L1070.66 1514.29 L1075.34 1514.29 L1075.34 1544.91 L1082.98 1544.91 L1082.98 1548.85 L1063.07 1548.85 L1063.07 1544.91 Z\" fill=\"#000000\" fill-rule=\"evenodd\" fill-opacity=\"1\" /><path clip-path=\"url(#clip050)\" d=\"M1092.91 1542.97 L1097.79 1542.97 L1097.79 1546.95 L1093.99 1554.36 L1091.01 1554.36 L1092.91 1546.95 L1092.91 1542.97 Z\" fill=\"#000000\" fill-rule=\"evenodd\" fill-opacity=\"1\" /><path clip-path=\"url(#clip050)\" d=\"M1132.56 1517.37 Q1128.95 1517.37 1127.12 1520.93 Q1125.31 1524.47 1125.31 1531.6 Q1125.31 1538.71 1127.12 1542.27 Q1128.95 1545.82 1132.56 1545.82 Q1136.19 1545.82 1138 1542.27 Q1139.83 1538.71 1139.83 1531.6 Q1139.83 1524.47 1138 1520.93 Q1136.19 1517.37 1132.56 1517.37 M1132.56 1513.66 Q1138.37 1513.66 1141.42 1518.27 Q1144.5 1522.85 1144.5 1531.6 Q1144.5 1540.33 1141.42 1544.94 Q1138.37 1549.52 1132.56 1549.52 Q1126.75 1549.52 1123.67 1544.94 Q1120.61 1540.33 1120.61 1531.6 Q1120.61 1522.85 1123.67 1518.27 Q1126.75 1513.66 1132.56 1513.66 Z\" fill=\"#000000\" fill-rule=\"evenodd\" fill-opacity=\"1\" /><path clip-path=\"url(#clip050)\" d=\"M1153.21 1542.97 L1158.09 1542.97 L1158.09 1546.95 L1154.29 1554.36 L1151.31 1554.36 L1153.21 1546.95 L1153.21 1542.97 Z\" fill=\"#000000\" fill-rule=\"evenodd\" fill-opacity=\"1\" /><path clip-path=\"url(#clip050)\" d=\"M1192.86 1517.37 Q1189.25 1517.37 1187.42 1520.93 Q1185.61 1524.47 1185.61 1531.6 Q1185.61 1538.71 1187.42 1542.27 Q1189.25 1545.82 1192.86 1545.82 Q1196.49 1545.82 1198.3 1542.27 Q1200.13 1538.71 1200.13 1531.6 Q1200.13 1524.47 1198.3 1520.93 Q1196.49 1517.37 1192.86 1517.37 M1192.86 1513.66 Q1198.67 1513.66 1201.72 1518.27 Q1204.8 1522.85 1204.8 1531.6 Q1204.8 1540.33 1201.72 1544.94 Q1198.67 1549.52 1192.86 1549.52 Q1187.05 1549.52 1183.97 1544.94 Q1180.91 1540.33 1180.91 1531.6 Q1180.91 1522.85 1183.97 1518.27 Q1187.05 1513.66 1192.86 1513.66 Z\" fill=\"#000000\" fill-rule=\"evenodd\" fill-opacity=\"1\" /><path clip-path=\"url(#clip050)\" d=\"M1213.51 1542.97 L1218.39 1542.97 L1218.39 1546.95 L1214.6 1554.36 L1211.61 1554.36 L1213.51 1546.95 L1213.51 1542.97 Z\" fill=\"#000000\" fill-rule=\"evenodd\" fill-opacity=\"1\" /><path clip-path=\"url(#clip050)\" d=\"M1247.19 1544.91 L1263.51 1544.91 L1263.51 1548.85 L1241.56 1548.85 L1241.56 1544.91 Q1244.22 1542.16 1248.81 1537.53 Q1253.41 1532.88 1254.59 1531.53 Q1256.84 1529.01 1257.72 1527.27 Q1258.62 1525.51 1258.62 1523.82 Q1258.62 1521.07 1256.68 1519.33 Q1254.76 1517.6 1251.66 1517.6 Q1249.46 1517.6 1247 1518.36 Q1244.57 1519.13 1241.79 1520.68 L1241.79 1515.95 Q1244.62 1514.82 1247.07 1514.24 Q1249.53 1513.66 1251.56 1513.66 Q1256.93 1513.66 1260.13 1516.35 Q1263.32 1519.03 1263.32 1523.52 Q1263.32 1525.65 1262.51 1527.57 Q1261.72 1529.47 1259.62 1532.07 Q1259.04 1532.74 1255.94 1535.95 Q1252.84 1539.15 1247.19 1544.91 Z\" fill=\"#000000\" fill-rule=\"evenodd\" fill-opacity=\"1\" /><path clip-path=\"url(#clip050)\" d=\"M1273.81 1542.97 L1278.69 1542.97 L1278.69 1546.95 L1274.9 1554.36 L1271.91 1554.36 L1273.81 1546.95 L1273.81 1542.97 Z\" fill=\"#000000\" fill-rule=\"evenodd\" fill-opacity=\"1\" /><path clip-path=\"url(#clip050)\" d=\"M1304.27 1544.91 L1311.91 1544.91 L1311.91 1518.55 L1303.6 1520.21 L1303.6 1515.95 L1311.86 1514.29 L1316.54 1514.29 L1316.54 1544.91 L1324.18 1544.91 L1324.18 1548.85 L1304.27 1548.85 L1304.27 1544.91 Z\" fill=\"#000000\" fill-rule=\"evenodd\" fill-opacity=\"1\" /><path clip-path=\"url(#clip050)\" d=\"M1342.97 1512.83 L1342.97 1555.1 L1333.16 1555.1 L1333.16 1551.79 L1338.69 1551.79 L1338.69 1516.14 L1333.16 1516.14 L1333.16 1512.83 L1342.97 1512.83 Z\" fill=\"#000000\" fill-rule=\"evenodd\" fill-opacity=\"1\" /><path clip-path=\"url(#clip050)\" d=\"M1070.57 1512.83 L1080.39 1512.83 L1080.39 1516.14 L1074.83 1516.14 L1074.83 1551.79 L1080.39 1551.79 L1080.39 1555.1 L1070.57 1555.1 L1070.57 1512.83 Z\" fill=\"#000000\" fill-rule=\"evenodd\" fill-opacity=\"1\" /><path clip-path=\"url(#clip050)\" d=\"M1090.87 1544.91 L1098.51 1544.91 L1098.51 1518.55 L1090.2 1520.21 L1090.2 1515.95 L1098.47 1514.29 L1103.14 1514.29 L1103.14 1544.91 L1110.78 1544.91 L1110.78 1548.85 L1090.87 1548.85 L1090.87 1544.91 Z\" fill=\"#000000\" fill-rule=\"evenodd\" fill-opacity=\"1\" /><path clip-path=\"url(#clip050)\" d=\"M1120.71 1542.97 L1125.6 1542.97 L1125.6 1546.95 L1121.8 1554.36 L1118.81 1554.36 L1120.71 1546.95 L1120.71 1542.97 Z\" fill=\"#000000\" fill-rule=\"evenodd\" fill-opacity=\"1\" /><path clip-path=\"url(#clip050)\" d=\"M1160.36 1517.37 Q1156.75 1517.37 1154.92 1520.93 Q1153.12 1524.47 1153.12 1531.6 Q1153.12 1538.71 1154.92 1542.27 Q1156.75 1545.82 1160.36 1545.82 Q1164 1545.82 1165.8 1542.27 Q1167.63 1538.71 1167.63 1531.6 Q1167.63 1524.47 1165.8 1520.93 Q1164 1517.37 1160.36 1517.37 M1160.36 1513.66 Q1166.17 1513.66 1169.23 1518.27 Q1172.31 1522.85 1172.31 1531.6 Q1172.31 1540.33 1169.23 1544.94 Q1166.17 1549.52 1160.36 1549.52 Q1154.55 1549.52 1151.48 1544.94 Q1148.42 1540.33 1148.42 1531.6 Q1148.42 1522.85 1151.48 1518.27 Q1154.55 1513.66 1160.36 1513.66 Z\" fill=\"#000000\" fill-rule=\"evenodd\" fill-opacity=\"1\" /><path clip-path=\"url(#clip050)\" d=\"M1181.01 1542.97 L1185.9 1542.97 L1185.9 1546.95 L1182.1 1554.36 L1179.11 1554.36 L1181.01 1546.95 L1181.01 1542.97 Z\" fill=\"#000000\" fill-rule=\"evenodd\" fill-opacity=\"1\" /><path clip-path=\"url(#clip050)\" d=\"M1220.66 1517.37 Q1217.05 1517.37 1215.23 1520.93 Q1213.42 1524.47 1213.42 1531.6 Q1213.42 1538.71 1215.23 1542.27 Q1217.05 1545.82 1220.66 1545.82 Q1224.3 1545.82 1226.1 1542.27 Q1227.93 1538.71 1227.93 1531.6 Q1227.93 1524.47 1226.1 1520.93 Q1224.3 1517.37 1220.66 1517.37 M1220.66 1513.66 Q1226.48 1513.66 1229.53 1518.27 Q1232.61 1522.85 1232.61 1531.6 Q1232.61 1540.33 1229.53 1544.94 Q1226.48 1549.52 1220.66 1549.52 Q1214.85 1549.52 1211.78 1544.94 Q1208.72 1540.33 1208.72 1531.6 Q1208.72 1522.85 1211.78 1518.27 Q1214.85 1513.66 1220.66 1513.66 Z\" fill=\"#000000\" fill-rule=\"evenodd\" fill-opacity=\"1\" /><path clip-path=\"url(#clip050)\" d=\"M1241.31 1542.97 L1246.2 1542.97 L1246.2 1546.95 L1242.4 1554.36 L1239.41 1554.36 L1241.31 1546.95 L1241.31 1542.97 Z\" fill=\"#000000\" fill-rule=\"evenodd\" fill-opacity=\"1\" /><path clip-path=\"url(#clip050)\" d=\"M1271.78 1544.91 L1279.41 1544.91 L1279.41 1518.55 L1271.1 1520.21 L1271.1 1515.95 L1279.37 1514.29 L1284.04 1514.29 L1284.04 1544.91 L1291.68 1544.91 L1291.68 1548.85 L1271.78 1548.85 L1271.78 1544.91 Z\" fill=\"#000000\" fill-rule=\"evenodd\" fill-opacity=\"1\" /><path clip-path=\"url(#clip050)\" d=\"M1301.61 1542.97 L1306.5 1542.97 L1306.5 1546.95 L1302.7 1554.36 L1299.72 1554.36 L1301.61 1546.95 L1301.61 1542.97 Z\" fill=\"#000000\" fill-rule=\"evenodd\" fill-opacity=\"1\" /><path clip-path=\"url(#clip050)\" d=\"M1335.29 1544.91 L1351.61 1544.91 L1351.61 1548.85 L1329.67 1548.85 L1329.67 1544.91 Q1332.33 1542.16 1336.91 1537.53 Q1341.52 1532.88 1342.7 1531.53 Q1344.95 1529.01 1345.83 1527.27 Q1346.73 1525.51 1346.73 1523.82 Q1346.73 1521.07 1344.78 1519.33 Q1342.86 1517.6 1339.76 1517.6 Q1337.56 1517.6 1335.11 1518.36 Q1332.68 1519.13 1329.9 1520.68 L1329.9 1515.95 Q1332.72 1514.82 1335.18 1514.24 Q1337.63 1513.66 1339.67 1513.66 Q1345.04 1513.66 1348.23 1516.35 Q1351.43 1519.03 1351.43 1523.52 Q1351.43 1525.65 1350.62 1527.57 Q1349.83 1529.47 1347.72 1532.07 Q1347.15 1532.74 1344.04 1535.95 Q1340.94 1539.15 1335.29 1544.91 Z\" fill=\"#000000\" fill-rule=\"evenodd\" fill-opacity=\"1\" /><path clip-path=\"url(#clip050)\" d=\"M1370.78 1512.83 L1370.78 1555.1 L1360.97 1555.1 L1360.97 1551.79 L1366.5 1551.79 L1366.5 1516.14 L1360.97 1516.14 L1360.97 1512.83 L1370.78 1512.83 Z\" fill=\"#000000\" fill-rule=\"evenodd\" fill-opacity=\"1\" /><path clip-path=\"url(#clip050)\" d=\"M1098.38 1512.83 L1108.19 1512.83 L1108.19 1516.14 L1102.64 1516.14 L1102.64 1551.79 L1108.19 1551.79 L1108.19 1555.1 L1098.38 1555.1 L1098.38 1512.83 Z\" fill=\"#000000\" fill-rule=\"evenodd\" fill-opacity=\"1\" /><path clip-path=\"url(#clip050)\" d=\"M1118.68 1544.91 L1126.32 1544.91 L1126.32 1518.55 L1118.01 1520.21 L1118.01 1515.95 L1126.27 1514.29 L1130.95 1514.29 L1130.95 1544.91 L1138.59 1544.91 L1138.59 1548.85 L1118.68 1548.85 L1118.68 1544.91 Z\" fill=\"#000000\" fill-rule=\"evenodd\" fill-opacity=\"1\" /><path clip-path=\"url(#clip050)\" d=\"M1148.52 1542.97 L1153.4 1542.97 L1153.4 1546.95 L1149.61 1554.36 L1146.62 1554.36 L1148.52 1546.95 L1148.52 1542.97 Z\" fill=\"#000000\" fill-rule=\"evenodd\" fill-opacity=\"1\" /><path clip-path=\"url(#clip050)\" d=\"M1188.17 1517.37 Q1184.56 1517.37 1182.73 1520.93 Q1180.92 1524.47 1180.92 1531.6 Q1180.92 1538.71 1182.73 1542.27 Q1184.56 1545.82 1188.17 1545.82 Q1191.8 1545.82 1193.61 1542.27 Q1195.44 1538.71 1195.44 1531.6 Q1195.44 1524.47 1193.61 1520.93 Q1191.8 1517.37 1188.17 1517.37 M1188.17 1513.66 Q1193.98 1513.66 1197.04 1518.27 Q1200.11 1522.85 1200.11 1531.6 Q1200.11 1540.33 1197.04 1544.94 Q1193.98 1549.52 1188.17 1549.52 Q1182.36 1549.52 1179.28 1544.94 Q1176.23 1540.33 1176.23 1531.6 Q1176.23 1522.85 1179.28 1518.27 Q1182.36 1513.66 1188.17 1513.66 Z\" fill=\"#000000\" fill-rule=\"evenodd\" fill-opacity=\"1\" /><path clip-path=\"url(#clip050)\" d=\"M1208.82 1542.97 L1213.7 1542.97 L1213.7 1546.95 L1209.91 1554.36 L1206.92 1554.36 L1208.82 1546.95 L1208.82 1542.97 Z\" fill=\"#000000\" fill-rule=\"evenodd\" fill-opacity=\"1\" /><path clip-path=\"url(#clip050)\" d=\"M1248.47 1517.37 Q1244.86 1517.37 1243.03 1520.93 Q1241.23 1524.47 1241.23 1531.6 Q1241.23 1538.71 1243.03 1542.27 Q1244.86 1545.82 1248.47 1545.82 Q1252.11 1545.82 1253.91 1542.27 Q1255.74 1538.71 1255.74 1531.6 Q1255.74 1524.47 1253.91 1520.93 Q1252.11 1517.37 1248.47 1517.37 M1248.47 1513.66 Q1254.28 1513.66 1257.34 1518.27 Q1260.42 1522.85 1260.42 1531.6 Q1260.42 1540.33 1257.34 1544.94 Q1254.28 1549.52 1248.47 1549.52 Q1242.66 1549.52 1239.58 1544.94 Q1236.53 1540.33 1236.53 1531.6 Q1236.53 1522.85 1239.58 1518.27 Q1242.66 1513.66 1248.47 1513.66 Z\" fill=\"#000000\" fill-rule=\"evenodd\" fill-opacity=\"1\" /><path clip-path=\"url(#clip050)\" d=\"M1269.12 1542.97 L1274 1542.97 L1274 1546.95 L1270.21 1554.36 L1267.22 1554.36 L1269.12 1546.95 L1269.12 1542.97 Z\" fill=\"#000000\" fill-rule=\"evenodd\" fill-opacity=\"1\" /><path clip-path=\"url(#clip050)\" d=\"M1308.77 1517.37 Q1305.16 1517.37 1303.33 1520.93 Q1301.53 1524.47 1301.53 1531.6 Q1301.53 1538.71 1303.33 1542.27 Q1305.16 1545.82 1308.77 1545.82 Q1312.41 1545.82 1314.21 1542.27 Q1316.04 1538.71 1316.04 1531.6 Q1316.04 1524.47 1314.21 1520.93 Q1312.41 1517.37 1308.77 1517.37 M1308.77 1513.66 Q1314.58 1513.66 1317.64 1518.27 Q1320.72 1522.85 1320.72 1531.6 Q1320.72 1540.33 1317.64 1544.94 Q1314.58 1549.52 1308.77 1549.52 Q1302.96 1549.52 1299.88 1544.94 Q1296.83 1540.33 1296.83 1531.6 Q1296.83 1522.85 1299.88 1518.27 Q1302.96 1513.66 1308.77 1513.66 Z\" fill=\"#000000\" fill-rule=\"evenodd\" fill-opacity=\"1\" /><path clip-path=\"url(#clip050)\" d=\"M1329.42 1542.97 L1334.3 1542.97 L1334.3 1546.95 L1330.51 1554.36 L1327.52 1554.36 L1329.42 1546.95 L1329.42 1542.97 Z\" fill=\"#000000\" fill-rule=\"evenodd\" fill-opacity=\"1\" /><path clip-path=\"url(#clip050)\" d=\"M1373.24 1530.21 Q1376.6 1530.93 1378.47 1533.2 Q1380.37 1535.47 1380.37 1538.8 Q1380.37 1543.92 1376.85 1546.72 Q1373.33 1549.52 1366.85 1549.52 Q1364.67 1549.52 1362.36 1549.08 Q1360.07 1548.66 1357.61 1547.81 L1357.61 1543.29 Q1359.56 1544.43 1361.87 1545.01 Q1364.19 1545.58 1366.71 1545.58 Q1371.11 1545.58 1373.4 1543.85 Q1375.72 1542.11 1375.72 1538.8 Q1375.72 1535.75 1373.56 1534.03 Q1371.43 1532.3 1367.61 1532.3 L1363.59 1532.3 L1363.59 1528.45 L1367.8 1528.45 Q1371.25 1528.45 1373.08 1527.09 Q1374.91 1525.7 1374.91 1523.11 Q1374.91 1520.45 1373.01 1519.03 Q1371.13 1517.6 1367.61 1517.6 Q1365.69 1517.6 1363.49 1518.01 Q1361.29 1518.43 1358.66 1519.31 L1358.66 1515.14 Q1361.32 1514.4 1363.63 1514.03 Q1365.97 1513.66 1368.03 1513.66 Q1373.35 1513.66 1376.46 1516.09 Q1379.56 1518.5 1379.56 1522.62 Q1379.56 1525.49 1377.91 1527.48 Q1376.27 1529.45 1373.24 1530.21 Z\" fill=\"#000000\" fill-rule=\"evenodd\" fill-opacity=\"1\" /><path clip-path=\"url(#clip050)\" d=\"M1398.59 1512.83 L1398.59 1555.1 L1388.77 1555.1 L1388.77 1551.79 L1394.3 1551.79 L1394.3 1516.14 L1388.77 1516.14 L1388.77 1512.83 L1398.59 1512.83 Z\" fill=\"#000000\" fill-rule=\"evenodd\" fill-opacity=\"1\" /><path clip-path=\"url(#clip050)\" d=\"M1126.18 1512.83 L1136 1512.83 L1136 1516.14 L1130.44 1516.14 L1130.44 1551.79 L1136 1551.79 L1136 1555.1 L1126.18 1555.1 L1126.18 1512.83 Z\" fill=\"#000000\" fill-rule=\"evenodd\" fill-opacity=\"1\" /><path clip-path=\"url(#clip050)\" d=\"M1155.68 1517.37 Q1152.06 1517.37 1150.24 1520.93 Q1148.43 1524.47 1148.43 1531.6 Q1148.43 1538.71 1150.24 1542.27 Q1152.06 1545.82 1155.68 1545.82 Q1159.31 1545.82 1161.12 1542.27 Q1162.94 1538.71 1162.94 1531.6 Q1162.94 1524.47 1161.12 1520.93 Q1159.31 1517.37 1155.68 1517.37 M1155.68 1513.66 Q1161.49 1513.66 1164.54 1518.27 Q1167.62 1522.85 1167.62 1531.6 Q1167.62 1540.33 1164.54 1544.94 Q1161.49 1549.52 1155.68 1549.52 Q1149.87 1549.52 1146.79 1544.94 Q1143.73 1540.33 1143.73 1531.6 Q1143.73 1522.85 1146.79 1518.27 Q1149.87 1513.66 1155.68 1513.66 Z\" fill=\"#000000\" fill-rule=\"evenodd\" fill-opacity=\"1\" /><path clip-path=\"url(#clip050)\" d=\"M1176.32 1542.97 L1181.21 1542.97 L1181.21 1546.95 L1177.41 1554.36 L1174.43 1554.36 L1176.32 1546.95 L1176.32 1542.97 Z\" fill=\"#000000\" fill-rule=\"evenodd\" fill-opacity=\"1\" /><path clip-path=\"url(#clip050)\" d=\"M1218.82 1518.36 L1207.02 1536.81 L1218.82 1536.81 L1218.82 1518.36 M1217.6 1514.29 L1223.48 1514.29 L1223.48 1536.81 L1228.41 1536.81 L1228.41 1540.7 L1223.48 1540.7 L1223.48 1548.85 L1218.82 1548.85 L1218.82 1540.7 L1203.22 1540.7 L1203.22 1536.19 L1217.6 1514.29 Z\" fill=\"#000000\" fill-rule=\"evenodd\" fill-opacity=\"1\" /><path clip-path=\"url(#clip050)\" d=\"M1236.62 1542.97 L1241.51 1542.97 L1241.51 1546.95 L1237.71 1554.36 L1234.73 1554.36 L1236.62 1546.95 L1236.62 1542.97 Z\" fill=\"#000000\" fill-rule=\"evenodd\" fill-opacity=\"1\" /><path clip-path=\"url(#clip050)\" d=\"M1276.28 1517.37 Q1272.67 1517.37 1270.84 1520.93 Q1269.03 1524.47 1269.03 1531.6 Q1269.03 1538.71 1270.84 1542.27 Q1272.67 1545.82 1276.28 1545.82 Q1279.91 1545.82 1281.72 1542.27 Q1283.55 1538.71 1283.55 1531.6 Q1283.55 1524.47 1281.72 1520.93 Q1279.91 1517.37 1276.28 1517.37 M1276.28 1513.66 Q1282.09 1513.66 1285.14 1518.27 Q1288.22 1522.85 1288.22 1531.6 Q1288.22 1540.33 1285.14 1544.94 Q1282.09 1549.52 1276.28 1549.52 Q1270.47 1549.52 1267.39 1544.94 Q1264.33 1540.33 1264.33 1531.6 Q1264.33 1522.85 1267.39 1518.27 Q1270.47 1513.66 1276.28 1513.66 Z\" fill=\"#000000\" fill-rule=\"evenodd\" fill-opacity=\"1\" /><path clip-path=\"url(#clip050)\" d=\"M1296.92 1542.97 L1301.81 1542.97 L1301.81 1546.95 L1298.01 1554.36 L1295.03 1554.36 L1296.92 1546.95 L1296.92 1542.97 Z\" fill=\"#000000\" fill-rule=\"evenodd\" fill-opacity=\"1\" /><path clip-path=\"url(#clip050)\" d=\"M1336.58 1517.37 Q1332.97 1517.37 1331.14 1520.93 Q1329.33 1524.47 1329.33 1531.6 Q1329.33 1538.71 1331.14 1542.27 Q1332.97 1545.82 1336.58 1545.82 Q1340.21 1545.82 1342.02 1542.27 Q1343.85 1538.71 1343.85 1531.6 Q1343.85 1524.47 1342.02 1520.93 Q1340.21 1517.37 1336.58 1517.37 M1336.58 1513.66 Q1342.39 1513.66 1345.44 1518.27 Q1348.52 1522.85 1348.52 1531.6 Q1348.52 1540.33 1345.44 1544.94 Q1342.39 1549.52 1336.58 1549.52 Q1330.77 1549.52 1327.69 1544.94 Q1324.63 1540.33 1324.63 1531.6 Q1324.63 1522.85 1327.69 1518.27 Q1330.77 1513.66 1336.58 1513.66 Z\" fill=\"#000000\" fill-rule=\"evenodd\" fill-opacity=\"1\" /><path clip-path=\"url(#clip050)\" d=\"M1357.23 1542.97 L1362.11 1542.97 L1362.11 1546.95 L1358.31 1554.36 L1355.33 1554.36 L1357.23 1546.95 L1357.23 1542.97 Z\" fill=\"#000000\" fill-rule=\"evenodd\" fill-opacity=\"1\" /><path clip-path=\"url(#clip050)\" d=\"M1396.88 1517.37 Q1393.27 1517.37 1391.44 1520.93 Q1389.63 1524.47 1389.63 1531.6 Q1389.63 1538.71 1391.44 1542.27 Q1393.27 1545.82 1396.88 1545.82 Q1400.51 1545.82 1402.32 1542.27 Q1404.15 1538.71 1404.15 1531.6 Q1404.15 1524.47 1402.32 1520.93 Q1400.51 1517.37 1396.88 1517.37 M1396.88 1513.66 Q1402.69 1513.66 1405.74 1518.27 Q1408.82 1522.85 1408.82 1531.6 Q1408.82 1540.33 1405.74 1544.94 Q1402.69 1549.52 1396.88 1549.52 Q1391.07 1549.52 1387.99 1544.94 Q1384.93 1540.33 1384.93 1531.6 Q1384.93 1522.85 1387.99 1518.27 Q1391.07 1513.66 1396.88 1513.66 Z\" fill=\"#000000\" fill-rule=\"evenodd\" fill-opacity=\"1\" /><path clip-path=\"url(#clip050)\" d=\"M1426.39 1512.83 L1426.39 1555.1 L1416.58 1555.1 L1416.58 1551.79 L1422.11 1551.79 L1422.11 1516.14 L1416.58 1516.14 L1416.58 1512.83 L1426.39 1512.83 Z\" fill=\"#000000\" fill-rule=\"evenodd\" fill-opacity=\"1\" /><path clip-path=\"url(#clip050)\" d=\"M1153.99 1512.83 L1163.81 1512.83 L1163.81 1516.14 L1158.25 1516.14 L1158.25 1551.79 L1163.81 1551.79 L1163.81 1555.1 L1153.99 1555.1 L1153.99 1512.83 Z\" fill=\"#000000\" fill-rule=\"evenodd\" fill-opacity=\"1\" /><path clip-path=\"url(#clip050)\" d=\"M1183.48 1517.37 Q1179.87 1517.37 1178.04 1520.93 Q1176.24 1524.47 1176.24 1531.6 Q1176.24 1538.71 1178.04 1542.27 Q1179.87 1545.82 1183.48 1545.82 Q1187.12 1545.82 1188.92 1542.27 Q1190.75 1538.71 1190.75 1531.6 Q1190.75 1524.47 1188.92 1520.93 Q1187.12 1517.37 1183.48 1517.37 M1183.48 1513.66 Q1189.29 1513.66 1192.35 1518.27 Q1195.43 1522.85 1195.43 1531.6 Q1195.43 1540.33 1192.35 1544.94 Q1189.29 1549.52 1183.48 1549.52 Q1177.67 1549.52 1174.59 1544.94 Q1171.54 1540.33 1171.54 1531.6 Q1171.54 1522.85 1174.59 1518.27 Q1177.67 1513.66 1183.48 1513.66 Z\" fill=\"#000000\" fill-rule=\"evenodd\" fill-opacity=\"1\" /><path clip-path=\"url(#clip050)\" d=\"M1204.13 1542.97 L1209.01 1542.97 L1209.01 1546.95 L1205.22 1554.36 L1202.23 1554.36 L1204.13 1546.95 L1204.13 1542.97 Z\" fill=\"#000000\" fill-rule=\"evenodd\" fill-opacity=\"1\" /><path clip-path=\"url(#clip050)\" d=\"M1247.95 1530.21 Q1251.31 1530.93 1253.18 1533.2 Q1255.08 1535.47 1255.08 1538.8 Q1255.08 1543.92 1251.56 1546.72 Q1248.04 1549.52 1241.56 1549.52 Q1239.38 1549.52 1237.07 1549.08 Q1234.78 1548.66 1232.32 1547.81 L1232.32 1543.29 Q1234.27 1544.43 1236.58 1545.01 Q1238.9 1545.58 1241.42 1545.58 Q1245.82 1545.58 1248.11 1543.85 Q1250.43 1542.11 1250.43 1538.8 Q1250.43 1535.75 1248.27 1534.03 Q1246.14 1532.3 1242.32 1532.3 L1238.3 1532.3 L1238.3 1528.45 L1242.51 1528.45 Q1245.96 1528.45 1247.79 1527.09 Q1249.62 1525.7 1249.62 1523.11 Q1249.62 1520.45 1247.72 1519.03 Q1245.84 1517.6 1242.32 1517.6 Q1240.4 1517.6 1238.2 1518.01 Q1236 1518.43 1233.37 1519.31 L1233.37 1515.14 Q1236.03 1514.4 1238.34 1514.03 Q1240.68 1513.66 1242.74 1513.66 Q1248.06 1513.66 1251.17 1516.09 Q1254.27 1518.5 1254.27 1522.62 Q1254.27 1525.49 1252.62 1527.48 Q1250.98 1529.45 1247.95 1530.21 Z\" fill=\"#000000\" fill-rule=\"evenodd\" fill-opacity=\"1\" /><path clip-path=\"url(#clip050)\" d=\"M1264.43 1542.97 L1269.31 1542.97 L1269.31 1546.95 L1265.52 1554.36 L1262.53 1554.36 L1264.43 1546.95 L1264.43 1542.97 Z\" fill=\"#000000\" fill-rule=\"evenodd\" fill-opacity=\"1\" /><path clip-path=\"url(#clip050)\" d=\"M1294.89 1544.91 L1302.53 1544.91 L1302.53 1518.55 L1294.22 1520.21 L1294.22 1515.95 L1302.49 1514.29 L1307.16 1514.29 L1307.16 1544.91 L1314.8 1544.91 L1314.8 1548.85 L1294.89 1548.85 L1294.89 1544.91 Z\" fill=\"#000000\" fill-rule=\"evenodd\" fill-opacity=\"1\" /><path clip-path=\"url(#clip050)\" d=\"M1324.73 1542.97 L1329.61 1542.97 L1329.61 1546.95 L1325.82 1554.36 L1322.83 1554.36 L1324.73 1546.95 L1324.73 1542.97 Z\" fill=\"#000000\" fill-rule=\"evenodd\" fill-opacity=\"1\" /><path clip-path=\"url(#clip050)\" d=\"M1364.38 1517.37 Q1360.77 1517.37 1358.94 1520.93 Q1357.14 1524.47 1357.14 1531.6 Q1357.14 1538.71 1358.94 1542.27 Q1360.77 1545.82 1364.38 1545.82 Q1368.02 1545.82 1369.82 1542.27 Q1371.65 1538.71 1371.65 1531.6 Q1371.65 1524.47 1369.82 1520.93 Q1368.02 1517.37 1364.38 1517.37 M1364.38 1513.66 Q1370.19 1513.66 1373.25 1518.27 Q1376.33 1522.85 1376.33 1531.6 Q1376.33 1540.33 1373.25 1544.94 Q1370.19 1549.52 1364.38 1549.52 Q1358.57 1549.52 1355.49 1544.94 Q1352.44 1540.33 1352.44 1531.6 Q1352.44 1522.85 1355.49 1518.27 Q1358.57 1513.66 1364.38 1513.66 Z\" fill=\"#000000\" fill-rule=\"evenodd\" fill-opacity=\"1\" /><path clip-path=\"url(#clip050)\" d=\"M1385.03 1542.97 L1389.92 1542.97 L1389.92 1546.95 L1386.12 1554.36 L1383.13 1554.36 L1385.03 1546.95 L1385.03 1542.97 Z\" fill=\"#000000\" fill-rule=\"evenodd\" fill-opacity=\"1\" /><path clip-path=\"url(#clip050)\" d=\"M1424.68 1517.37 Q1421.07 1517.37 1419.24 1520.93 Q1417.44 1524.47 1417.44 1531.6 Q1417.44 1538.71 1419.24 1542.27 Q1421.07 1545.82 1424.68 1545.82 Q1428.32 1545.82 1430.12 1542.27 Q1431.95 1538.71 1431.95 1531.6 Q1431.95 1524.47 1430.12 1520.93 Q1428.32 1517.37 1424.68 1517.37 M1424.68 1513.66 Q1430.49 1513.66 1433.55 1518.27 Q1436.63 1522.85 1436.63 1531.6 Q1436.63 1540.33 1433.55 1544.94 Q1430.49 1549.52 1424.68 1549.52 Q1418.87 1549.52 1415.8 1544.94 Q1412.74 1540.33 1412.74 1531.6 Q1412.74 1522.85 1415.8 1518.27 Q1418.87 1513.66 1424.68 1513.66 Z\" fill=\"#000000\" fill-rule=\"evenodd\" fill-opacity=\"1\" /><path clip-path=\"url(#clip050)\" d=\"M1454.2 1512.83 L1454.2 1555.1 L1444.38 1555.1 L1444.38 1551.79 L1449.92 1551.79 L1449.92 1516.14 L1444.38 1516.14 L1444.38 1512.83 L1454.2 1512.83 Z\" fill=\"#000000\" fill-rule=\"evenodd\" fill-opacity=\"1\" /><path clip-path=\"url(#clip050)\" d=\"M1181.8 1512.83 L1191.61 1512.83 L1191.61 1516.14 L1186.06 1516.14 L1186.06 1551.79 L1191.61 1551.79 L1191.61 1555.1 L1181.8 1555.1 L1181.8 1512.83 Z\" fill=\"#000000\" fill-rule=\"evenodd\" fill-opacity=\"1\" /><path clip-path=\"url(#clip050)\" d=\"M1211.29 1517.37 Q1207.68 1517.37 1205.85 1520.93 Q1204.04 1524.47 1204.04 1531.6 Q1204.04 1538.71 1205.85 1542.27 Q1207.68 1545.82 1211.29 1545.82 Q1214.92 1545.82 1216.73 1542.27 Q1218.56 1538.71 1218.56 1531.6 Q1218.56 1524.47 1216.73 1520.93 Q1214.92 1517.37 1211.29 1517.37 M1211.29 1513.66 Q1217.1 1513.66 1220.15 1518.27 Q1223.23 1522.85 1223.23 1531.6 Q1223.23 1540.33 1220.15 1544.94 Q1217.1 1549.52 1211.29 1549.52 Q1205.48 1549.52 1202.4 1544.94 Q1199.34 1540.33 1199.34 1531.6 Q1199.34 1522.85 1202.4 1518.27 Q1205.48 1513.66 1211.29 1513.66 Z\" fill=\"#000000\" fill-rule=\"evenodd\" fill-opacity=\"1\" /><path clip-path=\"url(#clip050)\" d=\"M1231.94 1542.97 L1236.82 1542.97 L1236.82 1546.95 L1233.02 1554.36 L1230.04 1554.36 L1231.94 1546.95 L1231.94 1542.97 Z\" fill=\"#000000\" fill-rule=\"evenodd\" fill-opacity=\"1\" /><path clip-path=\"url(#clip050)\" d=\"M1275.75 1530.21 Q1279.11 1530.93 1280.99 1533.2 Q1282.88 1535.47 1282.88 1538.8 Q1282.88 1543.92 1279.37 1546.72 Q1275.85 1549.52 1269.37 1549.52 Q1267.19 1549.52 1264.88 1549.08 Q1262.58 1548.66 1260.13 1547.81 L1260.13 1543.29 Q1262.07 1544.43 1264.39 1545.01 Q1266.7 1545.58 1269.23 1545.58 Q1273.62 1545.58 1275.92 1543.85 Q1278.23 1542.11 1278.23 1538.8 Q1278.23 1535.75 1276.08 1534.03 Q1273.95 1532.3 1270.13 1532.3 L1266.1 1532.3 L1266.1 1528.45 L1270.31 1528.45 Q1273.76 1528.45 1275.59 1527.09 Q1277.42 1525.7 1277.42 1523.11 Q1277.42 1520.45 1275.52 1519.03 Q1273.65 1517.6 1270.13 1517.6 Q1268.21 1517.6 1266.01 1518.01 Q1263.81 1518.43 1261.17 1519.31 L1261.17 1515.14 Q1263.83 1514.4 1266.15 1514.03 Q1268.49 1513.66 1270.55 1513.66 Q1275.87 1513.66 1278.97 1516.09 Q1282.07 1518.5 1282.07 1522.62 Q1282.07 1525.49 1280.43 1527.48 Q1278.79 1529.45 1275.75 1530.21 Z\" fill=\"#000000\" fill-rule=\"evenodd\" fill-opacity=\"1\" /><path clip-path=\"url(#clip050)\" d=\"M1292.24 1542.97 L1297.12 1542.97 L1297.12 1546.95 L1293.32 1554.36 L1290.34 1554.36 L1292.24 1546.95 L1292.24 1542.97 Z\" fill=\"#000000\" fill-rule=\"evenodd\" fill-opacity=\"1\" /><path clip-path=\"url(#clip050)\" d=\"M1331.89 1517.37 Q1328.28 1517.37 1326.45 1520.93 Q1324.64 1524.47 1324.64 1531.6 Q1324.64 1538.71 1326.45 1542.27 Q1328.28 1545.82 1331.89 1545.82 Q1335.52 1545.82 1337.33 1542.27 Q1339.16 1538.71 1339.16 1531.6 Q1339.16 1524.47 1337.33 1520.93 Q1335.52 1517.37 1331.89 1517.37 M1331.89 1513.66 Q1337.7 1513.66 1340.75 1518.27 Q1343.83 1522.85 1343.83 1531.6 Q1343.83 1540.33 1340.75 1544.94 Q1337.7 1549.52 1331.89 1549.52 Q1326.08 1549.52 1323 1544.94 Q1319.94 1540.33 1319.94 1531.6 Q1319.94 1522.85 1323 1518.27 Q1326.08 1513.66 1331.89 1513.66 Z\" fill=\"#000000\" fill-rule=\"evenodd\" fill-opacity=\"1\" /><path clip-path=\"url(#clip050)\" d=\"M1352.54 1542.97 L1357.42 1542.97 L1357.42 1546.95 L1353.62 1554.36 L1350.64 1554.36 L1352.54 1546.95 L1352.54 1542.97 Z\" fill=\"#000000\" fill-rule=\"evenodd\" fill-opacity=\"1\" /><path clip-path=\"url(#clip050)\" d=\"M1383 1544.91 L1390.64 1544.91 L1390.64 1518.55 L1382.33 1520.21 L1382.33 1515.95 L1390.59 1514.29 L1395.27 1514.29 L1395.27 1544.91 L1402.91 1544.91 L1402.91 1548.85 L1383 1548.85 L1383 1544.91 Z\" fill=\"#000000\" fill-rule=\"evenodd\" fill-opacity=\"1\" /><path clip-path=\"url(#clip050)\" d=\"M1412.84 1542.97 L1417.72 1542.97 L1417.72 1546.95 L1413.93 1554.36 L1410.94 1554.36 L1412.84 1546.95 L1412.84 1542.97 Z\" fill=\"#000000\" fill-rule=\"evenodd\" fill-opacity=\"1\" /><path clip-path=\"url(#clip050)\" d=\"M1452.49 1517.37 Q1448.88 1517.37 1447.05 1520.93 Q1445.24 1524.47 1445.24 1531.6 Q1445.24 1538.71 1447.05 1542.27 Q1448.88 1545.82 1452.49 1545.82 Q1456.12 1545.82 1457.93 1542.27 Q1459.76 1538.71 1459.76 1531.6 Q1459.76 1524.47 1457.93 1520.93 Q1456.12 1517.37 1452.49 1517.37 M1452.49 1513.66 Q1458.3 1513.66 1461.36 1518.27 Q1464.43 1522.85 1464.43 1531.6 Q1464.43 1540.33 1461.36 1544.94 Q1458.3 1549.52 1452.49 1549.52 Q1446.68 1549.52 1443.6 1544.94 Q1440.55 1540.33 1440.55 1531.6 Q1440.55 1522.85 1443.6 1518.27 Q1446.68 1513.66 1452.49 1513.66 Z\" fill=\"#000000\" fill-rule=\"evenodd\" fill-opacity=\"1\" /><path clip-path=\"url(#clip050)\" d=\"M1482 1512.83 L1482 1555.1 L1472.19 1555.1 L1472.19 1551.79 L1477.72 1551.79 L1477.72 1516.14 L1472.19 1516.14 L1472.19 1512.83 L1482 1512.83 Z\" fill=\"#000000\" fill-rule=\"evenodd\" fill-opacity=\"1\" /><path clip-path=\"url(#clip050)\" d=\"M1209.6 1512.83 L1219.42 1512.83 L1219.42 1516.14 L1213.86 1516.14 L1213.86 1551.79 L1219.42 1551.79 L1219.42 1555.1 L1209.6 1555.1 L1209.6 1512.83 Z\" fill=\"#000000\" fill-rule=\"evenodd\" fill-opacity=\"1\" /><path clip-path=\"url(#clip050)\" d=\"M1239.09 1517.37 Q1235.48 1517.37 1233.65 1520.93 Q1231.85 1524.47 1231.85 1531.6 Q1231.85 1538.71 1233.65 1542.27 Q1235.48 1545.82 1239.09 1545.82 Q1242.73 1545.82 1244.53 1542.27 Q1246.36 1538.71 1246.36 1531.6 Q1246.36 1524.47 1244.53 1520.93 Q1242.73 1517.37 1239.09 1517.37 M1239.09 1513.66 Q1244.9 1513.66 1247.96 1518.27 Q1251.04 1522.85 1251.04 1531.6 Q1251.04 1540.33 1247.96 1544.94 Q1244.9 1549.52 1239.09 1549.52 Q1233.28 1549.52 1230.2 1544.94 Q1227.15 1540.33 1227.15 1531.6 Q1227.15 1522.85 1230.2 1518.27 Q1233.28 1513.66 1239.09 1513.66 Z\" fill=\"#000000\" fill-rule=\"evenodd\" fill-opacity=\"1\" /><path clip-path=\"url(#clip050)\" d=\"M1259.74 1542.97 L1264.63 1542.97 L1264.63 1546.95 L1260.83 1554.36 L1257.84 1554.36 L1259.74 1546.95 L1259.74 1542.97 Z\" fill=\"#000000\" fill-rule=\"evenodd\" fill-opacity=\"1\" /><path clip-path=\"url(#clip050)\" d=\"M1303.56 1530.21 Q1306.92 1530.93 1308.79 1533.2 Q1310.69 1535.47 1310.69 1538.8 Q1310.69 1543.92 1307.17 1546.72 Q1303.65 1549.52 1297.17 1549.52 Q1295 1549.52 1292.68 1549.08 Q1290.39 1548.66 1287.94 1547.81 L1287.94 1543.29 Q1289.88 1544.43 1292.19 1545.01 Q1294.51 1545.58 1297.03 1545.58 Q1301.43 1545.58 1303.72 1543.85 Q1306.04 1542.11 1306.04 1538.8 Q1306.04 1535.75 1303.88 1534.03 Q1301.75 1532.3 1297.94 1532.3 L1293.91 1532.3 L1293.91 1528.45 L1298.12 1528.45 Q1301.57 1528.45 1303.4 1527.09 Q1305.23 1525.7 1305.23 1523.11 Q1305.23 1520.45 1303.33 1519.03 Q1301.45 1517.6 1297.94 1517.6 Q1296.01 1517.6 1293.82 1518.01 Q1291.62 1518.43 1288.98 1519.31 L1288.98 1515.14 Q1291.64 1514.4 1293.95 1514.03 Q1296.29 1513.66 1298.35 1513.66 Q1303.68 1513.66 1306.78 1516.09 Q1309.88 1518.5 1309.88 1522.62 Q1309.88 1525.49 1308.24 1527.48 Q1306.59 1529.45 1303.56 1530.21 Z\" fill=\"#000000\" fill-rule=\"evenodd\" fill-opacity=\"1\" /><path clip-path=\"url(#clip050)\" d=\"M1320.04 1542.97 L1324.93 1542.97 L1324.93 1546.95 L1321.13 1554.36 L1318.14 1554.36 L1320.04 1546.95 L1320.04 1542.97 Z\" fill=\"#000000\" fill-rule=\"evenodd\" fill-opacity=\"1\" /><path clip-path=\"url(#clip050)\" d=\"M1359.69 1517.37 Q1356.08 1517.37 1354.25 1520.93 Q1352.45 1524.47 1352.45 1531.6 Q1352.45 1538.71 1354.25 1542.27 Q1356.08 1545.82 1359.69 1545.82 Q1363.33 1545.82 1365.13 1542.27 Q1366.96 1538.71 1366.96 1531.6 Q1366.96 1524.47 1365.13 1520.93 Q1363.33 1517.37 1359.69 1517.37 M1359.69 1513.66 Q1365.5 1513.66 1368.56 1518.27 Q1371.64 1522.85 1371.64 1531.6 Q1371.64 1540.33 1368.56 1544.94 Q1365.5 1549.52 1359.69 1549.52 Q1353.88 1549.52 1350.81 1544.94 Q1347.75 1540.33 1347.75 1531.6 Q1347.75 1522.85 1350.81 1518.27 Q1353.88 1513.66 1359.69 1513.66 Z\" fill=\"#000000\" fill-rule=\"evenodd\" fill-opacity=\"1\" /><path clip-path=\"url(#clip050)\" d=\"M1380.34 1542.97 L1385.23 1542.97 L1385.23 1546.95 L1381.43 1554.36 L1378.44 1554.36 L1380.34 1546.95 L1380.34 1542.97 Z\" fill=\"#000000\" fill-rule=\"evenodd\" fill-opacity=\"1\" /><path clip-path=\"url(#clip050)\" d=\"M1420 1517.37 Q1416.38 1517.37 1414.56 1520.93 Q1412.75 1524.47 1412.75 1531.6 Q1412.75 1538.71 1414.56 1542.27 Q1416.38 1545.82 1420 1545.82 Q1423.63 1545.82 1425.43 1542.27 Q1427.26 1538.71 1427.26 1531.6 Q1427.26 1524.47 1425.43 1520.93 Q1423.63 1517.37 1420 1517.37 M1420 1513.66 Q1425.81 1513.66 1428.86 1518.27 Q1431.94 1522.85 1431.94 1531.6 Q1431.94 1540.33 1428.86 1544.94 Q1425.81 1549.52 1420 1549.52 Q1414.18 1549.52 1411.11 1544.94 Q1408.05 1540.33 1408.05 1531.6 Q1408.05 1522.85 1411.11 1518.27 Q1414.18 1513.66 1420 1513.66 Z\" fill=\"#000000\" fill-rule=\"evenodd\" fill-opacity=\"1\" /><path clip-path=\"url(#clip050)\" d=\"M1440.64 1542.97 L1445.53 1542.97 L1445.53 1546.95 L1441.73 1554.36 L1438.74 1554.36 L1440.64 1546.95 L1440.64 1542.97 Z\" fill=\"#000000\" fill-rule=\"evenodd\" fill-opacity=\"1\" /><path clip-path=\"url(#clip050)\" d=\"M1471.11 1544.91 L1478.74 1544.91 L1478.74 1518.55 L1470.43 1520.21 L1470.43 1515.95 L1478.7 1514.29 L1483.37 1514.29 L1483.37 1544.91 L1491.01 1544.91 L1491.01 1548.85 L1471.11 1548.85 L1471.11 1544.91 Z\" fill=\"#000000\" fill-rule=\"evenodd\" fill-opacity=\"1\" /><path clip-path=\"url(#clip050)\" d=\"M1509.81 1512.83 L1509.81 1555.1 L1499.99 1555.1 L1499.99 1551.79 L1505.53 1551.79 L1505.53 1516.14 L1499.99 1516.14 L1499.99 1512.83 L1509.81 1512.83 Z\" fill=\"#000000\" fill-rule=\"evenodd\" fill-opacity=\"1\" /><path clip-path=\"url(#clip050)\" d=\"M1237.41 1512.83 L1247.22 1512.83 L1247.22 1516.14 L1241.67 1516.14 L1241.67 1551.79 L1247.22 1551.79 L1247.22 1555.1 L1237.41 1555.1 L1237.41 1512.83 Z\" fill=\"#000000\" fill-rule=\"evenodd\" fill-opacity=\"1\" /><path clip-path=\"url(#clip050)\" d=\"M1266.9 1517.37 Q1263.29 1517.37 1261.46 1520.93 Q1259.65 1524.47 1259.65 1531.6 Q1259.65 1538.71 1261.46 1542.27 Q1263.29 1545.82 1266.9 1545.82 Q1270.53 1545.82 1272.34 1542.27 Q1274.17 1538.71 1274.17 1531.6 Q1274.17 1524.47 1272.34 1520.93 Q1270.53 1517.37 1266.9 1517.37 M1266.9 1513.66 Q1272.71 1513.66 1275.76 1518.27 Q1278.84 1522.85 1278.84 1531.6 Q1278.84 1540.33 1275.76 1544.94 Q1272.71 1549.52 1266.9 1549.52 Q1261.09 1549.52 1258.01 1544.94 Q1254.95 1540.33 1254.95 1531.6 Q1254.95 1522.85 1258.01 1518.27 Q1261.09 1513.66 1266.9 1513.66 Z\" fill=\"#000000\" fill-rule=\"evenodd\" fill-opacity=\"1\" /><path clip-path=\"url(#clip050)\" d=\"M1287.55 1542.97 L1292.43 1542.97 L1292.43 1546.95 L1288.64 1554.36 L1285.65 1554.36 L1287.55 1546.95 L1287.55 1542.97 Z\" fill=\"#000000\" fill-rule=\"evenodd\" fill-opacity=\"1\" /><path clip-path=\"url(#clip050)\" d=\"M1321.23 1544.91 L1337.55 1544.91 L1337.55 1548.85 L1315.6 1548.85 L1315.6 1544.91 Q1318.26 1542.16 1322.85 1537.53 Q1327.45 1532.88 1328.63 1531.53 Q1330.88 1529.01 1331.76 1527.27 Q1332.66 1525.51 1332.66 1523.82 Q1332.66 1521.07 1330.72 1519.33 Q1328.8 1517.6 1325.7 1517.6 Q1323.5 1517.6 1321.04 1518.36 Q1318.61 1519.13 1315.83 1520.68 L1315.83 1515.95 Q1318.66 1514.82 1321.11 1514.24 Q1323.57 1513.66 1325.6 1513.66 Q1330.97 1513.66 1334.17 1516.35 Q1337.36 1519.03 1337.36 1523.52 Q1337.36 1525.65 1336.55 1527.57 Q1335.76 1529.47 1333.66 1532.07 Q1333.08 1532.74 1329.98 1535.95 Q1326.88 1539.15 1321.23 1544.91 Z\" fill=\"#000000\" fill-rule=\"evenodd\" fill-opacity=\"1\" /><path clip-path=\"url(#clip050)\" d=\"M1347.85 1542.97 L1352.73 1542.97 L1352.73 1546.95 L1348.94 1554.36 L1345.95 1554.36 L1347.85 1546.95 L1347.85 1542.97 Z\" fill=\"#000000\" fill-rule=\"evenodd\" fill-opacity=\"1\" /><path clip-path=\"url(#clip050)\" d=\"M1381.53 1544.91 L1397.85 1544.91 L1397.85 1548.85 L1375.9 1548.85 L1375.9 1544.91 Q1378.57 1542.16 1383.15 1537.53 Q1387.75 1532.88 1388.94 1531.53 Q1391.18 1529.01 1392.06 1527.27 Q1392.96 1525.51 1392.96 1523.82 Q1392.96 1521.07 1391.02 1519.33 Q1389.1 1517.6 1386 1517.6 Q1383.8 1517.6 1381.34 1518.36 Q1378.91 1519.13 1376.13 1520.68 L1376.13 1515.95 Q1378.96 1514.82 1381.41 1514.24 Q1383.87 1513.66 1385.9 1513.66 Q1391.27 1513.66 1394.47 1516.35 Q1397.66 1519.03 1397.66 1523.52 Q1397.66 1525.65 1396.85 1527.57 Q1396.07 1529.47 1393.96 1532.07 Q1393.38 1532.74 1390.28 1535.95 Q1387.18 1539.15 1381.53 1544.91 Z\" fill=\"#000000\" fill-rule=\"evenodd\" fill-opacity=\"1\" /><path clip-path=\"url(#clip050)\" d=\"M1408.15 1542.97 L1413.03 1542.97 L1413.03 1546.95 L1409.24 1554.36 L1406.25 1554.36 L1408.15 1546.95 L1408.15 1542.97 Z\" fill=\"#000000\" fill-rule=\"evenodd\" fill-opacity=\"1\" /><path clip-path=\"url(#clip050)\" d=\"M1447.8 1517.37 Q1444.19 1517.37 1442.36 1520.93 Q1440.56 1524.47 1440.56 1531.6 Q1440.56 1538.71 1442.36 1542.27 Q1444.19 1545.82 1447.8 1545.82 Q1451.44 1545.82 1453.24 1542.27 Q1455.07 1538.71 1455.07 1531.6 Q1455.07 1524.47 1453.24 1520.93 Q1451.44 1517.37 1447.8 1517.37 M1447.8 1513.66 Q1453.61 1513.66 1456.67 1518.27 Q1459.75 1522.85 1459.75 1531.6 Q1459.75 1540.33 1456.67 1544.94 Q1453.61 1549.52 1447.8 1549.52 Q1441.99 1549.52 1438.91 1544.94 Q1435.86 1540.33 1435.86 1531.6 Q1435.86 1522.85 1438.91 1518.27 Q1441.99 1513.66 1447.8 1513.66 Z\" fill=\"#000000\" fill-rule=\"evenodd\" fill-opacity=\"1\" /><path clip-path=\"url(#clip050)\" d=\"M1468.45 1542.97 L1473.33 1542.97 L1473.33 1546.95 L1469.54 1554.36 L1466.55 1554.36 L1468.45 1546.95 L1468.45 1542.97 Z\" fill=\"#000000\" fill-rule=\"evenodd\" fill-opacity=\"1\" /><path clip-path=\"url(#clip050)\" d=\"M1508.1 1517.37 Q1504.49 1517.37 1502.66 1520.93 Q1500.86 1524.47 1500.86 1531.6 Q1500.86 1538.71 1502.66 1542.27 Q1504.49 1545.82 1508.1 1545.82 Q1511.74 1545.82 1513.54 1542.27 Q1515.37 1538.71 1515.37 1531.6 Q1515.37 1524.47 1513.54 1520.93 Q1511.74 1517.37 1508.1 1517.37 M1508.1 1513.66 Q1513.91 1513.66 1516.97 1518.27 Q1520.05 1522.85 1520.05 1531.6 Q1520.05 1540.33 1516.97 1544.94 Q1513.91 1549.52 1508.1 1549.52 Q1502.29 1549.52 1499.21 1544.94 Q1496.16 1540.33 1496.16 1531.6 Q1496.16 1522.85 1499.21 1518.27 Q1502.29 1513.66 1508.1 1513.66 Z\" fill=\"#000000\" fill-rule=\"evenodd\" fill-opacity=\"1\" /><path clip-path=\"url(#clip050)\" d=\"M1537.62 1512.83 L1537.62 1555.1 L1527.8 1555.1 L1527.8 1551.79 L1533.33 1551.79 L1533.33 1516.14 L1527.8 1516.14 L1527.8 1512.83 L1537.62 1512.83 Z\" fill=\"#000000\" fill-rule=\"evenodd\" fill-opacity=\"1\" /><path clip-path=\"url(#clip050)\" d=\"M1265.21 1512.83 L1275.03 1512.83 L1275.03 1516.14 L1269.47 1516.14 L1269.47 1551.79 L1275.03 1551.79 L1275.03 1555.1 L1265.21 1555.1 L1265.21 1512.83 Z\" fill=\"#000000\" fill-rule=\"evenodd\" fill-opacity=\"1\" /><path clip-path=\"url(#clip050)\" d=\"M1294.71 1517.37 Q1291.09 1517.37 1289.27 1520.93 Q1287.46 1524.47 1287.46 1531.6 Q1287.46 1538.71 1289.27 1542.27 Q1291.09 1545.82 1294.71 1545.82 Q1298.34 1545.82 1300.14 1542.27 Q1301.97 1538.71 1301.97 1531.6 Q1301.97 1524.47 1300.14 1520.93 Q1298.34 1517.37 1294.71 1517.37 M1294.71 1513.66 Q1300.52 1513.66 1303.57 1518.27 Q1306.65 1522.85 1306.65 1531.6 Q1306.65 1540.33 1303.57 1544.94 Q1300.52 1549.52 1294.71 1549.52 Q1288.89 1549.52 1285.82 1544.94 Q1282.76 1540.33 1282.76 1531.6 Q1282.76 1522.85 1285.82 1518.27 Q1288.89 1513.66 1294.71 1513.66 Z\" fill=\"#000000\" fill-rule=\"evenodd\" fill-opacity=\"1\" /><path clip-path=\"url(#clip050)\" d=\"M1315.35 1542.97 L1320.24 1542.97 L1320.24 1546.95 L1316.44 1554.36 L1313.45 1554.36 L1315.35 1546.95 L1315.35 1542.97 Z\" fill=\"#000000\" fill-rule=\"evenodd\" fill-opacity=\"1\" /><path clip-path=\"url(#clip050)\" d=\"M1349.03 1544.91 L1365.35 1544.91 L1365.35 1548.85 L1343.41 1548.85 L1343.41 1544.91 Q1346.07 1542.16 1350.65 1537.53 Q1355.26 1532.88 1356.44 1531.53 Q1358.69 1529.01 1359.57 1527.27 Q1360.47 1525.51 1360.47 1523.82 Q1360.47 1521.07 1358.52 1519.33 Q1356.6 1517.6 1353.5 1517.6 Q1351.3 1517.6 1348.85 1518.36 Q1346.42 1519.13 1343.64 1520.68 L1343.64 1515.95 Q1346.46 1514.82 1348.92 1514.24 Q1351.37 1513.66 1353.41 1513.66 Q1358.78 1513.66 1361.97 1516.35 Q1365.17 1519.03 1365.17 1523.52 Q1365.17 1525.65 1364.36 1527.57 Q1363.57 1529.47 1361.46 1532.07 Q1360.89 1532.74 1357.78 1535.95 Q1354.68 1539.15 1349.03 1544.91 Z\" fill=\"#000000\" fill-rule=\"evenodd\" fill-opacity=\"1\" /><path clip-path=\"url(#clip050)\" d=\"M1375.65 1542.97 L1380.54 1542.97 L1380.54 1546.95 L1376.74 1554.36 L1373.76 1554.36 L1375.65 1546.95 L1375.65 1542.97 Z\" fill=\"#000000\" fill-rule=\"evenodd\" fill-opacity=\"1\" /><path clip-path=\"url(#clip050)\" d=\"M1406.12 1544.91 L1413.76 1544.91 L1413.76 1518.55 L1405.45 1520.21 L1405.45 1515.95 L1413.71 1514.29 L1418.38 1514.29 L1418.38 1544.91 L1426.02 1544.91 L1426.02 1548.85 L1406.12 1548.85 L1406.12 1544.91 Z\" fill=\"#000000\" fill-rule=\"evenodd\" fill-opacity=\"1\" /><path clip-path=\"url(#clip050)\" d=\"M1435.95 1542.97 L1440.84 1542.97 L1440.84 1546.95 L1437.04 1554.36 L1434.06 1554.36 L1435.95 1546.95 L1435.95 1542.97 Z\" fill=\"#000000\" fill-rule=\"evenodd\" fill-opacity=\"1\" /><path clip-path=\"url(#clip050)\" d=\"M1466.42 1544.91 L1474.06 1544.91 L1474.06 1518.55 L1465.75 1520.21 L1465.75 1515.95 L1474.01 1514.29 L1478.69 1514.29 L1478.69 1544.91 L1486.32 1544.91 L1486.32 1548.85 L1466.42 1548.85 L1466.42 1544.91 Z\" fill=\"#000000\" fill-rule=\"evenodd\" fill-opacity=\"1\" /><path clip-path=\"url(#clip050)\" d=\"M1496.25 1542.97 L1501.14 1542.97 L1501.14 1546.95 L1497.34 1554.36 L1494.36 1554.36 L1496.25 1546.95 L1496.25 1542.97 Z\" fill=\"#000000\" fill-rule=\"evenodd\" fill-opacity=\"1\" /><path clip-path=\"url(#clip050)\" d=\"M1535.91 1517.37 Q1532.3 1517.37 1530.47 1520.93 Q1528.66 1524.47 1528.66 1531.6 Q1528.66 1538.71 1530.47 1542.27 Q1532.3 1545.82 1535.91 1545.82 Q1539.54 1545.82 1541.35 1542.27 Q1543.18 1538.71 1543.18 1531.6 Q1543.18 1524.47 1541.35 1520.93 Q1539.54 1517.37 1535.91 1517.37 M1535.91 1513.66 Q1541.72 1513.66 1544.77 1518.27 Q1547.85 1522.85 1547.85 1531.6 Q1547.85 1540.33 1544.77 1544.94 Q1541.72 1549.52 1535.91 1549.52 Q1530.1 1549.52 1527.02 1544.94 Q1523.96 1540.33 1523.96 1531.6 Q1523.96 1522.85 1527.02 1518.27 Q1530.1 1513.66 1535.91 1513.66 Z\" fill=\"#000000\" fill-rule=\"evenodd\" fill-opacity=\"1\" /><path clip-path=\"url(#clip050)\" d=\"M1565.42 1512.83 L1565.42 1555.1 L1555.61 1555.1 L1555.61 1551.79 L1561.14 1551.79 L1561.14 1516.14 L1555.61 1516.14 L1555.61 1512.83 L1565.42 1512.83 Z\" fill=\"#000000\" fill-rule=\"evenodd\" fill-opacity=\"1\" /><path clip-path=\"url(#clip050)\" d=\"M1293.02 1512.83 L1302.84 1512.83 L1302.84 1516.14 L1297.28 1516.14 L1297.28 1551.79 L1302.84 1551.79 L1302.84 1555.1 L1293.02 1555.1 L1293.02 1512.83 Z\" fill=\"#000000\" fill-rule=\"evenodd\" fill-opacity=\"1\" /><path clip-path=\"url(#clip050)\" d=\"M1322.51 1517.37 Q1318.9 1517.37 1317.07 1520.93 Q1315.27 1524.47 1315.27 1531.6 Q1315.27 1538.71 1317.07 1542.27 Q1318.9 1545.82 1322.51 1545.82 Q1326.15 1545.82 1327.95 1542.27 Q1329.78 1538.71 1329.78 1531.6 Q1329.78 1524.47 1327.95 1520.93 Q1326.15 1517.37 1322.51 1517.37 M1322.51 1513.66 Q1328.32 1513.66 1331.38 1518.27 Q1334.46 1522.85 1334.46 1531.6 Q1334.46 1540.33 1331.38 1544.94 Q1328.32 1549.52 1322.51 1549.52 Q1316.7 1549.52 1313.62 1544.94 Q1310.57 1540.33 1310.57 1531.6 Q1310.57 1522.85 1313.62 1518.27 Q1316.7 1513.66 1322.51 1513.66 Z\" fill=\"#000000\" fill-rule=\"evenodd\" fill-opacity=\"1\" /><path clip-path=\"url(#clip050)\" d=\"M1343.16 1542.97 L1348.04 1542.97 L1348.04 1546.95 L1344.25 1554.36 L1341.26 1554.36 L1343.16 1546.95 L1343.16 1542.97 Z\" fill=\"#000000\" fill-rule=\"evenodd\" fill-opacity=\"1\" /><path clip-path=\"url(#clip050)\" d=\"M1376.84 1544.91 L1393.16 1544.91 L1393.16 1548.85 L1371.21 1548.85 L1371.21 1544.91 Q1373.88 1542.16 1378.46 1537.53 Q1383.07 1532.88 1384.25 1531.53 Q1386.49 1529.01 1387.37 1527.27 Q1388.27 1525.51 1388.27 1523.82 Q1388.27 1521.07 1386.33 1519.33 Q1384.41 1517.6 1381.31 1517.6 Q1379.11 1517.6 1376.65 1518.36 Q1374.22 1519.13 1371.45 1520.68 L1371.45 1515.95 Q1374.27 1514.82 1376.72 1514.24 Q1379.18 1513.66 1381.21 1513.66 Q1386.58 1513.66 1389.78 1516.35 Q1392.97 1519.03 1392.97 1523.52 Q1392.97 1525.65 1392.16 1527.57 Q1391.38 1529.47 1389.27 1532.07 Q1388.69 1532.74 1385.59 1535.95 Q1382.49 1539.15 1376.84 1544.91 Z\" fill=\"#000000\" fill-rule=\"evenodd\" fill-opacity=\"1\" /><path clip-path=\"url(#clip050)\" d=\"M1403.46 1542.97 L1408.34 1542.97 L1408.34 1546.95 L1404.55 1554.36 L1401.56 1554.36 L1403.46 1546.95 L1403.46 1542.97 Z\" fill=\"#000000\" fill-rule=\"evenodd\" fill-opacity=\"1\" /><path clip-path=\"url(#clip050)\" d=\"M1433.92 1544.91 L1441.56 1544.91 L1441.56 1518.55 L1433.25 1520.21 L1433.25 1515.95 L1441.51 1514.29 L1446.19 1514.29 L1446.19 1544.91 L1453.83 1544.91 L1453.83 1548.85 L1433.92 1548.85 L1433.92 1544.91 Z\" fill=\"#000000\" fill-rule=\"evenodd\" fill-opacity=\"1\" /><path clip-path=\"url(#clip050)\" d=\"M1463.76 1542.97 L1468.64 1542.97 L1468.64 1546.95 L1464.85 1554.36 L1461.86 1554.36 L1463.76 1546.95 L1463.76 1542.97 Z\" fill=\"#000000\" fill-rule=\"evenodd\" fill-opacity=\"1\" /><path clip-path=\"url(#clip050)\" d=\"M1503.41 1517.37 Q1499.8 1517.37 1497.97 1520.93 Q1496.17 1524.47 1496.17 1531.6 Q1496.17 1538.71 1497.97 1542.27 Q1499.8 1545.82 1503.41 1545.82 Q1507.05 1545.82 1508.85 1542.27 Q1510.68 1538.71 1510.68 1531.6 Q1510.68 1524.47 1508.85 1520.93 Q1507.05 1517.37 1503.41 1517.37 M1503.41 1513.66 Q1509.22 1513.66 1512.28 1518.27 Q1515.36 1522.85 1515.36 1531.6 Q1515.36 1540.33 1512.28 1544.94 Q1509.22 1549.52 1503.41 1549.52 Q1497.6 1549.52 1494.52 1544.94 Q1491.47 1540.33 1491.47 1531.6 Q1491.47 1522.85 1494.52 1518.27 Q1497.6 1513.66 1503.41 1513.66 Z\" fill=\"#000000\" fill-rule=\"evenodd\" fill-opacity=\"1\" /><path clip-path=\"url(#clip050)\" d=\"M1524.06 1542.97 L1528.95 1542.97 L1528.95 1546.95 L1525.15 1554.36 L1522.16 1554.36 L1524.06 1546.95 L1524.06 1542.97 Z\" fill=\"#000000\" fill-rule=\"evenodd\" fill-opacity=\"1\" /><path clip-path=\"url(#clip050)\" d=\"M1554.52 1544.91 L1562.16 1544.91 L1562.16 1518.55 L1553.85 1520.21 L1553.85 1515.95 L1562.12 1514.29 L1566.79 1514.29 L1566.79 1544.91 L1574.43 1544.91 L1574.43 1548.85 L1554.52 1548.85 L1554.52 1544.91 Z\" fill=\"#000000\" fill-rule=\"evenodd\" fill-opacity=\"1\" /><path clip-path=\"url(#clip050)\" d=\"M1593.23 1512.83 L1593.23 1555.1 L1583.41 1555.1 L1583.41 1551.79 L1588.94 1551.79 L1588.94 1516.14 L1583.41 1516.14 L1583.41 1512.83 L1593.23 1512.83 Z\" fill=\"#000000\" fill-rule=\"evenodd\" fill-opacity=\"1\" /><path clip-path=\"url(#clip050)\" d=\"M1320.83 1512.83 L1330.64 1512.83 L1330.64 1516.14 L1325.09 1516.14 L1325.09 1551.79 L1330.64 1551.79 L1330.64 1555.1 L1320.83 1555.1 L1320.83 1512.83 Z\" fill=\"#000000\" fill-rule=\"evenodd\" fill-opacity=\"1\" /><path clip-path=\"url(#clip050)\" d=\"M1350.32 1517.37 Q1346.71 1517.37 1344.88 1520.93 Q1343.07 1524.47 1343.07 1531.6 Q1343.07 1538.71 1344.88 1542.27 Q1346.71 1545.82 1350.32 1545.82 Q1353.95 1545.82 1355.76 1542.27 Q1357.59 1538.71 1357.59 1531.6 Q1357.59 1524.47 1355.76 1520.93 Q1353.95 1517.37 1350.32 1517.37 M1350.32 1513.66 Q1356.13 1513.66 1359.18 1518.27 Q1362.26 1522.85 1362.26 1531.6 Q1362.26 1540.33 1359.18 1544.94 Q1356.13 1549.52 1350.32 1549.52 Q1344.51 1549.52 1341.43 1544.94 Q1338.37 1540.33 1338.37 1531.6 Q1338.37 1522.85 1341.43 1518.27 Q1344.51 1513.66 1350.32 1513.66 Z\" fill=\"#000000\" fill-rule=\"evenodd\" fill-opacity=\"1\" /><path clip-path=\"url(#clip050)\" d=\"M1370.96 1542.97 L1375.85 1542.97 L1375.85 1546.95 L1372.05 1554.36 L1369.07 1554.36 L1370.96 1546.95 L1370.96 1542.97 Z\" fill=\"#000000\" fill-rule=\"evenodd\" fill-opacity=\"1\" /><path clip-path=\"url(#clip050)\" d=\"M1404.65 1544.91 L1420.96 1544.91 L1420.96 1548.85 L1399.02 1548.85 L1399.02 1544.91 Q1401.68 1542.16 1406.27 1537.53 Q1410.87 1532.88 1412.05 1531.53 Q1414.3 1529.01 1415.18 1527.27 Q1416.08 1525.51 1416.08 1523.82 Q1416.08 1521.07 1414.14 1519.33 Q1412.21 1517.6 1409.11 1517.6 Q1406.91 1517.6 1404.46 1518.36 Q1402.03 1519.13 1399.25 1520.68 L1399.25 1515.95 Q1402.08 1514.82 1404.53 1514.24 Q1406.98 1513.66 1409.02 1513.66 Q1414.39 1513.66 1417.58 1516.35 Q1420.78 1519.03 1420.78 1523.52 Q1420.78 1525.65 1419.97 1527.57 Q1419.18 1529.47 1417.08 1532.07 Q1416.5 1532.74 1413.4 1535.95 Q1410.29 1539.15 1404.65 1544.91 Z\" fill=\"#000000\" fill-rule=\"evenodd\" fill-opacity=\"1\" /><path clip-path=\"url(#clip050)\" d=\"M1431.27 1542.97 L1436.15 1542.97 L1436.15 1546.95 L1432.35 1554.36 L1429.37 1554.36 L1431.27 1546.95 L1431.27 1542.97 Z\" fill=\"#000000\" fill-rule=\"evenodd\" fill-opacity=\"1\" /><path clip-path=\"url(#clip050)\" d=\"M1470.92 1517.37 Q1467.31 1517.37 1465.48 1520.93 Q1463.67 1524.47 1463.67 1531.6 Q1463.67 1538.71 1465.48 1542.27 Q1467.31 1545.82 1470.92 1545.82 Q1474.55 1545.82 1476.36 1542.27 Q1478.19 1538.71 1478.19 1531.6 Q1478.19 1524.47 1476.36 1520.93 Q1474.55 1517.37 1470.92 1517.37 M1470.92 1513.66 Q1476.73 1513.66 1479.78 1518.27 Q1482.86 1522.85 1482.86 1531.6 Q1482.86 1540.33 1479.78 1544.94 Q1476.73 1549.52 1470.92 1549.52 Q1465.11 1549.52 1462.03 1544.94 Q1458.97 1540.33 1458.97 1531.6 Q1458.97 1522.85 1462.03 1518.27 Q1465.11 1513.66 1470.92 1513.66 Z\" fill=\"#000000\" fill-rule=\"evenodd\" fill-opacity=\"1\" /><path clip-path=\"url(#clip050)\" d=\"M1491.57 1542.97 L1496.45 1542.97 L1496.45 1546.95 L1492.65 1554.36 L1489.67 1554.36 L1491.57 1546.95 L1491.57 1542.97 Z\" fill=\"#000000\" fill-rule=\"evenodd\" fill-opacity=\"1\" /><path clip-path=\"url(#clip050)\" d=\"M1525.25 1544.91 L1541.57 1544.91 L1541.57 1548.85 L1519.62 1548.85 L1519.62 1544.91 Q1522.28 1542.16 1526.87 1537.53 Q1531.47 1532.88 1532.65 1531.53 Q1534.9 1529.01 1535.78 1527.27 Q1536.68 1525.51 1536.68 1523.82 Q1536.68 1521.07 1534.74 1519.33 Q1532.82 1517.6 1529.71 1517.6 Q1527.51 1517.6 1525.06 1518.36 Q1522.63 1519.13 1519.85 1520.68 L1519.85 1515.95 Q1522.68 1514.82 1525.13 1514.24 Q1527.58 1513.66 1529.62 1513.66 Q1534.99 1513.66 1538.19 1516.35 Q1541.38 1519.03 1541.38 1523.52 Q1541.38 1525.65 1540.57 1527.57 Q1539.78 1529.47 1537.68 1532.07 Q1537.1 1532.74 1534 1535.95 Q1530.89 1539.15 1525.25 1544.91 Z\" fill=\"#000000\" fill-rule=\"evenodd\" fill-opacity=\"1\" /><path clip-path=\"url(#clip050)\" d=\"M1551.87 1542.97 L1556.75 1542.97 L1556.75 1546.95 L1552.95 1554.36 L1549.97 1554.36 L1551.87 1546.95 L1551.87 1542.97 Z\" fill=\"#000000\" fill-rule=\"evenodd\" fill-opacity=\"1\" /><path clip-path=\"url(#clip050)\" d=\"M1591.52 1517.37 Q1587.91 1517.37 1586.08 1520.93 Q1584.27 1524.47 1584.27 1531.6 Q1584.27 1538.71 1586.08 1542.27 Q1587.91 1545.82 1591.52 1545.82 Q1595.15 1545.82 1596.96 1542.27 Q1598.79 1538.71 1598.79 1531.6 Q1598.79 1524.47 1596.96 1520.93 Q1595.15 1517.37 1591.52 1517.37 M1591.52 1513.66 Q1597.33 1513.66 1600.38 1518.27 Q1603.46 1522.85 1603.46 1531.6 Q1603.46 1540.33 1600.38 1544.94 Q1597.33 1549.52 1591.52 1549.52 Q1585.71 1549.52 1582.63 1544.94 Q1579.57 1540.33 1579.57 1531.6 Q1579.57 1522.85 1582.63 1518.27 Q1585.71 1513.66 1591.52 1513.66 Z\" fill=\"#000000\" fill-rule=\"evenodd\" fill-opacity=\"1\" /><path clip-path=\"url(#clip050)\" d=\"M1621.03 1512.83 L1621.03 1555.1 L1611.22 1555.1 L1611.22 1551.79 L1616.75 1551.79 L1616.75 1516.14 L1611.22 1516.14 L1611.22 1512.83 L1621.03 1512.83 Z\" fill=\"#000000\" fill-rule=\"evenodd\" fill-opacity=\"1\" /><path clip-path=\"url(#clip050)\" d=\"M1348.63 1512.83 L1358.45 1512.83 L1358.45 1516.14 L1352.89 1516.14 L1352.89 1551.79 L1358.45 1551.79 L1358.45 1555.1 L1348.63 1555.1 L1348.63 1512.83 Z\" fill=\"#000000\" fill-rule=\"evenodd\" fill-opacity=\"1\" /><path clip-path=\"url(#clip050)\" d=\"M1378.12 1517.37 Q1374.51 1517.37 1372.68 1520.93 Q1370.88 1524.47 1370.88 1531.6 Q1370.88 1538.71 1372.68 1542.27 Q1374.51 1545.82 1378.12 1545.82 Q1381.76 1545.82 1383.56 1542.27 Q1385.39 1538.71 1385.39 1531.6 Q1385.39 1524.47 1383.56 1520.93 Q1381.76 1517.37 1378.12 1517.37 M1378.12 1513.66 Q1383.93 1513.66 1386.99 1518.27 Q1390.07 1522.85 1390.07 1531.6 Q1390.07 1540.33 1386.99 1544.94 Q1383.93 1549.52 1378.12 1549.52 Q1372.31 1549.52 1369.23 1544.94 Q1366.18 1540.33 1366.18 1531.6 Q1366.18 1522.85 1369.23 1518.27 Q1372.31 1513.66 1378.12 1513.66 Z\" fill=\"#000000\" fill-rule=\"evenodd\" fill-opacity=\"1\" /><path clip-path=\"url(#clip050)\" d=\"M1398.77 1542.97 L1403.66 1542.97 L1403.66 1546.95 L1399.86 1554.36 L1396.87 1554.36 L1398.77 1546.95 L1398.77 1542.97 Z\" fill=\"#000000\" fill-rule=\"evenodd\" fill-opacity=\"1\" /><path clip-path=\"url(#clip050)\" d=\"M1432.45 1544.91 L1448.77 1544.91 L1448.77 1548.85 L1426.83 1548.85 L1426.83 1544.91 Q1429.49 1542.16 1434.07 1537.53 Q1438.68 1532.88 1439.86 1531.53 Q1442.1 1529.01 1442.98 1527.27 Q1443.89 1525.51 1443.89 1523.82 Q1443.89 1521.07 1441.94 1519.33 Q1440.02 1517.6 1436.92 1517.6 Q1434.72 1517.6 1432.27 1518.36 Q1429.84 1519.13 1427.06 1520.68 L1427.06 1515.95 Q1429.88 1514.82 1432.34 1514.24 Q1434.79 1513.66 1436.83 1513.66 Q1442.2 1513.66 1445.39 1516.35 Q1448.59 1519.03 1448.59 1523.52 Q1448.59 1525.65 1447.78 1527.57 Q1446.99 1529.47 1444.88 1532.07 Q1444.3 1532.74 1441.2 1535.95 Q1438.1 1539.15 1432.45 1544.91 Z\" fill=\"#000000\" fill-rule=\"evenodd\" fill-opacity=\"1\" /><path clip-path=\"url(#clip050)\" d=\"M1459.07 1542.97 L1463.96 1542.97 L1463.96 1546.95 L1460.16 1554.36 L1457.17 1554.36 L1459.07 1546.95 L1459.07 1542.97 Z\" fill=\"#000000\" fill-rule=\"evenodd\" fill-opacity=\"1\" /><path clip-path=\"url(#clip050)\" d=\"M1498.72 1517.37 Q1495.11 1517.37 1493.28 1520.93 Q1491.48 1524.47 1491.48 1531.6 Q1491.48 1538.71 1493.28 1542.27 Q1495.11 1545.82 1498.72 1545.82 Q1502.36 1545.82 1504.16 1542.27 Q1505.99 1538.71 1505.99 1531.6 Q1505.99 1524.47 1504.16 1520.93 Q1502.36 1517.37 1498.72 1517.37 M1498.72 1513.66 Q1504.53 1513.66 1507.59 1518.27 Q1510.67 1522.85 1510.67 1531.6 Q1510.67 1540.33 1507.59 1544.94 Q1504.53 1549.52 1498.72 1549.52 Q1492.91 1549.52 1489.84 1544.94 Q1486.78 1540.33 1486.78 1531.6 Q1486.78 1522.85 1489.84 1518.27 Q1492.91 1513.66 1498.72 1513.66 Z\" fill=\"#000000\" fill-rule=\"evenodd\" fill-opacity=\"1\" /><path clip-path=\"url(#clip050)\" d=\"M1519.37 1542.97 L1524.26 1542.97 L1524.26 1546.95 L1520.46 1554.36 L1517.47 1554.36 L1519.37 1546.95 L1519.37 1542.97 Z\" fill=\"#000000\" fill-rule=\"evenodd\" fill-opacity=\"1\" /><path clip-path=\"url(#clip050)\" d=\"M1549.83 1544.91 L1557.47 1544.91 L1557.47 1518.55 L1549.16 1520.21 L1549.16 1515.95 L1557.43 1514.29 L1562.1 1514.29 L1562.1 1544.91 L1569.74 1544.91 L1569.74 1548.85 L1549.83 1548.85 L1549.83 1544.91 Z\" fill=\"#000000\" fill-rule=\"evenodd\" fill-opacity=\"1\" /><path clip-path=\"url(#clip050)\" d=\"M1579.67 1542.97 L1584.56 1542.97 L1584.56 1546.95 L1580.76 1554.36 L1577.77 1554.36 L1579.67 1546.95 L1579.67 1542.97 Z\" fill=\"#000000\" fill-rule=\"evenodd\" fill-opacity=\"1\" /><path clip-path=\"url(#clip050)\" d=\"M1610.14 1544.91 L1617.77 1544.91 L1617.77 1518.55 L1609.46 1520.21 L1609.46 1515.95 L1617.73 1514.29 L1622.4 1514.29 L1622.4 1544.91 L1630.04 1544.91 L1630.04 1548.85 L1610.14 1548.85 L1610.14 1544.91 Z\" fill=\"#000000\" fill-rule=\"evenodd\" fill-opacity=\"1\" /><path clip-path=\"url(#clip050)\" d=\"M1648.84 1512.83 L1648.84 1555.1 L1639.02 1555.1 L1639.02 1551.79 L1644.56 1551.79 L1644.56 1516.14 L1639.02 1516.14 L1639.02 1512.83 L1648.84 1512.83 Z\" fill=\"#000000\" fill-rule=\"evenodd\" fill-opacity=\"1\" /><path clip-path=\"url(#clip050)\" d=\"M1376.44 1512.83 L1386.25 1512.83 L1386.25 1516.14 L1380.7 1516.14 L1380.7 1551.79 L1386.25 1551.79 L1386.25 1555.1 L1376.44 1555.1 L1376.44 1512.83 Z\" fill=\"#000000\" fill-rule=\"evenodd\" fill-opacity=\"1\" /><path clip-path=\"url(#clip050)\" d=\"M1405.93 1517.37 Q1402.32 1517.37 1400.49 1520.93 Q1398.68 1524.47 1398.68 1531.6 Q1398.68 1538.71 1400.49 1542.27 Q1402.32 1545.82 1405.93 1545.82 Q1409.56 1545.82 1411.37 1542.27 Q1413.2 1538.71 1413.2 1531.6 Q1413.2 1524.47 1411.37 1520.93 Q1409.56 1517.37 1405.93 1517.37 M1405.93 1513.66 Q1411.74 1513.66 1414.79 1518.27 Q1417.87 1522.85 1417.87 1531.6 Q1417.87 1540.33 1414.79 1544.94 Q1411.74 1549.52 1405.93 1549.52 Q1400.12 1549.52 1397.04 1544.94 Q1393.98 1540.33 1393.98 1531.6 Q1393.98 1522.85 1397.04 1518.27 Q1400.12 1513.66 1405.93 1513.66 Z\" fill=\"#000000\" fill-rule=\"evenodd\" fill-opacity=\"1\" /><path clip-path=\"url(#clip050)\" d=\"M1426.58 1542.97 L1431.46 1542.97 L1431.46 1546.95 L1427.66 1554.36 L1424.68 1554.36 L1426.58 1546.95 L1426.58 1542.97 Z\" fill=\"#000000\" fill-rule=\"evenodd\" fill-opacity=\"1\" /><path clip-path=\"url(#clip050)\" d=\"M1460.26 1544.91 L1476.58 1544.91 L1476.58 1548.85 L1454.63 1548.85 L1454.63 1544.91 Q1457.29 1542.16 1461.88 1537.53 Q1466.48 1532.88 1467.66 1531.53 Q1469.91 1529.01 1470.79 1527.27 Q1471.69 1525.51 1471.69 1523.82 Q1471.69 1521.07 1469.75 1519.33 Q1467.83 1517.6 1464.72 1517.6 Q1462.53 1517.6 1460.07 1518.36 Q1457.64 1519.13 1454.86 1520.68 L1454.86 1515.95 Q1457.69 1514.82 1460.14 1514.24 Q1462.59 1513.66 1464.63 1513.66 Q1470 1513.66 1473.2 1516.35 Q1476.39 1519.03 1476.39 1523.52 Q1476.39 1525.65 1475.58 1527.57 Q1474.79 1529.47 1472.69 1532.07 Q1472.11 1532.74 1469.01 1535.95 Q1465.91 1539.15 1460.26 1544.91 Z\" fill=\"#000000\" fill-rule=\"evenodd\" fill-opacity=\"1\" /><path clip-path=\"url(#clip050)\" d=\"M1486.88 1542.97 L1491.76 1542.97 L1491.76 1546.95 L1487.97 1554.36 L1484.98 1554.36 L1486.88 1546.95 L1486.88 1542.97 Z\" fill=\"#000000\" fill-rule=\"evenodd\" fill-opacity=\"1\" /><path clip-path=\"url(#clip050)\" d=\"M1526.53 1517.37 Q1522.92 1517.37 1521.09 1520.93 Q1519.28 1524.47 1519.28 1531.6 Q1519.28 1538.71 1521.09 1542.27 Q1522.92 1545.82 1526.53 1545.82 Q1530.16 1545.82 1531.97 1542.27 Q1533.8 1538.71 1533.8 1531.6 Q1533.8 1524.47 1531.97 1520.93 Q1530.16 1517.37 1526.53 1517.37 M1526.53 1513.66 Q1532.34 1513.66 1535.4 1518.27 Q1538.47 1522.85 1538.47 1531.6 Q1538.47 1540.33 1535.4 1544.94 Q1532.34 1549.52 1526.53 1549.52 Q1520.72 1549.52 1517.64 1544.94 Q1514.59 1540.33 1514.59 1531.6 Q1514.59 1522.85 1517.64 1518.27 Q1520.72 1513.66 1526.53 1513.66 Z\" fill=\"#000000\" fill-rule=\"evenodd\" fill-opacity=\"1\" /><path clip-path=\"url(#clip050)\" d=\"M1547.18 1542.97 L1552.06 1542.97 L1552.06 1546.95 L1548.27 1554.36 L1545.28 1554.36 L1547.18 1546.95 L1547.18 1542.97 Z\" fill=\"#000000\" fill-rule=\"evenodd\" fill-opacity=\"1\" /><path clip-path=\"url(#clip050)\" d=\"M1586.83 1517.37 Q1583.22 1517.37 1581.39 1520.93 Q1579.59 1524.47 1579.59 1531.6 Q1579.59 1538.71 1581.39 1542.27 Q1583.22 1545.82 1586.83 1545.82 Q1590.46 1545.82 1592.27 1542.27 Q1594.1 1538.71 1594.1 1531.6 Q1594.1 1524.47 1592.27 1520.93 Q1590.46 1517.37 1586.83 1517.37 M1586.83 1513.66 Q1592.64 1513.66 1595.7 1518.27 Q1598.77 1522.85 1598.77 1531.6 Q1598.77 1540.33 1595.7 1544.94 Q1592.64 1549.52 1586.83 1549.52 Q1581.02 1549.52 1577.94 1544.94 Q1574.89 1540.33 1574.89 1531.6 Q1574.89 1522.85 1577.94 1518.27 Q1581.02 1513.66 1586.83 1513.66 Z\" fill=\"#000000\" fill-rule=\"evenodd\" fill-opacity=\"1\" /><path clip-path=\"url(#clip050)\" d=\"M1607.48 1542.97 L1612.36 1542.97 L1612.36 1546.95 L1608.57 1554.36 L1605.58 1554.36 L1607.48 1546.95 L1607.48 1542.97 Z\" fill=\"#000000\" fill-rule=\"evenodd\" fill-opacity=\"1\" /><path clip-path=\"url(#clip050)\" d=\"M1641.16 1544.91 L1657.48 1544.91 L1657.48 1548.85 L1635.53 1548.85 L1635.53 1544.91 Q1638.2 1542.16 1642.78 1537.53 Q1647.39 1532.88 1648.57 1531.53 Q1650.81 1529.01 1651.69 1527.27 Q1652.59 1525.51 1652.59 1523.82 Q1652.59 1521.07 1650.65 1519.33 Q1648.73 1517.6 1645.63 1517.6 Q1643.43 1517.6 1640.97 1518.36 Q1638.54 1519.13 1635.77 1520.68 L1635.77 1515.95 Q1638.59 1514.82 1641.04 1514.24 Q1643.5 1513.66 1645.53 1513.66 Q1650.9 1513.66 1654.1 1516.35 Q1657.29 1519.03 1657.29 1523.52 Q1657.29 1525.65 1656.48 1527.57 Q1655.7 1529.47 1653.59 1532.07 Q1653.01 1532.74 1649.91 1535.95 Q1646.81 1539.15 1641.16 1544.91 Z\" fill=\"#000000\" fill-rule=\"evenodd\" fill-opacity=\"1\" /><path clip-path=\"url(#clip050)\" d=\"M1676.64 1512.83 L1676.64 1555.1 L1666.83 1555.1 L1666.83 1551.79 L1672.36 1551.79 L1672.36 1516.14 L1666.83 1516.14 L1666.83 1512.83 L1676.64 1512.83 Z\" fill=\"#000000\" fill-rule=\"evenodd\" fill-opacity=\"1\" /><path clip-path=\"url(#clip050)\" d=\"M1404.24 1512.83 L1414.06 1512.83 L1414.06 1516.14 L1408.5 1516.14 L1408.5 1551.79 L1414.06 1551.79 L1414.06 1555.1 L1404.24 1555.1 L1404.24 1512.83 Z\" fill=\"#000000\" fill-rule=\"evenodd\" fill-opacity=\"1\" /><path clip-path=\"url(#clip050)\" d=\"M1433.73 1517.37 Q1430.12 1517.37 1428.29 1520.93 Q1426.49 1524.47 1426.49 1531.6 Q1426.49 1538.71 1428.29 1542.27 Q1430.12 1545.82 1433.73 1545.82 Q1437.37 1545.82 1439.17 1542.27 Q1441 1538.71 1441 1531.6 Q1441 1524.47 1439.17 1520.93 Q1437.37 1517.37 1433.73 1517.37 M1433.73 1513.66 Q1439.54 1513.66 1442.6 1518.27 Q1445.68 1522.85 1445.68 1531.6 Q1445.68 1540.33 1442.6 1544.94 Q1439.54 1549.52 1433.73 1549.52 Q1427.92 1549.52 1424.85 1544.94 Q1421.79 1540.33 1421.79 1531.6 Q1421.79 1522.85 1424.85 1518.27 Q1427.92 1513.66 1433.73 1513.66 Z\" fill=\"#000000\" fill-rule=\"evenodd\" fill-opacity=\"1\" /><path clip-path=\"url(#clip050)\" d=\"M1454.38 1542.97 L1459.27 1542.97 L1459.27 1546.95 L1455.47 1554.36 L1452.48 1554.36 L1454.38 1546.95 L1454.38 1542.97 Z\" fill=\"#000000\" fill-rule=\"evenodd\" fill-opacity=\"1\" /><path clip-path=\"url(#clip050)\" d=\"M1484.85 1544.91 L1492.48 1544.91 L1492.48 1518.55 L1484.17 1520.21 L1484.17 1515.95 L1492.44 1514.29 L1497.11 1514.29 L1497.11 1544.91 L1504.75 1544.91 L1504.75 1548.85 L1484.85 1548.85 L1484.85 1544.91 Z\" fill=\"#000000\" fill-rule=\"evenodd\" fill-opacity=\"1\" /><path clip-path=\"url(#clip050)\" d=\"M1514.68 1542.97 L1519.57 1542.97 L1519.57 1546.95 L1515.77 1554.36 L1512.79 1554.36 L1514.68 1546.95 L1514.68 1542.97 Z\" fill=\"#000000\" fill-rule=\"evenodd\" fill-opacity=\"1\" /><path clip-path=\"url(#clip050)\" d=\"M1558.5 1530.21 Q1561.86 1530.93 1563.73 1533.2 Q1565.63 1535.47 1565.63 1538.8 Q1565.63 1543.92 1562.11 1546.72 Q1558.59 1549.52 1552.11 1549.52 Q1549.94 1549.52 1547.62 1549.08 Q1545.33 1548.66 1542.88 1547.81 L1542.88 1543.29 Q1544.82 1544.43 1547.14 1545.01 Q1549.45 1545.58 1551.97 1545.58 Q1556.37 1545.58 1558.66 1543.85 Q1560.98 1542.11 1560.98 1538.8 Q1560.98 1535.75 1558.83 1534.03 Q1556.7 1532.3 1552.88 1532.3 L1548.85 1532.3 L1548.85 1528.45 L1553.06 1528.45 Q1556.51 1528.45 1558.34 1527.09 Q1560.17 1525.7 1560.17 1523.11 Q1560.17 1520.45 1558.27 1519.03 Q1556.4 1517.6 1552.88 1517.6 Q1550.96 1517.6 1548.76 1518.01 Q1546.56 1518.43 1543.92 1519.31 L1543.92 1515.14 Q1546.58 1514.4 1548.9 1514.03 Q1551.23 1513.66 1553.29 1513.66 Q1558.62 1513.66 1561.72 1516.09 Q1564.82 1518.5 1564.82 1522.62 Q1564.82 1525.49 1563.18 1527.48 Q1561.53 1529.45 1558.5 1530.21 Z\" fill=\"#000000\" fill-rule=\"evenodd\" fill-opacity=\"1\" /><path clip-path=\"url(#clip050)\" d=\"M1574.98 1542.97 L1579.87 1542.97 L1579.87 1546.95 L1576.07 1554.36 L1573.09 1554.36 L1574.98 1546.95 L1574.98 1542.97 Z\" fill=\"#000000\" fill-rule=\"evenodd\" fill-opacity=\"1\" /><path clip-path=\"url(#clip050)\" d=\"M1614.64 1517.37 Q1611.03 1517.37 1609.2 1520.93 Q1607.39 1524.47 1607.39 1531.6 Q1607.39 1538.71 1609.2 1542.27 Q1611.03 1545.82 1614.64 1545.82 Q1618.27 1545.82 1620.08 1542.27 Q1621.9 1538.71 1621.9 1531.6 Q1621.9 1524.47 1620.08 1520.93 Q1618.27 1517.37 1614.64 1517.37 M1614.64 1513.66 Q1620.45 1513.66 1623.5 1518.27 Q1626.58 1522.85 1626.58 1531.6 Q1626.58 1540.33 1623.5 1544.94 Q1620.45 1549.52 1614.64 1549.52 Q1608.83 1549.52 1605.75 1544.94 Q1602.69 1540.33 1602.69 1531.6 Q1602.69 1522.85 1605.75 1518.27 Q1608.83 1513.66 1614.64 1513.66 Z\" fill=\"#000000\" fill-rule=\"evenodd\" fill-opacity=\"1\" /><path clip-path=\"url(#clip050)\" d=\"M1635.28 1542.97 L1640.17 1542.97 L1640.17 1546.95 L1636.37 1554.36 L1633.39 1554.36 L1635.28 1546.95 L1635.28 1542.97 Z\" fill=\"#000000\" fill-rule=\"evenodd\" fill-opacity=\"1\" /><path clip-path=\"url(#clip050)\" d=\"M1674.94 1517.37 Q1671.33 1517.37 1669.5 1520.93 Q1667.69 1524.47 1667.69 1531.6 Q1667.69 1538.71 1669.5 1542.27 Q1671.33 1545.82 1674.94 1545.82 Q1678.57 1545.82 1680.38 1542.27 Q1682.21 1538.71 1682.21 1531.6 Q1682.21 1524.47 1680.38 1520.93 Q1678.57 1517.37 1674.94 1517.37 M1674.94 1513.66 Q1680.75 1513.66 1683.8 1518.27 Q1686.88 1522.85 1686.88 1531.6 Q1686.88 1540.33 1683.8 1544.94 Q1680.75 1549.52 1674.94 1549.52 Q1669.13 1549.52 1666.05 1544.94 Q1662.99 1540.33 1662.99 1531.6 Q1662.99 1522.85 1666.05 1518.27 Q1669.13 1513.66 1674.94 1513.66 Z\" fill=\"#000000\" fill-rule=\"evenodd\" fill-opacity=\"1\" /><path clip-path=\"url(#clip050)\" d=\"M1704.45 1512.83 L1704.45 1555.1 L1694.64 1555.1 L1694.64 1551.79 L1700.17 1551.79 L1700.17 1516.14 L1694.64 1516.14 L1694.64 1512.83 L1704.45 1512.83 Z\" fill=\"#000000\" fill-rule=\"evenodd\" fill-opacity=\"1\" /><path clip-path=\"url(#clip050)\" d=\"M1432.05 1512.83 L1441.86 1512.83 L1441.86 1516.14 L1436.31 1516.14 L1436.31 1551.79 L1441.86 1551.79 L1441.86 1555.1 L1432.05 1555.1 L1432.05 1512.83 Z\" fill=\"#000000\" fill-rule=\"evenodd\" fill-opacity=\"1\" /><path clip-path=\"url(#clip050)\" d=\"M1461.54 1517.37 Q1457.93 1517.37 1456.1 1520.93 Q1454.3 1524.47 1454.3 1531.6 Q1454.3 1538.71 1456.1 1542.27 Q1457.93 1545.82 1461.54 1545.82 Q1465.17 1545.82 1466.98 1542.27 Q1468.81 1538.71 1468.81 1531.6 Q1468.81 1524.47 1466.98 1520.93 Q1465.17 1517.37 1461.54 1517.37 M1461.54 1513.66 Q1467.35 1513.66 1470.41 1518.27 Q1473.48 1522.85 1473.48 1531.6 Q1473.48 1540.33 1470.41 1544.94 Q1467.35 1549.52 1461.54 1549.52 Q1455.73 1549.52 1452.65 1544.94 Q1449.6 1540.33 1449.6 1531.6 Q1449.6 1522.85 1452.65 1518.27 Q1455.73 1513.66 1461.54 1513.66 Z\" fill=\"#000000\" fill-rule=\"evenodd\" fill-opacity=\"1\" /><path clip-path=\"url(#clip050)\" d=\"M1482.19 1542.97 L1487.07 1542.97 L1487.07 1546.95 L1483.28 1554.36 L1480.29 1554.36 L1482.19 1546.95 L1482.19 1542.97 Z\" fill=\"#000000\" fill-rule=\"evenodd\" fill-opacity=\"1\" /><path clip-path=\"url(#clip050)\" d=\"M1512.65 1544.91 L1520.29 1544.91 L1520.29 1518.55 L1511.98 1520.21 L1511.98 1515.95 L1520.24 1514.29 L1524.92 1514.29 L1524.92 1544.91 L1532.56 1544.91 L1532.56 1548.85 L1512.65 1548.85 L1512.65 1544.91 Z\" fill=\"#000000\" fill-rule=\"evenodd\" fill-opacity=\"1\" /><path clip-path=\"url(#clip050)\" d=\"M1542.49 1542.97 L1547.37 1542.97 L1547.37 1546.95 L1543.58 1554.36 L1540.59 1554.36 L1542.49 1546.95 L1542.49 1542.97 Z\" fill=\"#000000\" fill-rule=\"evenodd\" fill-opacity=\"1\" /><path clip-path=\"url(#clip050)\" d=\"M1576.17 1544.91 L1592.49 1544.91 L1592.49 1548.85 L1570.54 1548.85 L1570.54 1544.91 Q1573.21 1542.16 1577.79 1537.53 Q1582.4 1532.88 1583.58 1531.53 Q1585.82 1529.01 1586.7 1527.27 Q1587.6 1525.51 1587.6 1523.82 Q1587.6 1521.07 1585.66 1519.33 Q1583.74 1517.6 1580.64 1517.6 Q1578.44 1517.6 1575.98 1518.36 Q1573.55 1519.13 1570.78 1520.68 L1570.78 1515.95 Q1573.6 1514.82 1576.05 1514.24 Q1578.51 1513.66 1580.54 1513.66 Q1585.91 1513.66 1589.11 1516.35 Q1592.3 1519.03 1592.3 1523.52 Q1592.3 1525.65 1591.49 1527.57 Q1590.71 1529.47 1588.6 1532.07 Q1588.02 1532.74 1584.92 1535.95 Q1581.82 1539.15 1576.17 1544.91 Z\" fill=\"#000000\" fill-rule=\"evenodd\" fill-opacity=\"1\" /><path clip-path=\"url(#clip050)\" d=\"M1602.79 1542.97 L1607.67 1542.97 L1607.67 1546.95 L1603.88 1554.36 L1600.89 1554.36 L1602.79 1546.95 L1602.79 1542.97 Z\" fill=\"#000000\" fill-rule=\"evenodd\" fill-opacity=\"1\" /><path clip-path=\"url(#clip050)\" d=\"M1633.25 1544.91 L1640.89 1544.91 L1640.89 1518.55 L1632.58 1520.21 L1632.58 1515.95 L1640.85 1514.29 L1645.52 1514.29 L1645.52 1544.91 L1653.16 1544.91 L1653.16 1548.85 L1633.25 1548.85 L1633.25 1544.91 Z\" fill=\"#000000\" fill-rule=\"evenodd\" fill-opacity=\"1\" /><path clip-path=\"url(#clip050)\" d=\"M1663.09 1542.97 L1667.97 1542.97 L1667.97 1546.95 L1664.18 1554.36 L1661.19 1554.36 L1663.09 1546.95 L1663.09 1542.97 Z\" fill=\"#000000\" fill-rule=\"evenodd\" fill-opacity=\"1\" /><path clip-path=\"url(#clip050)\" d=\"M1702.74 1517.37 Q1699.13 1517.37 1697.3 1520.93 Q1695.5 1524.47 1695.5 1531.6 Q1695.5 1538.71 1697.3 1542.27 Q1699.13 1545.82 1702.74 1545.82 Q1706.38 1545.82 1708.18 1542.27 Q1710.01 1538.71 1710.01 1531.6 Q1710.01 1524.47 1708.18 1520.93 Q1706.38 1517.37 1702.74 1517.37 M1702.74 1513.66 Q1708.55 1513.66 1711.61 1518.27 Q1714.69 1522.85 1714.69 1531.6 Q1714.69 1540.33 1711.61 1544.94 Q1708.55 1549.52 1702.74 1549.52 Q1696.93 1549.52 1693.85 1544.94 Q1690.8 1540.33 1690.8 1531.6 Q1690.8 1522.85 1693.85 1518.27 Q1696.93 1513.66 1702.74 1513.66 Z\" fill=\"#000000\" fill-rule=\"evenodd\" fill-opacity=\"1\" /><path clip-path=\"url(#clip050)\" d=\"M1732.26 1512.83 L1732.26 1555.1 L1722.44 1555.1 L1722.44 1551.79 L1727.97 1551.79 L1727.97 1516.14 L1722.44 1516.14 L1722.44 1512.83 L1732.26 1512.83 Z\" fill=\"#000000\" fill-rule=\"evenodd\" fill-opacity=\"1\" /><path clip-path=\"url(#clip050)\" d=\"M1459.86 1512.83 L1469.67 1512.83 L1469.67 1516.14 L1464.11 1516.14 L1464.11 1551.79 L1469.67 1551.79 L1469.67 1555.1 L1459.86 1555.1 L1459.86 1512.83 Z\" fill=\"#000000\" fill-rule=\"evenodd\" fill-opacity=\"1\" /><path clip-path=\"url(#clip050)\" d=\"M1489.35 1517.37 Q1485.74 1517.37 1483.91 1520.93 Q1482.1 1524.47 1482.1 1531.6 Q1482.1 1538.71 1483.91 1542.27 Q1485.74 1545.82 1489.35 1545.82 Q1492.98 1545.82 1494.79 1542.27 Q1496.61 1538.71 1496.61 1531.6 Q1496.61 1524.47 1494.79 1520.93 Q1492.98 1517.37 1489.35 1517.37 M1489.35 1513.66 Q1495.16 1513.66 1498.21 1518.27 Q1501.29 1522.85 1501.29 1531.6 Q1501.29 1540.33 1498.21 1544.94 Q1495.16 1549.52 1489.35 1549.52 Q1483.54 1549.52 1480.46 1544.94 Q1477.4 1540.33 1477.4 1531.6 Q1477.4 1522.85 1480.46 1518.27 Q1483.54 1513.66 1489.35 1513.66 Z\" fill=\"#000000\" fill-rule=\"evenodd\" fill-opacity=\"1\" /><path clip-path=\"url(#clip050)\" d=\"M1509.99 1542.97 L1514.88 1542.97 L1514.88 1546.95 L1511.08 1554.36 L1508.1 1554.36 L1509.99 1546.95 L1509.99 1542.97 Z\" fill=\"#000000\" fill-rule=\"evenodd\" fill-opacity=\"1\" /><path clip-path=\"url(#clip050)\" d=\"M1540.46 1544.91 L1548.1 1544.91 L1548.1 1518.55 L1539.79 1520.21 L1539.79 1515.95 L1548.05 1514.29 L1552.73 1514.29 L1552.73 1544.91 L1560.36 1544.91 L1560.36 1548.85 L1540.46 1548.85 L1540.46 1544.91 Z\" fill=\"#000000\" fill-rule=\"evenodd\" fill-opacity=\"1\" /><path clip-path=\"url(#clip050)\" d=\"M1570.29 1542.97 L1575.18 1542.97 L1575.18 1546.95 L1571.38 1554.36 L1568.4 1554.36 L1570.29 1546.95 L1570.29 1542.97 Z\" fill=\"#000000\" fill-rule=\"evenodd\" fill-opacity=\"1\" /><path clip-path=\"url(#clip050)\" d=\"M1603.98 1544.91 L1620.29 1544.91 L1620.29 1548.85 L1598.35 1548.85 L1598.35 1544.91 Q1601.01 1542.16 1605.6 1537.53 Q1610.2 1532.88 1611.38 1531.53 Q1613.63 1529.01 1614.51 1527.27 Q1615.41 1525.51 1615.41 1523.82 Q1615.41 1521.07 1613.47 1519.33 Q1611.54 1517.6 1608.44 1517.6 Q1606.24 1517.6 1603.79 1518.36 Q1601.36 1519.13 1598.58 1520.68 L1598.58 1515.95 Q1601.41 1514.82 1603.86 1514.24 Q1606.31 1513.66 1608.35 1513.66 Q1613.72 1513.66 1616.92 1516.35 Q1620.11 1519.03 1620.11 1523.52 Q1620.11 1525.65 1619.3 1527.57 Q1618.51 1529.47 1616.41 1532.07 Q1615.83 1532.74 1612.73 1535.95 Q1609.62 1539.15 1603.98 1544.91 Z\" fill=\"#000000\" fill-rule=\"evenodd\" fill-opacity=\"1\" /><path clip-path=\"url(#clip050)\" d=\"M1630.6 1542.97 L1635.48 1542.97 L1635.48 1546.95 L1631.68 1554.36 L1628.7 1554.36 L1630.6 1546.95 L1630.6 1542.97 Z\" fill=\"#000000\" fill-rule=\"evenodd\" fill-opacity=\"1\" /><path clip-path=\"url(#clip050)\" d=\"M1670.25 1517.37 Q1666.64 1517.37 1664.81 1520.93 Q1663 1524.47 1663 1531.6 Q1663 1538.71 1664.81 1542.27 Q1666.64 1545.82 1670.25 1545.82 Q1673.88 1545.82 1675.69 1542.27 Q1677.52 1538.71 1677.52 1531.6 Q1677.52 1524.47 1675.69 1520.93 Q1673.88 1517.37 1670.25 1517.37 M1670.25 1513.66 Q1676.06 1513.66 1679.11 1518.27 Q1682.19 1522.85 1682.19 1531.6 Q1682.19 1540.33 1679.11 1544.94 Q1676.06 1549.52 1670.25 1549.52 Q1664.44 1549.52 1661.36 1544.94 Q1658.3 1540.33 1658.3 1531.6 Q1658.3 1522.85 1661.36 1518.27 Q1664.44 1513.66 1670.25 1513.66 Z\" fill=\"#000000\" fill-rule=\"evenodd\" fill-opacity=\"1\" /><path clip-path=\"url(#clip050)\" d=\"M1690.9 1542.97 L1695.78 1542.97 L1695.78 1546.95 L1691.98 1554.36 L1689 1554.36 L1690.9 1546.95 L1690.9 1542.97 Z\" fill=\"#000000\" fill-rule=\"evenodd\" fill-opacity=\"1\" /><path clip-path=\"url(#clip050)\" d=\"M1721.36 1544.91 L1729 1544.91 L1729 1518.55 L1720.69 1520.21 L1720.69 1515.95 L1728.95 1514.29 L1733.63 1514.29 L1733.63 1544.91 L1741.27 1544.91 L1741.27 1548.85 L1721.36 1548.85 L1721.36 1544.91 Z\" fill=\"#000000\" fill-rule=\"evenodd\" fill-opacity=\"1\" /><path clip-path=\"url(#clip050)\" d=\"M1760.06 1512.83 L1760.06 1555.1 L1750.25 1555.1 L1750.25 1551.79 L1755.78 1551.79 L1755.78 1516.14 L1750.25 1516.14 L1750.25 1512.83 L1760.06 1512.83 Z\" fill=\"#000000\" fill-rule=\"evenodd\" fill-opacity=\"1\" /><path clip-path=\"url(#clip050)\" d=\"M1487.66 1512.83 L1497.48 1512.83 L1497.48 1516.14 L1491.92 1516.14 L1491.92 1551.79 L1497.48 1551.79 L1497.48 1555.1 L1487.66 1555.1 L1487.66 1512.83 Z\" fill=\"#000000\" fill-rule=\"evenodd\" fill-opacity=\"1\" /><path clip-path=\"url(#clip050)\" d=\"M1517.15 1517.37 Q1513.54 1517.37 1511.71 1520.93 Q1509.91 1524.47 1509.91 1531.6 Q1509.91 1538.71 1511.71 1542.27 Q1513.54 1545.82 1517.15 1545.82 Q1520.79 1545.82 1522.59 1542.27 Q1524.42 1538.71 1524.42 1531.6 Q1524.42 1524.47 1522.59 1520.93 Q1520.79 1517.37 1517.15 1517.37 M1517.15 1513.66 Q1522.96 1513.66 1526.02 1518.27 Q1529.1 1522.85 1529.1 1531.6 Q1529.1 1540.33 1526.02 1544.94 Q1522.96 1549.52 1517.15 1549.52 Q1511.34 1549.52 1508.26 1544.94 Q1505.21 1540.33 1505.21 1531.6 Q1505.21 1522.85 1508.26 1518.27 Q1511.34 1513.66 1517.15 1513.66 Z\" fill=\"#000000\" fill-rule=\"evenodd\" fill-opacity=\"1\" /><path clip-path=\"url(#clip050)\" d=\"M1537.8 1542.97 L1542.68 1542.97 L1542.68 1546.95 L1538.89 1554.36 L1535.9 1554.36 L1537.8 1546.95 L1537.8 1542.97 Z\" fill=\"#000000\" fill-rule=\"evenodd\" fill-opacity=\"1\" /><path clip-path=\"url(#clip050)\" d=\"M1568.26 1544.91 L1575.9 1544.91 L1575.9 1518.55 L1567.59 1520.21 L1567.59 1515.95 L1575.86 1514.29 L1580.53 1514.29 L1580.53 1544.91 L1588.17 1544.91 L1588.17 1548.85 L1568.26 1548.85 L1568.26 1544.91 Z\" fill=\"#000000\" fill-rule=\"evenodd\" fill-opacity=\"1\" /><path clip-path=\"url(#clip050)\" d=\"M1598.1 1542.97 L1602.99 1542.97 L1602.99 1546.95 L1599.19 1554.36 L1596.2 1554.36 L1598.1 1546.95 L1598.1 1542.97 Z\" fill=\"#000000\" fill-rule=\"evenodd\" fill-opacity=\"1\" /><path clip-path=\"url(#clip050)\" d=\"M1628.56 1544.91 L1636.2 1544.91 L1636.2 1518.55 L1627.89 1520.21 L1627.89 1515.95 L1636.16 1514.29 L1640.83 1514.29 L1640.83 1544.91 L1648.47 1544.91 L1648.47 1548.85 L1628.56 1548.85 L1628.56 1544.91 Z\" fill=\"#000000\" fill-rule=\"evenodd\" fill-opacity=\"1\" /><path clip-path=\"url(#clip050)\" d=\"M1658.4 1542.97 L1663.29 1542.97 L1663.29 1546.95 L1659.49 1554.36 L1656.5 1554.36 L1658.4 1546.95 L1658.4 1542.97 Z\" fill=\"#000000\" fill-rule=\"evenodd\" fill-opacity=\"1\" /><path clip-path=\"url(#clip050)\" d=\"M1692.08 1544.91 L1708.4 1544.91 L1708.4 1548.85 L1686.46 1548.85 L1686.46 1544.91 Q1689.12 1542.16 1693.7 1537.53 Q1698.31 1532.88 1699.49 1531.53 Q1701.73 1529.01 1702.61 1527.27 Q1703.52 1525.51 1703.52 1523.82 Q1703.52 1521.07 1701.57 1519.33 Q1699.65 1517.6 1696.55 1517.6 Q1694.35 1517.6 1691.9 1518.36 Q1689.47 1519.13 1686.69 1520.68 L1686.69 1515.95 Q1689.51 1514.82 1691.97 1514.24 Q1694.42 1513.66 1696.46 1513.66 Q1701.83 1513.66 1705.02 1516.35 Q1708.22 1519.03 1708.22 1523.52 Q1708.22 1525.65 1707.41 1527.57 Q1706.62 1529.47 1704.51 1532.07 Q1703.93 1532.74 1700.83 1535.95 Q1697.73 1539.15 1692.08 1544.91 Z\" fill=\"#000000\" fill-rule=\"evenodd\" fill-opacity=\"1\" /><path clip-path=\"url(#clip050)\" d=\"M1718.7 1542.97 L1723.59 1542.97 L1723.59 1546.95 L1719.79 1554.36 L1716.8 1554.36 L1718.7 1546.95 L1718.7 1542.97 Z\" fill=\"#000000\" fill-rule=\"evenodd\" fill-opacity=\"1\" /><path clip-path=\"url(#clip050)\" d=\"M1758.35 1517.37 Q1754.74 1517.37 1752.91 1520.93 Q1751.11 1524.47 1751.11 1531.6 Q1751.11 1538.71 1752.91 1542.27 Q1754.74 1545.82 1758.35 1545.82 Q1761.99 1545.82 1763.79 1542.27 Q1765.62 1538.71 1765.62 1531.6 Q1765.62 1524.47 1763.79 1520.93 Q1761.99 1517.37 1758.35 1517.37 M1758.35 1513.66 Q1764.16 1513.66 1767.22 1518.27 Q1770.3 1522.85 1770.3 1531.6 Q1770.3 1540.33 1767.22 1544.94 Q1764.16 1549.52 1758.35 1549.52 Q1752.54 1549.52 1749.47 1544.94 Q1746.41 1540.33 1746.41 1531.6 Q1746.41 1522.85 1749.47 1518.27 Q1752.54 1513.66 1758.35 1513.66 Z\" fill=\"#000000\" fill-rule=\"evenodd\" fill-opacity=\"1\" /><path clip-path=\"url(#clip050)\" d=\"M1787.87 1512.83 L1787.87 1555.1 L1778.05 1555.1 L1778.05 1551.79 L1783.59 1551.79 L1783.59 1516.14 L1778.05 1516.14 L1778.05 1512.83 L1787.87 1512.83 Z\" fill=\"#000000\" fill-rule=\"evenodd\" fill-opacity=\"1\" /><path clip-path=\"url(#clip050)\" d=\"M1515.47 1512.83 L1525.28 1512.83 L1525.28 1516.14 L1519.73 1516.14 L1519.73 1551.79 L1525.28 1551.79 L1525.28 1555.1 L1515.47 1555.1 L1515.47 1512.83 Z\" fill=\"#000000\" fill-rule=\"evenodd\" fill-opacity=\"1\" /><path clip-path=\"url(#clip050)\" d=\"M1544.96 1517.37 Q1541.35 1517.37 1539.52 1520.93 Q1537.71 1524.47 1537.71 1531.6 Q1537.71 1538.71 1539.52 1542.27 Q1541.35 1545.82 1544.96 1545.82 Q1548.59 1545.82 1550.4 1542.27 Q1552.23 1538.71 1552.23 1531.6 Q1552.23 1524.47 1550.4 1520.93 Q1548.59 1517.37 1544.96 1517.37 M1544.96 1513.66 Q1550.77 1513.66 1553.82 1518.27 Q1556.9 1522.85 1556.9 1531.6 Q1556.9 1540.33 1553.82 1544.94 Q1550.77 1549.52 1544.96 1549.52 Q1539.15 1549.52 1536.07 1544.94 Q1533.01 1540.33 1533.01 1531.6 Q1533.01 1522.85 1536.07 1518.27 Q1539.15 1513.66 1544.96 1513.66 Z\" fill=\"#000000\" fill-rule=\"evenodd\" fill-opacity=\"1\" /><path clip-path=\"url(#clip050)\" d=\"M1565.61 1542.97 L1570.49 1542.97 L1570.49 1546.95 L1566.69 1554.36 L1563.71 1554.36 L1565.61 1546.95 L1565.61 1542.97 Z\" fill=\"#000000\" fill-rule=\"evenodd\" fill-opacity=\"1\" /><path clip-path=\"url(#clip050)\" d=\"M1596.07 1544.91 L1603.71 1544.91 L1603.71 1518.55 L1595.4 1520.21 L1595.4 1515.95 L1603.66 1514.29 L1608.34 1514.29 L1608.34 1544.91 L1615.98 1544.91 L1615.98 1548.85 L1596.07 1548.85 L1596.07 1544.91 Z\" fill=\"#000000\" fill-rule=\"evenodd\" fill-opacity=\"1\" /><path clip-path=\"url(#clip050)\" d=\"M1625.91 1542.97 L1630.79 1542.97 L1630.79 1546.95 L1626.99 1554.36 L1624.01 1554.36 L1625.91 1546.95 L1625.91 1542.97 Z\" fill=\"#000000\" fill-rule=\"evenodd\" fill-opacity=\"1\" /><path clip-path=\"url(#clip050)\" d=\"M1656.37 1544.91 L1664.01 1544.91 L1664.01 1518.55 L1655.7 1520.21 L1655.7 1515.95 L1663.96 1514.29 L1668.64 1514.29 L1668.64 1544.91 L1676.28 1544.91 L1676.28 1548.85 L1656.37 1548.85 L1656.37 1544.91 Z\" fill=\"#000000\" fill-rule=\"evenodd\" fill-opacity=\"1\" /><path clip-path=\"url(#clip050)\" d=\"M1686.21 1542.97 L1691.09 1542.97 L1691.09 1546.95 L1687.3 1554.36 L1684.31 1554.36 L1686.21 1546.95 L1686.21 1542.97 Z\" fill=\"#000000\" fill-rule=\"evenodd\" fill-opacity=\"1\" /><path clip-path=\"url(#clip050)\" d=\"M1716.67 1544.91 L1724.31 1544.91 L1724.31 1518.55 L1716 1520.21 L1716 1515.95 L1724.26 1514.29 L1728.94 1514.29 L1728.94 1544.91 L1736.58 1544.91 L1736.58 1548.85 L1716.67 1548.85 L1716.67 1544.91 Z\" fill=\"#000000\" fill-rule=\"evenodd\" fill-opacity=\"1\" /><path clip-path=\"url(#clip050)\" d=\"M1746.51 1542.97 L1751.39 1542.97 L1751.39 1546.95 L1747.6 1554.36 L1744.61 1554.36 L1746.51 1546.95 L1746.51 1542.97 Z\" fill=\"#000000\" fill-rule=\"evenodd\" fill-opacity=\"1\" /><path clip-path=\"url(#clip050)\" d=\"M1776.97 1544.91 L1784.61 1544.91 L1784.61 1518.55 L1776.3 1520.21 L1776.3 1515.95 L1784.56 1514.29 L1789.24 1514.29 L1789.24 1544.91 L1796.88 1544.91 L1796.88 1548.85 L1776.97 1548.85 L1776.97 1544.91 Z\" fill=\"#000000\" fill-rule=\"evenodd\" fill-opacity=\"1\" /><path clip-path=\"url(#clip050)\" d=\"M1815.67 1512.83 L1815.67 1555.1 L1805.86 1555.1 L1805.86 1551.79 L1811.39 1551.79 L1811.39 1516.14 L1805.86 1516.14 L1805.86 1512.83 L1815.67 1512.83 Z\" fill=\"#000000\" fill-rule=\"evenodd\" fill-opacity=\"1\" /><path clip-path=\"url(#clip050)\" d=\"M1543.27 1512.83 L1553.09 1512.83 L1553.09 1516.14 L1547.53 1516.14 L1547.53 1551.79 L1553.09 1551.79 L1553.09 1555.1 L1543.27 1555.1 L1543.27 1512.83 Z\" fill=\"#000000\" fill-rule=\"evenodd\" fill-opacity=\"1\" /><path clip-path=\"url(#clip050)\" d=\"M1572.76 1517.37 Q1569.15 1517.37 1567.32 1520.93 Q1565.52 1524.47 1565.52 1531.6 Q1565.52 1538.71 1567.32 1542.27 Q1569.15 1545.82 1572.76 1545.82 Q1576.4 1545.82 1578.2 1542.27 Q1580.03 1538.71 1580.03 1531.6 Q1580.03 1524.47 1578.2 1520.93 Q1576.4 1517.37 1572.76 1517.37 M1572.76 1513.66 Q1578.57 1513.66 1581.63 1518.27 Q1584.71 1522.85 1584.71 1531.6 Q1584.71 1540.33 1581.63 1544.94 Q1578.57 1549.52 1572.76 1549.52 Q1566.95 1549.52 1563.88 1544.94 Q1560.82 1540.33 1560.82 1531.6 Q1560.82 1522.85 1563.88 1518.27 Q1566.95 1513.66 1572.76 1513.66 Z\" fill=\"#000000\" fill-rule=\"evenodd\" fill-opacity=\"1\" /><path clip-path=\"url(#clip050)\" d=\"M1593.41 1542.97 L1598.3 1542.97 L1598.3 1546.95 L1594.5 1554.36 L1591.51 1554.36 L1593.41 1546.95 L1593.41 1542.97 Z\" fill=\"#000000\" fill-rule=\"evenodd\" fill-opacity=\"1\" /><path clip-path=\"url(#clip050)\" d=\"M1623.87 1544.91 L1631.51 1544.91 L1631.51 1518.55 L1623.2 1520.21 L1623.2 1515.95 L1631.47 1514.29 L1636.14 1514.29 L1636.14 1544.91 L1643.78 1544.91 L1643.78 1548.85 L1623.87 1548.85 L1623.87 1544.91 Z\" fill=\"#000000\" fill-rule=\"evenodd\" fill-opacity=\"1\" /><path clip-path=\"url(#clip050)\" d=\"M1653.71 1542.97 L1658.6 1542.97 L1658.6 1546.95 L1654.8 1554.36 L1651.81 1554.36 L1653.71 1546.95 L1653.71 1542.97 Z\" fill=\"#000000\" fill-rule=\"evenodd\" fill-opacity=\"1\" /><path clip-path=\"url(#clip050)\" d=\"M1684.18 1544.91 L1691.81 1544.91 L1691.81 1518.55 L1683.5 1520.21 L1683.5 1515.95 L1691.77 1514.29 L1696.44 1514.29 L1696.44 1544.91 L1704.08 1544.91 L1704.08 1548.85 L1684.18 1548.85 L1684.18 1544.91 Z\" fill=\"#000000\" fill-rule=\"evenodd\" fill-opacity=\"1\" /><path clip-path=\"url(#clip050)\" d=\"M1714.01 1542.97 L1718.9 1542.97 L1718.9 1546.95 L1715.1 1554.36 L1712.12 1554.36 L1714.01 1546.95 L1714.01 1542.97 Z\" fill=\"#000000\" fill-rule=\"evenodd\" fill-opacity=\"1\" /><path clip-path=\"url(#clip050)\" d=\"M1753.67 1517.37 Q1750.05 1517.37 1748.23 1520.93 Q1746.42 1524.47 1746.42 1531.6 Q1746.42 1538.71 1748.23 1542.27 Q1750.05 1545.82 1753.67 1545.82 Q1757.3 1545.82 1759.11 1542.27 Q1760.93 1538.71 1760.93 1531.6 Q1760.93 1524.47 1759.11 1520.93 Q1757.3 1517.37 1753.67 1517.37 M1753.67 1513.66 Q1759.48 1513.66 1762.53 1518.27 Q1765.61 1522.85 1765.61 1531.6 Q1765.61 1540.33 1762.53 1544.94 Q1759.48 1549.52 1753.67 1549.52 Q1747.86 1549.52 1744.78 1544.94 Q1741.72 1540.33 1741.72 1531.6 Q1741.72 1522.85 1744.78 1518.27 Q1747.86 1513.66 1753.67 1513.66 Z\" fill=\"#000000\" fill-rule=\"evenodd\" fill-opacity=\"1\" /><path clip-path=\"url(#clip050)\" d=\"M1774.31 1542.97 L1779.2 1542.97 L1779.2 1546.95 L1775.4 1554.36 L1772.42 1554.36 L1774.31 1546.95 L1774.31 1542.97 Z\" fill=\"#000000\" fill-rule=\"evenodd\" fill-opacity=\"1\" /><path clip-path=\"url(#clip050)\" d=\"M1807.99 1544.91 L1824.31 1544.91 L1824.31 1548.85 L1802.37 1548.85 L1802.37 1544.91 Q1805.03 1542.16 1809.61 1537.53 Q1814.22 1532.88 1815.4 1531.53 Q1817.65 1529.01 1818.53 1527.27 Q1819.43 1525.51 1819.43 1523.82 Q1819.43 1521.07 1817.48 1519.33 Q1815.56 1517.6 1812.46 1517.6 Q1810.26 1517.6 1807.81 1518.36 Q1805.38 1519.13 1802.6 1520.68 L1802.6 1515.95 Q1805.42 1514.82 1807.88 1514.24 Q1810.33 1513.66 1812.37 1513.66 Q1817.74 1513.66 1820.93 1516.35 Q1824.13 1519.03 1824.13 1523.52 Q1824.13 1525.65 1823.32 1527.57 Q1822.53 1529.47 1820.42 1532.07 Q1819.85 1532.74 1816.74 1535.95 Q1813.64 1539.15 1807.99 1544.91 Z\" fill=\"#000000\" fill-rule=\"evenodd\" fill-opacity=\"1\" /><path clip-path=\"url(#clip050)\" d=\"M1843.48 1512.83 L1843.48 1555.1 L1833.67 1555.1 L1833.67 1551.79 L1839.2 1551.79 L1839.2 1516.14 L1833.67 1516.14 L1833.67 1512.83 L1843.48 1512.83 Z\" fill=\"#000000\" fill-rule=\"evenodd\" fill-opacity=\"1\" /><path clip-path=\"url(#clip050)\" d=\"M1571.08 1512.83 L1580.89 1512.83 L1580.89 1516.14 L1575.34 1516.14 L1575.34 1551.79 L1580.89 1551.79 L1580.89 1555.1 L1571.08 1555.1 L1571.08 1512.83 Z\" fill=\"#000000\" fill-rule=\"evenodd\" fill-opacity=\"1\" /><path clip-path=\"url(#clip050)\" d=\"M1600.57 1517.37 Q1596.96 1517.37 1595.13 1520.93 Q1593.32 1524.47 1593.32 1531.6 Q1593.32 1538.71 1595.13 1542.27 Q1596.96 1545.82 1600.57 1545.82 Q1604.2 1545.82 1606.01 1542.27 Q1607.84 1538.71 1607.84 1531.6 Q1607.84 1524.47 1606.01 1520.93 Q1604.2 1517.37 1600.57 1517.37 M1600.57 1513.66 Q1606.38 1513.66 1609.44 1518.27 Q1612.51 1522.85 1612.51 1531.6 Q1612.51 1540.33 1609.44 1544.94 Q1606.38 1549.52 1600.57 1549.52 Q1594.76 1549.52 1591.68 1544.94 Q1588.63 1540.33 1588.63 1531.6 Q1588.63 1522.85 1591.68 1518.27 Q1594.76 1513.66 1600.57 1513.66 Z\" fill=\"#000000\" fill-rule=\"evenodd\" fill-opacity=\"1\" /><path clip-path=\"url(#clip050)\" d=\"M1621.22 1542.97 L1626.1 1542.97 L1626.1 1546.95 L1622.31 1554.36 L1619.32 1554.36 L1621.22 1546.95 L1621.22 1542.97 Z\" fill=\"#000000\" fill-rule=\"evenodd\" fill-opacity=\"1\" /><path clip-path=\"url(#clip050)\" d=\"M1651.68 1544.91 L1659.32 1544.91 L1659.32 1518.55 L1651.01 1520.21 L1651.01 1515.95 L1659.27 1514.29 L1663.95 1514.29 L1663.95 1544.91 L1671.59 1544.91 L1671.59 1548.85 L1651.68 1548.85 L1651.68 1544.91 Z\" fill=\"#000000\" fill-rule=\"evenodd\" fill-opacity=\"1\" /><path clip-path=\"url(#clip050)\" d=\"M1681.52 1542.97 L1686.4 1542.97 L1686.4 1546.95 L1682.61 1554.36 L1679.62 1554.36 L1681.52 1546.95 L1681.52 1542.97 Z\" fill=\"#000000\" fill-rule=\"evenodd\" fill-opacity=\"1\" /><path clip-path=\"url(#clip050)\" d=\"M1721.17 1517.37 Q1717.56 1517.37 1715.73 1520.93 Q1713.93 1524.47 1713.93 1531.6 Q1713.93 1538.71 1715.73 1542.27 Q1717.56 1545.82 1721.17 1545.82 Q1724.81 1545.82 1726.61 1542.27 Q1728.44 1538.71 1728.44 1531.6 Q1728.44 1524.47 1726.61 1520.93 Q1724.81 1517.37 1721.17 1517.37 M1721.17 1513.66 Q1726.98 1513.66 1730.04 1518.27 Q1733.12 1522.85 1733.12 1531.6 Q1733.12 1540.33 1730.04 1544.94 Q1726.98 1549.52 1721.17 1549.52 Q1715.36 1549.52 1712.28 1544.94 Q1709.23 1540.33 1709.23 1531.6 Q1709.23 1522.85 1712.28 1518.27 Q1715.36 1513.66 1721.17 1513.66 Z\" fill=\"#000000\" fill-rule=\"evenodd\" fill-opacity=\"1\" /><path clip-path=\"url(#clip050)\" d=\"M1741.82 1542.97 L1746.7 1542.97 L1746.7 1546.95 L1742.91 1554.36 L1739.92 1554.36 L1741.82 1546.95 L1741.82 1542.97 Z\" fill=\"#000000\" fill-rule=\"evenodd\" fill-opacity=\"1\" /><path clip-path=\"url(#clip050)\" d=\"M1785.64 1530.21 Q1788.99 1530.93 1790.87 1533.2 Q1792.77 1535.47 1792.77 1538.8 Q1792.77 1543.92 1789.25 1546.72 Q1785.73 1549.52 1779.25 1549.52 Q1777.07 1549.52 1774.76 1549.08 Q1772.47 1548.66 1770.01 1547.81 L1770.01 1543.29 Q1771.96 1544.43 1774.27 1545.01 Q1776.59 1545.58 1779.11 1545.58 Q1783.51 1545.58 1785.8 1543.85 Q1788.12 1542.11 1788.12 1538.8 Q1788.12 1535.75 1785.96 1534.03 Q1783.83 1532.3 1780.01 1532.3 L1775.99 1532.3 L1775.99 1528.45 L1780.2 1528.45 Q1783.65 1528.45 1785.48 1527.09 Q1787.31 1525.7 1787.31 1523.11 Q1787.31 1520.45 1785.41 1519.03 Q1783.53 1517.6 1780.01 1517.6 Q1778.09 1517.6 1775.89 1518.01 Q1773.69 1518.43 1771.06 1519.31 L1771.06 1515.14 Q1773.72 1514.4 1776.03 1514.03 Q1778.37 1513.66 1780.43 1513.66 Q1785.75 1513.66 1788.86 1516.09 Q1791.96 1518.5 1791.96 1522.62 Q1791.96 1525.49 1790.31 1527.48 Q1788.67 1529.45 1785.64 1530.21 Z\" fill=\"#000000\" fill-rule=\"evenodd\" fill-opacity=\"1\" /><path clip-path=\"url(#clip050)\" d=\"M1802.12 1542.97 L1807 1542.97 L1807 1546.95 L1803.21 1554.36 L1800.22 1554.36 L1802.12 1546.95 L1802.12 1542.97 Z\" fill=\"#000000\" fill-rule=\"evenodd\" fill-opacity=\"1\" /><path clip-path=\"url(#clip050)\" d=\"M1841.77 1517.37 Q1838.16 1517.37 1836.33 1520.93 Q1834.53 1524.47 1834.53 1531.6 Q1834.53 1538.71 1836.33 1542.27 Q1838.16 1545.82 1841.77 1545.82 Q1845.41 1545.82 1847.21 1542.27 Q1849.04 1538.71 1849.04 1531.6 Q1849.04 1524.47 1847.21 1520.93 Q1845.41 1517.37 1841.77 1517.37 M1841.77 1513.66 Q1847.58 1513.66 1850.64 1518.27 Q1853.72 1522.85 1853.72 1531.6 Q1853.72 1540.33 1850.64 1544.94 Q1847.58 1549.52 1841.77 1549.52 Q1835.96 1549.52 1832.88 1544.94 Q1829.83 1540.33 1829.83 1531.6 Q1829.83 1522.85 1832.88 1518.27 Q1835.96 1513.66 1841.77 1513.66 Z\" fill=\"#000000\" fill-rule=\"evenodd\" fill-opacity=\"1\" /><path clip-path=\"url(#clip050)\" d=\"M1871.29 1512.83 L1871.29 1555.1 L1861.47 1555.1 L1861.47 1551.79 L1867 1551.79 L1867 1516.14 L1861.47 1516.14 L1861.47 1512.83 L1871.29 1512.83 Z\" fill=\"#000000\" fill-rule=\"evenodd\" fill-opacity=\"1\" /><path clip-path=\"url(#clip050)\" d=\"M1598.89 1512.83 L1608.7 1512.83 L1608.7 1516.14 L1603.14 1516.14 L1603.14 1551.79 L1608.7 1551.79 L1608.7 1555.1 L1598.89 1555.1 L1598.89 1512.83 Z\" fill=\"#000000\" fill-rule=\"evenodd\" fill-opacity=\"1\" /><path clip-path=\"url(#clip050)\" d=\"M1628.38 1517.37 Q1624.76 1517.37 1622.94 1520.93 Q1621.13 1524.47 1621.13 1531.6 Q1621.13 1538.71 1622.94 1542.27 Q1624.76 1545.82 1628.38 1545.82 Q1632.01 1545.82 1633.82 1542.27 Q1635.64 1538.71 1635.64 1531.6 Q1635.64 1524.47 1633.82 1520.93 Q1632.01 1517.37 1628.38 1517.37 M1628.38 1513.66 Q1634.19 1513.66 1637.24 1518.27 Q1640.32 1522.85 1640.32 1531.6 Q1640.32 1540.33 1637.24 1544.94 Q1634.19 1549.52 1628.38 1549.52 Q1622.57 1549.52 1619.49 1544.94 Q1616.43 1540.33 1616.43 1531.6 Q1616.43 1522.85 1619.49 1518.27 Q1622.57 1513.66 1628.38 1513.66 Z\" fill=\"#000000\" fill-rule=\"evenodd\" fill-opacity=\"1\" /><path clip-path=\"url(#clip050)\" d=\"M1649.02 1542.97 L1653.91 1542.97 L1653.91 1546.95 L1650.11 1554.36 L1647.13 1554.36 L1649.02 1546.95 L1649.02 1542.97 Z\" fill=\"#000000\" fill-rule=\"evenodd\" fill-opacity=\"1\" /><path clip-path=\"url(#clip050)\" d=\"M1679.49 1544.91 L1687.13 1544.91 L1687.13 1518.55 L1678.82 1520.21 L1678.82 1515.95 L1687.08 1514.29 L1691.76 1514.29 L1691.76 1544.91 L1699.39 1544.91 L1699.39 1548.85 L1679.49 1548.85 L1679.49 1544.91 Z\" fill=\"#000000\" fill-rule=\"evenodd\" fill-opacity=\"1\" /><path clip-path=\"url(#clip050)\" d=\"M1709.32 1542.97 L1714.21 1542.97 L1714.21 1546.95 L1710.41 1554.36 L1707.43 1554.36 L1709.32 1546.95 L1709.32 1542.97 Z\" fill=\"#000000\" fill-rule=\"evenodd\" fill-opacity=\"1\" /><path clip-path=\"url(#clip050)\" d=\"M1748.98 1517.37 Q1745.37 1517.37 1743.54 1520.93 Q1741.73 1524.47 1741.73 1531.6 Q1741.73 1538.71 1743.54 1542.27 Q1745.37 1545.82 1748.98 1545.82 Q1752.61 1545.82 1754.42 1542.27 Q1756.25 1538.71 1756.25 1531.6 Q1756.25 1524.47 1754.42 1520.93 Q1752.61 1517.37 1748.98 1517.37 M1748.98 1513.66 Q1754.79 1513.66 1757.84 1518.27 Q1760.92 1522.85 1760.92 1531.6 Q1760.92 1540.33 1757.84 1544.94 Q1754.79 1549.52 1748.98 1549.52 Q1743.17 1549.52 1740.09 1544.94 Q1737.03 1540.33 1737.03 1531.6 Q1737.03 1522.85 1740.09 1518.27 Q1743.17 1513.66 1748.98 1513.66 Z\" fill=\"#000000\" fill-rule=\"evenodd\" fill-opacity=\"1\" /><path clip-path=\"url(#clip050)\" d=\"M1769.63 1542.97 L1774.51 1542.97 L1774.51 1546.95 L1770.71 1554.36 L1767.73 1554.36 L1769.63 1546.95 L1769.63 1542.97 Z\" fill=\"#000000\" fill-rule=\"evenodd\" fill-opacity=\"1\" /><path clip-path=\"url(#clip050)\" d=\"M1803.31 1544.91 L1819.62 1544.91 L1819.62 1548.85 L1797.68 1548.85 L1797.68 1544.91 Q1800.34 1542.16 1804.93 1537.53 Q1809.53 1532.88 1810.71 1531.53 Q1812.96 1529.01 1813.84 1527.27 Q1814.74 1525.51 1814.74 1523.82 Q1814.74 1521.07 1812.8 1519.33 Q1810.87 1517.6 1807.77 1517.6 Q1805.57 1517.6 1803.12 1518.36 Q1800.69 1519.13 1797.91 1520.68 L1797.91 1515.95 Q1800.74 1514.82 1803.19 1514.24 Q1805.64 1513.66 1807.68 1513.66 Q1813.05 1513.66 1816.25 1516.35 Q1819.44 1519.03 1819.44 1523.52 Q1819.44 1525.65 1818.63 1527.57 Q1817.84 1529.47 1815.74 1532.07 Q1815.16 1532.74 1812.06 1535.95 Q1808.95 1539.15 1803.31 1544.91 Z\" fill=\"#000000\" fill-rule=\"evenodd\" fill-opacity=\"1\" /><path clip-path=\"url(#clip050)\" d=\"M1829.93 1542.97 L1834.81 1542.97 L1834.81 1546.95 L1831.01 1554.36 L1828.03 1554.36 L1829.93 1546.95 L1829.93 1542.97 Z\" fill=\"#000000\" fill-rule=\"evenodd\" fill-opacity=\"1\" /><path clip-path=\"url(#clip050)\" d=\"M1860.39 1544.91 L1868.03 1544.91 L1868.03 1518.55 L1859.72 1520.21 L1859.72 1515.95 L1867.98 1514.29 L1872.66 1514.29 L1872.66 1544.91 L1880.3 1544.91 L1880.3 1548.85 L1860.39 1548.85 L1860.39 1544.91 Z\" fill=\"#000000\" fill-rule=\"evenodd\" fill-opacity=\"1\" /><path clip-path=\"url(#clip050)\" d=\"M1899.09 1512.83 L1899.09 1555.1 L1889.28 1555.1 L1889.28 1551.79 L1894.81 1551.79 L1894.81 1516.14 L1889.28 1516.14 L1889.28 1512.83 L1899.09 1512.83 Z\" fill=\"#000000\" fill-rule=\"evenodd\" fill-opacity=\"1\" /><path clip-path=\"url(#clip050)\" d=\"M1626.69 1512.83 L1636.51 1512.83 L1636.51 1516.14 L1630.95 1516.14 L1630.95 1551.79 L1636.51 1551.79 L1636.51 1555.1 L1626.69 1555.1 L1626.69 1512.83 Z\" fill=\"#000000\" fill-rule=\"evenodd\" fill-opacity=\"1\" /><path clip-path=\"url(#clip050)\" d=\"M1656.18 1517.37 Q1652.57 1517.37 1650.74 1520.93 Q1648.94 1524.47 1648.94 1531.6 Q1648.94 1538.71 1650.74 1542.27 Q1652.57 1545.82 1656.18 1545.82 Q1659.82 1545.82 1661.62 1542.27 Q1663.45 1538.71 1663.45 1531.6 Q1663.45 1524.47 1661.62 1520.93 Q1659.82 1517.37 1656.18 1517.37 M1656.18 1513.66 Q1661.99 1513.66 1665.05 1518.27 Q1668.13 1522.85 1668.13 1531.6 Q1668.13 1540.33 1665.05 1544.94 Q1661.99 1549.52 1656.18 1549.52 Q1650.37 1549.52 1647.29 1544.94 Q1644.24 1540.33 1644.24 1531.6 Q1644.24 1522.85 1647.29 1518.27 Q1650.37 1513.66 1656.18 1513.66 Z\" fill=\"#000000\" fill-rule=\"evenodd\" fill-opacity=\"1\" /><path clip-path=\"url(#clip050)\" d=\"M1676.83 1542.97 L1681.71 1542.97 L1681.71 1546.95 L1677.92 1554.36 L1674.93 1554.36 L1676.83 1546.95 L1676.83 1542.97 Z\" fill=\"#000000\" fill-rule=\"evenodd\" fill-opacity=\"1\" /><path clip-path=\"url(#clip050)\" d=\"M1707.29 1544.91 L1714.93 1544.91 L1714.93 1518.55 L1706.62 1520.21 L1706.62 1515.95 L1714.89 1514.29 L1719.56 1514.29 L1719.56 1544.91 L1727.2 1544.91 L1727.2 1548.85 L1707.29 1548.85 L1707.29 1544.91 Z\" fill=\"#000000\" fill-rule=\"evenodd\" fill-opacity=\"1\" /><path clip-path=\"url(#clip050)\" d=\"M1737.13 1542.97 L1742.01 1542.97 L1742.01 1546.95 L1738.22 1554.36 L1735.23 1554.36 L1737.13 1546.95 L1737.13 1542.97 Z\" fill=\"#000000\" fill-rule=\"evenodd\" fill-opacity=\"1\" /><path clip-path=\"url(#clip050)\" d=\"M1776.78 1517.37 Q1773.17 1517.37 1771.34 1520.93 Q1769.54 1524.47 1769.54 1531.6 Q1769.54 1538.71 1771.34 1542.27 Q1773.17 1545.82 1776.78 1545.82 Q1780.42 1545.82 1782.22 1542.27 Q1784.05 1538.71 1784.05 1531.6 Q1784.05 1524.47 1782.22 1520.93 Q1780.42 1517.37 1776.78 1517.37 M1776.78 1513.66 Q1782.59 1513.66 1785.65 1518.27 Q1788.73 1522.85 1788.73 1531.6 Q1788.73 1540.33 1785.65 1544.94 Q1782.59 1549.52 1776.78 1549.52 Q1770.97 1549.52 1767.89 1544.94 Q1764.84 1540.33 1764.84 1531.6 Q1764.84 1522.85 1767.89 1518.27 Q1770.97 1513.66 1776.78 1513.66 Z\" fill=\"#000000\" fill-rule=\"evenodd\" fill-opacity=\"1\" /><path clip-path=\"url(#clip050)\" d=\"M1797.43 1542.97 L1802.32 1542.97 L1802.32 1546.95 L1798.52 1554.36 L1795.53 1554.36 L1797.43 1546.95 L1797.43 1542.97 Z\" fill=\"#000000\" fill-rule=\"evenodd\" fill-opacity=\"1\" /><path clip-path=\"url(#clip050)\" d=\"M1827.89 1544.91 L1835.53 1544.91 L1835.53 1518.55 L1827.22 1520.21 L1827.22 1515.95 L1835.49 1514.29 L1840.16 1514.29 L1840.16 1544.91 L1847.8 1544.91 L1847.8 1548.85 L1827.89 1548.85 L1827.89 1544.91 Z\" fill=\"#000000\" fill-rule=\"evenodd\" fill-opacity=\"1\" /><path clip-path=\"url(#clip050)\" d=\"M1857.73 1542.97 L1862.62 1542.97 L1862.62 1546.95 L1858.82 1554.36 L1855.83 1554.36 L1857.73 1546.95 L1857.73 1542.97 Z\" fill=\"#000000\" fill-rule=\"evenodd\" fill-opacity=\"1\" /><path clip-path=\"url(#clip050)\" d=\"M1891.41 1544.91 L1907.73 1544.91 L1907.73 1548.85 L1885.79 1548.85 L1885.79 1544.91 Q1888.45 1542.16 1893.03 1537.53 Q1897.64 1532.88 1898.82 1531.53 Q1901.06 1529.01 1901.94 1527.27 Q1902.85 1525.51 1902.85 1523.82 Q1902.85 1521.07 1900.9 1519.33 Q1898.98 1517.6 1895.88 1517.6 Q1893.68 1517.6 1891.23 1518.36 Q1888.8 1519.13 1886.02 1520.68 L1886.02 1515.95 Q1888.84 1514.82 1891.3 1514.24 Q1893.75 1513.66 1895.79 1513.66 Q1901.16 1513.66 1904.35 1516.35 Q1907.55 1519.03 1907.55 1523.52 Q1907.55 1525.65 1906.74 1527.57 Q1905.95 1529.47 1903.84 1532.07 Q1903.26 1532.74 1900.16 1535.95 Q1897.06 1539.15 1891.41 1544.91 Z\" fill=\"#000000\" fill-rule=\"evenodd\" fill-opacity=\"1\" /><path clip-path=\"url(#clip050)\" d=\"M1926.9 1512.83 L1926.9 1555.1 L1917.08 1555.1 L1917.08 1551.79 L1922.62 1551.79 L1922.62 1516.14 L1917.08 1516.14 L1917.08 1512.83 L1926.9 1512.83 Z\" fill=\"#000000\" fill-rule=\"evenodd\" fill-opacity=\"1\" /><path clip-path=\"url(#clip050)\" d=\"M1654.5 1512.83 L1664.31 1512.83 L1664.31 1516.14 L1658.76 1516.14 L1658.76 1551.79 L1664.31 1551.79 L1664.31 1555.1 L1654.5 1555.1 L1654.5 1512.83 Z\" fill=\"#000000\" fill-rule=\"evenodd\" fill-opacity=\"1\" /><path clip-path=\"url(#clip050)\" d=\"M1683.99 1517.37 Q1680.38 1517.37 1678.55 1520.93 Q1676.74 1524.47 1676.74 1531.6 Q1676.74 1538.71 1678.55 1542.27 Q1680.38 1545.82 1683.99 1545.82 Q1687.62 1545.82 1689.43 1542.27 Q1691.26 1538.71 1691.26 1531.6 Q1691.26 1524.47 1689.43 1520.93 Q1687.62 1517.37 1683.99 1517.37 M1683.99 1513.66 Q1689.8 1513.66 1692.85 1518.27 Q1695.93 1522.85 1695.93 1531.6 Q1695.93 1540.33 1692.85 1544.94 Q1689.8 1549.52 1683.99 1549.52 Q1678.18 1549.52 1675.1 1544.94 Q1672.04 1540.33 1672.04 1531.6 Q1672.04 1522.85 1675.1 1518.27 Q1678.18 1513.66 1683.99 1513.66 Z\" fill=\"#000000\" fill-rule=\"evenodd\" fill-opacity=\"1\" /><path clip-path=\"url(#clip050)\" d=\"M1704.64 1542.97 L1709.52 1542.97 L1709.52 1546.95 L1705.72 1554.36 L1702.74 1554.36 L1704.64 1546.95 L1704.64 1542.97 Z\" fill=\"#000000\" fill-rule=\"evenodd\" fill-opacity=\"1\" /><path clip-path=\"url(#clip050)\" d=\"M1735.1 1544.91 L1742.74 1544.91 L1742.74 1518.55 L1734.43 1520.21 L1734.43 1515.95 L1742.69 1514.29 L1747.37 1514.29 L1747.37 1544.91 L1755.01 1544.91 L1755.01 1548.85 L1735.1 1548.85 L1735.1 1544.91 Z\" fill=\"#000000\" fill-rule=\"evenodd\" fill-opacity=\"1\" /><path clip-path=\"url(#clip050)\" d=\"M1764.94 1542.97 L1769.82 1542.97 L1769.82 1546.95 L1766.02 1554.36 L1763.04 1554.36 L1764.94 1546.95 L1764.94 1542.97 Z\" fill=\"#000000\" fill-rule=\"evenodd\" fill-opacity=\"1\" /><path clip-path=\"url(#clip050)\" d=\"M1804.59 1517.37 Q1800.98 1517.37 1799.15 1520.93 Q1797.34 1524.47 1797.34 1531.6 Q1797.34 1538.71 1799.15 1542.27 Q1800.98 1545.82 1804.59 1545.82 Q1808.22 1545.82 1810.03 1542.27 Q1811.86 1538.71 1811.86 1531.6 Q1811.86 1524.47 1810.03 1520.93 Q1808.22 1517.37 1804.59 1517.37 M1804.59 1513.66 Q1810.4 1513.66 1813.45 1518.27 Q1816.53 1522.85 1816.53 1531.6 Q1816.53 1540.33 1813.45 1544.94 Q1810.4 1549.52 1804.59 1549.52 Q1798.78 1549.52 1795.7 1544.94 Q1792.64 1540.33 1792.64 1531.6 Q1792.64 1522.85 1795.7 1518.27 Q1798.78 1513.66 1804.59 1513.66 Z\" fill=\"#000000\" fill-rule=\"evenodd\" fill-opacity=\"1\" /><path clip-path=\"url(#clip050)\" d=\"M1825.24 1542.97 L1830.12 1542.97 L1830.12 1546.95 L1826.32 1554.36 L1823.34 1554.36 L1825.24 1546.95 L1825.24 1542.97 Z\" fill=\"#000000\" fill-rule=\"evenodd\" fill-opacity=\"1\" /><path clip-path=\"url(#clip050)\" d=\"M1864.89 1517.37 Q1861.28 1517.37 1859.45 1520.93 Q1857.64 1524.47 1857.64 1531.6 Q1857.64 1538.71 1859.45 1542.27 Q1861.28 1545.82 1864.89 1545.82 Q1868.52 1545.82 1870.33 1542.27 Q1872.16 1538.71 1872.16 1531.6 Q1872.16 1524.47 1870.33 1520.93 Q1868.52 1517.37 1864.89 1517.37 M1864.89 1513.66 Q1870.7 1513.66 1873.76 1518.27 Q1876.83 1522.85 1876.83 1531.6 Q1876.83 1540.33 1873.76 1544.94 Q1870.7 1549.52 1864.89 1549.52 Q1859.08 1549.52 1856 1544.94 Q1852.95 1540.33 1852.95 1531.6 Q1852.95 1522.85 1856 1518.27 Q1859.08 1513.66 1864.89 1513.66 Z\" fill=\"#000000\" fill-rule=\"evenodd\" fill-opacity=\"1\" /><path clip-path=\"url(#clip050)\" d=\"M1885.54 1542.97 L1890.42 1542.97 L1890.42 1546.95 L1886.63 1554.36 L1883.64 1554.36 L1885.54 1546.95 L1885.54 1542.97 Z\" fill=\"#000000\" fill-rule=\"evenodd\" fill-opacity=\"1\" /><path clip-path=\"url(#clip050)\" d=\"M1929.36 1530.21 Q1932.71 1530.93 1934.59 1533.2 Q1936.49 1535.47 1936.49 1538.8 Q1936.49 1543.92 1932.97 1546.72 Q1929.45 1549.52 1922.97 1549.52 Q1920.79 1549.52 1918.48 1549.08 Q1916.19 1548.66 1913.73 1547.81 L1913.73 1543.29 Q1915.68 1544.43 1917.99 1545.01 Q1920.31 1545.58 1922.83 1545.58 Q1927.23 1545.58 1929.52 1543.85 Q1931.83 1542.11 1931.83 1538.8 Q1931.83 1535.75 1929.68 1534.03 Q1927.55 1532.3 1923.73 1532.3 L1919.7 1532.3 L1919.7 1528.45 L1923.92 1528.45 Q1927.37 1528.45 1929.19 1527.09 Q1931.02 1525.7 1931.02 1523.11 Q1931.02 1520.45 1929.13 1519.03 Q1927.25 1517.6 1923.73 1517.6 Q1921.81 1517.6 1919.61 1518.01 Q1917.41 1518.43 1914.77 1519.31 L1914.77 1515.14 Q1917.44 1514.4 1919.75 1514.03 Q1922.09 1513.66 1924.15 1513.66 Q1929.47 1513.66 1932.57 1516.09 Q1935.68 1518.5 1935.68 1522.62 Q1935.68 1525.49 1934.03 1527.48 Q1932.39 1529.45 1929.36 1530.21 Z\" fill=\"#000000\" fill-rule=\"evenodd\" fill-opacity=\"1\" /><path clip-path=\"url(#clip050)\" d=\"M1954.7 1512.83 L1954.7 1555.1 L1944.89 1555.1 L1944.89 1551.79 L1950.42 1551.79 L1950.42 1516.14 L1944.89 1516.14 L1944.89 1512.83 L1954.7 1512.83 Z\" fill=\"#000000\" fill-rule=\"evenodd\" fill-opacity=\"1\" /><path clip-path=\"url(#clip050)\" d=\"M1682.3 1512.83 L1692.12 1512.83 L1692.12 1516.14 L1686.56 1516.14 L1686.56 1551.79 L1692.12 1551.79 L1692.12 1555.1 L1682.3 1555.1 L1682.3 1512.83 Z\" fill=\"#000000\" fill-rule=\"evenodd\" fill-opacity=\"1\" /><path clip-path=\"url(#clip050)\" d=\"M1711.79 1517.37 Q1708.18 1517.37 1706.35 1520.93 Q1704.55 1524.47 1704.55 1531.6 Q1704.55 1538.71 1706.35 1542.27 Q1708.18 1545.82 1711.79 1545.82 Q1715.43 1545.82 1717.23 1542.27 Q1719.06 1538.71 1719.06 1531.6 Q1719.06 1524.47 1717.23 1520.93 Q1715.43 1517.37 1711.79 1517.37 M1711.79 1513.66 Q1717.6 1513.66 1720.66 1518.27 Q1723.74 1522.85 1723.74 1531.6 Q1723.74 1540.33 1720.66 1544.94 Q1717.6 1549.52 1711.79 1549.52 Q1705.98 1549.52 1702.9 1544.94 Q1699.85 1540.33 1699.85 1531.6 Q1699.85 1522.85 1702.9 1518.27 Q1705.98 1513.66 1711.79 1513.66 Z\" fill=\"#000000\" fill-rule=\"evenodd\" fill-opacity=\"1\" /><path clip-path=\"url(#clip050)\" d=\"M1732.44 1542.97 L1737.33 1542.97 L1737.33 1546.95 L1733.53 1554.36 L1730.54 1554.36 L1732.44 1546.95 L1732.44 1542.97 Z\" fill=\"#000000\" fill-rule=\"evenodd\" fill-opacity=\"1\" /><path clip-path=\"url(#clip050)\" d=\"M1772.09 1517.37 Q1768.48 1517.37 1766.65 1520.93 Q1764.85 1524.47 1764.85 1531.6 Q1764.85 1538.71 1766.65 1542.27 Q1768.48 1545.82 1772.09 1545.82 Q1775.73 1545.82 1777.53 1542.27 Q1779.36 1538.71 1779.36 1531.6 Q1779.36 1524.47 1777.53 1520.93 Q1775.73 1517.37 1772.09 1517.37 M1772.09 1513.66 Q1777.9 1513.66 1780.96 1518.27 Q1784.04 1522.85 1784.04 1531.6 Q1784.04 1540.33 1780.96 1544.94 Q1777.9 1549.52 1772.09 1549.52 Q1766.28 1549.52 1763.21 1544.94 Q1760.15 1540.33 1760.15 1531.6 Q1760.15 1522.85 1763.21 1518.27 Q1766.28 1513.66 1772.09 1513.66 Z\" fill=\"#000000\" fill-rule=\"evenodd\" fill-opacity=\"1\" /><path clip-path=\"url(#clip050)\" d=\"M1792.74 1542.97 L1797.63 1542.97 L1797.63 1546.95 L1793.83 1554.36 L1790.84 1554.36 L1792.74 1546.95 L1792.74 1542.97 Z\" fill=\"#000000\" fill-rule=\"evenodd\" fill-opacity=\"1\" /><path clip-path=\"url(#clip050)\" d=\"M1835.24 1518.36 L1823.44 1536.81 L1835.24 1536.81 L1835.24 1518.36 M1834.02 1514.29 L1839.89 1514.29 L1839.89 1536.81 L1844.83 1536.81 L1844.83 1540.7 L1839.89 1540.7 L1839.89 1548.85 L1835.24 1548.85 L1835.24 1540.7 L1819.64 1540.7 L1819.64 1536.19 L1834.02 1514.29 Z\" fill=\"#000000\" fill-rule=\"evenodd\" fill-opacity=\"1\" /><path clip-path=\"url(#clip050)\" d=\"M1853.04 1542.97 L1857.93 1542.97 L1857.93 1546.95 L1854.13 1554.36 L1851.14 1554.36 L1853.04 1546.95 L1853.04 1542.97 Z\" fill=\"#000000\" fill-rule=\"evenodd\" fill-opacity=\"1\" /><path clip-path=\"url(#clip050)\" d=\"M1892.7 1517.37 Q1889.08 1517.37 1887.26 1520.93 Q1885.45 1524.47 1885.45 1531.6 Q1885.45 1538.71 1887.26 1542.27 Q1889.08 1545.82 1892.7 1545.82 Q1896.33 1545.82 1898.14 1542.27 Q1899.96 1538.71 1899.96 1531.6 Q1899.96 1524.47 1898.14 1520.93 Q1896.33 1517.37 1892.7 1517.37 M1892.7 1513.66 Q1898.51 1513.66 1901.56 1518.27 Q1904.64 1522.85 1904.64 1531.6 Q1904.64 1540.33 1901.56 1544.94 Q1898.51 1549.52 1892.7 1549.52 Q1886.89 1549.52 1883.81 1544.94 Q1880.75 1540.33 1880.75 1531.6 Q1880.75 1522.85 1883.81 1518.27 Q1886.89 1513.66 1892.7 1513.66 Z\" fill=\"#000000\" fill-rule=\"evenodd\" fill-opacity=\"1\" /><path clip-path=\"url(#clip050)\" d=\"M1913.34 1542.97 L1918.23 1542.97 L1918.23 1546.95 L1914.43 1554.36 L1911.45 1554.36 L1913.34 1546.95 L1913.34 1542.97 Z\" fill=\"#000000\" fill-rule=\"evenodd\" fill-opacity=\"1\" /><path clip-path=\"url(#clip050)\" d=\"M1953 1517.37 Q1949.38 1517.37 1947.56 1520.93 Q1945.75 1524.47 1945.75 1531.6 Q1945.75 1538.71 1947.56 1542.27 Q1949.38 1545.82 1953 1545.82 Q1956.63 1545.82 1958.44 1542.27 Q1960.26 1538.71 1960.26 1531.6 Q1960.26 1524.47 1958.44 1520.93 Q1956.63 1517.37 1953 1517.37 M1953 1513.66 Q1958.81 1513.66 1961.86 1518.27 Q1964.94 1522.85 1964.94 1531.6 Q1964.94 1540.33 1961.86 1544.94 Q1958.81 1549.52 1953 1549.52 Q1947.19 1549.52 1944.11 1544.94 Q1941.05 1540.33 1941.05 1531.6 Q1941.05 1522.85 1944.11 1518.27 Q1947.19 1513.66 1953 1513.66 Z\" fill=\"#000000\" fill-rule=\"evenodd\" fill-opacity=\"1\" /><path clip-path=\"url(#clip050)\" d=\"M1982.51 1512.83 L1982.51 1555.1 L1972.69 1555.1 L1972.69 1551.79 L1978.23 1551.79 L1978.23 1516.14 L1972.69 1516.14 L1972.69 1512.83 L1982.51 1512.83 Z\" fill=\"#000000\" fill-rule=\"evenodd\" fill-opacity=\"1\" /><path clip-path=\"url(#clip050)\" d=\"M1710.11 1512.83 L1719.92 1512.83 L1719.92 1516.14 L1714.37 1516.14 L1714.37 1551.79 L1719.92 1551.79 L1719.92 1555.1 L1710.11 1555.1 L1710.11 1512.83 Z\" fill=\"#000000\" fill-rule=\"evenodd\" fill-opacity=\"1\" /><path clip-path=\"url(#clip050)\" d=\"M1739.6 1517.37 Q1735.99 1517.37 1734.16 1520.93 Q1732.35 1524.47 1732.35 1531.6 Q1732.35 1538.71 1734.16 1542.27 Q1735.99 1545.82 1739.6 1545.82 Q1743.23 1545.82 1745.04 1542.27 Q1746.87 1538.71 1746.87 1531.6 Q1746.87 1524.47 1745.04 1520.93 Q1743.23 1517.37 1739.6 1517.37 M1739.6 1513.66 Q1745.41 1513.66 1748.47 1518.27 Q1751.54 1522.85 1751.54 1531.6 Q1751.54 1540.33 1748.47 1544.94 Q1745.41 1549.52 1739.6 1549.52 Q1733.79 1549.52 1730.71 1544.94 Q1727.66 1540.33 1727.66 1531.6 Q1727.66 1522.85 1730.71 1518.27 Q1733.79 1513.66 1739.6 1513.66 Z\" fill=\"#000000\" fill-rule=\"evenodd\" fill-opacity=\"1\" /><path clip-path=\"url(#clip050)\" d=\"M1760.25 1542.97 L1765.13 1542.97 L1765.13 1546.95 L1761.34 1554.36 L1758.35 1554.36 L1760.25 1546.95 L1760.25 1542.97 Z\" fill=\"#000000\" fill-rule=\"evenodd\" fill-opacity=\"1\" /><path clip-path=\"url(#clip050)\" d=\"M1799.9 1517.37 Q1796.29 1517.37 1794.46 1520.93 Q1792.65 1524.47 1792.65 1531.6 Q1792.65 1538.71 1794.46 1542.27 Q1796.29 1545.82 1799.9 1545.82 Q1803.53 1545.82 1805.34 1542.27 Q1807.17 1538.71 1807.17 1531.6 Q1807.17 1524.47 1805.34 1520.93 Q1803.53 1517.37 1799.9 1517.37 M1799.9 1513.66 Q1805.71 1513.66 1808.77 1518.27 Q1811.84 1522.85 1811.84 1531.6 Q1811.84 1540.33 1808.77 1544.94 Q1805.71 1549.52 1799.9 1549.52 Q1794.09 1549.52 1791.01 1544.94 Q1787.96 1540.33 1787.96 1531.6 Q1787.96 1522.85 1791.01 1518.27 Q1794.09 1513.66 1799.9 1513.66 Z\" fill=\"#000000\" fill-rule=\"evenodd\" fill-opacity=\"1\" /><path clip-path=\"url(#clip050)\" d=\"M1820.55 1542.97 L1825.43 1542.97 L1825.43 1546.95 L1821.64 1554.36 L1818.65 1554.36 L1820.55 1546.95 L1820.55 1542.97 Z\" fill=\"#000000\" fill-rule=\"evenodd\" fill-opacity=\"1\" /><path clip-path=\"url(#clip050)\" d=\"M1864.37 1530.21 Q1867.72 1530.93 1869.6 1533.2 Q1871.5 1535.47 1871.5 1538.8 Q1871.5 1543.92 1867.98 1546.72 Q1864.46 1549.52 1857.98 1549.52 Q1855.8 1549.52 1853.49 1549.08 Q1851.2 1548.66 1848.74 1547.81 L1848.74 1543.29 Q1850.69 1544.43 1853 1545.01 Q1855.32 1545.58 1857.84 1545.58 Q1862.24 1545.58 1864.53 1543.85 Q1866.84 1542.11 1866.84 1538.8 Q1866.84 1535.75 1864.69 1534.03 Q1862.56 1532.3 1858.74 1532.3 L1854.71 1532.3 L1854.71 1528.45 L1858.93 1528.45 Q1862.38 1528.45 1864.21 1527.09 Q1866.03 1525.7 1866.03 1523.11 Q1866.03 1520.45 1864.14 1519.03 Q1862.26 1517.6 1858.74 1517.6 Q1856.82 1517.6 1854.62 1518.01 Q1852.42 1518.43 1849.78 1519.31 L1849.78 1515.14 Q1852.45 1514.4 1854.76 1514.03 Q1857.1 1513.66 1859.16 1513.66 Q1864.48 1513.66 1867.58 1516.09 Q1870.69 1518.5 1870.69 1522.62 Q1870.69 1525.49 1869.04 1527.48 Q1867.4 1529.45 1864.37 1530.21 Z\" fill=\"#000000\" fill-rule=\"evenodd\" fill-opacity=\"1\" /><path clip-path=\"url(#clip050)\" d=\"M1880.85 1542.97 L1885.73 1542.97 L1885.73 1546.95 L1881.94 1554.36 L1878.95 1554.36 L1880.85 1546.95 L1880.85 1542.97 Z\" fill=\"#000000\" fill-rule=\"evenodd\" fill-opacity=\"1\" /><path clip-path=\"url(#clip050)\" d=\"M1911.31 1544.91 L1918.95 1544.91 L1918.95 1518.55 L1910.64 1520.21 L1910.64 1515.95 L1918.9 1514.29 L1923.58 1514.29 L1923.58 1544.91 L1931.22 1544.91 L1931.22 1548.85 L1911.31 1548.85 L1911.31 1544.91 Z\" fill=\"#000000\" fill-rule=\"evenodd\" fill-opacity=\"1\" /><path clip-path=\"url(#clip050)\" d=\"M1941.15 1542.97 L1946.03 1542.97 L1946.03 1546.95 L1942.24 1554.36 L1939.25 1554.36 L1941.15 1546.95 L1941.15 1542.97 Z\" fill=\"#000000\" fill-rule=\"evenodd\" fill-opacity=\"1\" /><path clip-path=\"url(#clip050)\" d=\"M1980.8 1517.37 Q1977.19 1517.37 1975.36 1520.93 Q1973.56 1524.47 1973.56 1531.6 Q1973.56 1538.71 1975.36 1542.27 Q1977.19 1545.82 1980.8 1545.82 Q1984.44 1545.82 1986.24 1542.27 Q1988.07 1538.71 1988.07 1531.6 Q1988.07 1524.47 1986.24 1520.93 Q1984.44 1517.37 1980.8 1517.37 M1980.8 1513.66 Q1986.61 1513.66 1989.67 1518.27 Q1992.75 1522.85 1992.75 1531.6 Q1992.75 1540.33 1989.67 1544.94 Q1986.61 1549.52 1980.8 1549.52 Q1974.99 1549.52 1971.91 1544.94 Q1968.86 1540.33 1968.86 1531.6 Q1968.86 1522.85 1971.91 1518.27 Q1974.99 1513.66 1980.8 1513.66 Z\" fill=\"#000000\" fill-rule=\"evenodd\" fill-opacity=\"1\" /><path clip-path=\"url(#clip050)\" d=\"M2010.32 1512.83 L2010.32 1555.1 L2000.5 1555.1 L2000.5 1551.79 L2006.03 1551.79 L2006.03 1516.14 L2000.5 1516.14 L2000.5 1512.83 L2010.32 1512.83 Z\" fill=\"#000000\" fill-rule=\"evenodd\" fill-opacity=\"1\" /><path clip-path=\"url(#clip050)\" d=\"M1737.91 1512.83 L1747.73 1512.83 L1747.73 1516.14 L1742.17 1516.14 L1742.17 1551.79 L1747.73 1551.79 L1747.73 1555.1 L1737.91 1555.1 L1737.91 1512.83 Z\" fill=\"#000000\" fill-rule=\"evenodd\" fill-opacity=\"1\" /><path clip-path=\"url(#clip050)\" d=\"M1767.41 1517.37 Q1763.79 1517.37 1761.97 1520.93 Q1760.16 1524.47 1760.16 1531.6 Q1760.16 1538.71 1761.97 1542.27 Q1763.79 1545.82 1767.41 1545.82 Q1771.04 1545.82 1772.85 1542.27 Q1774.67 1538.71 1774.67 1531.6 Q1774.67 1524.47 1772.85 1520.93 Q1771.04 1517.37 1767.41 1517.37 M1767.41 1513.66 Q1773.22 1513.66 1776.27 1518.27 Q1779.35 1522.85 1779.35 1531.6 Q1779.35 1540.33 1776.27 1544.94 Q1773.22 1549.52 1767.41 1549.52 Q1761.6 1549.52 1758.52 1544.94 Q1755.46 1540.33 1755.46 1531.6 Q1755.46 1522.85 1758.52 1518.27 Q1761.6 1513.66 1767.41 1513.66 Z\" fill=\"#000000\" fill-rule=\"evenodd\" fill-opacity=\"1\" /><path clip-path=\"url(#clip050)\" d=\"M1788.05 1542.97 L1792.94 1542.97 L1792.94 1546.95 L1789.14 1554.36 L1786.16 1554.36 L1788.05 1546.95 L1788.05 1542.97 Z\" fill=\"#000000\" fill-rule=\"evenodd\" fill-opacity=\"1\" /><path clip-path=\"url(#clip050)\" d=\"M1827.71 1517.37 Q1824.09 1517.37 1822.27 1520.93 Q1820.46 1524.47 1820.46 1531.6 Q1820.46 1538.71 1822.27 1542.27 Q1824.09 1545.82 1827.71 1545.82 Q1831.34 1545.82 1833.15 1542.27 Q1834.97 1538.71 1834.97 1531.6 Q1834.97 1524.47 1833.15 1520.93 Q1831.34 1517.37 1827.71 1517.37 M1827.71 1513.66 Q1833.52 1513.66 1836.57 1518.27 Q1839.65 1522.85 1839.65 1531.6 Q1839.65 1540.33 1836.57 1544.94 Q1833.52 1549.52 1827.71 1549.52 Q1821.9 1549.52 1818.82 1544.94 Q1815.76 1540.33 1815.76 1531.6 Q1815.76 1522.85 1818.82 1518.27 Q1821.9 1513.66 1827.71 1513.66 Z\" fill=\"#000000\" fill-rule=\"evenodd\" fill-opacity=\"1\" /><path clip-path=\"url(#clip050)\" d=\"M1848.35 1542.97 L1853.24 1542.97 L1853.24 1546.95 L1849.44 1554.36 L1846.46 1554.36 L1848.35 1546.95 L1848.35 1542.97 Z\" fill=\"#000000\" fill-rule=\"evenodd\" fill-opacity=\"1\" /><path clip-path=\"url(#clip050)\" d=\"M1892.17 1530.21 Q1895.53 1530.93 1897.4 1533.2 Q1899.3 1535.47 1899.3 1538.8 Q1899.3 1543.92 1895.78 1546.72 Q1892.27 1549.52 1885.78 1549.52 Q1883.61 1549.52 1881.29 1549.08 Q1879 1548.66 1876.55 1547.81 L1876.55 1543.29 Q1878.49 1544.43 1880.81 1545.01 Q1883.12 1545.58 1885.65 1545.58 Q1890.04 1545.58 1892.34 1543.85 Q1894.65 1542.11 1894.65 1538.8 Q1894.65 1535.75 1892.5 1534.03 Q1890.37 1532.3 1886.55 1532.3 L1882.52 1532.3 L1882.52 1528.45 L1886.73 1528.45 Q1890.18 1528.45 1892.01 1527.09 Q1893.84 1525.7 1893.84 1523.11 Q1893.84 1520.45 1891.94 1519.03 Q1890.07 1517.6 1886.55 1517.6 Q1884.63 1517.6 1882.43 1518.01 Q1880.23 1518.43 1877.59 1519.31 L1877.59 1515.14 Q1880.25 1514.4 1882.57 1514.03 Q1884.9 1513.66 1886.96 1513.66 Q1892.29 1513.66 1895.39 1516.09 Q1898.49 1518.5 1898.49 1522.62 Q1898.49 1525.49 1896.85 1527.48 Q1895.21 1529.45 1892.17 1530.21 Z\" fill=\"#000000\" fill-rule=\"evenodd\" fill-opacity=\"1\" /><path clip-path=\"url(#clip050)\" d=\"M1908.65 1542.97 L1913.54 1542.97 L1913.54 1546.95 L1909.74 1554.36 L1906.76 1554.36 L1908.65 1546.95 L1908.65 1542.97 Z\" fill=\"#000000\" fill-rule=\"evenodd\" fill-opacity=\"1\" /><path clip-path=\"url(#clip050)\" d=\"M1948.31 1517.37 Q1944.7 1517.37 1942.87 1520.93 Q1941.06 1524.47 1941.06 1531.6 Q1941.06 1538.71 1942.87 1542.27 Q1944.7 1545.82 1948.31 1545.82 Q1951.94 1545.82 1953.75 1542.27 Q1955.58 1538.71 1955.58 1531.6 Q1955.58 1524.47 1953.75 1520.93 Q1951.94 1517.37 1948.31 1517.37 M1948.31 1513.66 Q1954.12 1513.66 1957.17 1518.27 Q1960.25 1522.85 1960.25 1531.6 Q1960.25 1540.33 1957.17 1544.94 Q1954.12 1549.52 1948.31 1549.52 Q1942.5 1549.52 1939.42 1544.94 Q1936.36 1540.33 1936.36 1531.6 Q1936.36 1522.85 1939.42 1518.27 Q1942.5 1513.66 1948.31 1513.66 Z\" fill=\"#000000\" fill-rule=\"evenodd\" fill-opacity=\"1\" /><path clip-path=\"url(#clip050)\" d=\"M1968.96 1542.97 L1973.84 1542.97 L1973.84 1546.95 L1970.04 1554.36 L1967.06 1554.36 L1968.96 1546.95 L1968.96 1542.97 Z\" fill=\"#000000\" fill-rule=\"evenodd\" fill-opacity=\"1\" /><path clip-path=\"url(#clip050)\" d=\"M1999.42 1544.91 L2007.06 1544.91 L2007.06 1518.55 L1998.75 1520.21 L1998.75 1515.95 L2007.01 1514.29 L2011.69 1514.29 L2011.69 1544.91 L2019.33 1544.91 L2019.33 1548.85 L1999.42 1548.85 L1999.42 1544.91 Z\" fill=\"#000000\" fill-rule=\"evenodd\" fill-opacity=\"1\" /><path clip-path=\"url(#clip050)\" d=\"M2038.12 1512.83 L2038.12 1555.1 L2028.31 1555.1 L2028.31 1551.79 L2033.84 1551.79 L2033.84 1516.14 L2028.31 1516.14 L2028.31 1512.83 L2038.12 1512.83 Z\" fill=\"#000000\" fill-rule=\"evenodd\" fill-opacity=\"1\" /><path clip-path=\"url(#clip050)\" d=\"M1765.72 1512.83 L1775.54 1512.83 L1775.54 1516.14 L1769.98 1516.14 L1769.98 1551.79 L1775.54 1551.79 L1775.54 1555.1 L1765.72 1555.1 L1765.72 1512.83 Z\" fill=\"#000000\" fill-rule=\"evenodd\" fill-opacity=\"1\" /><path clip-path=\"url(#clip050)\" d=\"M1795.21 1517.37 Q1791.6 1517.37 1789.77 1520.93 Q1787.97 1524.47 1787.97 1531.6 Q1787.97 1538.71 1789.77 1542.27 Q1791.6 1545.82 1795.21 1545.82 Q1798.85 1545.82 1800.65 1542.27 Q1802.48 1538.71 1802.48 1531.6 Q1802.48 1524.47 1800.65 1520.93 Q1798.85 1517.37 1795.21 1517.37 M1795.21 1513.66 Q1801.02 1513.66 1804.08 1518.27 Q1807.16 1522.85 1807.16 1531.6 Q1807.16 1540.33 1804.08 1544.94 Q1801.02 1549.52 1795.21 1549.52 Q1789.4 1549.52 1786.32 1544.94 Q1783.27 1540.33 1783.27 1531.6 Q1783.27 1522.85 1786.32 1518.27 Q1789.4 1513.66 1795.21 1513.66 Z\" fill=\"#000000\" fill-rule=\"evenodd\" fill-opacity=\"1\" /><path clip-path=\"url(#clip050)\" d=\"M1815.86 1542.97 L1820.74 1542.97 L1820.74 1546.95 L1816.95 1554.36 L1813.96 1554.36 L1815.86 1546.95 L1815.86 1542.97 Z\" fill=\"#000000\" fill-rule=\"evenodd\" fill-opacity=\"1\" /><path clip-path=\"url(#clip050)\" d=\"M1855.51 1517.37 Q1851.9 1517.37 1850.07 1520.93 Q1848.27 1524.47 1848.27 1531.6 Q1848.27 1538.71 1850.07 1542.27 Q1851.9 1545.82 1855.51 1545.82 Q1859.15 1545.82 1860.95 1542.27 Q1862.78 1538.71 1862.78 1531.6 Q1862.78 1524.47 1860.95 1520.93 Q1859.15 1517.37 1855.51 1517.37 M1855.51 1513.66 Q1861.32 1513.66 1864.38 1518.27 Q1867.46 1522.85 1867.46 1531.6 Q1867.46 1540.33 1864.38 1544.94 Q1861.32 1549.52 1855.51 1549.52 Q1849.7 1549.52 1846.62 1544.94 Q1843.57 1540.33 1843.57 1531.6 Q1843.57 1522.85 1846.62 1518.27 Q1849.7 1513.66 1855.51 1513.66 Z\" fill=\"#000000\" fill-rule=\"evenodd\" fill-opacity=\"1\" /><path clip-path=\"url(#clip050)\" d=\"M1876.16 1542.97 L1881.04 1542.97 L1881.04 1546.95 L1877.25 1554.36 L1874.26 1554.36 L1876.16 1546.95 L1876.16 1542.97 Z\" fill=\"#000000\" fill-rule=\"evenodd\" fill-opacity=\"1\" /><path clip-path=\"url(#clip050)\" d=\"M1909.84 1544.91 L1926.16 1544.91 L1926.16 1548.85 L1904.22 1548.85 L1904.22 1544.91 Q1906.88 1542.16 1911.46 1537.53 Q1916.07 1532.88 1917.25 1531.53 Q1919.49 1529.01 1920.37 1527.27 Q1921.28 1525.51 1921.28 1523.82 Q1921.28 1521.07 1919.33 1519.33 Q1917.41 1517.6 1914.31 1517.6 Q1912.11 1517.6 1909.66 1518.36 Q1907.22 1519.13 1904.45 1520.68 L1904.45 1515.95 Q1907.27 1514.82 1909.72 1514.24 Q1912.18 1513.66 1914.22 1513.66 Q1919.59 1513.66 1922.78 1516.35 Q1925.97 1519.03 1925.97 1523.52 Q1925.97 1525.65 1925.16 1527.57 Q1924.38 1529.47 1922.27 1532.07 Q1921.69 1532.74 1918.59 1535.95 Q1915.49 1539.15 1909.84 1544.91 Z\" fill=\"#000000\" fill-rule=\"evenodd\" fill-opacity=\"1\" /><path clip-path=\"url(#clip050)\" d=\"M1936.46 1542.97 L1941.34 1542.97 L1941.34 1546.95 L1937.55 1554.36 L1934.56 1554.36 L1936.46 1546.95 L1936.46 1542.97 Z\" fill=\"#000000\" fill-rule=\"evenodd\" fill-opacity=\"1\" /><path clip-path=\"url(#clip050)\" d=\"M1970.14 1544.91 L1986.46 1544.91 L1986.46 1548.85 L1964.52 1548.85 L1964.52 1544.91 Q1967.18 1542.16 1971.76 1537.53 Q1976.37 1532.88 1977.55 1531.53 Q1979.79 1529.01 1980.67 1527.27 Q1981.58 1525.51 1981.58 1523.82 Q1981.58 1521.07 1979.63 1519.33 Q1977.71 1517.6 1974.61 1517.6 Q1972.41 1517.6 1969.96 1518.36 Q1967.53 1519.13 1964.75 1520.68 L1964.75 1515.95 Q1967.57 1514.82 1970.03 1514.24 Q1972.48 1513.66 1974.52 1513.66 Q1979.89 1513.66 1983.08 1516.35 Q1986.28 1519.03 1986.28 1523.52 Q1986.28 1525.65 1985.46 1527.57 Q1984.68 1529.47 1982.57 1532.07 Q1981.99 1532.74 1978.89 1535.95 Q1975.79 1539.15 1970.14 1544.91 Z\" fill=\"#000000\" fill-rule=\"evenodd\" fill-opacity=\"1\" /><path clip-path=\"url(#clip050)\" d=\"M1996.76 1542.97 L2001.65 1542.97 L2001.65 1546.95 L1997.85 1554.36 L1994.86 1554.36 L1996.76 1546.95 L1996.76 1542.97 Z\" fill=\"#000000\" fill-rule=\"evenodd\" fill-opacity=\"1\" /><path clip-path=\"url(#clip050)\" d=\"M2036.41 1517.37 Q2032.8 1517.37 2030.97 1520.93 Q2029.17 1524.47 2029.17 1531.6 Q2029.17 1538.71 2030.97 1542.27 Q2032.8 1545.82 2036.41 1545.82 Q2040.05 1545.82 2041.85 1542.27 Q2043.68 1538.71 2043.68 1531.6 Q2043.68 1524.47 2041.85 1520.93 Q2040.05 1517.37 2036.41 1517.37 M2036.41 1513.66 Q2042.22 1513.66 2045.28 1518.27 Q2048.36 1522.85 2048.36 1531.6 Q2048.36 1540.33 2045.28 1544.94 Q2042.22 1549.52 2036.41 1549.52 Q2030.6 1549.52 2027.52 1544.94 Q2024.47 1540.33 2024.47 1531.6 Q2024.47 1522.85 2027.52 1518.27 Q2030.6 1513.66 2036.41 1513.66 Z\" fill=\"#000000\" fill-rule=\"evenodd\" fill-opacity=\"1\" /><path clip-path=\"url(#clip050)\" d=\"M2065.93 1512.83 L2065.93 1555.1 L2056.11 1555.1 L2056.11 1551.79 L2061.64 1551.79 L2061.64 1516.14 L2056.11 1516.14 L2056.11 1512.83 L2065.93 1512.83 Z\" fill=\"#000000\" fill-rule=\"evenodd\" fill-opacity=\"1\" /><path clip-path=\"url(#clip050)\" d=\"M1793.53 1512.83 L1803.34 1512.83 L1803.34 1516.14 L1797.79 1516.14 L1797.79 1551.79 L1803.34 1551.79 L1803.34 1555.1 L1793.53 1555.1 L1793.53 1512.83 Z\" fill=\"#000000\" fill-rule=\"evenodd\" fill-opacity=\"1\" /><path clip-path=\"url(#clip050)\" d=\"M1823.02 1517.37 Q1819.41 1517.37 1817.58 1520.93 Q1815.77 1524.47 1815.77 1531.6 Q1815.77 1538.71 1817.58 1542.27 Q1819.41 1545.82 1823.02 1545.82 Q1826.65 1545.82 1828.46 1542.27 Q1830.29 1538.71 1830.29 1531.6 Q1830.29 1524.47 1828.46 1520.93 Q1826.65 1517.37 1823.02 1517.37 M1823.02 1513.66 Q1828.83 1513.66 1831.88 1518.27 Q1834.96 1522.85 1834.96 1531.6 Q1834.96 1540.33 1831.88 1544.94 Q1828.83 1549.52 1823.02 1549.52 Q1817.21 1549.52 1814.13 1544.94 Q1811.07 1540.33 1811.07 1531.6 Q1811.07 1522.85 1814.13 1518.27 Q1817.21 1513.66 1823.02 1513.66 Z\" fill=\"#000000\" fill-rule=\"evenodd\" fill-opacity=\"1\" /><path clip-path=\"url(#clip050)\" d=\"M1843.67 1542.97 L1848.55 1542.97 L1848.55 1546.95 L1844.75 1554.36 L1841.77 1554.36 L1843.67 1546.95 L1843.67 1542.97 Z\" fill=\"#000000\" fill-rule=\"evenodd\" fill-opacity=\"1\" /><path clip-path=\"url(#clip050)\" d=\"M1883.32 1517.37 Q1879.71 1517.37 1877.88 1520.93 Q1876.07 1524.47 1876.07 1531.6 Q1876.07 1538.71 1877.88 1542.27 Q1879.71 1545.82 1883.32 1545.82 Q1886.95 1545.82 1888.76 1542.27 Q1890.59 1538.71 1890.59 1531.6 Q1890.59 1524.47 1888.76 1520.93 Q1886.95 1517.37 1883.32 1517.37 M1883.32 1513.66 Q1889.13 1513.66 1892.18 1518.27 Q1895.26 1522.85 1895.26 1531.6 Q1895.26 1540.33 1892.18 1544.94 Q1889.13 1549.52 1883.32 1549.52 Q1877.51 1549.52 1874.43 1544.94 Q1871.37 1540.33 1871.37 1531.6 Q1871.37 1522.85 1874.43 1518.27 Q1877.51 1513.66 1883.32 1513.66 Z\" fill=\"#000000\" fill-rule=\"evenodd\" fill-opacity=\"1\" /><path clip-path=\"url(#clip050)\" d=\"M1903.97 1542.97 L1908.85 1542.97 L1908.85 1546.95 L1905.05 1554.36 L1902.07 1554.36 L1903.97 1546.95 L1903.97 1542.97 Z\" fill=\"#000000\" fill-rule=\"evenodd\" fill-opacity=\"1\" /><path clip-path=\"url(#clip050)\" d=\"M1937.65 1544.91 L1953.97 1544.91 L1953.97 1548.85 L1932.02 1548.85 L1932.02 1544.91 Q1934.68 1542.16 1939.27 1537.53 Q1943.87 1532.88 1945.05 1531.53 Q1947.3 1529.01 1948.18 1527.27 Q1949.08 1525.51 1949.08 1523.82 Q1949.08 1521.07 1947.14 1519.33 Q1945.22 1517.6 1942.11 1517.6 Q1939.91 1517.6 1937.46 1518.36 Q1935.03 1519.13 1932.25 1520.68 L1932.25 1515.95 Q1935.08 1514.82 1937.53 1514.24 Q1939.98 1513.66 1942.02 1513.66 Q1947.39 1513.66 1950.59 1516.35 Q1953.78 1519.03 1953.78 1523.52 Q1953.78 1525.65 1952.97 1527.57 Q1952.18 1529.47 1950.08 1532.07 Q1949.5 1532.74 1946.4 1535.95 Q1943.29 1539.15 1937.65 1544.91 Z\" fill=\"#000000\" fill-rule=\"evenodd\" fill-opacity=\"1\" /><path clip-path=\"url(#clip050)\" d=\"M1964.27 1542.97 L1969.15 1542.97 L1969.15 1546.95 L1965.35 1554.36 L1962.37 1554.36 L1964.27 1546.95 L1964.27 1542.97 Z\" fill=\"#000000\" fill-rule=\"evenodd\" fill-opacity=\"1\" /><path clip-path=\"url(#clip050)\" d=\"M1994.73 1544.91 L2002.37 1544.91 L2002.37 1518.55 L1994.06 1520.21 L1994.06 1515.95 L2002.32 1514.29 L2007 1514.29 L2007 1544.91 L2014.64 1544.91 L2014.64 1548.85 L1994.73 1548.85 L1994.73 1544.91 Z\" fill=\"#000000\" fill-rule=\"evenodd\" fill-opacity=\"1\" /><path clip-path=\"url(#clip050)\" d=\"M2024.57 1542.97 L2029.45 1542.97 L2029.45 1546.95 L2025.65 1554.36 L2022.67 1554.36 L2024.57 1546.95 L2024.57 1542.97 Z\" fill=\"#000000\" fill-rule=\"evenodd\" fill-opacity=\"1\" /><path clip-path=\"url(#clip050)\" d=\"M2055.03 1544.91 L2062.67 1544.91 L2062.67 1518.55 L2054.36 1520.21 L2054.36 1515.95 L2062.62 1514.29 L2067.3 1514.29 L2067.3 1544.91 L2074.94 1544.91 L2074.94 1548.85 L2055.03 1548.85 L2055.03 1544.91 Z\" fill=\"#000000\" fill-rule=\"evenodd\" fill-opacity=\"1\" /><path clip-path=\"url(#clip050)\" d=\"M2093.73 1512.83 L2093.73 1555.1 L2083.92 1555.1 L2083.92 1551.79 L2089.45 1551.79 L2089.45 1516.14 L2083.92 1516.14 L2083.92 1512.83 L2093.73 1512.83 Z\" fill=\"#000000\" fill-rule=\"evenodd\" fill-opacity=\"1\" /><path clip-path=\"url(#clip050)\" d=\"M1821.33 1512.83 L1831.15 1512.83 L1831.15 1516.14 L1825.59 1516.14 L1825.59 1551.79 L1831.15 1551.79 L1831.15 1555.1 L1821.33 1555.1 L1821.33 1512.83 Z\" fill=\"#000000\" fill-rule=\"evenodd\" fill-opacity=\"1\" /><path clip-path=\"url(#clip050)\" d=\"M1850.82 1517.37 Q1847.21 1517.37 1845.38 1520.93 Q1843.58 1524.47 1843.58 1531.6 Q1843.58 1538.71 1845.38 1542.27 Q1847.21 1545.82 1850.82 1545.82 Q1854.46 1545.82 1856.26 1542.27 Q1858.09 1538.71 1858.09 1531.6 Q1858.09 1524.47 1856.26 1520.93 Q1854.46 1517.37 1850.82 1517.37 M1850.82 1513.66 Q1856.63 1513.66 1859.69 1518.27 Q1862.77 1522.85 1862.77 1531.6 Q1862.77 1540.33 1859.69 1544.94 Q1856.63 1549.52 1850.82 1549.52 Q1845.01 1549.52 1841.93 1544.94 Q1838.88 1540.33 1838.88 1531.6 Q1838.88 1522.85 1841.93 1518.27 Q1845.01 1513.66 1850.82 1513.66 Z\" fill=\"#000000\" fill-rule=\"evenodd\" fill-opacity=\"1\" /><path clip-path=\"url(#clip050)\" d=\"M1871.47 1542.97 L1876.36 1542.97 L1876.36 1546.95 L1872.56 1554.36 L1869.57 1554.36 L1871.47 1546.95 L1871.47 1542.97 Z\" fill=\"#000000\" fill-rule=\"evenodd\" fill-opacity=\"1\" /><path clip-path=\"url(#clip050)\" d=\"M1911.12 1517.37 Q1907.51 1517.37 1905.68 1520.93 Q1903.88 1524.47 1903.88 1531.6 Q1903.88 1538.71 1905.68 1542.27 Q1907.51 1545.82 1911.12 1545.82 Q1914.76 1545.82 1916.56 1542.27 Q1918.39 1538.71 1918.39 1531.6 Q1918.39 1524.47 1916.56 1520.93 Q1914.76 1517.37 1911.12 1517.37 M1911.12 1513.66 Q1916.93 1513.66 1919.99 1518.27 Q1923.07 1522.85 1923.07 1531.6 Q1923.07 1540.33 1919.99 1544.94 Q1916.93 1549.52 1911.12 1549.52 Q1905.31 1549.52 1902.23 1544.94 Q1899.18 1540.33 1899.18 1531.6 Q1899.18 1522.85 1902.23 1518.27 Q1905.31 1513.66 1911.12 1513.66 Z\" fill=\"#000000\" fill-rule=\"evenodd\" fill-opacity=\"1\" /><path clip-path=\"url(#clip050)\" d=\"M1931.77 1542.97 L1936.66 1542.97 L1936.66 1546.95 L1932.86 1554.36 L1929.87 1554.36 L1931.77 1546.95 L1931.77 1542.97 Z\" fill=\"#000000\" fill-rule=\"evenodd\" fill-opacity=\"1\" /><path clip-path=\"url(#clip050)\" d=\"M1965.45 1544.91 L1981.77 1544.91 L1981.77 1548.85 L1959.83 1548.85 L1959.83 1544.91 Q1962.49 1542.16 1967.07 1537.53 Q1971.68 1532.88 1972.86 1531.53 Q1975.1 1529.01 1975.98 1527.27 Q1976.89 1525.51 1976.89 1523.82 Q1976.89 1521.07 1974.94 1519.33 Q1973.02 1517.6 1969.92 1517.6 Q1967.72 1517.6 1965.27 1518.36 Q1962.84 1519.13 1960.06 1520.68 L1960.06 1515.95 Q1962.88 1514.82 1965.34 1514.24 Q1967.79 1513.66 1969.83 1513.66 Q1975.2 1513.66 1978.39 1516.35 Q1981.59 1519.03 1981.59 1523.52 Q1981.59 1525.65 1980.78 1527.57 Q1979.99 1529.47 1977.88 1532.07 Q1977.3 1532.74 1974.2 1535.95 Q1971.1 1539.15 1965.45 1544.91 Z\" fill=\"#000000\" fill-rule=\"evenodd\" fill-opacity=\"1\" /><path clip-path=\"url(#clip050)\" d=\"M1992.07 1542.97 L1996.96 1542.97 L1996.96 1546.95 L1993.16 1554.36 L1990.17 1554.36 L1992.07 1546.95 L1992.07 1542.97 Z\" fill=\"#000000\" fill-rule=\"evenodd\" fill-opacity=\"1\" /><path clip-path=\"url(#clip050)\" d=\"M2031.72 1517.37 Q2028.11 1517.37 2026.29 1520.93 Q2024.48 1524.47 2024.48 1531.6 Q2024.48 1538.71 2026.29 1542.27 Q2028.11 1545.82 2031.72 1545.82 Q2035.36 1545.82 2037.16 1542.27 Q2038.99 1538.71 2038.99 1531.6 Q2038.99 1524.47 2037.16 1520.93 Q2035.36 1517.37 2031.72 1517.37 M2031.72 1513.66 Q2037.53 1513.66 2040.59 1518.27 Q2043.67 1522.85 2043.67 1531.6 Q2043.67 1540.33 2040.59 1544.94 Q2037.53 1549.52 2031.72 1549.52 Q2025.91 1549.52 2022.84 1544.94 Q2019.78 1540.33 2019.78 1531.6 Q2019.78 1522.85 2022.84 1518.27 Q2025.91 1513.66 2031.72 1513.66 Z\" fill=\"#000000\" fill-rule=\"evenodd\" fill-opacity=\"1\" /><path clip-path=\"url(#clip050)\" d=\"M2052.37 1542.97 L2057.26 1542.97 L2057.26 1546.95 L2053.46 1554.36 L2050.47 1554.36 L2052.37 1546.95 L2052.37 1542.97 Z\" fill=\"#000000\" fill-rule=\"evenodd\" fill-opacity=\"1\" /><path clip-path=\"url(#clip050)\" d=\"M2086.05 1544.91 L2102.37 1544.91 L2102.37 1548.85 L2080.43 1548.85 L2080.43 1544.91 Q2083.09 1542.16 2087.67 1537.53 Q2092.28 1532.88 2093.46 1531.53 Q2095.71 1529.01 2096.59 1527.27 Q2097.49 1525.51 2097.49 1523.82 Q2097.49 1521.07 2095.54 1519.33 Q2093.62 1517.6 2090.52 1517.6 Q2088.32 1517.6 2085.87 1518.36 Q2083.44 1519.13 2080.66 1520.68 L2080.66 1515.95 Q2083.48 1514.82 2085.94 1514.24 Q2088.39 1513.66 2090.43 1513.66 Q2095.8 1513.66 2098.99 1516.35 Q2102.19 1519.03 2102.19 1523.52 Q2102.19 1525.65 2101.38 1527.57 Q2100.59 1529.47 2098.48 1532.07 Q2097.91 1532.74 2094.8 1535.95 Q2091.7 1539.15 2086.05 1544.91 Z\" fill=\"#000000\" fill-rule=\"evenodd\" fill-opacity=\"1\" /><path clip-path=\"url(#clip050)\" d=\"M2121.54 1512.83 L2121.54 1555.1 L2111.72 1555.1 L2111.72 1551.79 L2117.26 1551.79 L2117.26 1516.14 L2111.72 1516.14 L2111.72 1512.83 L2121.54 1512.83 Z\" fill=\"#000000\" fill-rule=\"evenodd\" fill-opacity=\"1\" /><path clip-path=\"url(#clip050)\" d=\"M1849.14 1512.83 L1858.95 1512.83 L1858.95 1516.14 L1853.4 1516.14 L1853.4 1551.79 L1858.95 1551.79 L1858.95 1555.1 L1849.14 1555.1 L1849.14 1512.83 Z\" fill=\"#000000\" fill-rule=\"evenodd\" fill-opacity=\"1\" /><path clip-path=\"url(#clip050)\" d=\"M1878.63 1517.37 Q1875.02 1517.37 1873.19 1520.93 Q1871.38 1524.47 1871.38 1531.6 Q1871.38 1538.71 1873.19 1542.27 Q1875.02 1545.82 1878.63 1545.82 Q1882.26 1545.82 1884.07 1542.27 Q1885.9 1538.71 1885.9 1531.6 Q1885.9 1524.47 1884.07 1520.93 Q1882.26 1517.37 1878.63 1517.37 M1878.63 1513.66 Q1884.44 1513.66 1887.49 1518.27 Q1890.57 1522.85 1890.57 1531.6 Q1890.57 1540.33 1887.49 1544.94 Q1884.44 1549.52 1878.63 1549.52 Q1872.82 1549.52 1869.74 1544.94 Q1866.68 1540.33 1866.68 1531.6 Q1866.68 1522.85 1869.74 1518.27 Q1872.82 1513.66 1878.63 1513.66 Z\" fill=\"#000000\" fill-rule=\"evenodd\" fill-opacity=\"1\" /><path clip-path=\"url(#clip050)\" d=\"M1899.28 1542.97 L1904.16 1542.97 L1904.16 1546.95 L1900.36 1554.36 L1897.38 1554.36 L1899.28 1546.95 L1899.28 1542.97 Z\" fill=\"#000000\" fill-rule=\"evenodd\" fill-opacity=\"1\" /><path clip-path=\"url(#clip050)\" d=\"M1938.93 1517.37 Q1935.32 1517.37 1933.49 1520.93 Q1931.68 1524.47 1931.68 1531.6 Q1931.68 1538.71 1933.49 1542.27 Q1935.32 1545.82 1938.93 1545.82 Q1942.56 1545.82 1944.37 1542.27 Q1946.2 1538.71 1946.2 1531.6 Q1946.2 1524.47 1944.37 1520.93 Q1942.56 1517.37 1938.93 1517.37 M1938.93 1513.66 Q1944.74 1513.66 1947.8 1518.27 Q1950.87 1522.85 1950.87 1531.6 Q1950.87 1540.33 1947.8 1544.94 Q1944.74 1549.52 1938.93 1549.52 Q1933.12 1549.52 1930.04 1544.94 Q1926.99 1540.33 1926.99 1531.6 Q1926.99 1522.85 1930.04 1518.27 Q1933.12 1513.66 1938.93 1513.66 Z\" fill=\"#000000\" fill-rule=\"evenodd\" fill-opacity=\"1\" /><path clip-path=\"url(#clip050)\" d=\"M1959.58 1542.97 L1964.46 1542.97 L1964.46 1546.95 L1960.67 1554.36 L1957.68 1554.36 L1959.58 1546.95 L1959.58 1542.97 Z\" fill=\"#000000\" fill-rule=\"evenodd\" fill-opacity=\"1\" /><path clip-path=\"url(#clip050)\" d=\"M1990.04 1544.91 L1997.68 1544.91 L1997.68 1518.55 L1989.37 1520.21 L1989.37 1515.95 L1997.63 1514.29 L2002.31 1514.29 L2002.31 1544.91 L2009.95 1544.91 L2009.95 1548.85 L1990.04 1548.85 L1990.04 1544.91 Z\" fill=\"#000000\" fill-rule=\"evenodd\" fill-opacity=\"1\" /><path clip-path=\"url(#clip050)\" d=\"M2019.88 1542.97 L2024.76 1542.97 L2024.76 1546.95 L2020.97 1554.36 L2017.98 1554.36 L2019.88 1546.95 L2019.88 1542.97 Z\" fill=\"#000000\" fill-rule=\"evenodd\" fill-opacity=\"1\" /><path clip-path=\"url(#clip050)\" d=\"M2063.7 1530.21 Q2067.05 1530.93 2068.93 1533.2 Q2070.83 1535.47 2070.83 1538.8 Q2070.83 1543.92 2067.31 1546.72 Q2063.79 1549.52 2057.31 1549.52 Q2055.13 1549.52 2052.82 1549.08 Q2050.53 1548.66 2048.07 1547.81 L2048.07 1543.29 Q2050.02 1544.43 2052.33 1545.01 Q2054.65 1545.58 2057.17 1545.58 Q2061.57 1545.58 2063.86 1543.85 Q2066.17 1542.11 2066.17 1538.8 Q2066.17 1535.75 2064.02 1534.03 Q2061.89 1532.3 2058.07 1532.3 L2054.04 1532.3 L2054.04 1528.45 L2058.26 1528.45 Q2061.71 1528.45 2063.54 1527.09 Q2065.36 1525.7 2065.36 1523.11 Q2065.36 1520.45 2063.47 1519.03 Q2061.59 1517.6 2058.07 1517.6 Q2056.15 1517.6 2053.95 1518.01 Q2051.75 1518.43 2049.11 1519.31 L2049.11 1515.14 Q2051.78 1514.4 2054.09 1514.03 Q2056.43 1513.66 2058.49 1513.66 Q2063.81 1513.66 2066.91 1516.09 Q2070.02 1518.5 2070.02 1522.62 Q2070.02 1525.49 2068.37 1527.48 Q2066.73 1529.45 2063.7 1530.21 Z\" fill=\"#000000\" fill-rule=\"evenodd\" fill-opacity=\"1\" /><path clip-path=\"url(#clip050)\" d=\"M2080.18 1542.97 L2085.06 1542.97 L2085.06 1546.95 L2081.27 1554.36 L2078.28 1554.36 L2080.18 1546.95 L2080.18 1542.97 Z\" fill=\"#000000\" fill-rule=\"evenodd\" fill-opacity=\"1\" /><path clip-path=\"url(#clip050)\" d=\"M2119.83 1517.37 Q2116.22 1517.37 2114.39 1520.93 Q2112.59 1524.47 2112.59 1531.6 Q2112.59 1538.71 2114.39 1542.27 Q2116.22 1545.82 2119.83 1545.82 Q2123.47 1545.82 2125.27 1542.27 Q2127.1 1538.71 2127.1 1531.6 Q2127.1 1524.47 2125.27 1520.93 Q2123.47 1517.37 2119.83 1517.37 M2119.83 1513.66 Q2125.64 1513.66 2128.7 1518.27 Q2131.78 1522.85 2131.78 1531.6 Q2131.78 1540.33 2128.7 1544.94 Q2125.64 1549.52 2119.83 1549.52 Q2114.02 1549.52 2110.94 1544.94 Q2107.89 1540.33 2107.89 1531.6 Q2107.89 1522.85 2110.94 1518.27 Q2114.02 1513.66 2119.83 1513.66 Z\" fill=\"#000000\" fill-rule=\"evenodd\" fill-opacity=\"1\" /><path clip-path=\"url(#clip050)\" d=\"M2149.35 1512.83 L2149.35 1555.1 L2139.53 1555.1 L2139.53 1551.79 L2145.06 1551.79 L2145.06 1516.14 L2139.53 1516.14 L2139.53 1512.83 L2149.35 1512.83 Z\" fill=\"#000000\" fill-rule=\"evenodd\" fill-opacity=\"1\" /><path clip-path=\"url(#clip050)\" d=\"M1876.94 1512.83 L1886.76 1512.83 L1886.76 1516.14 L1881.2 1516.14 L1881.2 1551.79 L1886.76 1551.79 L1886.76 1555.1 L1876.94 1555.1 L1876.94 1512.83 Z\" fill=\"#000000\" fill-rule=\"evenodd\" fill-opacity=\"1\" /><path clip-path=\"url(#clip050)\" d=\"M1906.43 1517.37 Q1902.82 1517.37 1901 1520.93 Q1899.19 1524.47 1899.19 1531.6 Q1899.19 1538.71 1901 1542.27 Q1902.82 1545.82 1906.43 1545.82 Q1910.07 1545.82 1911.87 1542.27 Q1913.7 1538.71 1913.7 1531.6 Q1913.7 1524.47 1911.87 1520.93 Q1910.07 1517.37 1906.43 1517.37 M1906.43 1513.66 Q1912.24 1513.66 1915.3 1518.27 Q1918.38 1522.85 1918.38 1531.6 Q1918.38 1540.33 1915.3 1544.94 Q1912.24 1549.52 1906.43 1549.52 Q1900.62 1549.52 1897.55 1544.94 Q1894.49 1540.33 1894.49 1531.6 Q1894.49 1522.85 1897.55 1518.27 Q1900.62 1513.66 1906.43 1513.66 Z\" fill=\"#000000\" fill-rule=\"evenodd\" fill-opacity=\"1\" /><path clip-path=\"url(#clip050)\" d=\"M1927.08 1542.97 L1931.97 1542.97 L1931.97 1546.95 L1928.17 1554.36 L1925.18 1554.36 L1927.08 1546.95 L1927.08 1542.97 Z\" fill=\"#000000\" fill-rule=\"evenodd\" fill-opacity=\"1\" /><path clip-path=\"url(#clip050)\" d=\"M1966.74 1517.37 Q1963.12 1517.37 1961.3 1520.93 Q1959.49 1524.47 1959.49 1531.6 Q1959.49 1538.71 1961.3 1542.27 Q1963.12 1545.82 1966.74 1545.82 Q1970.37 1545.82 1972.18 1542.27 Q1974 1538.71 1974 1531.6 Q1974 1524.47 1972.18 1520.93 Q1970.37 1517.37 1966.74 1517.37 M1966.74 1513.66 Q1972.55 1513.66 1975.6 1518.27 Q1978.68 1522.85 1978.68 1531.6 Q1978.68 1540.33 1975.6 1544.94 Q1972.55 1549.52 1966.74 1549.52 Q1960.93 1549.52 1957.85 1544.94 Q1954.79 1540.33 1954.79 1531.6 Q1954.79 1522.85 1957.85 1518.27 Q1960.93 1513.66 1966.74 1513.66 Z\" fill=\"#000000\" fill-rule=\"evenodd\" fill-opacity=\"1\" /><path clip-path=\"url(#clip050)\" d=\"M1987.38 1542.97 L1992.27 1542.97 L1992.27 1546.95 L1988.47 1554.36 L1985.49 1554.36 L1987.38 1546.95 L1987.38 1542.97 Z\" fill=\"#000000\" fill-rule=\"evenodd\" fill-opacity=\"1\" /><path clip-path=\"url(#clip050)\" d=\"M2017.85 1544.91 L2025.49 1544.91 L2025.49 1518.55 L2017.17 1520.21 L2017.17 1515.95 L2025.44 1514.29 L2030.11 1514.29 L2030.11 1544.91 L2037.75 1544.91 L2037.75 1548.85 L2017.85 1548.85 L2017.85 1544.91 Z\" fill=\"#000000\" fill-rule=\"evenodd\" fill-opacity=\"1\" /><path clip-path=\"url(#clip050)\" d=\"M2047.68 1542.97 L2052.57 1542.97 L2052.57 1546.95 L2048.77 1554.36 L2045.79 1554.36 L2047.68 1546.95 L2047.68 1542.97 Z\" fill=\"#000000\" fill-rule=\"evenodd\" fill-opacity=\"1\" /><path clip-path=\"url(#clip050)\" d=\"M2081.36 1544.91 L2097.68 1544.91 L2097.68 1548.85 L2075.74 1548.85 L2075.74 1544.91 Q2078.4 1542.16 2082.98 1537.53 Q2087.59 1532.88 2088.77 1531.53 Q2091.02 1529.01 2091.9 1527.27 Q2092.8 1525.51 2092.8 1523.82 Q2092.8 1521.07 2090.86 1519.33 Q2088.93 1517.6 2085.83 1517.6 Q2083.63 1517.6 2081.18 1518.36 Q2078.75 1519.13 2075.97 1520.68 L2075.97 1515.95 Q2078.8 1514.82 2081.25 1514.24 Q2083.7 1513.66 2085.74 1513.66 Q2091.11 1513.66 2094.3 1516.35 Q2097.5 1519.03 2097.5 1523.52 Q2097.5 1525.65 2096.69 1527.57 Q2095.9 1529.47 2093.79 1532.07 Q2093.22 1532.74 2090.11 1535.95 Q2087.01 1539.15 2081.36 1544.91 Z\" fill=\"#000000\" fill-rule=\"evenodd\" fill-opacity=\"1\" /><path clip-path=\"url(#clip050)\" d=\"M2107.98 1542.97 L2112.87 1542.97 L2112.87 1546.95 L2109.07 1554.36 L2106.09 1554.36 L2107.98 1546.95 L2107.98 1542.97 Z\" fill=\"#000000\" fill-rule=\"evenodd\" fill-opacity=\"1\" /><path clip-path=\"url(#clip050)\" d=\"M2138.45 1544.91 L2146.09 1544.91 L2146.09 1518.55 L2137.78 1520.21 L2137.78 1515.95 L2146.04 1514.29 L2150.72 1514.29 L2150.72 1544.91 L2158.35 1544.91 L2158.35 1548.85 L2138.45 1548.85 L2138.45 1544.91 Z\" fill=\"#000000\" fill-rule=\"evenodd\" fill-opacity=\"1\" /><path clip-path=\"url(#clip050)\" d=\"M2177.15 1512.83 L2177.15 1555.1 L2167.34 1555.1 L2167.34 1551.79 L2172.87 1551.79 L2172.87 1516.14 L2167.34 1516.14 L2167.34 1512.83 L2177.15 1512.83 Z\" fill=\"#000000\" fill-rule=\"evenodd\" fill-opacity=\"1\" /><path clip-path=\"url(#clip050)\" d=\"M1904.75 1512.83 L1914.56 1512.83 L1914.56 1516.14 L1909.01 1516.14 L1909.01 1551.79 L1914.56 1551.79 L1914.56 1555.1 L1904.75 1555.1 L1904.75 1512.83 Z\" fill=\"#000000\" fill-rule=\"evenodd\" fill-opacity=\"1\" /><path clip-path=\"url(#clip050)\" d=\"M1934.24 1517.37 Q1930.63 1517.37 1928.8 1520.93 Q1927 1524.47 1927 1531.6 Q1927 1538.71 1928.8 1542.27 Q1930.63 1545.82 1934.24 1545.82 Q1937.87 1545.82 1939.68 1542.27 Q1941.51 1538.71 1941.51 1531.6 Q1941.51 1524.47 1939.68 1520.93 Q1937.87 1517.37 1934.24 1517.37 M1934.24 1513.66 Q1940.05 1513.66 1943.11 1518.27 Q1946.19 1522.85 1946.19 1531.6 Q1946.19 1540.33 1943.11 1544.94 Q1940.05 1549.52 1934.24 1549.52 Q1928.43 1549.52 1925.35 1544.94 Q1922.3 1540.33 1922.3 1531.6 Q1922.3 1522.85 1925.35 1518.27 Q1928.43 1513.66 1934.24 1513.66 Z\" fill=\"#000000\" fill-rule=\"evenodd\" fill-opacity=\"1\" /><path clip-path=\"url(#clip050)\" d=\"M1954.89 1542.97 L1959.77 1542.97 L1959.77 1546.95 L1955.98 1554.36 L1952.99 1554.36 L1954.89 1546.95 L1954.89 1542.97 Z\" fill=\"#000000\" fill-rule=\"evenodd\" fill-opacity=\"1\" /><path clip-path=\"url(#clip050)\" d=\"M1994.54 1517.37 Q1990.93 1517.37 1989.1 1520.93 Q1987.3 1524.47 1987.3 1531.6 Q1987.3 1538.71 1989.1 1542.27 Q1990.93 1545.82 1994.54 1545.82 Q1998.18 1545.82 1999.98 1542.27 Q2001.81 1538.71 2001.81 1531.6 Q2001.81 1524.47 1999.98 1520.93 Q1998.18 1517.37 1994.54 1517.37 M1994.54 1513.66 Q2000.35 1513.66 2003.41 1518.27 Q2006.49 1522.85 2006.49 1531.6 Q2006.49 1540.33 2003.41 1544.94 Q2000.35 1549.52 1994.54 1549.52 Q1988.73 1549.52 1985.65 1544.94 Q1982.6 1540.33 1982.6 1531.6 Q1982.6 1522.85 1985.65 1518.27 Q1988.73 1513.66 1994.54 1513.66 Z\" fill=\"#000000\" fill-rule=\"evenodd\" fill-opacity=\"1\" /><path clip-path=\"url(#clip050)\" d=\"M2015.19 1542.97 L2020.07 1542.97 L2020.07 1546.95 L2016.28 1554.36 L2013.29 1554.36 L2015.19 1546.95 L2015.19 1542.97 Z\" fill=\"#000000\" fill-rule=\"evenodd\" fill-opacity=\"1\" /><path clip-path=\"url(#clip050)\" d=\"M2045.65 1544.91 L2053.29 1544.91 L2053.29 1518.55 L2044.98 1520.21 L2044.98 1515.95 L2053.24 1514.29 L2057.92 1514.29 L2057.92 1544.91 L2065.56 1544.91 L2065.56 1548.85 L2045.65 1548.85 L2045.65 1544.91 Z\" fill=\"#000000\" fill-rule=\"evenodd\" fill-opacity=\"1\" /><path clip-path=\"url(#clip050)\" d=\"M2075.49 1542.97 L2080.37 1542.97 L2080.37 1546.95 L2076.58 1554.36 L2073.59 1554.36 L2075.49 1546.95 L2075.49 1542.97 Z\" fill=\"#000000\" fill-rule=\"evenodd\" fill-opacity=\"1\" /><path clip-path=\"url(#clip050)\" d=\"M2105.95 1544.91 L2113.59 1544.91 L2113.59 1518.55 L2105.28 1520.21 L2105.28 1515.95 L2113.55 1514.29 L2118.22 1514.29 L2118.22 1544.91 L2125.86 1544.91 L2125.86 1548.85 L2105.95 1548.85 L2105.95 1544.91 Z\" fill=\"#000000\" fill-rule=\"evenodd\" fill-opacity=\"1\" /><path clip-path=\"url(#clip050)\" d=\"M2135.79 1542.97 L2140.67 1542.97 L2140.67 1546.95 L2136.88 1554.36 L2133.89 1554.36 L2135.79 1546.95 L2135.79 1542.97 Z\" fill=\"#000000\" fill-rule=\"evenodd\" fill-opacity=\"1\" /><path clip-path=\"url(#clip050)\" d=\"M2169.47 1544.91 L2185.79 1544.91 L2185.79 1548.85 L2163.85 1548.85 L2163.85 1544.91 Q2166.51 1542.16 2171.09 1537.53 Q2175.7 1532.88 2176.88 1531.53 Q2179.12 1529.01 2180 1527.27 Q2180.91 1525.51 2180.91 1523.82 Q2180.91 1521.07 2178.96 1519.33 Q2177.04 1517.6 2173.94 1517.6 Q2171.74 1517.6 2169.29 1518.36 Q2166.86 1519.13 2164.08 1520.68 L2164.08 1515.95 Q2166.9 1514.82 2169.36 1514.24 Q2171.81 1513.66 2173.85 1513.66 Q2179.22 1513.66 2182.41 1516.35 Q2185.61 1519.03 2185.61 1523.52 Q2185.61 1525.65 2184.79 1527.57 Q2184.01 1529.47 2181.9 1532.07 Q2181.32 1532.74 2178.22 1535.95 Q2175.12 1539.15 2169.47 1544.91 Z\" fill=\"#000000\" fill-rule=\"evenodd\" fill-opacity=\"1\" /><path clip-path=\"url(#clip050)\" d=\"M2204.96 1512.83 L2204.96 1555.1 L2195.14 1555.1 L2195.14 1551.79 L2200.67 1551.79 L2200.67 1516.14 L2195.14 1516.14 L2195.14 1512.83 L2204.96 1512.83 Z\" fill=\"#000000\" fill-rule=\"evenodd\" fill-opacity=\"1\" /><path clip-path=\"url(#clip050)\" d=\"M1932.56 1512.83 L1942.37 1512.83 L1942.37 1516.14 L1936.82 1516.14 L1936.82 1551.79 L1942.37 1551.79 L1942.37 1555.1 L1932.56 1555.1 L1932.56 1512.83 Z\" fill=\"#000000\" fill-rule=\"evenodd\" fill-opacity=\"1\" /><path clip-path=\"url(#clip050)\" d=\"M1962.05 1517.37 Q1958.44 1517.37 1956.61 1520.93 Q1954.8 1524.47 1954.8 1531.6 Q1954.8 1538.71 1956.61 1542.27 Q1958.44 1545.82 1962.05 1545.82 Q1965.68 1545.82 1967.49 1542.27 Q1969.32 1538.71 1969.32 1531.6 Q1969.32 1524.47 1967.49 1520.93 Q1965.68 1517.37 1962.05 1517.37 M1962.05 1513.66 Q1967.86 1513.66 1970.91 1518.27 Q1973.99 1522.85 1973.99 1531.6 Q1973.99 1540.33 1970.91 1544.94 Q1967.86 1549.52 1962.05 1549.52 Q1956.24 1549.52 1953.16 1544.94 Q1950.1 1540.33 1950.1 1531.6 Q1950.1 1522.85 1953.16 1518.27 Q1956.24 1513.66 1962.05 1513.66 Z\" fill=\"#000000\" fill-rule=\"evenodd\" fill-opacity=\"1\" /><path clip-path=\"url(#clip050)\" d=\"M1982.69 1542.97 L1987.58 1542.97 L1987.58 1546.95 L1983.78 1554.36 L1980.8 1554.36 L1982.69 1546.95 L1982.69 1542.97 Z\" fill=\"#000000\" fill-rule=\"evenodd\" fill-opacity=\"1\" /><path clip-path=\"url(#clip050)\" d=\"M2022.35 1517.37 Q2018.74 1517.37 2016.91 1520.93 Q2015.1 1524.47 2015.1 1531.6 Q2015.1 1538.71 2016.91 1542.27 Q2018.74 1545.82 2022.35 1545.82 Q2025.98 1545.82 2027.79 1542.27 Q2029.62 1538.71 2029.62 1531.6 Q2029.62 1524.47 2027.79 1520.93 Q2025.98 1517.37 2022.35 1517.37 M2022.35 1513.66 Q2028.16 1513.66 2031.21 1518.27 Q2034.29 1522.85 2034.29 1531.6 Q2034.29 1540.33 2031.21 1544.94 Q2028.16 1549.52 2022.35 1549.52 Q2016.54 1549.52 2013.46 1544.94 Q2010.4 1540.33 2010.4 1531.6 Q2010.4 1522.85 2013.46 1518.27 Q2016.54 1513.66 2022.35 1513.66 Z\" fill=\"#000000\" fill-rule=\"evenodd\" fill-opacity=\"1\" /><path clip-path=\"url(#clip050)\" d=\"M2043 1542.97 L2047.88 1542.97 L2047.88 1546.95 L2044.08 1554.36 L2041.1 1554.36 L2043 1546.95 L2043 1542.97 Z\" fill=\"#000000\" fill-rule=\"evenodd\" fill-opacity=\"1\" /><path clip-path=\"url(#clip050)\" d=\"M2073.46 1544.91 L2081.1 1544.91 L2081.1 1518.55 L2072.79 1520.21 L2072.79 1515.95 L2081.05 1514.29 L2085.73 1514.29 L2085.73 1544.91 L2093.37 1544.91 L2093.37 1548.85 L2073.46 1548.85 L2073.46 1544.91 Z\" fill=\"#000000\" fill-rule=\"evenodd\" fill-opacity=\"1\" /><path clip-path=\"url(#clip050)\" d=\"M2103.3 1542.97 L2108.18 1542.97 L2108.18 1546.95 L2104.38 1554.36 L2101.4 1554.36 L2103.3 1546.95 L2103.3 1542.97 Z\" fill=\"#000000\" fill-rule=\"evenodd\" fill-opacity=\"1\" /><path clip-path=\"url(#clip050)\" d=\"M2142.95 1517.37 Q2139.34 1517.37 2137.51 1520.93 Q2135.7 1524.47 2135.7 1531.6 Q2135.7 1538.71 2137.51 1542.27 Q2139.34 1545.82 2142.95 1545.82 Q2146.58 1545.82 2148.39 1542.27 Q2150.22 1538.71 2150.22 1531.6 Q2150.22 1524.47 2148.39 1520.93 Q2146.58 1517.37 2142.95 1517.37 M2142.95 1513.66 Q2148.76 1513.66 2151.81 1518.27 Q2154.89 1522.85 2154.89 1531.6 Q2154.89 1540.33 2151.81 1544.94 Q2148.76 1549.52 2142.95 1549.52 Q2137.14 1549.52 2134.06 1544.94 Q2131 1540.33 2131 1531.6 Q2131 1522.85 2134.06 1518.27 Q2137.14 1513.66 2142.95 1513.66 Z\" fill=\"#000000\" fill-rule=\"evenodd\" fill-opacity=\"1\" /><path clip-path=\"url(#clip050)\" d=\"M2163.6 1542.97 L2168.48 1542.97 L2168.48 1546.95 L2164.68 1554.36 L2161.7 1554.36 L2163.6 1546.95 L2163.6 1542.97 Z\" fill=\"#000000\" fill-rule=\"evenodd\" fill-opacity=\"1\" /><path clip-path=\"url(#clip050)\" d=\"M2207.42 1530.21 Q2210.77 1530.93 2212.65 1533.2 Q2214.55 1535.47 2214.55 1538.8 Q2214.55 1543.92 2211.03 1546.72 Q2207.51 1549.52 2201.03 1549.52 Q2198.85 1549.52 2196.54 1549.08 Q2194.24 1548.66 2191.79 1547.81 L2191.79 1543.29 Q2193.74 1544.43 2196.05 1545.01 Q2198.36 1545.58 2200.89 1545.58 Q2205.29 1545.58 2207.58 1543.85 Q2209.89 1542.11 2209.89 1538.8 Q2209.89 1535.75 2207.74 1534.03 Q2205.61 1532.3 2201.79 1532.3 L2197.76 1532.3 L2197.76 1528.45 L2201.98 1528.45 Q2205.42 1528.45 2207.25 1527.09 Q2209.08 1525.7 2209.08 1523.11 Q2209.08 1520.45 2207.18 1519.03 Q2205.31 1517.6 2201.79 1517.6 Q2199.87 1517.6 2197.67 1518.01 Q2195.47 1518.43 2192.83 1519.31 L2192.83 1515.14 Q2195.49 1514.4 2197.81 1514.03 Q2200.15 1513.66 2202.21 1513.66 Q2207.53 1513.66 2210.63 1516.09 Q2213.74 1518.5 2213.74 1522.62 Q2213.74 1525.49 2212.09 1527.48 Q2210.45 1529.45 2207.42 1530.21 Z\" fill=\"#000000\" fill-rule=\"evenodd\" fill-opacity=\"1\" /><path clip-path=\"url(#clip050)\" d=\"M2232.76 1512.83 L2232.76 1555.1 L2222.95 1555.1 L2222.95 1551.79 L2228.48 1551.79 L2228.48 1516.14 L2222.95 1516.14 L2222.95 1512.83 L2232.76 1512.83 Z\" fill=\"#000000\" fill-rule=\"evenodd\" fill-opacity=\"1\" /><path clip-path=\"url(#clip050)\" d=\"M1960.36 1512.83 L1970.18 1512.83 L1970.18 1516.14 L1964.62 1516.14 L1964.62 1551.79 L1970.18 1551.79 L1970.18 1555.1 L1960.36 1555.1 L1960.36 1512.83 Z\" fill=\"#000000\" fill-rule=\"evenodd\" fill-opacity=\"1\" /><path clip-path=\"url(#clip050)\" d=\"M1989.85 1517.37 Q1986.24 1517.37 1984.41 1520.93 Q1982.61 1524.47 1982.61 1531.6 Q1982.61 1538.71 1984.41 1542.27 Q1986.24 1545.82 1989.85 1545.82 Q1993.49 1545.82 1995.29 1542.27 Q1997.12 1538.71 1997.12 1531.6 Q1997.12 1524.47 1995.29 1520.93 Q1993.49 1517.37 1989.85 1517.37 M1989.85 1513.66 Q1995.66 1513.66 1998.72 1518.27 Q2001.8 1522.85 2001.8 1531.6 Q2001.8 1540.33 1998.72 1544.94 Q1995.66 1549.52 1989.85 1549.52 Q1984.04 1549.52 1980.96 1544.94 Q1977.91 1540.33 1977.91 1531.6 Q1977.91 1522.85 1980.96 1518.27 Q1984.04 1513.66 1989.85 1513.66 Z\" fill=\"#000000\" fill-rule=\"evenodd\" fill-opacity=\"1\" /><path clip-path=\"url(#clip050)\" d=\"M2010.5 1542.97 L2015.38 1542.97 L2015.38 1546.95 L2011.59 1554.36 L2008.6 1554.36 L2010.5 1546.95 L2010.5 1542.97 Z\" fill=\"#000000\" fill-rule=\"evenodd\" fill-opacity=\"1\" /><path clip-path=\"url(#clip050)\" d=\"M2050.15 1517.37 Q2046.54 1517.37 2044.71 1520.93 Q2042.91 1524.47 2042.91 1531.6 Q2042.91 1538.71 2044.71 1542.27 Q2046.54 1545.82 2050.15 1545.82 Q2053.79 1545.82 2055.59 1542.27 Q2057.42 1538.71 2057.42 1531.6 Q2057.42 1524.47 2055.59 1520.93 Q2053.79 1517.37 2050.15 1517.37 M2050.15 1513.66 Q2055.96 1513.66 2059.02 1518.27 Q2062.1 1522.85 2062.1 1531.6 Q2062.1 1540.33 2059.02 1544.94 Q2055.96 1549.52 2050.15 1549.52 Q2044.34 1549.52 2041.26 1544.94 Q2038.21 1540.33 2038.21 1531.6 Q2038.21 1522.85 2041.26 1518.27 Q2044.34 1513.66 2050.15 1513.66 Z\" fill=\"#000000\" fill-rule=\"evenodd\" fill-opacity=\"1\" /><path clip-path=\"url(#clip050)\" d=\"M2070.8 1542.97 L2075.69 1542.97 L2075.69 1546.95 L2071.89 1554.36 L2068.9 1554.36 L2070.8 1546.95 L2070.8 1542.97 Z\" fill=\"#000000\" fill-rule=\"evenodd\" fill-opacity=\"1\" /><path clip-path=\"url(#clip050)\" d=\"M2110.45 1517.37 Q2106.84 1517.37 2105.01 1520.93 Q2103.21 1524.47 2103.21 1531.6 Q2103.21 1538.71 2105.01 1542.27 Q2106.84 1545.82 2110.45 1545.82 Q2114.09 1545.82 2115.89 1542.27 Q2117.72 1538.71 2117.72 1531.6 Q2117.72 1524.47 2115.89 1520.93 Q2114.09 1517.37 2110.45 1517.37 M2110.45 1513.66 Q2116.26 1513.66 2119.32 1518.27 Q2122.4 1522.85 2122.4 1531.6 Q2122.4 1540.33 2119.32 1544.94 Q2116.26 1549.52 2110.45 1549.52 Q2104.64 1549.52 2101.56 1544.94 Q2098.51 1540.33 2098.51 1531.6 Q2098.51 1522.85 2101.56 1518.27 Q2104.64 1513.66 2110.45 1513.66 Z\" fill=\"#000000\" fill-rule=\"evenodd\" fill-opacity=\"1\" /><path clip-path=\"url(#clip050)\" d=\"M2131.1 1542.97 L2135.99 1542.97 L2135.99 1546.95 L2132.19 1554.36 L2129.2 1554.36 L2131.1 1546.95 L2131.1 1542.97 Z\" fill=\"#000000\" fill-rule=\"evenodd\" fill-opacity=\"1\" /><path clip-path=\"url(#clip050)\" d=\"M2173.6 1518.36 L2161.8 1536.81 L2173.6 1536.81 L2173.6 1518.36 M2172.37 1514.29 L2178.25 1514.29 L2178.25 1536.81 L2183.18 1536.81 L2183.18 1540.7 L2178.25 1540.7 L2178.25 1548.85 L2173.6 1548.85 L2173.6 1540.7 L2158 1540.7 L2158 1536.19 L2172.37 1514.29 Z\" fill=\"#000000\" fill-rule=\"evenodd\" fill-opacity=\"1\" /><path clip-path=\"url(#clip050)\" d=\"M2191.4 1542.97 L2196.29 1542.97 L2196.29 1546.95 L2192.49 1554.36 L2189.5 1554.36 L2191.4 1546.95 L2191.4 1542.97 Z\" fill=\"#000000\" fill-rule=\"evenodd\" fill-opacity=\"1\" /><path clip-path=\"url(#clip050)\" d=\"M2231.05 1517.37 Q2227.44 1517.37 2225.62 1520.93 Q2223.81 1524.47 2223.81 1531.6 Q2223.81 1538.71 2225.62 1542.27 Q2227.44 1545.82 2231.05 1545.82 Q2234.69 1545.82 2236.49 1542.27 Q2238.32 1538.71 2238.32 1531.6 Q2238.32 1524.47 2236.49 1520.93 Q2234.69 1517.37 2231.05 1517.37 M2231.05 1513.66 Q2236.87 1513.66 2239.92 1518.27 Q2243 1522.85 2243 1531.6 Q2243 1540.33 2239.92 1544.94 Q2236.87 1549.52 2231.05 1549.52 Q2225.24 1549.52 2222.17 1544.94 Q2219.11 1540.33 2219.11 1531.6 Q2219.11 1522.85 2222.17 1518.27 Q2225.24 1513.66 2231.05 1513.66 Z\" fill=\"#000000\" fill-rule=\"evenodd\" fill-opacity=\"1\" /><path clip-path=\"url(#clip050)\" d=\"M2260.57 1512.83 L2260.57 1555.1 L2250.75 1555.1 L2250.75 1551.79 L2256.29 1551.79 L2256.29 1516.14 L2250.75 1516.14 L2250.75 1512.83 L2260.57 1512.83 Z\" fill=\"#000000\" fill-rule=\"evenodd\" fill-opacity=\"1\" /><path clip-path=\"url(#clip050)\" d=\"M1988.17 1512.83 L1997.98 1512.83 L1997.98 1516.14 L1992.43 1516.14 L1992.43 1551.79 L1997.98 1551.79 L1997.98 1555.1 L1988.17 1555.1 L1988.17 1512.83 Z\" fill=\"#000000\" fill-rule=\"evenodd\" fill-opacity=\"1\" /><path clip-path=\"url(#clip050)\" d=\"M2017.66 1517.37 Q2014.05 1517.37 2012.22 1520.93 Q2010.41 1524.47 2010.41 1531.6 Q2010.41 1538.71 2012.22 1542.27 Q2014.05 1545.82 2017.66 1545.82 Q2021.29 1545.82 2023.1 1542.27 Q2024.93 1538.71 2024.93 1531.6 Q2024.93 1524.47 2023.1 1520.93 Q2021.29 1517.37 2017.66 1517.37 M2017.66 1513.66 Q2023.47 1513.66 2026.52 1518.27 Q2029.6 1522.85 2029.6 1531.6 Q2029.6 1540.33 2026.52 1544.94 Q2023.47 1549.52 2017.66 1549.52 Q2011.85 1549.52 2008.77 1544.94 Q2005.71 1540.33 2005.71 1531.6 Q2005.71 1522.85 2008.77 1518.27 Q2011.85 1513.66 2017.66 1513.66 Z\" fill=\"#000000\" fill-rule=\"evenodd\" fill-opacity=\"1\" /><path clip-path=\"url(#clip050)\" d=\"M2038.31 1542.97 L2043.19 1542.97 L2043.19 1546.95 L2039.39 1554.36 L2036.41 1554.36 L2038.31 1546.95 L2038.31 1542.97 Z\" fill=\"#000000\" fill-rule=\"evenodd\" fill-opacity=\"1\" /><path clip-path=\"url(#clip050)\" d=\"M2077.96 1517.37 Q2074.35 1517.37 2072.52 1520.93 Q2070.71 1524.47 2070.71 1531.6 Q2070.71 1538.71 2072.52 1542.27 Q2074.35 1545.82 2077.96 1545.82 Q2081.59 1545.82 2083.4 1542.27 Q2085.23 1538.71 2085.23 1531.6 Q2085.23 1524.47 2083.4 1520.93 Q2081.59 1517.37 2077.96 1517.37 M2077.96 1513.66 Q2083.77 1513.66 2086.82 1518.27 Q2089.9 1522.85 2089.9 1531.6 Q2089.9 1540.33 2086.82 1544.94 Q2083.77 1549.52 2077.96 1549.52 Q2072.15 1549.52 2069.07 1544.94 Q2066.01 1540.33 2066.01 1531.6 Q2066.01 1522.85 2069.07 1518.27 Q2072.15 1513.66 2077.96 1513.66 Z\" fill=\"#000000\" fill-rule=\"evenodd\" fill-opacity=\"1\" /><path clip-path=\"url(#clip050)\" d=\"M2098.61 1542.97 L2103.49 1542.97 L2103.49 1546.95 L2099.7 1554.36 L2096.71 1554.36 L2098.61 1546.95 L2098.61 1542.97 Z\" fill=\"#000000\" fill-rule=\"evenodd\" fill-opacity=\"1\" /><path clip-path=\"url(#clip050)\" d=\"M2138.26 1517.37 Q2134.65 1517.37 2132.82 1520.93 Q2131.01 1524.47 2131.01 1531.6 Q2131.01 1538.71 2132.82 1542.27 Q2134.65 1545.82 2138.26 1545.82 Q2141.89 1545.82 2143.7 1542.27 Q2145.53 1538.71 2145.53 1531.6 Q2145.53 1524.47 2143.7 1520.93 Q2141.89 1517.37 2138.26 1517.37 M2138.26 1513.66 Q2144.07 1513.66 2147.13 1518.27 Q2150.2 1522.85 2150.2 1531.6 Q2150.2 1540.33 2147.13 1544.94 Q2144.07 1549.52 2138.26 1549.52 Q2132.45 1549.52 2129.37 1544.94 Q2126.32 1540.33 2126.32 1531.6 Q2126.32 1522.85 2129.37 1518.27 Q2132.45 1513.66 2138.26 1513.66 Z\" fill=\"#000000\" fill-rule=\"evenodd\" fill-opacity=\"1\" /><path clip-path=\"url(#clip050)\" d=\"M2158.91 1542.97 L2163.79 1542.97 L2163.79 1546.95 L2160 1554.36 L2157.01 1554.36 L2158.91 1546.95 L2158.91 1542.97 Z\" fill=\"#000000\" fill-rule=\"evenodd\" fill-opacity=\"1\" /><path clip-path=\"url(#clip050)\" d=\"M2202.73 1530.21 Q2206.08 1530.93 2207.96 1533.2 Q2209.86 1535.47 2209.86 1538.8 Q2209.86 1543.92 2206.34 1546.72 Q2202.82 1549.52 2196.34 1549.52 Q2194.16 1549.52 2191.85 1549.08 Q2189.56 1548.66 2187.1 1547.81 L2187.1 1543.29 Q2189.05 1544.43 2191.36 1545.01 Q2193.68 1545.58 2196.2 1545.58 Q2200.6 1545.58 2202.89 1543.85 Q2205.2 1542.11 2205.2 1538.8 Q2205.2 1535.75 2203.05 1534.03 Q2200.92 1532.3 2197.1 1532.3 L2193.07 1532.3 L2193.07 1528.45 L2197.29 1528.45 Q2200.74 1528.45 2202.56 1527.09 Q2204.39 1525.7 2204.39 1523.11 Q2204.39 1520.45 2202.5 1519.03 Q2200.62 1517.6 2197.1 1517.6 Q2195.18 1517.6 2192.98 1518.01 Q2190.78 1518.43 2188.14 1519.31 L2188.14 1515.14 Q2190.81 1514.4 2193.12 1514.03 Q2195.46 1513.66 2197.52 1513.66 Q2202.84 1513.66 2205.94 1516.09 Q2209.05 1518.5 2209.05 1522.62 Q2209.05 1525.49 2207.4 1527.48 Q2205.76 1529.45 2202.73 1530.21 Z\" fill=\"#000000\" fill-rule=\"evenodd\" fill-opacity=\"1\" /><path clip-path=\"url(#clip050)\" d=\"M2219.21 1542.97 L2224.09 1542.97 L2224.09 1546.95 L2220.3 1554.36 L2217.31 1554.36 L2219.21 1546.95 L2219.21 1542.97 Z\" fill=\"#000000\" fill-rule=\"evenodd\" fill-opacity=\"1\" /><path clip-path=\"url(#clip050)\" d=\"M2249.67 1544.91 L2257.31 1544.91 L2257.31 1518.55 L2249 1520.21 L2249 1515.95 L2257.26 1514.29 L2261.94 1514.29 L2261.94 1544.91 L2269.58 1544.91 L2269.58 1548.85 L2249.67 1548.85 L2249.67 1544.91 Z\" fill=\"#000000\" fill-rule=\"evenodd\" fill-opacity=\"1\" /><path clip-path=\"url(#clip050)\" d=\"M2288.37 1512.83 L2288.37 1555.1 L2278.56 1555.1 L2278.56 1551.79 L2284.09 1551.79 L2284.09 1516.14 L2278.56 1516.14 L2278.56 1512.83 L2288.37 1512.83 Z\" fill=\"#000000\" fill-rule=\"evenodd\" fill-opacity=\"1\" /><path clip-path=\"url(#clip050)\" d=\"M2015.97 1512.83 L2025.79 1512.83 L2025.79 1516.14 L2020.23 1516.14 L2020.23 1551.79 L2025.79 1551.79 L2025.79 1555.1 L2015.97 1555.1 L2015.97 1512.83 Z\" fill=\"#000000\" fill-rule=\"evenodd\" fill-opacity=\"1\" /><path clip-path=\"url(#clip050)\" d=\"M2045.46 1517.37 Q2041.85 1517.37 2040.02 1520.93 Q2038.22 1524.47 2038.22 1531.6 Q2038.22 1538.71 2040.02 1542.27 Q2041.85 1545.82 2045.46 1545.82 Q2049.1 1545.82 2050.9 1542.27 Q2052.73 1538.71 2052.73 1531.6 Q2052.73 1524.47 2050.9 1520.93 Q2049.1 1517.37 2045.46 1517.37 M2045.46 1513.66 Q2051.27 1513.66 2054.33 1518.27 Q2057.41 1522.85 2057.41 1531.6 Q2057.41 1540.33 2054.33 1544.94 Q2051.27 1549.52 2045.46 1549.52 Q2039.65 1549.52 2036.58 1544.94 Q2033.52 1540.33 2033.52 1531.6 Q2033.52 1522.85 2036.58 1518.27 Q2039.65 1513.66 2045.46 1513.66 Z\" fill=\"#000000\" fill-rule=\"evenodd\" fill-opacity=\"1\" /><path clip-path=\"url(#clip050)\" d=\"M2066.11 1542.97 L2071 1542.97 L2071 1546.95 L2067.2 1554.36 L2064.21 1554.36 L2066.11 1546.95 L2066.11 1542.97 Z\" fill=\"#000000\" fill-rule=\"evenodd\" fill-opacity=\"1\" /><path clip-path=\"url(#clip050)\" d=\"M2105.76 1517.37 Q2102.15 1517.37 2100.33 1520.93 Q2098.52 1524.47 2098.52 1531.6 Q2098.52 1538.71 2100.33 1542.27 Q2102.15 1545.82 2105.76 1545.82 Q2109.4 1545.82 2111.2 1542.27 Q2113.03 1538.71 2113.03 1531.6 Q2113.03 1524.47 2111.2 1520.93 Q2109.4 1517.37 2105.76 1517.37 M2105.76 1513.66 Q2111.58 1513.66 2114.63 1518.27 Q2117.71 1522.85 2117.71 1531.6 Q2117.71 1540.33 2114.63 1544.94 Q2111.58 1549.52 2105.76 1549.52 Q2099.95 1549.52 2096.88 1544.94 Q2093.82 1540.33 2093.82 1531.6 Q2093.82 1522.85 2096.88 1518.27 Q2099.95 1513.66 2105.76 1513.66 Z\" fill=\"#000000\" fill-rule=\"evenodd\" fill-opacity=\"1\" /><path clip-path=\"url(#clip050)\" d=\"M2126.41 1542.97 L2131.3 1542.97 L2131.3 1546.95 L2127.5 1554.36 L2124.51 1554.36 L2126.41 1546.95 L2126.41 1542.97 Z\" fill=\"#000000\" fill-rule=\"evenodd\" fill-opacity=\"1\" /><path clip-path=\"url(#clip050)\" d=\"M2166.07 1517.37 Q2162.45 1517.37 2160.63 1520.93 Q2158.82 1524.47 2158.82 1531.6 Q2158.82 1538.71 2160.63 1542.27 Q2162.45 1545.82 2166.07 1545.82 Q2169.7 1545.82 2171.51 1542.27 Q2173.33 1538.71 2173.33 1531.6 Q2173.33 1524.47 2171.51 1520.93 Q2169.7 1517.37 2166.07 1517.37 M2166.07 1513.66 Q2171.88 1513.66 2174.93 1518.27 Q2178.01 1522.85 2178.01 1531.6 Q2178.01 1540.33 2174.93 1544.94 Q2171.88 1549.52 2166.07 1549.52 Q2160.26 1549.52 2157.18 1544.94 Q2154.12 1540.33 2154.12 1531.6 Q2154.12 1522.85 2157.18 1518.27 Q2160.26 1513.66 2166.07 1513.66 Z\" fill=\"#000000\" fill-rule=\"evenodd\" fill-opacity=\"1\" /><path clip-path=\"url(#clip050)\" d=\"M2186.71 1542.97 L2191.6 1542.97 L2191.6 1546.95 L2187.8 1554.36 L2184.82 1554.36 L2186.71 1546.95 L2186.71 1542.97 Z\" fill=\"#000000\" fill-rule=\"evenodd\" fill-opacity=\"1\" /><path clip-path=\"url(#clip050)\" d=\"M2220.39 1544.91 L2236.71 1544.91 L2236.71 1548.85 L2214.77 1548.85 L2214.77 1544.91 Q2217.43 1542.16 2222.01 1537.53 Q2226.62 1532.88 2227.8 1531.53 Q2230.05 1529.01 2230.93 1527.27 Q2231.83 1525.51 2231.83 1523.82 Q2231.83 1521.07 2229.88 1519.33 Q2227.96 1517.6 2224.86 1517.6 Q2222.66 1517.6 2220.21 1518.36 Q2217.78 1519.13 2215 1520.68 L2215 1515.95 Q2217.82 1514.82 2220.28 1514.24 Q2222.73 1513.66 2224.77 1513.66 Q2230.14 1513.66 2233.33 1516.35 Q2236.53 1519.03 2236.53 1523.52 Q2236.53 1525.65 2235.72 1527.57 Q2234.93 1529.47 2232.82 1532.07 Q2232.25 1532.74 2229.14 1535.95 Q2226.04 1539.15 2220.39 1544.91 Z\" fill=\"#000000\" fill-rule=\"evenodd\" fill-opacity=\"1\" /><path clip-path=\"url(#clip050)\" d=\"M2247.01 1542.97 L2251.9 1542.97 L2251.9 1546.95 L2248.1 1554.36 L2245.12 1554.36 L2247.01 1546.95 L2247.01 1542.97 Z\" fill=\"#000000\" fill-rule=\"evenodd\" fill-opacity=\"1\" /><path clip-path=\"url(#clip050)\" d=\"M2280.69 1544.91 L2297.01 1544.91 L2297.01 1548.85 L2275.07 1548.85 L2275.07 1544.91 Q2277.73 1542.16 2282.31 1537.53 Q2286.92 1532.88 2288.1 1531.53 Q2290.35 1529.01 2291.23 1527.27 Q2292.13 1525.51 2292.13 1523.82 Q2292.13 1521.07 2290.19 1519.33 Q2288.26 1517.6 2285.16 1517.6 Q2282.96 1517.6 2280.51 1518.36 Q2278.08 1519.13 2275.3 1520.68 L2275.3 1515.95 Q2278.13 1514.82 2280.58 1514.24 Q2283.03 1513.66 2285.07 1513.66 Q2290.44 1513.66 2293.63 1516.35 Q2296.83 1519.03 2296.83 1523.52 Q2296.83 1525.65 2296.02 1527.57 Q2295.23 1529.47 2293.13 1532.07 Q2292.55 1532.74 2289.44 1535.95 Q2286.34 1539.15 2280.69 1544.91 Z\" fill=\"#000000\" fill-rule=\"evenodd\" fill-opacity=\"1\" /><path clip-path=\"url(#clip050)\" d=\"M2316.18 1512.83 L2316.18 1555.1 L2306.37 1555.1 L2306.37 1551.79 L2311.9 1551.79 L2311.9 1516.14 L2306.37 1516.14 L2306.37 1512.83 L2316.18 1512.83 Z\" fill=\"#000000\" fill-rule=\"evenodd\" fill-opacity=\"1\" /><path clip-path=\"url(#clip050)\" d=\"M2043.78 1512.83 L2053.59 1512.83 L2053.59 1516.14 L2048.04 1516.14 L2048.04 1551.79 L2053.59 1551.79 L2053.59 1555.1 L2043.78 1555.1 L2043.78 1512.83 Z\" fill=\"#000000\" fill-rule=\"evenodd\" fill-opacity=\"1\" /><path clip-path=\"url(#clip050)\" d=\"M2073.27 1517.37 Q2069.66 1517.37 2067.83 1520.93 Q2066.02 1524.47 2066.02 1531.6 Q2066.02 1538.71 2067.83 1542.27 Q2069.66 1545.82 2073.27 1545.82 Q2076.9 1545.82 2078.71 1542.27 Q2080.54 1538.71 2080.54 1531.6 Q2080.54 1524.47 2078.71 1520.93 Q2076.9 1517.37 2073.27 1517.37 M2073.27 1513.66 Q2079.08 1513.66 2082.14 1518.27 Q2085.21 1522.85 2085.21 1531.6 Q2085.21 1540.33 2082.14 1544.94 Q2079.08 1549.52 2073.27 1549.52 Q2067.46 1549.52 2064.38 1544.94 Q2061.33 1540.33 2061.33 1531.6 Q2061.33 1522.85 2064.38 1518.27 Q2067.46 1513.66 2073.27 1513.66 Z\" fill=\"#000000\" fill-rule=\"evenodd\" fill-opacity=\"1\" /><path clip-path=\"url(#clip050)\" d=\"M2093.92 1542.97 L2098.8 1542.97 L2098.8 1546.95 L2095.01 1554.36 L2092.02 1554.36 L2093.92 1546.95 L2093.92 1542.97 Z\" fill=\"#000000\" fill-rule=\"evenodd\" fill-opacity=\"1\" /><path clip-path=\"url(#clip050)\" d=\"M2133.57 1517.37 Q2129.96 1517.37 2128.13 1520.93 Q2126.33 1524.47 2126.33 1531.6 Q2126.33 1538.71 2128.13 1542.27 Q2129.96 1545.82 2133.57 1545.82 Q2137.21 1545.82 2139.01 1542.27 Q2140.84 1538.71 2140.84 1531.6 Q2140.84 1524.47 2139.01 1520.93 Q2137.21 1517.37 2133.57 1517.37 M2133.57 1513.66 Q2139.38 1513.66 2142.44 1518.27 Q2145.52 1522.85 2145.52 1531.6 Q2145.52 1540.33 2142.44 1544.94 Q2139.38 1549.52 2133.57 1549.52 Q2127.76 1549.52 2124.68 1544.94 Q2121.63 1540.33 2121.63 1531.6 Q2121.63 1522.85 2124.68 1518.27 Q2127.76 1513.66 2133.57 1513.66 Z\" fill=\"#000000\" fill-rule=\"evenodd\" fill-opacity=\"1\" /><path clip-path=\"url(#clip050)\" d=\"M2154.22 1542.97 L2159.1 1542.97 L2159.1 1546.95 L2155.31 1554.36 L2152.32 1554.36 L2154.22 1546.95 L2154.22 1542.97 Z\" fill=\"#000000\" fill-rule=\"evenodd\" fill-opacity=\"1\" /><path clip-path=\"url(#clip050)\" d=\"M2193.87 1517.37 Q2190.26 1517.37 2188.43 1520.93 Q2186.63 1524.47 2186.63 1531.6 Q2186.63 1538.71 2188.43 1542.27 Q2190.26 1545.82 2193.87 1545.82 Q2197.51 1545.82 2199.31 1542.27 Q2201.14 1538.71 2201.14 1531.6 Q2201.14 1524.47 2199.31 1520.93 Q2197.51 1517.37 2193.87 1517.37 M2193.87 1513.66 Q2199.68 1513.66 2202.74 1518.27 Q2205.82 1522.85 2205.82 1531.6 Q2205.82 1540.33 2202.74 1544.94 Q2199.68 1549.52 2193.87 1549.52 Q2188.06 1549.52 2184.98 1544.94 Q2181.93 1540.33 2181.93 1531.6 Q2181.93 1522.85 2184.98 1518.27 Q2188.06 1513.66 2193.87 1513.66 Z\" fill=\"#000000\" fill-rule=\"evenodd\" fill-opacity=\"1\" /><path clip-path=\"url(#clip050)\" d=\"M2214.52 1542.97 L2219.4 1542.97 L2219.4 1546.95 L2215.61 1554.36 L2212.62 1554.36 L2214.52 1546.95 L2214.52 1542.97 Z\" fill=\"#000000\" fill-rule=\"evenodd\" fill-opacity=\"1\" /><path clip-path=\"url(#clip050)\" d=\"M2244.98 1544.91 L2252.62 1544.91 L2252.62 1518.55 L2244.31 1520.21 L2244.31 1515.95 L2252.57 1514.29 L2257.25 1514.29 L2257.25 1544.91 L2264.89 1544.91 L2264.89 1548.85 L2244.98 1548.85 L2244.98 1544.91 Z\" fill=\"#000000\" fill-rule=\"evenodd\" fill-opacity=\"1\" /><path clip-path=\"url(#clip050)\" d=\"M2274.82 1542.97 L2279.7 1542.97 L2279.7 1546.95 L2275.91 1554.36 L2272.92 1554.36 L2274.82 1546.95 L2274.82 1542.97 Z\" fill=\"#000000\" fill-rule=\"evenodd\" fill-opacity=\"1\" /><path clip-path=\"url(#clip050)\" d=\"M2318.64 1530.21 Q2322 1530.93 2323.87 1533.2 Q2325.77 1535.47 2325.77 1538.8 Q2325.77 1543.92 2322.25 1546.72 Q2318.73 1549.52 2312.25 1549.52 Q2310.07 1549.52 2307.76 1549.08 Q2305.47 1548.66 2303.01 1547.81 L2303.01 1543.29 Q2304.96 1544.43 2307.27 1545.01 Q2309.59 1545.58 2312.11 1545.58 Q2316.51 1545.58 2318.8 1543.85 Q2321.12 1542.11 2321.12 1538.8 Q2321.12 1535.75 2318.96 1534.03 Q2316.83 1532.3 2313.01 1532.3 L2308.99 1532.3 L2308.99 1528.45 L2313.2 1528.45 Q2316.65 1528.45 2318.48 1527.09 Q2320.31 1525.7 2320.31 1523.11 Q2320.31 1520.45 2318.41 1519.03 Q2316.53 1517.6 2313.01 1517.6 Q2311.09 1517.6 2308.89 1518.01 Q2306.69 1518.43 2304.06 1519.31 L2304.06 1515.14 Q2306.72 1514.4 2309.03 1514.03 Q2311.37 1513.66 2313.43 1513.66 Q2318.76 1513.66 2321.86 1516.09 Q2324.96 1518.5 2324.96 1522.62 Q2324.96 1525.49 2323.32 1527.48 Q2321.67 1529.45 2318.64 1530.21 Z\" fill=\"#000000\" fill-rule=\"evenodd\" fill-opacity=\"1\" /><path clip-path=\"url(#clip050)\" d=\"M2343.99 1512.83 L2343.99 1555.1 L2334.17 1555.1 L2334.17 1551.79 L2339.7 1551.79 L2339.7 1516.14 L2334.17 1516.14 L2334.17 1512.83 L2343.99 1512.83 Z\" fill=\"#000000\" fill-rule=\"evenodd\" fill-opacity=\"1\" /><path clip-path=\"url(#clip050)\" d=\"M2071.59 1512.83 L2081.4 1512.83 L2081.4 1516.14 L2075.84 1516.14 L2075.84 1551.79 L2081.4 1551.79 L2081.4 1555.1 L2071.59 1555.1 L2071.59 1512.83 Z\" fill=\"#000000\" fill-rule=\"evenodd\" fill-opacity=\"1\" /><path clip-path=\"url(#clip050)\" d=\"M2101.08 1517.37 Q2097.47 1517.37 2095.64 1520.93 Q2093.83 1524.47 2093.83 1531.6 Q2093.83 1538.71 2095.64 1542.27 Q2097.47 1545.82 2101.08 1545.82 Q2104.71 1545.82 2106.52 1542.27 Q2108.34 1538.71 2108.34 1531.6 Q2108.34 1524.47 2106.52 1520.93 Q2104.71 1517.37 2101.08 1517.37 M2101.08 1513.66 Q2106.89 1513.66 2109.94 1518.27 Q2113.02 1522.85 2113.02 1531.6 Q2113.02 1540.33 2109.94 1544.94 Q2106.89 1549.52 2101.08 1549.52 Q2095.27 1549.52 2092.19 1544.94 Q2089.13 1540.33 2089.13 1531.6 Q2089.13 1522.85 2092.19 1518.27 Q2095.27 1513.66 2101.08 1513.66 Z\" fill=\"#000000\" fill-rule=\"evenodd\" fill-opacity=\"1\" /><path clip-path=\"url(#clip050)\" d=\"M2121.72 1542.97 L2126.61 1542.97 L2126.61 1546.95 L2122.81 1554.36 L2119.83 1554.36 L2121.72 1546.95 L2121.72 1542.97 Z\" fill=\"#000000\" fill-rule=\"evenodd\" fill-opacity=\"1\" /><path clip-path=\"url(#clip050)\" d=\"M2161.38 1517.37 Q2157.77 1517.37 2155.94 1520.93 Q2154.13 1524.47 2154.13 1531.6 Q2154.13 1538.71 2155.94 1542.27 Q2157.77 1545.82 2161.38 1545.82 Q2165.01 1545.82 2166.82 1542.27 Q2168.65 1538.71 2168.65 1531.6 Q2168.65 1524.47 2166.82 1520.93 Q2165.01 1517.37 2161.38 1517.37 M2161.38 1513.66 Q2167.19 1513.66 2170.24 1518.27 Q2173.32 1522.85 2173.32 1531.6 Q2173.32 1540.33 2170.24 1544.94 Q2167.19 1549.52 2161.38 1549.52 Q2155.57 1549.52 2152.49 1544.94 Q2149.43 1540.33 2149.43 1531.6 Q2149.43 1522.85 2152.49 1518.27 Q2155.57 1513.66 2161.38 1513.66 Z\" fill=\"#000000\" fill-rule=\"evenodd\" fill-opacity=\"1\" /><path clip-path=\"url(#clip050)\" d=\"M2182.02 1542.97 L2186.91 1542.97 L2186.91 1546.95 L2183.11 1554.36 L2180.13 1554.36 L2182.02 1546.95 L2182.02 1542.97 Z\" fill=\"#000000\" fill-rule=\"evenodd\" fill-opacity=\"1\" /><path clip-path=\"url(#clip050)\" d=\"M2221.68 1517.37 Q2218.07 1517.37 2216.24 1520.93 Q2214.43 1524.47 2214.43 1531.6 Q2214.43 1538.71 2216.24 1542.27 Q2218.07 1545.82 2221.68 1545.82 Q2225.31 1545.82 2227.12 1542.27 Q2228.95 1538.71 2228.95 1531.6 Q2228.95 1524.47 2227.12 1520.93 Q2225.31 1517.37 2221.68 1517.37 M2221.68 1513.66 Q2227.49 1513.66 2230.54 1518.27 Q2233.62 1522.85 2233.62 1531.6 Q2233.62 1540.33 2230.54 1544.94 Q2227.49 1549.52 2221.68 1549.52 Q2215.87 1549.52 2212.79 1544.94 Q2209.73 1540.33 2209.73 1531.6 Q2209.73 1522.85 2212.79 1518.27 Q2215.87 1513.66 2221.68 1513.66 Z\" fill=\"#000000\" fill-rule=\"evenodd\" fill-opacity=\"1\" /><path clip-path=\"url(#clip050)\" d=\"M2242.33 1542.97 L2247.21 1542.97 L2247.21 1546.95 L2243.41 1554.36 L2240.43 1554.36 L2242.33 1546.95 L2242.33 1542.97 Z\" fill=\"#000000\" fill-rule=\"evenodd\" fill-opacity=\"1\" /><path clip-path=\"url(#clip050)\" d=\"M2281.98 1517.37 Q2278.37 1517.37 2276.54 1520.93 Q2274.73 1524.47 2274.73 1531.6 Q2274.73 1538.71 2276.54 1542.27 Q2278.37 1545.82 2281.98 1545.82 Q2285.61 1545.82 2287.42 1542.27 Q2289.25 1538.71 2289.25 1531.6 Q2289.25 1524.47 2287.42 1520.93 Q2285.61 1517.37 2281.98 1517.37 M2281.98 1513.66 Q2287.79 1513.66 2290.84 1518.27 Q2293.92 1522.85 2293.92 1531.6 Q2293.92 1540.33 2290.84 1544.94 Q2287.79 1549.52 2281.98 1549.52 Q2276.17 1549.52 2273.09 1544.94 Q2270.03 1540.33 2270.03 1531.6 Q2270.03 1522.85 2273.09 1518.27 Q2276.17 1513.66 2281.98 1513.66 Z\" fill=\"#000000\" fill-rule=\"evenodd\" fill-opacity=\"1\" /><path clip-path=\"url(#clip050)\" d=\"M2302.63 1542.97 L2307.51 1542.97 L2307.51 1546.95 L2303.71 1554.36 L2300.73 1554.36 L2302.63 1546.95 L2302.63 1542.97 Z\" fill=\"#000000\" fill-rule=\"evenodd\" fill-opacity=\"1\" /><path clip-path=\"url(#clip050)\" d=\"M2345.13 1518.36 L2333.32 1536.81 L2345.13 1536.81 L2345.13 1518.36 M2343.9 1514.29 L2349.78 1514.29 L2349.78 1536.81 L2354.71 1536.81 L2354.71 1540.7 L2349.78 1540.7 L2349.78 1548.85 L2345.13 1548.85 L2345.13 1540.7 L2329.52 1540.7 L2329.52 1536.19 L2343.9 1514.29 Z\" fill=\"#000000\" fill-rule=\"evenodd\" fill-opacity=\"1\" /><path clip-path=\"url(#clip050)\" d=\"M2371.79 1512.83 L2371.79 1555.1 L2361.98 1555.1 L2361.98 1551.79 L2367.51 1551.79 L2367.51 1516.14 L2361.98 1516.14 L2361.98 1512.83 L2371.79 1512.83 Z\" fill=\"#000000\" fill-rule=\"evenodd\" fill-opacity=\"1\" /><polyline clip-path=\"url(#clip052)\" style=\"stroke:#000000; stroke-linecap:butt; stroke-linejoin:round; stroke-width:2; stroke-opacity:0.1; fill:none\" points=\"\n",
       "  172.015,1445.72 2352.76,1445.72 \n",
       "  \"/>\n",
       "<polyline clip-path=\"url(#clip052)\" style=\"stroke:#000000; stroke-linecap:butt; stroke-linejoin:round; stroke-width:2; stroke-opacity:0.1; fill:none\" points=\"\n",
       "  172.015,1099.35 2352.76,1099.35 \n",
       "  \"/>\n",
       "<polyline clip-path=\"url(#clip052)\" style=\"stroke:#000000; stroke-linecap:butt; stroke-linejoin:round; stroke-width:2; stroke-opacity:0.1; fill:none\" points=\"\n",
       "  172.015,752.992 2352.76,752.992 \n",
       "  \"/>\n",
       "<polyline clip-path=\"url(#clip052)\" style=\"stroke:#000000; stroke-linecap:butt; stroke-linejoin:round; stroke-width:2; stroke-opacity:0.1; fill:none\" points=\"\n",
       "  172.015,406.629 2352.76,406.629 \n",
       "  \"/>\n",
       "<polyline clip-path=\"url(#clip052)\" style=\"stroke:#000000; stroke-linecap:butt; stroke-linejoin:round; stroke-width:2; stroke-opacity:0.1; fill:none\" points=\"\n",
       "  172.015,60.2673 2352.76,60.2673 \n",
       "  \"/>\n",
       "<polyline clip-path=\"url(#clip050)\" style=\"stroke:#000000; stroke-linecap:butt; stroke-linejoin:round; stroke-width:4; stroke-opacity:1; fill:none\" points=\"\n",
       "  172.015,1486.45 172.015,47.2441 \n",
       "  \"/>\n",
       "<polyline clip-path=\"url(#clip050)\" style=\"stroke:#000000; stroke-linecap:butt; stroke-linejoin:round; stroke-width:4; stroke-opacity:1; fill:none\" points=\"\n",
       "  172.015,1445.72 190.912,1445.72 \n",
       "  \"/>\n",
       "<polyline clip-path=\"url(#clip050)\" style=\"stroke:#000000; stroke-linecap:butt; stroke-linejoin:round; stroke-width:4; stroke-opacity:1; fill:none\" points=\"\n",
       "  172.015,1099.35 190.912,1099.35 \n",
       "  \"/>\n",
       "<polyline clip-path=\"url(#clip050)\" style=\"stroke:#000000; stroke-linecap:butt; stroke-linejoin:round; stroke-width:4; stroke-opacity:1; fill:none\" points=\"\n",
       "  172.015,752.992 190.912,752.992 \n",
       "  \"/>\n",
       "<polyline clip-path=\"url(#clip050)\" style=\"stroke:#000000; stroke-linecap:butt; stroke-linejoin:round; stroke-width:4; stroke-opacity:1; fill:none\" points=\"\n",
       "  172.015,406.629 190.912,406.629 \n",
       "  \"/>\n",
       "<polyline clip-path=\"url(#clip050)\" style=\"stroke:#000000; stroke-linecap:butt; stroke-linejoin:round; stroke-width:4; stroke-opacity:1; fill:none\" points=\"\n",
       "  172.015,60.2673 190.912,60.2673 \n",
       "  \"/>\n",
       "<path clip-path=\"url(#clip050)\" d=\"M124.07 1431.51 Q120.459 1431.51 118.631 1435.08 Q116.825 1438.62 116.825 1445.75 Q116.825 1452.86 118.631 1456.42 Q120.459 1459.96 124.07 1459.96 Q127.705 1459.96 129.51 1456.42 Q131.339 1452.86 131.339 1445.75 Q131.339 1438.62 129.51 1435.08 Q127.705 1431.51 124.07 1431.51 M124.07 1427.81 Q129.881 1427.81 132.936 1432.42 Q136.015 1437 136.015 1445.75 Q136.015 1454.48 132.936 1459.08 Q129.881 1463.67 124.07 1463.67 Q118.26 1463.67 115.182 1459.08 Q112.126 1454.48 112.126 1445.75 Q112.126 1437 115.182 1432.42 Q118.26 1427.81 124.07 1427.81 Z\" fill=\"#000000\" fill-rule=\"evenodd\" fill-opacity=\"1\" /><path clip-path=\"url(#clip050)\" d=\"M54.5569 1112.7 L62.1958 1112.7 L62.1958 1086.33 L53.8856 1088 L53.8856 1083.74 L62.1495 1082.07 L66.8254 1082.07 L66.8254 1112.7 L74.4642 1112.7 L74.4642 1116.63 L54.5569 1116.63 L54.5569 1112.7 Z\" fill=\"#000000\" fill-rule=\"evenodd\" fill-opacity=\"1\" /><path clip-path=\"url(#clip050)\" d=\"M93.9086 1085.15 Q90.2975 1085.15 88.4688 1088.72 Q86.6632 1092.26 86.6632 1099.39 Q86.6632 1106.49 88.4688 1110.06 Q90.2975 1113.6 93.9086 1113.6 Q97.5428 1113.6 99.3483 1110.06 Q101.177 1106.49 101.177 1099.39 Q101.177 1092.26 99.3483 1088.72 Q97.5428 1085.15 93.9086 1085.15 M93.9086 1081.45 Q99.7187 1081.45 102.774 1086.06 Q105.853 1090.64 105.853 1099.39 Q105.853 1108.12 102.774 1112.72 Q99.7187 1117.3 93.9086 1117.3 Q88.0984 1117.3 85.0197 1112.72 Q81.9642 1108.12 81.9642 1099.39 Q81.9642 1090.64 85.0197 1086.06 Q88.0984 1081.45 93.9086 1081.45 Z\" fill=\"#000000\" fill-rule=\"evenodd\" fill-opacity=\"1\" /><path clip-path=\"url(#clip050)\" d=\"M124.07 1085.15 Q120.459 1085.15 118.631 1088.72 Q116.825 1092.26 116.825 1099.39 Q116.825 1106.49 118.631 1110.06 Q120.459 1113.6 124.07 1113.6 Q127.705 1113.6 129.51 1110.06 Q131.339 1106.49 131.339 1099.39 Q131.339 1092.26 129.51 1088.72 Q127.705 1085.15 124.07 1085.15 M124.07 1081.45 Q129.881 1081.45 132.936 1086.06 Q136.015 1090.64 136.015 1099.39 Q136.015 1108.12 132.936 1112.72 Q129.881 1117.3 124.07 1117.3 Q118.26 1117.3 115.182 1112.72 Q112.126 1108.12 112.126 1099.39 Q112.126 1090.64 115.182 1086.06 Q118.26 1081.45 124.07 1081.45 Z\" fill=\"#000000\" fill-rule=\"evenodd\" fill-opacity=\"1\" /><path clip-path=\"url(#clip050)\" d=\"M57.7745 766.336 L74.0939 766.336 L74.0939 770.272 L52.1495 770.272 L52.1495 766.336 Q54.8115 763.582 59.3949 758.952 Q64.0013 754.299 65.1819 752.957 Q67.4272 750.434 68.3068 748.698 Q69.2096 746.938 69.2096 745.248 Q69.2096 742.494 67.2652 740.758 Q65.3439 739.022 62.2421 739.022 Q60.043 739.022 57.5893 739.786 Q55.1588 740.549 52.381 742.1 L52.381 737.378 Q55.2051 736.244 57.6588 735.665 Q60.1124 735.087 62.1495 735.087 Q67.5198 735.087 70.7142 737.772 Q73.9087 740.457 73.9087 744.948 Q73.9087 747.077 73.0985 748.998 Q72.3115 750.897 70.205 753.489 Q69.6263 754.16 66.5245 757.378 Q63.4226 760.572 57.7745 766.336 Z\" fill=\"#000000\" fill-rule=\"evenodd\" fill-opacity=\"1\" /><path clip-path=\"url(#clip050)\" d=\"M93.9086 738.79 Q90.2975 738.79 88.4688 742.355 Q86.6632 745.897 86.6632 753.026 Q86.6632 760.133 88.4688 763.697 Q90.2975 767.239 93.9086 767.239 Q97.5428 767.239 99.3483 763.697 Q101.177 760.133 101.177 753.026 Q101.177 745.897 99.3483 742.355 Q97.5428 738.79 93.9086 738.79 M93.9086 735.087 Q99.7187 735.087 102.774 739.693 Q105.853 744.276 105.853 753.026 Q105.853 761.753 102.774 766.359 Q99.7187 770.943 93.9086 770.943 Q88.0984 770.943 85.0197 766.359 Q81.9642 761.753 81.9642 753.026 Q81.9642 744.276 85.0197 739.693 Q88.0984 735.087 93.9086 735.087 Z\" fill=\"#000000\" fill-rule=\"evenodd\" fill-opacity=\"1\" /><path clip-path=\"url(#clip050)\" d=\"M124.07 738.79 Q120.459 738.79 118.631 742.355 Q116.825 745.897 116.825 753.026 Q116.825 760.133 118.631 763.697 Q120.459 767.239 124.07 767.239 Q127.705 767.239 129.51 763.697 Q131.339 760.133 131.339 753.026 Q131.339 745.897 129.51 742.355 Q127.705 738.79 124.07 738.79 M124.07 735.087 Q129.881 735.087 132.936 739.693 Q136.015 744.276 136.015 753.026 Q136.015 761.753 132.936 766.359 Q129.881 770.943 124.07 770.943 Q118.26 770.943 115.182 766.359 Q112.126 761.753 112.126 753.026 Q112.126 744.276 115.182 739.693 Q118.26 735.087 124.07 735.087 Z\" fill=\"#000000\" fill-rule=\"evenodd\" fill-opacity=\"1\" /><path clip-path=\"url(#clip050)\" d=\"M67.9133 405.275 Q71.2698 405.993 73.1448 408.261 Q75.0429 410.53 75.0429 413.863 Q75.0429 418.979 71.5244 421.78 Q68.0059 424.581 61.5245 424.581 Q59.3486 424.581 57.0338 424.141 Q54.7421 423.724 52.2884 422.868 L52.2884 418.354 Q54.2328 419.488 56.5477 420.067 Q58.8625 420.646 61.3856 420.646 Q65.7837 420.646 68.0754 418.909 Q70.3902 417.173 70.3902 413.863 Q70.3902 410.808 68.2374 409.095 Q66.1078 407.359 62.2884 407.359 L58.2606 407.359 L58.2606 403.516 L62.4735 403.516 Q65.9226 403.516 67.7513 402.15 Q69.58 400.761 69.58 398.169 Q69.58 395.507 67.6819 394.095 Q65.8069 392.66 62.2884 392.66 Q60.3671 392.66 58.168 393.076 Q55.969 393.493 53.3301 394.373 L53.3301 390.206 Q55.9921 389.465 58.3069 389.095 Q60.6449 388.724 62.705 388.724 Q68.0291 388.724 71.1309 391.155 Q74.2327 393.562 74.2327 397.683 Q74.2327 400.553 72.5892 402.544 Q70.9457 404.511 67.9133 405.275 Z\" fill=\"#000000\" fill-rule=\"evenodd\" fill-opacity=\"1\" /><path clip-path=\"url(#clip050)\" d=\"M93.9086 392.428 Q90.2975 392.428 88.4688 395.993 Q86.6632 399.535 86.6632 406.664 Q86.6632 413.771 88.4688 417.335 Q90.2975 420.877 93.9086 420.877 Q97.5428 420.877 99.3483 417.335 Q101.177 413.771 101.177 406.664 Q101.177 399.535 99.3483 395.993 Q97.5428 392.428 93.9086 392.428 M93.9086 388.724 Q99.7187 388.724 102.774 393.331 Q105.853 397.914 105.853 406.664 Q105.853 415.391 102.774 419.997 Q99.7187 424.581 93.9086 424.581 Q88.0984 424.581 85.0197 419.997 Q81.9642 415.391 81.9642 406.664 Q81.9642 397.914 85.0197 393.331 Q88.0984 388.724 93.9086 388.724 Z\" fill=\"#000000\" fill-rule=\"evenodd\" fill-opacity=\"1\" /><path clip-path=\"url(#clip050)\" d=\"M124.07 392.428 Q120.459 392.428 118.631 395.993 Q116.825 399.535 116.825 406.664 Q116.825 413.771 118.631 417.335 Q120.459 420.877 124.07 420.877 Q127.705 420.877 129.51 417.335 Q131.339 413.771 131.339 406.664 Q131.339 399.535 129.51 395.993 Q127.705 392.428 124.07 392.428 M124.07 388.724 Q129.881 388.724 132.936 393.331 Q136.015 397.914 136.015 406.664 Q136.015 415.391 132.936 419.997 Q129.881 424.581 124.07 424.581 Q118.26 424.581 115.182 419.997 Q112.126 415.391 112.126 406.664 Q112.126 397.914 115.182 393.331 Q118.26 388.724 124.07 388.724 Z\" fill=\"#000000\" fill-rule=\"evenodd\" fill-opacity=\"1\" /><path clip-path=\"url(#clip050)\" d=\"M66.5939 47.0614 L54.7884 65.5103 L66.5939 65.5103 L66.5939 47.0614 M65.367 42.9873 L71.2466 42.9873 L71.2466 65.5103 L76.1772 65.5103 L76.1772 69.3992 L71.2466 69.3992 L71.2466 77.5473 L66.5939 77.5473 L66.5939 69.3992 L50.9921 69.3992 L50.9921 64.8853 L65.367 42.9873 Z\" fill=\"#000000\" fill-rule=\"evenodd\" fill-opacity=\"1\" /><path clip-path=\"url(#clip050)\" d=\"M93.9086 46.066 Q90.2975 46.066 88.4688 49.6308 Q86.6632 53.1724 86.6632 60.302 Q86.6632 67.4085 88.4688 70.9733 Q90.2975 74.5149 93.9086 74.5149 Q97.5428 74.5149 99.3483 70.9733 Q101.177 67.4085 101.177 60.302 Q101.177 53.1724 99.3483 49.6308 Q97.5428 46.066 93.9086 46.066 M93.9086 42.3623 Q99.7187 42.3623 102.774 46.9688 Q105.853 51.5521 105.853 60.302 Q105.853 69.0288 102.774 73.6353 Q99.7187 78.2186 93.9086 78.2186 Q88.0984 78.2186 85.0197 73.6353 Q81.9642 69.0288 81.9642 60.302 Q81.9642 51.5521 85.0197 46.9688 Q88.0984 42.3623 93.9086 42.3623 Z\" fill=\"#000000\" fill-rule=\"evenodd\" fill-opacity=\"1\" /><path clip-path=\"url(#clip050)\" d=\"M124.07 46.066 Q120.459 46.066 118.631 49.6308 Q116.825 53.1724 116.825 60.302 Q116.825 67.4085 118.631 70.9733 Q120.459 74.5149 124.07 74.5149 Q127.705 74.5149 129.51 70.9733 Q131.339 67.4085 131.339 60.302 Q131.339 53.1724 129.51 49.6308 Q127.705 46.066 124.07 46.066 M124.07 42.3623 Q129.881 42.3623 132.936 46.9688 Q136.015 51.5521 136.015 60.302 Q136.015 69.0288 132.936 73.6353 Q129.881 78.2186 124.07 78.2186 Q118.26 78.2186 115.182 73.6353 Q112.126 69.0288 112.126 60.302 Q112.126 51.5521 115.182 46.9688 Q118.26 42.3623 124.07 42.3623 Z\" fill=\"#000000\" fill-rule=\"evenodd\" fill-opacity=\"1\" /><path clip-path=\"url(#clip052)\" d=\"\n",
       "M291.959 1393.76 L291.959 1445.72 L314.204 1445.72 L314.204 1393.76 L291.959 1393.76 L291.959 1393.76  Z\n",
       "  \" fill=\"#009af9\" fill-rule=\"evenodd\" fill-opacity=\"1\"/>\n",
       "<polyline clip-path=\"url(#clip052)\" style=\"stroke:#000000; stroke-linecap:butt; stroke-linejoin:round; stroke-width:4; stroke-opacity:1; fill:none\" points=\"\n",
       "  291.959,1393.76 291.959,1445.72 314.204,1445.72 314.204,1393.76 291.959,1393.76 \n",
       "  \"/>\n",
       "<path clip-path=\"url(#clip052)\" d=\"\n",
       "M319.765 1182.48 L319.765 1445.72 L342.01 1445.72 L342.01 1182.48 L319.765 1182.48 L319.765 1182.48  Z\n",
       "  \" fill=\"#009af9\" fill-rule=\"evenodd\" fill-opacity=\"1\"/>\n",
       "<polyline clip-path=\"url(#clip052)\" style=\"stroke:#000000; stroke-linecap:butt; stroke-linejoin:round; stroke-width:4; stroke-opacity:1; fill:none\" points=\"\n",
       "  319.765,1182.48 319.765,1445.72 342.01,1445.72 342.01,1182.48 319.765,1182.48 \n",
       "  \"/>\n",
       "<path clip-path=\"url(#clip052)\" d=\"\n",
       "M347.571 1203.26 L347.571 1445.72 L369.816 1445.72 L369.816 1203.26 L347.571 1203.26 L347.571 1203.26  Z\n",
       "  \" fill=\"#009af9\" fill-rule=\"evenodd\" fill-opacity=\"1\"/>\n",
       "<polyline clip-path=\"url(#clip052)\" style=\"stroke:#000000; stroke-linecap:butt; stroke-linejoin:round; stroke-width:4; stroke-opacity:1; fill:none\" points=\"\n",
       "  347.571,1203.26 347.571,1445.72 369.816,1445.72 369.816,1203.26 347.571,1203.26 \n",
       "  \"/>\n",
       "<path clip-path=\"url(#clip052)\" d=\"\n",
       "M375.377 1255.22 L375.377 1445.72 L397.622 1445.72 L397.622 1255.22 L375.377 1255.22 L375.377 1255.22  Z\n",
       "  \" fill=\"#009af9\" fill-rule=\"evenodd\" fill-opacity=\"1\"/>\n",
       "<polyline clip-path=\"url(#clip052)\" style=\"stroke:#000000; stroke-linecap:butt; stroke-linejoin:round; stroke-width:4; stroke-opacity:1; fill:none\" points=\"\n",
       "  375.377,1255.22 375.377,1445.72 397.622,1445.72 397.622,1255.22 375.377,1255.22 \n",
       "  \"/>\n",
       "<path clip-path=\"url(#clip052)\" d=\"\n",
       "M403.183 1241.36 L403.183 1445.72 L425.428 1445.72 L425.428 1241.36 L403.183 1241.36 L403.183 1241.36  Z\n",
       "  \" fill=\"#009af9\" fill-rule=\"evenodd\" fill-opacity=\"1\"/>\n",
       "<polyline clip-path=\"url(#clip052)\" style=\"stroke:#000000; stroke-linecap:butt; stroke-linejoin:round; stroke-width:4; stroke-opacity:1; fill:none\" points=\"\n",
       "  403.183,1241.36 403.183,1445.72 425.428,1445.72 425.428,1241.36 403.183,1241.36 \n",
       "  \"/>\n",
       "<path clip-path=\"url(#clip052)\" d=\"\n",
       "M430.989 1078.57 L430.989 1445.72 L453.234 1445.72 L453.234 1078.57 L430.989 1078.57 L430.989 1078.57  Z\n",
       "  \" fill=\"#009af9\" fill-rule=\"evenodd\" fill-opacity=\"1\"/>\n",
       "<polyline clip-path=\"url(#clip052)\" style=\"stroke:#000000; stroke-linecap:butt; stroke-linejoin:round; stroke-width:4; stroke-opacity:1; fill:none\" points=\"\n",
       "  430.989,1078.57 430.989,1445.72 453.234,1445.72 453.234,1078.57 430.989,1078.57 \n",
       "  \"/>\n",
       "<path clip-path=\"url(#clip052)\" d=\"\n",
       "M458.795 811.873 L458.795 1445.72 L481.04 1445.72 L481.04 811.873 L458.795 811.873 L458.795 811.873  Z\n",
       "  \" fill=\"#009af9\" fill-rule=\"evenodd\" fill-opacity=\"1\"/>\n",
       "<polyline clip-path=\"url(#clip052)\" style=\"stroke:#000000; stroke-linecap:butt; stroke-linejoin:round; stroke-width:4; stroke-opacity:1; fill:none\" points=\"\n",
       "  458.795,811.873 458.795,1445.72 481.04,1445.72 481.04,811.873 458.795,811.873 \n",
       "  \"/>\n",
       "<path clip-path=\"url(#clip052)\" d=\"\n",
       "M486.601 697.574 L486.601 1445.72 L508.845 1445.72 L508.845 697.574 L486.601 697.574 L486.601 697.574  Z\n",
       "  \" fill=\"#009af9\" fill-rule=\"evenodd\" fill-opacity=\"1\"/>\n",
       "<polyline clip-path=\"url(#clip052)\" style=\"stroke:#000000; stroke-linecap:butt; stroke-linejoin:round; stroke-width:4; stroke-opacity:1; fill:none\" points=\"\n",
       "  486.601,697.574 486.601,1445.72 508.845,1445.72 508.845,697.574 486.601,697.574 \n",
       "  \"/>\n",
       "<path clip-path=\"url(#clip052)\" d=\"\n",
       "M514.407 728.746 L514.407 1445.72 L536.651 1445.72 L536.651 728.746 L514.407 728.746 L514.407 728.746  Z\n",
       "  \" fill=\"#009af9\" fill-rule=\"evenodd\" fill-opacity=\"1\"/>\n",
       "<polyline clip-path=\"url(#clip052)\" style=\"stroke:#000000; stroke-linecap:butt; stroke-linejoin:round; stroke-width:4; stroke-opacity:1; fill:none\" points=\"\n",
       "  514.407,728.746 514.407,1445.72 536.651,1445.72 536.651,728.746 514.407,728.746 \n",
       "  \"/>\n",
       "<path clip-path=\"url(#clip052)\" d=\"\n",
       "M542.213 1092.43 L542.213 1445.72 L564.457 1445.72 L564.457 1092.43 L542.213 1092.43 L542.213 1092.43  Z\n",
       "  \" fill=\"#009af9\" fill-rule=\"evenodd\" fill-opacity=\"1\"/>\n",
       "<polyline clip-path=\"url(#clip052)\" style=\"stroke:#000000; stroke-linecap:butt; stroke-linejoin:round; stroke-width:4; stroke-opacity:1; fill:none\" points=\"\n",
       "  542.213,1092.43 542.213,1445.72 564.457,1445.72 564.457,1092.43 542.213,1092.43 \n",
       "  \"/>\n",
       "<path clip-path=\"url(#clip052)\" d=\"\n",
       "M570.018 822.264 L570.018 1445.72 L592.263 1445.72 L592.263 822.264 L570.018 822.264 L570.018 822.264  Z\n",
       "  \" fill=\"#009af9\" fill-rule=\"evenodd\" fill-opacity=\"1\"/>\n",
       "<polyline clip-path=\"url(#clip052)\" style=\"stroke:#000000; stroke-linecap:butt; stroke-linejoin:round; stroke-width:4; stroke-opacity:1; fill:none\" points=\"\n",
       "  570.018,822.264 570.018,1445.72 592.263,1445.72 592.263,822.264 570.018,822.264 \n",
       "  \"/>\n",
       "<path clip-path=\"url(#clip052)\" d=\"\n",
       "M597.824 690.646 L597.824 1445.72 L620.069 1445.72 L620.069 690.646 L597.824 690.646 L597.824 690.646  Z\n",
       "  \" fill=\"#009af9\" fill-rule=\"evenodd\" fill-opacity=\"1\"/>\n",
       "<polyline clip-path=\"url(#clip052)\" style=\"stroke:#000000; stroke-linecap:butt; stroke-linejoin:round; stroke-width:4; stroke-opacity:1; fill:none\" points=\"\n",
       "  597.824,690.646 597.824,1445.72 620.069,1445.72 620.069,690.646 597.824,690.646 \n",
       "  \"/>\n",
       "<path clip-path=\"url(#clip052)\" d=\"\n",
       "M625.63 1137.45 L625.63 1445.72 L647.875 1445.72 L647.875 1137.45 L625.63 1137.45 L625.63 1137.45  Z\n",
       "  \" fill=\"#009af9\" fill-rule=\"evenodd\" fill-opacity=\"1\"/>\n",
       "<polyline clip-path=\"url(#clip052)\" style=\"stroke:#000000; stroke-linecap:butt; stroke-linejoin:round; stroke-width:4; stroke-opacity:1; fill:none\" points=\"\n",
       "  625.63,1137.45 625.63,1445.72 647.875,1445.72 647.875,1137.45 625.63,1137.45 \n",
       "  \"/>\n",
       "<path clip-path=\"url(#clip052)\" d=\"\n",
       "M653.436 815.337 L653.436 1445.72 L675.681 1445.72 L675.681 815.337 L653.436 815.337 L653.436 815.337  Z\n",
       "  \" fill=\"#009af9\" fill-rule=\"evenodd\" fill-opacity=\"1\"/>\n",
       "<polyline clip-path=\"url(#clip052)\" style=\"stroke:#000000; stroke-linecap:butt; stroke-linejoin:round; stroke-width:4; stroke-opacity:1; fill:none\" points=\"\n",
       "  653.436,815.337 653.436,1445.72 675.681,1445.72 675.681,815.337 653.436,815.337 \n",
       "  \"/>\n",
       "<path clip-path=\"url(#clip052)\" d=\"\n",
       "M681.242 1033.54 L681.242 1445.72 L703.487 1445.72 L703.487 1033.54 L681.242 1033.54 L681.242 1033.54  Z\n",
       "  \" fill=\"#009af9\" fill-rule=\"evenodd\" fill-opacity=\"1\"/>\n",
       "<polyline clip-path=\"url(#clip052)\" style=\"stroke:#000000; stroke-linecap:butt; stroke-linejoin:round; stroke-width:4; stroke-opacity:1; fill:none\" points=\"\n",
       "  681.242,1033.54 681.242,1445.72 703.487,1445.72 703.487,1033.54 681.242,1033.54 \n",
       "  \"/>\n",
       "<path clip-path=\"url(#clip052)\" d=\"\n",
       "M709.048 1189.41 L709.048 1445.72 L731.293 1445.72 L731.293 1189.41 L709.048 1189.41 L709.048 1189.41  Z\n",
       "  \" fill=\"#009af9\" fill-rule=\"evenodd\" fill-opacity=\"1\"/>\n",
       "<polyline clip-path=\"url(#clip052)\" style=\"stroke:#000000; stroke-linecap:butt; stroke-linejoin:round; stroke-width:4; stroke-opacity:1; fill:none\" points=\"\n",
       "  709.048,1189.41 709.048,1445.72 731.293,1445.72 731.293,1189.41 709.048,1189.41 \n",
       "  \"/>\n",
       "<path clip-path=\"url(#clip052)\" d=\"\n",
       "M736.854 784.164 L736.854 1445.72 L759.099 1445.72 L759.099 784.164 L736.854 784.164 L736.854 784.164  Z\n",
       "  \" fill=\"#009af9\" fill-rule=\"evenodd\" fill-opacity=\"1\"/>\n",
       "<polyline clip-path=\"url(#clip052)\" style=\"stroke:#000000; stroke-linecap:butt; stroke-linejoin:round; stroke-width:4; stroke-opacity:1; fill:none\" points=\"\n",
       "  736.854,784.164 736.854,1445.72 759.099,1445.72 759.099,784.164 736.854,784.164 \n",
       "  \"/>\n",
       "<path clip-path=\"url(#clip052)\" d=\"\n",
       "M764.66 811.873 L764.66 1445.72 L786.904 1445.72 L786.904 811.873 L764.66 811.873 L764.66 811.873  Z\n",
       "  \" fill=\"#009af9\" fill-rule=\"evenodd\" fill-opacity=\"1\"/>\n",
       "<polyline clip-path=\"url(#clip052)\" style=\"stroke:#000000; stroke-linecap:butt; stroke-linejoin:round; stroke-width:4; stroke-opacity:1; fill:none\" points=\"\n",
       "  764.66,811.873 764.66,1445.72 786.904,1445.72 786.904,811.873 764.66,811.873 \n",
       "  \"/>\n",
       "<path clip-path=\"url(#clip052)\" d=\"\n",
       "M792.466 856.9 L792.466 1445.72 L814.71 1445.72 L814.71 856.9 L792.466 856.9 L792.466 856.9  Z\n",
       "  \" fill=\"#009af9\" fill-rule=\"evenodd\" fill-opacity=\"1\"/>\n",
       "<polyline clip-path=\"url(#clip052)\" style=\"stroke:#000000; stroke-linecap:butt; stroke-linejoin:round; stroke-width:4; stroke-opacity:1; fill:none\" points=\"\n",
       "  792.466,856.9 792.466,1445.72 814.71,1445.72 814.71,856.9 792.466,856.9 \n",
       "  \"/>\n",
       "<path clip-path=\"url(#clip052)\" d=\"\n",
       "M820.272 784.164 L820.272 1445.72 L842.516 1445.72 L842.516 784.164 L820.272 784.164 L820.272 784.164  Z\n",
       "  \" fill=\"#009af9\" fill-rule=\"evenodd\" fill-opacity=\"1\"/>\n",
       "<polyline clip-path=\"url(#clip052)\" style=\"stroke:#000000; stroke-linecap:butt; stroke-linejoin:round; stroke-width:4; stroke-opacity:1; fill:none\" points=\"\n",
       "  820.272,784.164 820.272,1445.72 842.516,1445.72 842.516,784.164 820.272,784.164 \n",
       "  \"/>\n",
       "<path clip-path=\"url(#clip052)\" d=\"\n",
       "M848.077 143.394 L848.077 1445.72 L870.322 1445.72 L870.322 143.394 L848.077 143.394 L848.077 143.394  Z\n",
       "  \" fill=\"#009af9\" fill-rule=\"evenodd\" fill-opacity=\"1\"/>\n",
       "<polyline clip-path=\"url(#clip052)\" style=\"stroke:#000000; stroke-linecap:butt; stroke-linejoin:round; stroke-width:4; stroke-opacity:1; fill:none\" points=\"\n",
       "  848.077,143.394 848.077,1445.72 870.322,1445.72 870.322,143.394 848.077,143.394 \n",
       "  \"/>\n",
       "<path clip-path=\"url(#clip052)\" d=\"\n",
       "M875.883 87.9763 L875.883 1445.72 L898.128 1445.72 L898.128 87.9763 L875.883 87.9763 L875.883 87.9763  Z\n",
       "  \" fill=\"#009af9\" fill-rule=\"evenodd\" fill-opacity=\"1\"/>\n",
       "<polyline clip-path=\"url(#clip052)\" style=\"stroke:#000000; stroke-linecap:butt; stroke-linejoin:round; stroke-width:4; stroke-opacity:1; fill:none\" points=\"\n",
       "  875.883,87.9763 875.883,1445.72 898.128,1445.72 898.128,87.9763 875.883,87.9763 \n",
       "  \"/>\n",
       "<path clip-path=\"url(#clip052)\" d=\"\n",
       "M903.689 752.992 L903.689 1445.72 L925.934 1445.72 L925.934 752.992 L903.689 752.992 L903.689 752.992  Z\n",
       "  \" fill=\"#009af9\" fill-rule=\"evenodd\" fill-opacity=\"1\"/>\n",
       "<polyline clip-path=\"url(#clip052)\" style=\"stroke:#000000; stroke-linecap:butt; stroke-linejoin:round; stroke-width:4; stroke-opacity:1; fill:none\" points=\"\n",
       "  903.689,752.992 903.689,1445.72 925.934,1445.72 925.934,752.992 903.689,752.992 \n",
       "  \"/>\n",
       "<path clip-path=\"url(#clip052)\" d=\"\n",
       "M931.495 205.739 L931.495 1445.72 L953.74 1445.72 L953.74 205.739 L931.495 205.739 L931.495 205.739  Z\n",
       "  \" fill=\"#009af9\" fill-rule=\"evenodd\" fill-opacity=\"1\"/>\n",
       "<polyline clip-path=\"url(#clip052)\" style=\"stroke:#000000; stroke-linecap:butt; stroke-linejoin:round; stroke-width:4; stroke-opacity:1; fill:none\" points=\"\n",
       "  931.495,205.739 931.495,1445.72 953.74,1445.72 953.74,205.739 931.495,205.739 \n",
       "  \"/>\n",
       "<path clip-path=\"url(#clip052)\" d=\"\n",
       "M959.301 846.509 L959.301 1445.72 L981.546 1445.72 L981.546 846.509 L959.301 846.509 L959.301 846.509  Z\n",
       "  \" fill=\"#009af9\" fill-rule=\"evenodd\" fill-opacity=\"1\"/>\n",
       "<polyline clip-path=\"url(#clip052)\" style=\"stroke:#000000; stroke-linecap:butt; stroke-linejoin:round; stroke-width:4; stroke-opacity:1; fill:none\" points=\"\n",
       "  959.301,846.509 959.301,1445.72 981.546,1445.72 981.546,846.509 959.301,846.509 \n",
       "  \"/>\n",
       "<path clip-path=\"url(#clip052)\" d=\"\n",
       "M987.107 1241.36 L987.107 1445.72 L1009.35 1445.72 L1009.35 1241.36 L987.107 1241.36 L987.107 1241.36  Z\n",
       "  \" fill=\"#009af9\" fill-rule=\"evenodd\" fill-opacity=\"1\"/>\n",
       "<polyline clip-path=\"url(#clip052)\" style=\"stroke:#000000; stroke-linecap:butt; stroke-linejoin:round; stroke-width:4; stroke-opacity:1; fill:none\" points=\"\n",
       "  987.107,1241.36 987.107,1445.72 1009.35,1445.72 1009.35,1241.36 987.107,1241.36 \n",
       "  \"/>\n",
       "<path clip-path=\"url(#clip052)\" d=\"\n",
       "M1014.91 759.919 L1014.91 1445.72 L1037.16 1445.72 L1037.16 759.919 L1014.91 759.919 L1014.91 759.919  Z\n",
       "  \" fill=\"#009af9\" fill-rule=\"evenodd\" fill-opacity=\"1\"/>\n",
       "<polyline clip-path=\"url(#clip052)\" style=\"stroke:#000000; stroke-linecap:butt; stroke-linejoin:round; stroke-width:4; stroke-opacity:1; fill:none\" points=\"\n",
       "  1014.91,759.919 1014.91,1445.72 1037.16,1445.72 1037.16,759.919 1014.91,759.919 \n",
       "  \"/>\n",
       "<path clip-path=\"url(#clip052)\" d=\"\n",
       "M1042.72 843.046 L1042.72 1445.72 L1064.96 1445.72 L1064.96 843.046 L1042.72 843.046 L1042.72 843.046  Z\n",
       "  \" fill=\"#009af9\" fill-rule=\"evenodd\" fill-opacity=\"1\"/>\n",
       "<polyline clip-path=\"url(#clip052)\" style=\"stroke:#000000; stroke-linecap:butt; stroke-linejoin:round; stroke-width:4; stroke-opacity:1; fill:none\" points=\"\n",
       "  1042.72,843.046 1042.72,1445.72 1064.96,1445.72 1064.96,843.046 1042.72,843.046 \n",
       "  \"/>\n",
       "<path clip-path=\"url(#clip052)\" d=\"\n",
       "M1070.52 808.409 L1070.52 1445.72 L1092.77 1445.72 L1092.77 808.409 L1070.52 808.409 L1070.52 808.409  Z\n",
       "  \" fill=\"#009af9\" fill-rule=\"evenodd\" fill-opacity=\"1\"/>\n",
       "<polyline clip-path=\"url(#clip052)\" style=\"stroke:#000000; stroke-linecap:butt; stroke-linejoin:round; stroke-width:4; stroke-opacity:1; fill:none\" points=\"\n",
       "  1070.52,808.409 1070.52,1445.72 1092.77,1445.72 1092.77,808.409 1070.52,808.409 \n",
       "  \"/>\n",
       "<path clip-path=\"url(#clip052)\" d=\"\n",
       "M1098.33 167.64 L1098.33 1445.72 L1120.58 1445.72 L1120.58 167.64 L1098.33 167.64 L1098.33 167.64  Z\n",
       "  \" fill=\"#009af9\" fill-rule=\"evenodd\" fill-opacity=\"1\"/>\n",
       "<polyline clip-path=\"url(#clip052)\" style=\"stroke:#000000; stroke-linecap:butt; stroke-linejoin:round; stroke-width:4; stroke-opacity:1; fill:none\" points=\"\n",
       "  1098.33,167.64 1098.33,1445.72 1120.58,1445.72 1120.58,167.64 1098.33,167.64 \n",
       "  \"/>\n",
       "<path clip-path=\"url(#clip052)\" d=\"\n",
       "M1126.14 836.118 L1126.14 1445.72 L1148.38 1445.72 L1148.38 836.118 L1126.14 836.118 L1126.14 836.118  Z\n",
       "  \" fill=\"#009af9\" fill-rule=\"evenodd\" fill-opacity=\"1\"/>\n",
       "<polyline clip-path=\"url(#clip052)\" style=\"stroke:#000000; stroke-linecap:butt; stroke-linejoin:round; stroke-width:4; stroke-opacity:1; fill:none\" points=\"\n",
       "  1126.14,836.118 1126.14,1445.72 1148.38,1445.72 1148.38,836.118 1126.14,836.118 \n",
       "  \"/>\n",
       "<path clip-path=\"url(#clip052)\" d=\"\n",
       "M1153.94 1168.63 L1153.94 1445.72 L1176.19 1445.72 L1176.19 1168.63 L1153.94 1168.63 L1153.94 1168.63  Z\n",
       "  \" fill=\"#009af9\" fill-rule=\"evenodd\" fill-opacity=\"1\"/>\n",
       "<polyline clip-path=\"url(#clip052)\" style=\"stroke:#000000; stroke-linecap:butt; stroke-linejoin:round; stroke-width:4; stroke-opacity:1; fill:none\" points=\"\n",
       "  1153.94,1168.63 1153.94,1445.72 1176.19,1445.72 1176.19,1168.63 1153.94,1168.63 \n",
       "  \"/>\n",
       "<path clip-path=\"url(#clip052)\" d=\"\n",
       "M1181.75 832.655 L1181.75 1445.72 L1203.99 1445.72 L1203.99 832.655 L1181.75 832.655 L1181.75 832.655  Z\n",
       "  \" fill=\"#009af9\" fill-rule=\"evenodd\" fill-opacity=\"1\"/>\n",
       "<polyline clip-path=\"url(#clip052)\" style=\"stroke:#000000; stroke-linecap:butt; stroke-linejoin:round; stroke-width:4; stroke-opacity:1; fill:none\" points=\"\n",
       "  1181.75,832.655 1181.75,1445.72 1203.99,1445.72 1203.99,832.655 1181.75,832.655 \n",
       "  \"/>\n",
       "<path clip-path=\"url(#clip052)\" d=\"\n",
       "M1209.55 756.455 L1209.55 1445.72 L1231.8 1445.72 L1231.8 756.455 L1209.55 756.455 L1209.55 756.455  Z\n",
       "  \" fill=\"#009af9\" fill-rule=\"evenodd\" fill-opacity=\"1\"/>\n",
       "<polyline clip-path=\"url(#clip052)\" style=\"stroke:#000000; stroke-linecap:butt; stroke-linejoin:round; stroke-width:4; stroke-opacity:1; fill:none\" points=\"\n",
       "  1209.55,756.455 1209.55,1445.72 1231.8,1445.72 1231.8,756.455 1209.55,756.455 \n",
       "  \"/>\n",
       "<path clip-path=\"url(#clip052)\" d=\"\n",
       "M1237.36 1203.26 L1237.36 1445.72 L1259.6 1445.72 L1259.6 1203.26 L1237.36 1203.26 L1237.36 1203.26  Z\n",
       "  \" fill=\"#009af9\" fill-rule=\"evenodd\" fill-opacity=\"1\"/>\n",
       "<polyline clip-path=\"url(#clip052)\" style=\"stroke:#000000; stroke-linecap:butt; stroke-linejoin:round; stroke-width:4; stroke-opacity:1; fill:none\" points=\"\n",
       "  1237.36,1203.26 1237.36,1445.72 1259.6,1445.72 1259.6,1203.26 1237.36,1203.26 \n",
       "  \"/>\n",
       "<path clip-path=\"url(#clip052)\" d=\"\n",
       "M1265.17 1386.83 L1265.17 1445.72 L1287.41 1445.72 L1287.41 1386.83 L1265.17 1386.83 L1265.17 1386.83  Z\n",
       "  \" fill=\"#009af9\" fill-rule=\"evenodd\" fill-opacity=\"1\"/>\n",
       "<polyline clip-path=\"url(#clip052)\" style=\"stroke:#000000; stroke-linecap:butt; stroke-linejoin:round; stroke-width:4; stroke-opacity:1; fill:none\" points=\"\n",
       "  1265.17,1386.83 1265.17,1445.72 1287.41,1445.72 1287.41,1386.83 1265.17,1386.83 \n",
       "  \"/>\n",
       "<path clip-path=\"url(#clip052)\" d=\"\n",
       "M1292.97 1289.85 L1292.97 1445.72 L1315.22 1445.72 L1315.22 1289.85 L1292.97 1289.85 L1292.97 1289.85  Z\n",
       "  \" fill=\"#009af9\" fill-rule=\"evenodd\" fill-opacity=\"1\"/>\n",
       "<polyline clip-path=\"url(#clip052)\" style=\"stroke:#000000; stroke-linecap:butt; stroke-linejoin:round; stroke-width:4; stroke-opacity:1; fill:none\" points=\"\n",
       "  1292.97,1289.85 1292.97,1445.72 1315.22,1445.72 1315.22,1289.85 1292.97,1289.85 \n",
       "  \"/>\n",
       "<path clip-path=\"url(#clip052)\" d=\"\n",
       "M1320.78 1234.43 L1320.78 1445.72 L1343.02 1445.72 L1343.02 1234.43 L1320.78 1234.43 L1320.78 1234.43  Z\n",
       "  \" fill=\"#009af9\" fill-rule=\"evenodd\" fill-opacity=\"1\"/>\n",
       "<polyline clip-path=\"url(#clip052)\" style=\"stroke:#000000; stroke-linecap:butt; stroke-linejoin:round; stroke-width:4; stroke-opacity:1; fill:none\" points=\"\n",
       "  1320.78,1234.43 1320.78,1445.72 1343.02,1445.72 1343.02,1234.43 1320.78,1234.43 \n",
       "  \"/>\n",
       "<path clip-path=\"url(#clip052)\" d=\"\n",
       "M1348.58 1227.51 L1348.58 1445.72 L1370.83 1445.72 L1370.83 1227.51 L1348.58 1227.51 L1348.58 1227.51  Z\n",
       "  \" fill=\"#009af9\" fill-rule=\"evenodd\" fill-opacity=\"1\"/>\n",
       "<polyline clip-path=\"url(#clip052)\" style=\"stroke:#000000; stroke-linecap:butt; stroke-linejoin:round; stroke-width:4; stroke-opacity:1; fill:none\" points=\"\n",
       "  1348.58,1227.51 1348.58,1445.72 1370.83,1445.72 1370.83,1227.51 1348.58,1227.51 \n",
       "  \"/>\n",
       "<path clip-path=\"url(#clip052)\" d=\"\n",
       "M1376.39 1071.64 L1376.39 1445.72 L1398.63 1445.72 L1398.63 1071.64 L1376.39 1071.64 L1376.39 1071.64  Z\n",
       "  \" fill=\"#009af9\" fill-rule=\"evenodd\" fill-opacity=\"1\"/>\n",
       "<polyline clip-path=\"url(#clip052)\" style=\"stroke:#000000; stroke-linecap:butt; stroke-linejoin:round; stroke-width:4; stroke-opacity:1; fill:none\" points=\"\n",
       "  1376.39,1071.64 1376.39,1445.72 1398.63,1445.72 1398.63,1071.64 1376.39,1071.64 \n",
       "  \"/>\n",
       "<path clip-path=\"url(#clip052)\" d=\"\n",
       "M1404.2 770.31 L1404.2 1445.72 L1426.44 1445.72 L1426.44 770.31 L1404.2 770.31 L1404.2 770.31  Z\n",
       "  \" fill=\"#009af9\" fill-rule=\"evenodd\" fill-opacity=\"1\"/>\n",
       "<polyline clip-path=\"url(#clip052)\" style=\"stroke:#000000; stroke-linecap:butt; stroke-linejoin:round; stroke-width:4; stroke-opacity:1; fill:none\" points=\"\n",
       "  1404.2,770.31 1404.2,1445.72 1426.44,1445.72 1426.44,770.31 1404.2,770.31 \n",
       "  \"/>\n",
       "<path clip-path=\"url(#clip052)\" d=\"\n",
       "M1432 784.164 L1432 1445.72 L1454.25 1445.72 L1454.25 784.164 L1432 784.164 L1432 784.164  Z\n",
       "  \" fill=\"#009af9\" fill-rule=\"evenodd\" fill-opacity=\"1\"/>\n",
       "<polyline clip-path=\"url(#clip052)\" style=\"stroke:#000000; stroke-linecap:butt; stroke-linejoin:round; stroke-width:4; stroke-opacity:1; fill:none\" points=\"\n",
       "  1432,784.164 1432,1445.72 1454.25,1445.72 1454.25,784.164 1432,784.164 \n",
       "  \"/>\n",
       "<path clip-path=\"url(#clip052)\" d=\"\n",
       "M1459.81 1140.92 L1459.81 1445.72 L1482.05 1445.72 L1482.05 1140.92 L1459.81 1140.92 L1459.81 1140.92  Z\n",
       "  \" fill=\"#009af9\" fill-rule=\"evenodd\" fill-opacity=\"1\"/>\n",
       "<polyline clip-path=\"url(#clip052)\" style=\"stroke:#000000; stroke-linecap:butt; stroke-linejoin:round; stroke-width:4; stroke-opacity:1; fill:none\" points=\"\n",
       "  1459.81,1140.92 1459.81,1445.72 1482.05,1445.72 1482.05,1140.92 1459.81,1140.92 \n",
       "  \"/>\n",
       "<path clip-path=\"url(#clip052)\" d=\"\n",
       "M1487.61 714.892 L1487.61 1445.72 L1509.86 1445.72 L1509.86 714.892 L1487.61 714.892 L1487.61 714.892  Z\n",
       "  \" fill=\"#009af9\" fill-rule=\"evenodd\" fill-opacity=\"1\"/>\n",
       "<polyline clip-path=\"url(#clip052)\" style=\"stroke:#000000; stroke-linecap:butt; stroke-linejoin:round; stroke-width:4; stroke-opacity:1; fill:none\" points=\"\n",
       "  1487.61,714.892 1487.61,1445.72 1509.86,1445.72 1509.86,714.892 1487.61,714.892 \n",
       "  \"/>\n",
       "<path clip-path=\"url(#clip052)\" d=\"\n",
       "M1515.42 1078.57 L1515.42 1445.72 L1537.66 1445.72 L1537.66 1078.57 L1515.42 1078.57 L1515.42 1078.57  Z\n",
       "  \" fill=\"#009af9\" fill-rule=\"evenodd\" fill-opacity=\"1\"/>\n",
       "<polyline clip-path=\"url(#clip052)\" style=\"stroke:#000000; stroke-linecap:butt; stroke-linejoin:round; stroke-width:4; stroke-opacity:1; fill:none\" points=\"\n",
       "  1515.42,1078.57 1515.42,1445.72 1537.66,1445.72 1537.66,1078.57 1515.42,1078.57 \n",
       "  \"/>\n",
       "<path clip-path=\"url(#clip052)\" d=\"\n",
       "M1543.22 1210.19 L1543.22 1445.72 L1565.47 1445.72 L1565.47 1210.19 L1543.22 1210.19 L1543.22 1210.19  Z\n",
       "  \" fill=\"#009af9\" fill-rule=\"evenodd\" fill-opacity=\"1\"/>\n",
       "<polyline clip-path=\"url(#clip052)\" style=\"stroke:#000000; stroke-linecap:butt; stroke-linejoin:round; stroke-width:4; stroke-opacity:1; fill:none\" points=\"\n",
       "  1543.22,1210.19 1543.22,1445.72 1565.47,1445.72 1565.47,1210.19 1543.22,1210.19 \n",
       "  \"/>\n",
       "<path clip-path=\"url(#clip052)\" d=\"\n",
       "M1571.03 742.601 L1571.03 1445.72 L1593.28 1445.72 L1593.28 742.601 L1571.03 742.601 L1571.03 742.601  Z\n",
       "  \" fill=\"#009af9\" fill-rule=\"evenodd\" fill-opacity=\"1\"/>\n",
       "<polyline clip-path=\"url(#clip052)\" style=\"stroke:#000000; stroke-linecap:butt; stroke-linejoin:round; stroke-width:4; stroke-opacity:1; fill:none\" points=\"\n",
       "  1571.03,742.601 1571.03,1445.72 1593.28,1445.72 1593.28,742.601 1571.03,742.601 \n",
       "  \"/>\n",
       "<path clip-path=\"url(#clip052)\" d=\"\n",
       "M1598.84 787.628 L1598.84 1445.72 L1621.08 1445.72 L1621.08 787.628 L1598.84 787.628 L1598.84 787.628  Z\n",
       "  \" fill=\"#009af9\" fill-rule=\"evenodd\" fill-opacity=\"1\"/>\n",
       "<polyline clip-path=\"url(#clip052)\" style=\"stroke:#000000; stroke-linecap:butt; stroke-linejoin:round; stroke-width:4; stroke-opacity:1; fill:none\" points=\"\n",
       "  1598.84,787.628 1598.84,1445.72 1621.08,1445.72 1621.08,787.628 1598.84,787.628 \n",
       "  \"/>\n",
       "<path clip-path=\"url(#clip052)\" d=\"\n",
       "M1626.64 728.746 L1626.64 1445.72 L1648.89 1445.72 L1648.89 728.746 L1626.64 728.746 L1626.64 728.746  Z\n",
       "  \" fill=\"#009af9\" fill-rule=\"evenodd\" fill-opacity=\"1\"/>\n",
       "<polyline clip-path=\"url(#clip052)\" style=\"stroke:#000000; stroke-linecap:butt; stroke-linejoin:round; stroke-width:4; stroke-opacity:1; fill:none\" points=\"\n",
       "  1626.64,728.746 1626.64,1445.72 1648.89,1445.72 1648.89,728.746 1626.64,728.746 \n",
       "  \"/>\n",
       "<path clip-path=\"url(#clip052)\" d=\"\n",
       "M1654.45 254.23 L1654.45 1445.72 L1676.69 1445.72 L1676.69 254.23 L1654.45 254.23 L1654.45 254.23  Z\n",
       "  \" fill=\"#009af9\" fill-rule=\"evenodd\" fill-opacity=\"1\"/>\n",
       "<polyline clip-path=\"url(#clip052)\" style=\"stroke:#000000; stroke-linecap:butt; stroke-linejoin:round; stroke-width:4; stroke-opacity:1; fill:none\" points=\"\n",
       "  1654.45,254.23 1654.45,1445.72 1676.69,1445.72 1676.69,254.23 1654.45,254.23 \n",
       "  \"/>\n",
       "<path clip-path=\"url(#clip052)\" d=\"\n",
       "M1682.25 728.746 L1682.25 1445.72 L1704.5 1445.72 L1704.5 728.746 L1682.25 728.746 L1682.25 728.746  Z\n",
       "  \" fill=\"#009af9\" fill-rule=\"evenodd\" fill-opacity=\"1\"/>\n",
       "<polyline clip-path=\"url(#clip052)\" style=\"stroke:#000000; stroke-linecap:butt; stroke-linejoin:round; stroke-width:4; stroke-opacity:1; fill:none\" points=\"\n",
       "  1682.25,728.746 1682.25,1445.72 1704.5,1445.72 1704.5,728.746 1682.25,728.746 \n",
       "  \"/>\n",
       "<path clip-path=\"url(#clip052)\" d=\"\n",
       "M1710.06 1241.36 L1710.06 1445.72 L1732.31 1445.72 L1732.31 1241.36 L1710.06 1241.36 L1710.06 1241.36  Z\n",
       "  \" fill=\"#009af9\" fill-rule=\"evenodd\" fill-opacity=\"1\"/>\n",
       "<polyline clip-path=\"url(#clip052)\" style=\"stroke:#000000; stroke-linecap:butt; stroke-linejoin:round; stroke-width:4; stroke-opacity:1; fill:none\" points=\"\n",
       "  1710.06,1241.36 1710.06,1445.72 1732.31,1445.72 1732.31,1241.36 1710.06,1241.36 \n",
       "  \"/>\n",
       "<path clip-path=\"url(#clip052)\" d=\"\n",
       "M1737.87 804.946 L1737.87 1445.72 L1760.11 1445.72 L1760.11 804.946 L1737.87 804.946 L1737.87 804.946  Z\n",
       "  \" fill=\"#009af9\" fill-rule=\"evenodd\" fill-opacity=\"1\"/>\n",
       "<polyline clip-path=\"url(#clip052)\" style=\"stroke:#000000; stroke-linecap:butt; stroke-linejoin:round; stroke-width:4; stroke-opacity:1; fill:none\" points=\"\n",
       "  1737.87,804.946 1737.87,1445.72 1760.11,1445.72 1760.11,804.946 1737.87,804.946 \n",
       "  \"/>\n",
       "<path clip-path=\"url(#clip052)\" d=\"\n",
       "M1765.67 732.21 L1765.67 1445.72 L1787.92 1445.72 L1787.92 732.21 L1765.67 732.21 L1765.67 732.21  Z\n",
       "  \" fill=\"#009af9\" fill-rule=\"evenodd\" fill-opacity=\"1\"/>\n",
       "<polyline clip-path=\"url(#clip052)\" style=\"stroke:#000000; stroke-linecap:butt; stroke-linejoin:round; stroke-width:4; stroke-opacity:1; fill:none\" points=\"\n",
       "  1765.67,732.21 1765.67,1445.72 1787.92,1445.72 1787.92,732.21 1765.67,732.21 \n",
       "  \"/>\n",
       "<path clip-path=\"url(#clip052)\" d=\"\n",
       "M1793.48 1244.83 L1793.48 1445.72 L1815.72 1445.72 L1815.72 1244.83 L1793.48 1244.83 L1793.48 1244.83  Z\n",
       "  \" fill=\"#009af9\" fill-rule=\"evenodd\" fill-opacity=\"1\"/>\n",
       "<polyline clip-path=\"url(#clip052)\" style=\"stroke:#000000; stroke-linecap:butt; stroke-linejoin:round; stroke-width:4; stroke-opacity:1; fill:none\" points=\"\n",
       "  1793.48,1244.83 1793.48,1445.72 1815.72,1445.72 1815.72,1244.83 1793.48,1244.83 \n",
       "  \"/>\n",
       "<path clip-path=\"url(#clip052)\" d=\"\n",
       "M1821.28 1404.15 L1821.28 1445.72 L1843.53 1445.72 L1843.53 1404.15 L1821.28 1404.15 L1821.28 1404.15  Z\n",
       "  \" fill=\"#009af9\" fill-rule=\"evenodd\" fill-opacity=\"1\"/>\n",
       "<polyline clip-path=\"url(#clip052)\" style=\"stroke:#000000; stroke-linecap:butt; stroke-linejoin:round; stroke-width:4; stroke-opacity:1; fill:none\" points=\"\n",
       "  1821.28,1404.15 1821.28,1445.72 1843.53,1445.72 1843.53,1404.15 1821.28,1404.15 \n",
       "  \"/>\n",
       "<path clip-path=\"url(#clip052)\" d=\"\n",
       "M1849.09 1210.19 L1849.09 1445.72 L1871.33 1445.72 L1871.33 1210.19 L1849.09 1210.19 L1849.09 1210.19  Z\n",
       "  \" fill=\"#009af9\" fill-rule=\"evenodd\" fill-opacity=\"1\"/>\n",
       "<polyline clip-path=\"url(#clip052)\" style=\"stroke:#000000; stroke-linecap:butt; stroke-linejoin:round; stroke-width:4; stroke-opacity:1; fill:none\" points=\"\n",
       "  1849.09,1210.19 1849.09,1445.72 1871.33,1445.72 1871.33,1210.19 1849.09,1210.19 \n",
       "  \"/>\n",
       "<path clip-path=\"url(#clip052)\" d=\"\n",
       "M1876.9 1206.73 L1876.9 1445.72 L1899.14 1445.72 L1899.14 1206.73 L1876.9 1206.73 L1876.9 1206.73  Z\n",
       "  \" fill=\"#009af9\" fill-rule=\"evenodd\" fill-opacity=\"1\"/>\n",
       "<polyline clip-path=\"url(#clip052)\" style=\"stroke:#000000; stroke-linecap:butt; stroke-linejoin:round; stroke-width:4; stroke-opacity:1; fill:none\" points=\"\n",
       "  1876.9,1206.73 1876.9,1445.72 1899.14,1445.72 1899.14,1206.73 1876.9,1206.73 \n",
       "  \"/>\n",
       "<path clip-path=\"url(#clip052)\" d=\"\n",
       "M1904.7 1095.89 L1904.7 1445.72 L1926.95 1445.72 L1926.95 1095.89 L1904.7 1095.89 L1904.7 1095.89  Z\n",
       "  \" fill=\"#009af9\" fill-rule=\"evenodd\" fill-opacity=\"1\"/>\n",
       "<polyline clip-path=\"url(#clip052)\" style=\"stroke:#000000; stroke-linecap:butt; stroke-linejoin:round; stroke-width:4; stroke-opacity:1; fill:none\" points=\"\n",
       "  1904.7,1095.89 1904.7,1445.72 1926.95,1445.72 1926.95,1095.89 1904.7,1095.89 \n",
       "  \"/>\n",
       "<path clip-path=\"url(#clip052)\" d=\"\n",
       "M1932.51 791.091 L1932.51 1445.72 L1954.75 1445.72 L1954.75 791.091 L1932.51 791.091 L1932.51 791.091  Z\n",
       "  \" fill=\"#009af9\" fill-rule=\"evenodd\" fill-opacity=\"1\"/>\n",
       "<polyline clip-path=\"url(#clip052)\" style=\"stroke:#000000; stroke-linecap:butt; stroke-linejoin:round; stroke-width:4; stroke-opacity:1; fill:none\" points=\"\n",
       "  1932.51,791.091 1932.51,1445.72 1954.75,1445.72 1954.75,791.091 1932.51,791.091 \n",
       "  \"/>\n",
       "<path clip-path=\"url(#clip052)\" d=\"\n",
       "M1960.31 1099.35 L1960.31 1445.72 L1982.56 1445.72 L1982.56 1099.35 L1960.31 1099.35 L1960.31 1099.35  Z\n",
       "  \" fill=\"#009af9\" fill-rule=\"evenodd\" fill-opacity=\"1\"/>\n",
       "<polyline clip-path=\"url(#clip052)\" style=\"stroke:#000000; stroke-linecap:butt; stroke-linejoin:round; stroke-width:4; stroke-opacity:1; fill:none\" points=\"\n",
       "  1960.31,1099.35 1960.31,1445.72 1982.56,1445.72 1982.56,1099.35 1960.31,1099.35 \n",
       "  \"/>\n",
       "<path clip-path=\"url(#clip052)\" d=\"\n",
       "M1988.12 1227.51 L1988.12 1445.72 L2010.36 1445.72 L2010.36 1227.51 L1988.12 1227.51 L1988.12 1227.51  Z\n",
       "  \" fill=\"#009af9\" fill-rule=\"evenodd\" fill-opacity=\"1\"/>\n",
       "<polyline clip-path=\"url(#clip052)\" style=\"stroke:#000000; stroke-linecap:butt; stroke-linejoin:round; stroke-width:4; stroke-opacity:1; fill:none\" points=\"\n",
       "  1988.12,1227.51 1988.12,1445.72 2010.36,1445.72 2010.36,1227.51 1988.12,1227.51 \n",
       "  \"/>\n",
       "<path clip-path=\"url(#clip052)\" d=\"\n",
       "M2015.93 784.164 L2015.93 1445.72 L2038.17 1445.72 L2038.17 784.164 L2015.93 784.164 L2015.93 784.164  Z\n",
       "  \" fill=\"#009af9\" fill-rule=\"evenodd\" fill-opacity=\"1\"/>\n",
       "<polyline clip-path=\"url(#clip052)\" style=\"stroke:#000000; stroke-linecap:butt; stroke-linejoin:round; stroke-width:4; stroke-opacity:1; fill:none\" points=\"\n",
       "  2015.93,784.164 2015.93,1445.72 2038.17,1445.72 2038.17,784.164 2015.93,784.164 \n",
       "  \"/>\n",
       "<path clip-path=\"url(#clip052)\" d=\"\n",
       "M2043.73 718.355 L2043.73 1445.72 L2065.98 1445.72 L2065.98 718.355 L2043.73 718.355 L2043.73 718.355  Z\n",
       "  \" fill=\"#009af9\" fill-rule=\"evenodd\" fill-opacity=\"1\"/>\n",
       "<polyline clip-path=\"url(#clip052)\" style=\"stroke:#000000; stroke-linecap:butt; stroke-linejoin:round; stroke-width:4; stroke-opacity:1; fill:none\" points=\"\n",
       "  2043.73,718.355 2043.73,1445.72 2065.98,1445.72 2065.98,718.355 2043.73,718.355 \n",
       "  \"/>\n",
       "<path clip-path=\"url(#clip052)\" d=\"\n",
       "M2071.54 1244.83 L2071.54 1445.72 L2093.78 1445.72 L2093.78 1244.83 L2071.54 1244.83 L2071.54 1244.83  Z\n",
       "  \" fill=\"#009af9\" fill-rule=\"evenodd\" fill-opacity=\"1\"/>\n",
       "<polyline clip-path=\"url(#clip052)\" style=\"stroke:#000000; stroke-linecap:butt; stroke-linejoin:round; stroke-width:4; stroke-opacity:1; fill:none\" points=\"\n",
       "  2071.54,1244.83 2071.54,1445.72 2093.78,1445.72 2093.78,1244.83 2071.54,1244.83 \n",
       "  \"/>\n",
       "<path clip-path=\"url(#clip052)\" d=\"\n",
       "M2099.34 1390.3 L2099.34 1445.72 L2121.59 1445.72 L2121.59 1390.3 L2099.34 1390.3 L2099.34 1390.3  Z\n",
       "  \" fill=\"#009af9\" fill-rule=\"evenodd\" fill-opacity=\"1\"/>\n",
       "<polyline clip-path=\"url(#clip052)\" style=\"stroke:#000000; stroke-linecap:butt; stroke-linejoin:round; stroke-width:4; stroke-opacity:1; fill:none\" points=\"\n",
       "  2099.34,1390.3 2099.34,1445.72 2121.59,1445.72 2121.59,1390.3 2099.34,1390.3 \n",
       "  \"/>\n",
       "<path clip-path=\"url(#clip052)\" d=\"\n",
       "M2127.15 1224.04 L2127.15 1445.72 L2149.39 1445.72 L2149.39 1224.04 L2127.15 1224.04 L2127.15 1224.04  Z\n",
       "  \" fill=\"#009af9\" fill-rule=\"evenodd\" fill-opacity=\"1\"/>\n",
       "<polyline clip-path=\"url(#clip052)\" style=\"stroke:#000000; stroke-linecap:butt; stroke-linejoin:round; stroke-width:4; stroke-opacity:1; fill:none\" points=\"\n",
       "  2127.15,1224.04 2127.15,1445.72 2149.39,1445.72 2149.39,1224.04 2127.15,1224.04 \n",
       "  \"/>\n",
       "<path clip-path=\"url(#clip052)\" d=\"\n",
       "M2154.95 1106.28 L2154.95 1445.72 L2177.2 1445.72 L2177.2 1106.28 L2154.95 1106.28 L2154.95 1106.28  Z\n",
       "  \" fill=\"#009af9\" fill-rule=\"evenodd\" fill-opacity=\"1\"/>\n",
       "<polyline clip-path=\"url(#clip052)\" style=\"stroke:#000000; stroke-linecap:butt; stroke-linejoin:round; stroke-width:4; stroke-opacity:1; fill:none\" points=\"\n",
       "  2154.95,1106.28 2154.95,1445.72 2177.2,1445.72 2177.2,1106.28 2154.95,1106.28 \n",
       "  \"/>\n",
       "<path clip-path=\"url(#clip052)\" d=\"\n",
       "M2182.76 1224.04 L2182.76 1445.72 L2205.01 1445.72 L2205.01 1224.04 L2182.76 1224.04 L2182.76 1224.04  Z\n",
       "  \" fill=\"#009af9\" fill-rule=\"evenodd\" fill-opacity=\"1\"/>\n",
       "<polyline clip-path=\"url(#clip052)\" style=\"stroke:#000000; stroke-linecap:butt; stroke-linejoin:round; stroke-width:4; stroke-opacity:1; fill:none\" points=\"\n",
       "  2182.76,1224.04 2182.76,1445.72 2205.01,1445.72 2205.01,1224.04 2182.76,1224.04 \n",
       "  \"/>\n",
       "<path clip-path=\"url(#clip052)\" d=\"\n",
       "M2210.57 1397.22 L2210.57 1445.72 L2232.81 1445.72 L2232.81 1397.22 L2210.57 1397.22 L2210.57 1397.22  Z\n",
       "  \" fill=\"#009af9\" fill-rule=\"evenodd\" fill-opacity=\"1\"/>\n",
       "<polyline clip-path=\"url(#clip052)\" style=\"stroke:#000000; stroke-linecap:butt; stroke-linejoin:round; stroke-width:4; stroke-opacity:1; fill:none\" points=\"\n",
       "  2210.57,1397.22 2210.57,1445.72 2232.81,1445.72 2232.81,1397.22 2210.57,1397.22 \n",
       "  \"/>\n",
       "<circle clip-path=\"url(#clip052)\" style=\"fill:#009af9; stroke:none; fill-opacity:0\" cx=\"303.082\" cy=\"1393.76\" r=\"2\"/>\n",
       "<circle clip-path=\"url(#clip052)\" style=\"fill:#009af9; stroke:none; fill-opacity:0\" cx=\"330.888\" cy=\"1182.48\" r=\"2\"/>\n",
       "<circle clip-path=\"url(#clip052)\" style=\"fill:#009af9; stroke:none; fill-opacity:0\" cx=\"358.694\" cy=\"1203.26\" r=\"2\"/>\n",
       "<circle clip-path=\"url(#clip052)\" style=\"fill:#009af9; stroke:none; fill-opacity:0\" cx=\"386.5\" cy=\"1255.22\" r=\"2\"/>\n",
       "<circle clip-path=\"url(#clip052)\" style=\"fill:#009af9; stroke:none; fill-opacity:0\" cx=\"414.305\" cy=\"1241.36\" r=\"2\"/>\n",
       "<circle clip-path=\"url(#clip052)\" style=\"fill:#009af9; stroke:none; fill-opacity:0\" cx=\"442.111\" cy=\"1078.57\" r=\"2\"/>\n",
       "<circle clip-path=\"url(#clip052)\" style=\"fill:#009af9; stroke:none; fill-opacity:0\" cx=\"469.917\" cy=\"811.873\" r=\"2\"/>\n",
       "<circle clip-path=\"url(#clip052)\" style=\"fill:#009af9; stroke:none; fill-opacity:0\" cx=\"497.723\" cy=\"697.574\" r=\"2\"/>\n",
       "<circle clip-path=\"url(#clip052)\" style=\"fill:#009af9; stroke:none; fill-opacity:0\" cx=\"525.529\" cy=\"728.746\" r=\"2\"/>\n",
       "<circle clip-path=\"url(#clip052)\" style=\"fill:#009af9; stroke:none; fill-opacity:0\" cx=\"553.335\" cy=\"1092.43\" r=\"2\"/>\n",
       "<circle clip-path=\"url(#clip052)\" style=\"fill:#009af9; stroke:none; fill-opacity:0\" cx=\"581.141\" cy=\"822.264\" r=\"2\"/>\n",
       "<circle clip-path=\"url(#clip052)\" style=\"fill:#009af9; stroke:none; fill-opacity:0\" cx=\"608.947\" cy=\"690.646\" r=\"2\"/>\n",
       "<circle clip-path=\"url(#clip052)\" style=\"fill:#009af9; stroke:none; fill-opacity:0\" cx=\"636.753\" cy=\"1137.45\" r=\"2\"/>\n",
       "<circle clip-path=\"url(#clip052)\" style=\"fill:#009af9; stroke:none; fill-opacity:0\" cx=\"664.559\" cy=\"815.337\" r=\"2\"/>\n",
       "<circle clip-path=\"url(#clip052)\" style=\"fill:#009af9; stroke:none; fill-opacity:0\" cx=\"692.364\" cy=\"1033.54\" r=\"2\"/>\n",
       "<circle clip-path=\"url(#clip052)\" style=\"fill:#009af9; stroke:none; fill-opacity:0\" cx=\"720.17\" cy=\"1189.41\" r=\"2\"/>\n",
       "<circle clip-path=\"url(#clip052)\" style=\"fill:#009af9; stroke:none; fill-opacity:0\" cx=\"747.976\" cy=\"784.164\" r=\"2\"/>\n",
       "<circle clip-path=\"url(#clip052)\" style=\"fill:#009af9; stroke:none; fill-opacity:0\" cx=\"775.782\" cy=\"811.873\" r=\"2\"/>\n",
       "<circle clip-path=\"url(#clip052)\" style=\"fill:#009af9; stroke:none; fill-opacity:0\" cx=\"803.588\" cy=\"856.9\" r=\"2\"/>\n",
       "<circle clip-path=\"url(#clip052)\" style=\"fill:#009af9; stroke:none; fill-opacity:0\" cx=\"831.394\" cy=\"784.164\" r=\"2\"/>\n",
       "<circle clip-path=\"url(#clip052)\" style=\"fill:#009af9; stroke:none; fill-opacity:0\" cx=\"859.2\" cy=\"143.394\" r=\"2\"/>\n",
       "<circle clip-path=\"url(#clip052)\" style=\"fill:#009af9; stroke:none; fill-opacity:0\" cx=\"887.006\" cy=\"87.9763\" r=\"2\"/>\n",
       "<circle clip-path=\"url(#clip052)\" style=\"fill:#009af9; stroke:none; fill-opacity:0\" cx=\"914.812\" cy=\"752.992\" r=\"2\"/>\n",
       "<circle clip-path=\"url(#clip052)\" style=\"fill:#009af9; stroke:none; fill-opacity:0\" cx=\"942.618\" cy=\"205.739\" r=\"2\"/>\n",
       "<circle clip-path=\"url(#clip052)\" style=\"fill:#009af9; stroke:none; fill-opacity:0\" cx=\"970.423\" cy=\"846.509\" r=\"2\"/>\n",
       "<circle clip-path=\"url(#clip052)\" style=\"fill:#009af9; stroke:none; fill-opacity:0\" cx=\"998.229\" cy=\"1241.36\" r=\"2\"/>\n",
       "<circle clip-path=\"url(#clip052)\" style=\"fill:#009af9; stroke:none; fill-opacity:0\" cx=\"1026.04\" cy=\"759.919\" r=\"2\"/>\n",
       "<circle clip-path=\"url(#clip052)\" style=\"fill:#009af9; stroke:none; fill-opacity:0\" cx=\"1053.84\" cy=\"843.046\" r=\"2\"/>\n",
       "<circle clip-path=\"url(#clip052)\" style=\"fill:#009af9; stroke:none; fill-opacity:0\" cx=\"1081.65\" cy=\"808.409\" r=\"2\"/>\n",
       "<circle clip-path=\"url(#clip052)\" style=\"fill:#009af9; stroke:none; fill-opacity:0\" cx=\"1109.45\" cy=\"167.64\" r=\"2\"/>\n",
       "<circle clip-path=\"url(#clip052)\" style=\"fill:#009af9; stroke:none; fill-opacity:0\" cx=\"1137.26\" cy=\"836.118\" r=\"2\"/>\n",
       "<circle clip-path=\"url(#clip052)\" style=\"fill:#009af9; stroke:none; fill-opacity:0\" cx=\"1165.06\" cy=\"1168.63\" r=\"2\"/>\n",
       "<circle clip-path=\"url(#clip052)\" style=\"fill:#009af9; stroke:none; fill-opacity:0\" cx=\"1192.87\" cy=\"832.655\" r=\"2\"/>\n",
       "<circle clip-path=\"url(#clip052)\" style=\"fill:#009af9; stroke:none; fill-opacity:0\" cx=\"1220.68\" cy=\"756.455\" r=\"2\"/>\n",
       "<circle clip-path=\"url(#clip052)\" style=\"fill:#009af9; stroke:none; fill-opacity:0\" cx=\"1248.48\" cy=\"1203.26\" r=\"2\"/>\n",
       "<circle clip-path=\"url(#clip052)\" style=\"fill:#009af9; stroke:none; fill-opacity:0\" cx=\"1276.29\" cy=\"1386.83\" r=\"2\"/>\n",
       "<circle clip-path=\"url(#clip052)\" style=\"fill:#009af9; stroke:none; fill-opacity:0\" cx=\"1304.09\" cy=\"1289.85\" r=\"2\"/>\n",
       "<circle clip-path=\"url(#clip052)\" style=\"fill:#009af9; stroke:none; fill-opacity:0\" cx=\"1331.9\" cy=\"1234.43\" r=\"2\"/>\n",
       "<circle clip-path=\"url(#clip052)\" style=\"fill:#009af9; stroke:none; fill-opacity:0\" cx=\"1359.71\" cy=\"1227.51\" r=\"2\"/>\n",
       "<circle clip-path=\"url(#clip052)\" style=\"fill:#009af9; stroke:none; fill-opacity:0\" cx=\"1387.51\" cy=\"1071.64\" r=\"2\"/>\n",
       "<circle clip-path=\"url(#clip052)\" style=\"fill:#009af9; stroke:none; fill-opacity:0\" cx=\"1415.32\" cy=\"770.31\" r=\"2\"/>\n",
       "<circle clip-path=\"url(#clip052)\" style=\"fill:#009af9; stroke:none; fill-opacity:0\" cx=\"1443.12\" cy=\"784.164\" r=\"2\"/>\n",
       "<circle clip-path=\"url(#clip052)\" style=\"fill:#009af9; stroke:none; fill-opacity:0\" cx=\"1470.93\" cy=\"1140.92\" r=\"2\"/>\n",
       "<circle clip-path=\"url(#clip052)\" style=\"fill:#009af9; stroke:none; fill-opacity:0\" cx=\"1498.74\" cy=\"714.892\" r=\"2\"/>\n",
       "<circle clip-path=\"url(#clip052)\" style=\"fill:#009af9; stroke:none; fill-opacity:0\" cx=\"1526.54\" cy=\"1078.57\" r=\"2\"/>\n",
       "<circle clip-path=\"url(#clip052)\" style=\"fill:#009af9; stroke:none; fill-opacity:0\" cx=\"1554.35\" cy=\"1210.19\" r=\"2\"/>\n",
       "<circle clip-path=\"url(#clip052)\" style=\"fill:#009af9; stroke:none; fill-opacity:0\" cx=\"1582.15\" cy=\"742.601\" r=\"2\"/>\n",
       "<circle clip-path=\"url(#clip052)\" style=\"fill:#009af9; stroke:none; fill-opacity:0\" cx=\"1609.96\" cy=\"787.628\" r=\"2\"/>\n",
       "<circle clip-path=\"url(#clip052)\" style=\"fill:#009af9; stroke:none; fill-opacity:0\" cx=\"1637.77\" cy=\"728.746\" r=\"2\"/>\n",
       "<circle clip-path=\"url(#clip052)\" style=\"fill:#009af9; stroke:none; fill-opacity:0\" cx=\"1665.57\" cy=\"254.23\" r=\"2\"/>\n",
       "<circle clip-path=\"url(#clip052)\" style=\"fill:#009af9; stroke:none; fill-opacity:0\" cx=\"1693.38\" cy=\"728.746\" r=\"2\"/>\n",
       "<circle clip-path=\"url(#clip052)\" style=\"fill:#009af9; stroke:none; fill-opacity:0\" cx=\"1721.18\" cy=\"1241.36\" r=\"2\"/>\n",
       "<circle clip-path=\"url(#clip052)\" style=\"fill:#009af9; stroke:none; fill-opacity:0\" cx=\"1748.99\" cy=\"804.946\" r=\"2\"/>\n",
       "<circle clip-path=\"url(#clip052)\" style=\"fill:#009af9; stroke:none; fill-opacity:0\" cx=\"1776.79\" cy=\"732.21\" r=\"2\"/>\n",
       "<circle clip-path=\"url(#clip052)\" style=\"fill:#009af9; stroke:none; fill-opacity:0\" cx=\"1804.6\" cy=\"1244.83\" r=\"2\"/>\n",
       "<circle clip-path=\"url(#clip052)\" style=\"fill:#009af9; stroke:none; fill-opacity:0\" cx=\"1832.41\" cy=\"1404.15\" r=\"2\"/>\n",
       "<circle clip-path=\"url(#clip052)\" style=\"fill:#009af9; stroke:none; fill-opacity:0\" cx=\"1860.21\" cy=\"1210.19\" r=\"2\"/>\n",
       "<circle clip-path=\"url(#clip052)\" style=\"fill:#009af9; stroke:none; fill-opacity:0\" cx=\"1888.02\" cy=\"1206.73\" r=\"2\"/>\n",
       "<circle clip-path=\"url(#clip052)\" style=\"fill:#009af9; stroke:none; fill-opacity:0\" cx=\"1915.82\" cy=\"1095.89\" r=\"2\"/>\n",
       "<circle clip-path=\"url(#clip052)\" style=\"fill:#009af9; stroke:none; fill-opacity:0\" cx=\"1943.63\" cy=\"791.091\" r=\"2\"/>\n",
       "<circle clip-path=\"url(#clip052)\" style=\"fill:#009af9; stroke:none; fill-opacity:0\" cx=\"1971.44\" cy=\"1099.35\" r=\"2\"/>\n",
       "<circle clip-path=\"url(#clip052)\" style=\"fill:#009af9; stroke:none; fill-opacity:0\" cx=\"1999.24\" cy=\"1227.51\" r=\"2\"/>\n",
       "<circle clip-path=\"url(#clip052)\" style=\"fill:#009af9; stroke:none; fill-opacity:0\" cx=\"2027.05\" cy=\"784.164\" r=\"2\"/>\n",
       "<circle clip-path=\"url(#clip052)\" style=\"fill:#009af9; stroke:none; fill-opacity:0\" cx=\"2054.85\" cy=\"718.355\" r=\"2\"/>\n",
       "<circle clip-path=\"url(#clip052)\" style=\"fill:#009af9; stroke:none; fill-opacity:0\" cx=\"2082.66\" cy=\"1244.83\" r=\"2\"/>\n",
       "<circle clip-path=\"url(#clip052)\" style=\"fill:#009af9; stroke:none; fill-opacity:0\" cx=\"2110.47\" cy=\"1390.3\" r=\"2\"/>\n",
       "<circle clip-path=\"url(#clip052)\" style=\"fill:#009af9; stroke:none; fill-opacity:0\" cx=\"2138.27\" cy=\"1224.04\" r=\"2\"/>\n",
       "<circle clip-path=\"url(#clip052)\" style=\"fill:#009af9; stroke:none; fill-opacity:0\" cx=\"2166.08\" cy=\"1106.28\" r=\"2\"/>\n",
       "<circle clip-path=\"url(#clip052)\" style=\"fill:#009af9; stroke:none; fill-opacity:0\" cx=\"2193.88\" cy=\"1224.04\" r=\"2\"/>\n",
       "<circle clip-path=\"url(#clip052)\" style=\"fill:#009af9; stroke:none; fill-opacity:0\" cx=\"2221.69\" cy=\"1397.22\" r=\"2\"/>\n",
       "<path clip-path=\"url(#clip050)\" d=\"\n",
       "M1985.33 198.898 L2280.06 198.898 L2280.06 95.2176 L1985.33 95.2176  Z\n",
       "  \" fill=\"#ffffff\" fill-rule=\"evenodd\" fill-opacity=\"1\"/>\n",
       "<polyline clip-path=\"url(#clip050)\" style=\"stroke:#000000; stroke-linecap:butt; stroke-linejoin:round; stroke-width:4; stroke-opacity:1; fill:none\" points=\"\n",
       "  1985.33,198.898 2280.06,198.898 2280.06,95.2176 1985.33,95.2176 1985.33,198.898 \n",
       "  \"/>\n",
       "<path clip-path=\"url(#clip050)\" d=\"\n",
       "M2009.56 167.794 L2154.94 167.794 L2154.94 126.322 L2009.56 126.322 L2009.56 167.794  Z\n",
       "  \" fill=\"#009af9\" fill-rule=\"evenodd\" fill-opacity=\"1\"/>\n",
       "<polyline clip-path=\"url(#clip050)\" style=\"stroke:#000000; stroke-linecap:butt; stroke-linejoin:round; stroke-width:4; stroke-opacity:1; fill:none\" points=\"\n",
       "  2009.56,167.794 2154.94,167.794 2154.94,126.322 2009.56,126.322 2009.56,167.794 \n",
       "  \"/>\n",
       "<path clip-path=\"url(#clip050)\" d=\"M2193.02 166.745 Q2191.21 171.375 2189.5 172.787 Q2187.78 174.199 2184.91 174.199 L2181.51 174.199 L2181.51 170.634 L2184.01 170.634 Q2185.77 170.634 2186.74 169.8 Q2187.71 168.967 2188.9 165.865 L2189.66 163.921 L2179.17 138.412 L2183.69 138.412 L2191.79 158.689 L2199.89 138.412 L2204.4 138.412 L2193.02 166.745 Z\" fill=\"#000000\" fill-rule=\"evenodd\" fill-opacity=\"1\" /><path clip-path=\"url(#clip050)\" d=\"M2211.7 160.402 L2219.34 160.402 L2219.34 134.037 L2211.03 135.703 L2211.03 131.444 L2219.29 129.778 L2223.96 129.778 L2223.96 160.402 L2231.6 160.402 L2231.6 164.338 L2211.7 164.338 L2211.7 160.402 Z\" fill=\"#000000\" fill-rule=\"evenodd\" fill-opacity=\"1\" /></svg>\n"
      ]
     },
     "execution_count": 224,
     "metadata": {},
     "output_type": "execute_result"
    }
   ],
   "source": [
    "bar([count(==(x), samples) for x in expected], xticks=(1:length(expected), string.(expected)))"
   ]
  },
  {
   "cell_type": "code",
   "execution_count": 225,
   "id": "81c272de",
   "metadata": {},
   "outputs": [
    {
     "data": {
      "text/plain": [
       "Categorical{Float64, Vector{Float64}}(support=Base.OneTo(2), p=[0.75, 0.25])"
      ]
     },
     "execution_count": 225,
     "metadata": {},
     "output_type": "execute_result"
    }
   ],
   "source": [
    "dist"
   ]
  },
  {
   "cell_type": "code",
   "execution_count": 226,
   "id": "f3c04c29",
   "metadata": {},
   "outputs": [
    {
     "data": {
      "text/plain": [
       "Multinomial{Float64, Vector{Float64}}(n=2, p=[0.5, 0.5])"
      ]
     },
     "execution_count": 226,
     "metadata": {},
     "output_type": "execute_result"
    }
   ],
   "source": [
    "dist = Multinomial(2, [0.5, 0.5])"
   ]
  },
  {
   "cell_type": "code",
   "execution_count": 227,
   "id": "5fe4768a",
   "metadata": {},
   "outputs": [
    {
     "data": {
      "text/plain": [
       "2"
      ]
     },
     "execution_count": 227,
     "metadata": {},
     "output_type": "execute_result"
    }
   ],
   "source": [
    "dist.n"
   ]
  },
  {
   "cell_type": "code",
   "execution_count": 228,
   "id": "a3c22883",
   "metadata": {},
   "outputs": [
    {
     "data": {
      "text/html": [
       "70-element Vector{Method}:<ul><li> length(d::<b>Multinomial</b>) in Distributions at <a href=\"file:///home/rdeits/.julia/packages/Distributions/vR2pk/src/multivariate/multinomial.jl\" target=\"_blank\">/home/rdeits/.julia/packages/Distributions/vR2pk/src/multivariate/multinomial.jl:45</a><li> length(s::<b>Sampleable{Multivariate}</b>) in Distributions at <a href=\"file:///home/rdeits/.julia/packages/Distributions/vR2pk/src/common.jl\" target=\"_blank\">/home/rdeits/.julia/packages/Distributions/vR2pk/src/common.jl:56</a><li> length(s::<b>Sampleable</b>) in Distributions at <a href=\"file:///home/rdeits/.julia/packages/Distributions/vR2pk/src/common.jl\" target=\"_blank\">/home/rdeits/.julia/packages/Distributions/vR2pk/src/common.jl:54</a><li> cor(d::<b>MultivariateDistribution</b>) in Distributions at <a href=\"file:///home/rdeits/.julia/packages/Distributions/vR2pk/src/multivariates.jl\" target=\"_blank\">/home/rdeits/.julia/packages/Distributions/vR2pk/src/multivariates.jl:91</a><li> cov(d::<b>Multinomial{T, TV} where TV<:AbstractVector{T}</b>)<i> where T<:Real</i> in Distributions at <a href=\"file:///home/rdeits/.julia/packages/Distributions/vR2pk/src/multivariate/multinomial.jl\" target=\"_blank\">/home/rdeits/.julia/packages/Distributions/vR2pk/src/multivariate/multinomial.jl:77</a><li> entropy(d::<b>Multinomial</b>) in Distributions at <a href=\"file:///home/rdeits/.julia/packages/Distributions/vR2pk/src/multivariate/multinomial.jl\" target=\"_blank\">/home/rdeits/.julia/packages/Distributions/vR2pk/src/multivariate/multinomial.jl:120</a><li> entropy(d::<b>MultivariateDistribution</b>, b::<b>Real</b>) in Distributions at <a href=\"file:///home/rdeits/.julia/packages/Distributions/vR2pk/src/multivariates.jl\" target=\"_blank\">/home/rdeits/.julia/packages/Distributions/vR2pk/src/multivariates.jl:77</a><li> kldivergence(P::<b>Distribution{V}</b>, Q::<b>Distribution{V}</b>; <i>kwargs...</i>)<i> where V<:VariateForm</i> in Distributions at <a href=\"file:///home/rdeits/.julia/packages/Distributions/vR2pk/src/functionals.jl\" target=\"_blank\">/home/rdeits/.julia/packages/Distributions/vR2pk/src/functionals.jl:29</a><li> kurtosis(d::<b>Distribution</b>, correction::<b>Bool</b>) in Distributions at <a href=\"file:///home/rdeits/.julia/packages/Distributions/vR2pk/src/univariates.jl\" target=\"_blank\">/home/rdeits/.julia/packages/Distributions/vR2pk/src/univariates.jl:257</a><li> loglikelihood(d::<b>Distribution{ArrayLikeVariate{N}}</b>, x::<b>AbstractArray{<:AbstractArray{<:Real, N}}</b>)<i> where N</i> in Distributions at <a href=\"file:///home/rdeits/.julia/packages/Distributions/vR2pk/src/common.jl\" target=\"_blank\">/home/rdeits/.julia/packages/Distributions/vR2pk/src/common.jl:440</a><li> loglikelihood(d::<b>Distribution{ArrayLikeVariate{N}}</b>, x::<b>AbstractArray{<:Real, N}</b>)<i> where N</i> in Distributions at <a href=\"file:///home/rdeits/.julia/packages/Distributions/vR2pk/src/common.jl\" target=\"_blank\">/home/rdeits/.julia/packages/Distributions/vR2pk/src/common.jl:422</a><li> loglikelihood(d::<b>Distribution{ArrayLikeVariate{N}}</b>, x::<b>AbstractArray{<:Real, M}</b>)<i> where {N, M}</i> in Distributions at <a href=\"file:///home/rdeits/.julia/packages/Distributions/vR2pk/src/common.jl\" target=\"_blank\">/home/rdeits/.julia/packages/Distributions/vR2pk/src/common.jl:427</a><li> mean(d::<b>Multinomial</b>) in Distributions at <a href=\"file:///home/rdeits/.julia/packages/Distributions/vR2pk/src/multivariate/multinomial.jl\" target=\"_blank\">/home/rdeits/.julia/packages/Distributions/vR2pk/src/multivariate/multinomial.jl:62</a><li> var(d::<b>Multinomial{T, TV} where TV<:AbstractVector{T}</b>)<i> where T<:Real</i> in Distributions at <a href=\"file:///home/rdeits/.julia/packages/Distributions/vR2pk/src/multivariate/multinomial.jl\" target=\"_blank\">/home/rdeits/.julia/packages/Distributions/vR2pk/src/multivariate/multinomial.jl:64</a><li> rand!(rng::<b>AbstractRNG</b>, s::<b>Sampleable{ArrayLikeVariate{N}}</b>, x::<b>AbstractArray{<:AbstractArray{<:Real, N}}</b>)<i> where N</i> in Distributions at <a href=\"file:///home/rdeits/.julia/packages/Distributions/vR2pk/src/genericrand.jl\" target=\"_blank\">/home/rdeits/.julia/packages/Distributions/vR2pk/src/genericrand.jl:122</a><li> rand!(rng::<b>AbstractRNG</b>, s::<b>Sampleable{ArrayLikeVariate{N}}</b>, x::<b>AbstractArray{<:AbstractArray{<:Real, N}}</b>, allocate::<b>Bool</b>)<i> where N</i> in Distributions at <a href=\"file:///home/rdeits/.julia/packages/Distributions/vR2pk/src/genericrand.jl\" target=\"_blank\">/home/rdeits/.julia/packages/Distributions/vR2pk/src/genericrand.jl:139</a><li> rand!(rng::<b>AbstractRNG</b>, s::<b>Sampleable{ArrayLikeVariate{N}}</b>, x::<b>AbstractArray{<:Real, N}</b>)<i> where N</i> in Distributions at <a href=\"file:///home/rdeits/.julia/packages/Distributions/vR2pk/src/genericrand.jl\" target=\"_blank\">/home/rdeits/.julia/packages/Distributions/vR2pk/src/genericrand.jl:83</a><li> rand!(rng::<b>AbstractRNG</b>, s::<b>Sampleable{ArrayLikeVariate{N}}</b>, x::<b>AbstractArray{<:Real, M}</b>)<i> where {N, M}</i> in Distributions at <a href=\"file:///home/rdeits/.julia/packages/Distributions/vR2pk/src/genericrand.jl\" target=\"_blank\">/home/rdeits/.julia/packages/Distributions/vR2pk/src/genericrand.jl:94</a><li> rand!(rng::<b>AbstractRNG</b>, s::<b>Sampleable</b>, X::<b>AbstractArray</b>) in Distributions at <a href=\"file:///home/rdeits/.julia/packages/Distributions/vR2pk/src/genericrand.jl\" target=\"_blank\">/home/rdeits/.julia/packages/Distributions/vR2pk/src/genericrand.jl:78</a><li> rand!(s::<b>Sampleable{ArrayLikeVariate{N}}</b>, x::<b>AbstractArray{<:AbstractArray{<:Real, N}}</b>, allocate::<b>Bool</b>)<i> where N</i> in Distributions at <a href=\"file:///home/rdeits/.julia/packages/Distributions/vR2pk/src/genericrand.jl\" target=\"_blank\">/home/rdeits/.julia/packages/Distributions/vR2pk/src/genericrand.jl:132</a><li> rand!(s::<b>Sampleable</b>, X::<b>AbstractArray</b>) in Distributions at <a href=\"file:///home/rdeits/.julia/packages/Distributions/vR2pk/src/genericrand.jl\" target=\"_blank\">/home/rdeits/.julia/packages/Distributions/vR2pk/src/genericrand.jl:77</a><li> ==(s1::<b>A</b>, s2::<b>B</b>; <i>kwargs...</i>)<i> where {A<:Sampleable, B<:Sampleable}</i> in Distributions at <a href=\"file:///home/rdeits/.julia/packages/Distributions/vR2pk/src/common.jl\" target=\"_blank\">/home/rdeits/.julia/packages/Distributions/vR2pk/src/common.jl:93</a><li> convert(::<b>Type{Multinomial{T, TV} where TV<:AbstractVector{T}}</b>, d::<b>Multinomial{T, TV} where TV<:AbstractVector{T}</b>)<i> where T<:Real</i> in Distributions at <a href=\"file:///home/rdeits/.julia/packages/Distributions/vR2pk/src/multivariate/multinomial.jl\" target=\"_blank\">/home/rdeits/.julia/packages/Distributions/vR2pk/src/multivariate/multinomial.jl:57</a><li> convert(::<b>Type{Multinomial{T, TV} where TV<:AbstractVector{T}}</b>, d::<b>Multinomial</b>)<i> where T<:Real</i> in Distributions at <a href=\"file:///home/rdeits/.julia/packages/Distributions/vR2pk/src/multivariate/multinomial.jl\" target=\"_blank\">/home/rdeits/.julia/packages/Distributions/vR2pk/src/multivariate/multinomial.jl:56</a><li> convert(::<b>Type{Multinomial{T, TV}}</b>, d::<b>Multinomial{T, TV}</b>)<i> where {T<:Real, TV<:AbstractVector{T}}</i> in Distributions at <a href=\"file:///home/rdeits/.julia/packages/Distributions/vR2pk/src/multivariate/multinomial.jl\" target=\"_blank\">/home/rdeits/.julia/packages/Distributions/vR2pk/src/multivariate/multinomial.jl:54</a><li> convert(::<b>Type{Multinomial{T, TV}}</b>, d::<b>Multinomial</b>)<i> where {T<:Real, TV<:AbstractVector{T}}</i> in Distributions at <a href=\"file:///home/rdeits/.julia/packages/Distributions/vR2pk/src/multivariate/multinomial.jl\" target=\"_blank\">/home/rdeits/.julia/packages/Distributions/vR2pk/src/multivariate/multinomial.jl:53</a><li> extrema(d::<b>Distribution</b>) in Distributions at <a href=\"file:///home/rdeits/.julia/packages/Distributions/vR2pk/src/common.jl\" target=\"_blank\">/home/rdeits/.julia/packages/Distributions/vR2pk/src/common.jl:170</a><li> hash(s::<b>S</b>, h::<b>UInt64</b>)<i> where S<:Sampleable</i> in Distributions at <a href=\"file:///home/rdeits/.julia/packages/Distributions/vR2pk/src/common.jl\" target=\"_blank\">/home/rdeits/.julia/packages/Distributions/vR2pk/src/common.jl:107</a><li> isapprox(s1::<b>A</b>, s2::<b>B</b>; <i>kwargs...</i>)<i> where {A<:Sampleable, B<:Sampleable}</i> in Distributions at <a href=\"file:///home/rdeits/.julia/packages/Distributions/vR2pk/src/common.jl\" target=\"_blank\">/home/rdeits/.julia/packages/Distributions/vR2pk/src/common.jl:93</a><li> isequal(s1::<b>A</b>, s2::<b>B</b>; <i>kwargs...</i>)<i> where {A<:Sampleable, B<:Sampleable}</i> in Distributions at <a href=\"file:///home/rdeits/.julia/packages/Distributions/vR2pk/src/common.jl\" target=\"_blank\">/home/rdeits/.julia/packages/Distributions/vR2pk/src/common.jl:93</a><li> rand(rng::<b>AbstractRNG</b>, s::<b>Sampleable{Multivariate}</b>, n::<b>Int64</b>) in Distributions at <a href=\"file:///home/rdeits/.julia/packages/Distributions/vR2pk/src/multivariates.jl\" target=\"_blank\">/home/rdeits/.julia/packages/Distributions/vR2pk/src/multivariates.jl:21</a><li> rand(rng::<b>AbstractRNG</b>, s::<b>Sampleable{<:ArrayLikeVariate}</b>) in Distributions at <a href=\"file:///home/rdeits/.julia/packages/Distributions/vR2pk/src/genericrand.jl\" target=\"_blank\">/home/rdeits/.julia/packages/Distributions/vR2pk/src/genericrand.jl:28</a><li> rand(rng::<b>AbstractRNG</b>, s::<b>Sampleable{<:ArrayLikeVariate}</b>, dims::<b>Tuple{Vararg{Int64, N}} where N</b>) in Distributions at <a href=\"file:///home/rdeits/.julia/packages/Distributions/vR2pk/src/genericrand.jl\" target=\"_blank\">/home/rdeits/.julia/packages/Distributions/vR2pk/src/genericrand.jl:37</a><li> rand(rng::<b>AbstractRNG</b>, s::<b>Sampleable</b>, dim1::<b>Int64</b>, moredims::<b>Int64...</b>) in Distributions at <a href=\"file:///home/rdeits/.julia/packages/Distributions/vR2pk/src/genericrand.jl\" target=\"_blank\">/home/rdeits/.julia/packages/Distributions/vR2pk/src/genericrand.jl:24</a><li> rand(s::<b>Sampleable</b>, dims::<b>Tuple{Vararg{Int64, N}} where N</b>) in Distributions at <a href=\"file:///home/rdeits/.julia/packages/Distributions/vR2pk/src/genericrand.jl\" target=\"_blank\">/home/rdeits/.julia/packages/Distributions/vR2pk/src/genericrand.jl:23</a><li> rand(s::<b>Sampleable</b>, dims::<b>Int64...</b>) in Distributions at <a href=\"file:///home/rdeits/.julia/packages/Distributions/vR2pk/src/genericrand.jl\" target=\"_blank\">/home/rdeits/.julia/packages/Distributions/vR2pk/src/genericrand.jl:22</a><li> reshape(dist::<b>Distribution{<:ArrayLikeVariate}</b>, dims1::<b>Int64</b>, dims::<b>Int64...</b>) in Distributions at <a href=\"file:///home/rdeits/.julia/packages/Distributions/vR2pk/src/reshaped.jl\" target=\"_blank\">/home/rdeits/.julia/packages/Distributions/vR2pk/src/reshaped.jl:121</a><li> reshape(dist::<b>MultivariateDistribution</b>, dims::<b>Tuple{Int64}</b>) in Distributions at <a href=\"file:///home/rdeits/.julia/packages/Distributions/vR2pk/src/reshaped.jl\" target=\"_blank\">/home/rdeits/.julia/packages/Distributions/vR2pk/src/reshaped.jl:154</a><li> reshape(dist::<b>Distribution{<:ArrayLikeVariate}</b>, dims::<b>Tuple{Vararg{Int64, N}} where N</b>) in Distributions at <a href=\"file:///home/rdeits/.julia/packages/Distributions/vR2pk/src/reshaped.jl\" target=\"_blank\">/home/rdeits/.julia/packages/Distributions/vR2pk/src/reshaped.jl:118</a><li> show(io::<b>IO</b>, d::<b>Distribution</b>) in Distributions at <a href=\"file:///home/rdeits/.julia/packages/Distributions/vR2pk/src/show.jl\" target=\"_blank\">/home/rdeits/.julia/packages/Distributions/vR2pk/src/show.jl:12</a><li> show(io::<b>IO</b>, d::<b>Distribution</b>, pnames) in Distributions at <a href=\"file:///home/rdeits/.julia/packages/Distributions/vR2pk/src/show.jl\" target=\"_blank\">/home/rdeits/.julia/packages/Distributions/vR2pk/src/show.jl:18</a><li> size(s::<b>Sampleable{Multivariate}</b>) in Distributions at <a href=\"file:///home/rdeits/.julia/packages/Distributions/vR2pk/src/common.jl\" target=\"_blank\">/home/rdeits/.julia/packages/Distributions/vR2pk/src/common.jl:66</a><li> vec(dist::<b>Distribution{<:ArrayLikeVariate}</b>) in Distributions at <a href=\"file:///home/rdeits/.julia/packages/Distributions/vR2pk/src/reshaped.jl\" target=\"_blank\">/home/rdeits/.julia/packages/Distributions/vR2pk/src/reshaped.jl:143</a><li> (MatrixReshaped{S} where S<:ValueSupport)(d::<b>MultivariateDistribution</b>, n::<b>Integer</b>) in Distributions at <a href=\"file:///home/rdeits/apps/julia-1.7.1/share/julia/base/deprecated.jl\" target=\"_blank\">deprecated.jl:70</a><li> (MatrixReshaped{S} where S<:ValueSupport)(d::<b>MultivariateDistribution</b>, n::<b>Integer</b>, p::<b>Integer</b>) in Distributions at <a href=\"file:///home/rdeits/apps/julia-1.7.1/share/julia/base/deprecated.jl\" target=\"_blank\">deprecated.jl:70</a><li> cf(d::<b>Multinomial{T, TV} where TV<:AbstractVector{T}</b>, t::<b>AbstractVector</b>)<i> where T<:Real</i> in Distributions at <a href=\"file:///home/rdeits/.julia/packages/Distributions/vR2pk/src/multivariate/multinomial.jl\" target=\"_blank\">/home/rdeits/.julia/packages/Distributions/vR2pk/src/multivariate/multinomial.jl:110</a><li> insupport(d::<b>Multinomial</b>, x::<b>AbstractVector{T}</b>)<i> where T<:Real</i> in Distributions at <a href=\"file:///home/rdeits/.julia/packages/Distributions/vR2pk/src/multivariate/multinomial.jl\" target=\"_blank\">/home/rdeits/.julia/packages/Distributions/vR2pk/src/multivariate/multinomial.jl:135</a><li> insupport(d::<b>Union{Type{D}, D}</b>, X::<b>AbstractMatrix</b>)<i> where D<:(MultivariateDistribution)</i> in Distributions at <a href=\"file:///home/rdeits/.julia/packages/Distributions/vR2pk/src/multivariates.jl\" target=\"_blank\">/home/rdeits/.julia/packages/Distributions/vR2pk/src/multivariates.jl:46</a><li> logpdf(d::<b>Distribution{ArrayLikeVariate{N}}</b>, x::<b>AbstractArray{<:Real, N}</b>)<i> where N</i> in Distributions at <a href=\"file:///home/rdeits/.julia/packages/Distributions/vR2pk/src/common.jl\" target=\"_blank\">/home/rdeits/.julia/packages/Distributions/vR2pk/src/common.jl:217</a><li> logpdf(d::<b>Distribution{ArrayLikeVariate{N}}</b>, x::<b>AbstractArray{<:AbstractArray{<:Real, N}}</b>)<i> where N</i> in Distributions at <a href=\"file:///home/rdeits/.julia/packages/Distributions/vR2pk/src/common.jl\" target=\"_blank\">/home/rdeits/.julia/packages/Distributions/vR2pk/src/common.jl:276</a><li> logpdf(d::<b>Distribution{ArrayLikeVariate{N}}</b>, x::<b>AbstractArray{<:Real, M}</b>)<i> where {N, M}</i> in Distributions at <a href=\"file:///home/rdeits/.julia/packages/Distributions/vR2pk/src/common.jl\" target=\"_blank\">/home/rdeits/.julia/packages/Distributions/vR2pk/src/common.jl:282</a><li> logpdf!(out::<b>AbstractArray{<:Real}</b>, d::<b>Distribution{ArrayLikeVariate{N}}</b>, x::<b>AbstractArray{<:AbstractArray{<:Real, N}, M}</b>)<i> where {N, M}</i> in Distributions at <a href=\"file:///home/rdeits/.julia/packages/Distributions/vR2pk/src/common.jl\" target=\"_blank\">/home/rdeits/.julia/packages/Distributions/vR2pk/src/common.jl:326</a><li> logpdf!(out::<b>AbstractArray{<:Real}</b>, d::<b>Distribution{ArrayLikeVariate{N}}</b>, x::<b>AbstractArray{<:Real, M}</b>)<i> where {N, M}</i> in Distributions at <a href=\"file:///home/rdeits/.julia/packages/Distributions/vR2pk/src/common.jl\" target=\"_blank\">/home/rdeits/.julia/packages/Distributions/vR2pk/src/common.jl:383</a><li> mgf(d::<b>Multinomial{T, TV} where TV<:AbstractVector{T}</b>, t::<b>AbstractVector</b>)<i> where T<:Real</i> in Distributions at <a href=\"file:///home/rdeits/.julia/packages/Distributions/vR2pk/src/multivariate/multinomial.jl\" target=\"_blank\">/home/rdeits/.julia/packages/Distributions/vR2pk/src/multivariate/multinomial.jl:100</a><li> ncategories(d::<b>Multinomial</b>) in Distributions at <a href=\"file:///home/rdeits/.julia/packages/Distributions/vR2pk/src/multivariate/multinomial.jl\" target=\"_blank\">/home/rdeits/.julia/packages/Distributions/vR2pk/src/multivariate/multinomial.jl:44</a><li> ntrials(d::<b>Multinomial</b>) in Distributions at <a href=\"file:///home/rdeits/.julia/packages/Distributions/vR2pk/src/multivariate/multinomial.jl\" target=\"_blank\">/home/rdeits/.julia/packages/Distributions/vR2pk/src/multivariate/multinomial.jl:47</a><li> params(d::<b>Multinomial</b>) in Distributions at <a href=\"file:///home/rdeits/.julia/packages/Distributions/vR2pk/src/multivariate/multinomial.jl\" target=\"_blank\">/home/rdeits/.julia/packages/Distributions/vR2pk/src/multivariate/multinomial.jl:49</a><li> partype(d::<b>Multinomial{T, TV} where TV<:AbstractVector{T}</b>)<i> where T<:Real</i> in Distributions at <a href=\"file:///home/rdeits/.julia/packages/Distributions/vR2pk/src/multivariate/multinomial.jl\" target=\"_blank\">/home/rdeits/.julia/packages/Distributions/vR2pk/src/multivariate/multinomial.jl:50</a><li> partype(::<b>Distribution</b>) in Distributions at <a href=\"file:///home/rdeits/.julia/packages/Distributions/vR2pk/src/utils.jl\" target=\"_blank\">/home/rdeits/.julia/packages/Distributions/vR2pk/src/utils.jl:23</a><li> pdf(d::<b>Distribution{ArrayLikeVariate{N}}</b>, x::<b>AbstractArray{<:Real, N}</b>)<i> where N</i> in Distributions at <a href=\"file:///home/rdeits/.julia/packages/Distributions/vR2pk/src/common.jl\" target=\"_blank\">/home/rdeits/.julia/packages/Distributions/vR2pk/src/common.jl:188</a><li> pdf(d::<b>Distribution{ArrayLikeVariate{N}}</b>, x::<b>AbstractArray{<:AbstractArray{<:Real, N}}</b>)<i> where N</i> in Distributions at <a href=\"file:///home/rdeits/.julia/packages/Distributions/vR2pk/src/common.jl\" target=\"_blank\">/home/rdeits/.julia/packages/Distributions/vR2pk/src/common.jl:243</a><li> pdf(d::<b>Distribution{ArrayLikeVariate{N}}</b>, x::<b>AbstractArray{<:Real, M}</b>)<i> where {N, M}</i> in Distributions at <a href=\"file:///home/rdeits/.julia/packages/Distributions/vR2pk/src/common.jl\" target=\"_blank\">/home/rdeits/.julia/packages/Distributions/vR2pk/src/common.jl:249</a><li> probs(d::<b>Multinomial</b>) in Distributions at <a href=\"file:///home/rdeits/.julia/packages/Distributions/vR2pk/src/multivariate/multinomial.jl\" target=\"_blank\">/home/rdeits/.julia/packages/Distributions/vR2pk/src/multivariate/multinomial.jl:46</a><li> sampler(d::<b>Multinomial</b>) in Distributions at <a href=\"file:///home/rdeits/.julia/packages/Distributions/vR2pk/src/multivariate/multinomial.jl\" target=\"_blank\">/home/rdeits/.julia/packages/Distributions/vR2pk/src/multivariate/multinomial.jl:171</a><li> sampler(s::<b>Sampleable</b>) in Distributions at <a href=\"file:///home/rdeits/.julia/packages/Distributions/vR2pk/src/genericrand.jl\" target=\"_blank\">/home/rdeits/.julia/packages/Distributions/vR2pk/src/genericrand.jl:183</a><li> DensityInterface.DensityKind(::<b>Distribution</b>) in Distributions at <a href=\"file:///home/rdeits/.julia/packages/Distributions/vR2pk/src/density_interface.jl\" target=\"_blank\">/home/rdeits/.julia/packages/Distributions/vR2pk/src/density_interface.jl:1</a><li> densityof(d::<b>MultivariateDistribution</b>, x::<b>AbstractMatrix</b>) in Distributions at <a href=\"file:///home/rdeits/.julia/packages/Distributions/vR2pk/src/density_interface.jl\" target=\"_blank\">/home/rdeits/.julia/packages/Distributions/vR2pk/src/density_interface.jl:11</a><li> densityof(d::<b>Distribution</b>, x) in Distributions at <a href=\"file:///home/rdeits/.julia/packages/Distributions/vR2pk/src/density_interface.jl\" target=\"_blank\">/home/rdeits/.julia/packages/Distributions/vR2pk/src/density_interface.jl:5</a><li> logdensityof(d::<b>MultivariateDistribution</b>, x::<b>AbstractMatrix</b>) in Distributions at <a href=\"file:///home/rdeits/.julia/packages/Distributions/vR2pk/src/density_interface.jl\" target=\"_blank\">/home/rdeits/.julia/packages/Distributions/vR2pk/src/density_interface.jl:11</a><li> logdensityof(d::<b>Distribution</b>, x) in Distributions at <a href=\"file:///home/rdeits/.julia/packages/Distributions/vR2pk/src/density_interface.jl\" target=\"_blank\">/home/rdeits/.julia/packages/Distributions/vR2pk/src/density_interface.jl:5</a></ul>"
      ],
      "text/plain": [
       "[1] length(d::Multinomial) in Distributions at /home/rdeits/.julia/packages/Distributions/vR2pk/src/multivariate/multinomial.jl:45\n",
       "[2] length(s::Sampleable{Multivariate}) in Distributions at /home/rdeits/.julia/packages/Distributions/vR2pk/src/common.jl:56\n",
       "[3] length(s::Sampleable) in Distributions at /home/rdeits/.julia/packages/Distributions/vR2pk/src/common.jl:54\n",
       "[4] cor(d::MultivariateDistribution) in Distributions at /home/rdeits/.julia/packages/Distributions/vR2pk/src/multivariates.jl:91\n",
       "[5] cov(d::Multinomial{T, TV} where TV<:AbstractVector{T}) where T<:Real in Distributions at /home/rdeits/.julia/packages/Distributions/vR2pk/src/multivariate/multinomial.jl:77\n",
       "[6] entropy(d::Multinomial) in Distributions at /home/rdeits/.julia/packages/Distributions/vR2pk/src/multivariate/multinomial.jl:120\n",
       "[7] entropy(d::MultivariateDistribution, b::Real) in Distributions at /home/rdeits/.julia/packages/Distributions/vR2pk/src/multivariates.jl:77\n",
       "[8] kldivergence(P::Distribution{V}, Q::Distribution{V}; kwargs...) where V<:VariateForm in Distributions at /home/rdeits/.julia/packages/Distributions/vR2pk/src/functionals.jl:29\n",
       "[9] kurtosis(d::Distribution, correction::Bool) in Distributions at /home/rdeits/.julia/packages/Distributions/vR2pk/src/univariates.jl:257\n",
       "[10] loglikelihood(d::Distribution{ArrayLikeVariate{N}}, x::AbstractArray{<:AbstractArray{<:Real, N}}) where N in Distributions at /home/rdeits/.julia/packages/Distributions/vR2pk/src/common.jl:440\n",
       "[11] loglikelihood(d::Distribution{ArrayLikeVariate{N}}, x::AbstractArray{<:Real, N}) where N in Distributions at /home/rdeits/.julia/packages/Distributions/vR2pk/src/common.jl:422\n",
       "[12] loglikelihood(d::Distribution{ArrayLikeVariate{N}}, x::AbstractArray{<:Real, M}) where {N, M} in Distributions at /home/rdeits/.julia/packages/Distributions/vR2pk/src/common.jl:427\n",
       "[13] mean(d::Multinomial) in Distributions at /home/rdeits/.julia/packages/Distributions/vR2pk/src/multivariate/multinomial.jl:62\n",
       "[14] var(d::Multinomial{T, TV} where TV<:AbstractVector{T}) where T<:Real in Distributions at /home/rdeits/.julia/packages/Distributions/vR2pk/src/multivariate/multinomial.jl:64\n",
       "[15] rand!(rng::AbstractRNG, s::Sampleable{ArrayLikeVariate{N}}, x::AbstractArray{<:AbstractArray{<:Real, N}}) where N in Distributions at /home/rdeits/.julia/packages/Distributions/vR2pk/src/genericrand.jl:122\n",
       "[16] rand!(rng::AbstractRNG, s::Sampleable{ArrayLikeVariate{N}}, x::AbstractArray{<:AbstractArray{<:Real, N}}, allocate::Bool) where N in Distributions at /home/rdeits/.julia/packages/Distributions/vR2pk/src/genericrand.jl:139\n",
       "[17] rand!(rng::AbstractRNG, s::Sampleable{ArrayLikeVariate{N}}, x::AbstractArray{<:Real, N}) where N in Distributions at /home/rdeits/.julia/packages/Distributions/vR2pk/src/genericrand.jl:83\n",
       "[18] rand!(rng::AbstractRNG, s::Sampleable{ArrayLikeVariate{N}}, x::AbstractArray{<:Real, M}) where {N, M} in Distributions at /home/rdeits/.julia/packages/Distributions/vR2pk/src/genericrand.jl:94\n",
       "[19] rand!(rng::AbstractRNG, s::Sampleable, X::AbstractArray) in Distributions at /home/rdeits/.julia/packages/Distributions/vR2pk/src/genericrand.jl:78\n",
       "[20] rand!(s::Sampleable{ArrayLikeVariate{N}}, x::AbstractArray{<:AbstractArray{<:Real, N}}, allocate::Bool) where N in Distributions at /home/rdeits/.julia/packages/Distributions/vR2pk/src/genericrand.jl:132\n",
       "[21] rand!(s::Sampleable, X::AbstractArray) in Distributions at /home/rdeits/.julia/packages/Distributions/vR2pk/src/genericrand.jl:77\n",
       "[22] ==(s1::A, s2::B; kwargs...) where {A<:Sampleable, B<:Sampleable} in Distributions at /home/rdeits/.julia/packages/Distributions/vR2pk/src/common.jl:93\n",
       "[23] convert(::Type{Multinomial{T, TV} where TV<:AbstractVector{T}}, d::Multinomial{T, TV} where TV<:AbstractVector{T}) where T<:Real in Distributions at /home/rdeits/.julia/packages/Distributions/vR2pk/src/multivariate/multinomial.jl:57\n",
       "[24] convert(::Type{Multinomial{T, TV} where TV<:AbstractVector{T}}, d::Multinomial) where T<:Real in Distributions at /home/rdeits/.julia/packages/Distributions/vR2pk/src/multivariate/multinomial.jl:56\n",
       "[25] convert(::Type{Multinomial{T, TV}}, d::Multinomial{T, TV}) where {T<:Real, TV<:AbstractVector{T}} in Distributions at /home/rdeits/.julia/packages/Distributions/vR2pk/src/multivariate/multinomial.jl:54\n",
       "[26] convert(::Type{Multinomial{T, TV}}, d::Multinomial) where {T<:Real, TV<:AbstractVector{T}} in Distributions at /home/rdeits/.julia/packages/Distributions/vR2pk/src/multivariate/multinomial.jl:53\n",
       "[27] extrema(d::Distribution) in Distributions at /home/rdeits/.julia/packages/Distributions/vR2pk/src/common.jl:170\n",
       "[28] hash(s::S, h::UInt64) where S<:Sampleable in Distributions at /home/rdeits/.julia/packages/Distributions/vR2pk/src/common.jl:107\n",
       "[29] isapprox(s1::A, s2::B; kwargs...) where {A<:Sampleable, B<:Sampleable} in Distributions at /home/rdeits/.julia/packages/Distributions/vR2pk/src/common.jl:93\n",
       "[30] isequal(s1::A, s2::B; kwargs...) where {A<:Sampleable, B<:Sampleable} in Distributions at /home/rdeits/.julia/packages/Distributions/vR2pk/src/common.jl:93\n",
       "[31] rand(rng::AbstractRNG, s::Sampleable{Multivariate}, n::Int64) in Distributions at /home/rdeits/.julia/packages/Distributions/vR2pk/src/multivariates.jl:21\n",
       "[32] rand(rng::AbstractRNG, s::Sampleable{<:ArrayLikeVariate}) in Distributions at /home/rdeits/.julia/packages/Distributions/vR2pk/src/genericrand.jl:28\n",
       "[33] rand(rng::AbstractRNG, s::Sampleable{<:ArrayLikeVariate}, dims::Tuple{Vararg{Int64, N}} where N) in Distributions at /home/rdeits/.julia/packages/Distributions/vR2pk/src/genericrand.jl:37\n",
       "[34] rand(rng::AbstractRNG, s::Sampleable, dim1::Int64, moredims::Int64...) in Distributions at /home/rdeits/.julia/packages/Distributions/vR2pk/src/genericrand.jl:24\n",
       "[35] rand(s::Sampleable, dims::Tuple{Vararg{Int64, N}} where N) in Distributions at /home/rdeits/.julia/packages/Distributions/vR2pk/src/genericrand.jl:23\n",
       "[36] rand(s::Sampleable, dims::Int64...) in Distributions at /home/rdeits/.julia/packages/Distributions/vR2pk/src/genericrand.jl:22\n",
       "[37] reshape(dist::Distribution{<:ArrayLikeVariate}, dims1::Int64, dims::Int64...) in Distributions at /home/rdeits/.julia/packages/Distributions/vR2pk/src/reshaped.jl:121\n",
       "[38] reshape(dist::MultivariateDistribution, dims::Tuple{Int64}) in Distributions at /home/rdeits/.julia/packages/Distributions/vR2pk/src/reshaped.jl:154\n",
       "[39] reshape(dist::Distribution{<:ArrayLikeVariate}, dims::Tuple{Vararg{Int64, N}} where N) in Distributions at /home/rdeits/.julia/packages/Distributions/vR2pk/src/reshaped.jl:118\n",
       "[40] show(io::IO, d::Distribution) in Distributions at /home/rdeits/.julia/packages/Distributions/vR2pk/src/show.jl:12\n",
       "[41] show(io::IO, d::Distribution, pnames) in Distributions at /home/rdeits/.julia/packages/Distributions/vR2pk/src/show.jl:18\n",
       "[42] size(s::Sampleable{Multivariate}) in Distributions at /home/rdeits/.julia/packages/Distributions/vR2pk/src/common.jl:66\n",
       "[43] vec(dist::Distribution{<:ArrayLikeVariate}) in Distributions at /home/rdeits/.julia/packages/Distributions/vR2pk/src/reshaped.jl:143\n",
       "[44] (MatrixReshaped{S} where S<:ValueSupport)(d::MultivariateDistribution, n::Integer) in Distributions at deprecated.jl:70\n",
       "[45] (MatrixReshaped{S} where S<:ValueSupport)(d::MultivariateDistribution, n::Integer, p::Integer) in Distributions at deprecated.jl:70\n",
       "[46] cf(d::Multinomial{T, TV} where TV<:AbstractVector{T}, t::AbstractVector) where T<:Real in Distributions at /home/rdeits/.julia/packages/Distributions/vR2pk/src/multivariate/multinomial.jl:110\n",
       "[47] insupport(d::Multinomial, x::AbstractVector{T}) where T<:Real in Distributions at /home/rdeits/.julia/packages/Distributions/vR2pk/src/multivariate/multinomial.jl:135\n",
       "[48] insupport(d::Union{Type{D}, D}, X::AbstractMatrix) where D<:(MultivariateDistribution) in Distributions at /home/rdeits/.julia/packages/Distributions/vR2pk/src/multivariates.jl:46\n",
       "[49] logpdf(d::Distribution{ArrayLikeVariate{N}}, x::AbstractArray{<:Real, N}) where N in Distributions at /home/rdeits/.julia/packages/Distributions/vR2pk/src/common.jl:217\n",
       "[50] logpdf(d::Distribution{ArrayLikeVariate{N}}, x::AbstractArray{<:AbstractArray{<:Real, N}}) where N in Distributions at /home/rdeits/.julia/packages/Distributions/vR2pk/src/common.jl:276\n",
       "[51] logpdf(d::Distribution{ArrayLikeVariate{N}}, x::AbstractArray{<:Real, M}) where {N, M} in Distributions at /home/rdeits/.julia/packages/Distributions/vR2pk/src/common.jl:282\n",
       "[52] logpdf!(out::AbstractArray{<:Real}, d::Distribution{ArrayLikeVariate{N}}, x::AbstractArray{<:AbstractArray{<:Real, N}, M}) where {N, M} in Distributions at /home/rdeits/.julia/packages/Distributions/vR2pk/src/common.jl:326\n",
       "[53] logpdf!(out::AbstractArray{<:Real}, d::Distribution{ArrayLikeVariate{N}}, x::AbstractArray{<:Real, M}) where {N, M} in Distributions at /home/rdeits/.julia/packages/Distributions/vR2pk/src/common.jl:383\n",
       "[54] mgf(d::Multinomial{T, TV} where TV<:AbstractVector{T}, t::AbstractVector) where T<:Real in Distributions at /home/rdeits/.julia/packages/Distributions/vR2pk/src/multivariate/multinomial.jl:100\n",
       "[55] ncategories(d::Multinomial) in Distributions at /home/rdeits/.julia/packages/Distributions/vR2pk/src/multivariate/multinomial.jl:44\n",
       "[56] ntrials(d::Multinomial) in Distributions at /home/rdeits/.julia/packages/Distributions/vR2pk/src/multivariate/multinomial.jl:47\n",
       "[57] params(d::Multinomial) in Distributions at /home/rdeits/.julia/packages/Distributions/vR2pk/src/multivariate/multinomial.jl:49\n",
       "[58] partype(d::Multinomial{T, TV} where TV<:AbstractVector{T}) where T<:Real in Distributions at /home/rdeits/.julia/packages/Distributions/vR2pk/src/multivariate/multinomial.jl:50\n",
       "[59] partype(::Distribution) in Distributions at /home/rdeits/.julia/packages/Distributions/vR2pk/src/utils.jl:23\n",
       "[60] pdf(d::Distribution{ArrayLikeVariate{N}}, x::AbstractArray{<:Real, N}) where N in Distributions at /home/rdeits/.julia/packages/Distributions/vR2pk/src/common.jl:188\n",
       "[61] pdf(d::Distribution{ArrayLikeVariate{N}}, x::AbstractArray{<:AbstractArray{<:Real, N}}) where N in Distributions at /home/rdeits/.julia/packages/Distributions/vR2pk/src/common.jl:243\n",
       "[62] pdf(d::Distribution{ArrayLikeVariate{N}}, x::AbstractArray{<:Real, M}) where {N, M} in Distributions at /home/rdeits/.julia/packages/Distributions/vR2pk/src/common.jl:249\n",
       "[63] probs(d::Multinomial) in Distributions at /home/rdeits/.julia/packages/Distributions/vR2pk/src/multivariate/multinomial.jl:46\n",
       "[64] sampler(d::Multinomial) in Distributions at /home/rdeits/.julia/packages/Distributions/vR2pk/src/multivariate/multinomial.jl:171\n",
       "[65] sampler(s::Sampleable) in Distributions at /home/rdeits/.julia/packages/Distributions/vR2pk/src/genericrand.jl:183\n",
       "[66] DensityInterface.DensityKind(::Distribution) in Distributions at /home/rdeits/.julia/packages/Distributions/vR2pk/src/density_interface.jl:1\n",
       "[67] densityof(d::MultivariateDistribution, x::AbstractMatrix) in Distributions at /home/rdeits/.julia/packages/Distributions/vR2pk/src/density_interface.jl:11\n",
       "[68] densityof(d::Distribution, x) in Distributions at /home/rdeits/.julia/packages/Distributions/vR2pk/src/density_interface.jl:5\n",
       "[69] logdensityof(d::MultivariateDistribution, x::AbstractMatrix) in Distributions at /home/rdeits/.julia/packages/Distributions/vR2pk/src/density_interface.jl:11\n",
       "[70] logdensityof(d::Distribution, x) in Distributions at /home/rdeits/.julia/packages/Distributions/vR2pk/src/density_interface.jl:5"
      ]
     },
     "execution_count": 228,
     "metadata": {},
     "output_type": "execute_result"
    }
   ],
   "source": [
    "methodswith(typeof(dist), supertypes=true)"
   ]
  },
  {
   "cell_type": "code",
   "execution_count": 229,
   "id": "35f653a3",
   "metadata": {},
   "outputs": [
    {
     "data": {
      "text/plain": [
       "multinomial_monte_carlo_test (generic function with 2 methods)"
      ]
     },
     "execution_count": 229,
     "metadata": {},
     "output_type": "execute_result"
    }
   ],
   "source": [
    "\n",
    "function multinomial_exact_test(dist::Multinomial, observed_counts::AbstractVector{<:Integer})\n",
    "    observed_pdf = pdf(dist, observed_counts)\n",
    "    permutations_to_consider = multiexponents(length(observed_counts), dist.n)\n",
    "    sum(permutations_to_consider) do sample\n",
    "        p = pdf(dist, sample)\n",
    "        if p <= observed_pdf\n",
    "            p\n",
    "        else\n",
    "            zero(typeof(p))\n",
    "        end\n",
    "    end\n",
    "end\n",
    "\n",
    "function multinomial_monte_carlo_test(dist::Multinomial, observed_counts::AbstractVector{<:Integer}, n_samples=1_000_000)\n",
    "    observed_pdf = pdf(dist, observed_counts)\n",
    "    n_more_extreme_samples = 0\n",
    "\n",
    "    for i in 1:n_samples\n",
    "        sample = rand(dist)\n",
    "        if sample != observed_counts && pdf(dist, sample) <= observed_pdf\n",
    "            n_more_extreme_samples += 1\n",
    "        end\n",
    "    end\n",
    "    observed_pdf + n_more_extreme_samples / n_samples\n",
    "end"
   ]
  },
  {
   "cell_type": "code",
   "execution_count": 237,
   "id": "cf172f70",
   "metadata": {},
   "outputs": [
    {
     "data": {
      "text/plain": [
       "3-element Vector{Int64}:\n",
       " 0\n",
       " 0\n",
       " 6"
      ]
     },
     "execution_count": 237,
     "metadata": {},
     "output_type": "execute_result"
    }
   ],
   "source": [
    "dist = Multinomial(6, normalize([1,2,3], 1))\n",
    "\n",
    "obs = [0, 0, 6]"
   ]
  },
  {
   "cell_type": "code",
   "execution_count": 238,
   "id": "8eede2f0",
   "metadata": {},
   "outputs": [
    {
     "data": {
      "text/plain": [
       "0.07773919753086422"
      ]
     },
     "execution_count": 238,
     "metadata": {},
     "output_type": "execute_result"
    }
   ],
   "source": [
    "multinomial_exact_test(dist, obs)"
   ]
  },
  {
   "cell_type": "code",
   "execution_count": 239,
   "id": "49e17def",
   "metadata": {},
   "outputs": [
    {
     "data": {
      "text/plain": [
       "0.078044"
      ]
     },
     "execution_count": 239,
     "metadata": {},
     "output_type": "execute_result"
    }
   ],
   "source": [
    "multinomial_monte_carlo_test(dist, obs)"
   ]
  },
  {
   "cell_type": "code",
   "execution_count": 240,
   "id": "b24fbecb",
   "metadata": {},
   "outputs": [
    {
     "ename": "LoadError",
     "evalue": "UndefVarError: subsets not defined",
     "output_type": "error",
     "traceback": [
      "UndefVarError: subsets not defined",
      "",
      "Stacktrace:",
      " [1] top-level scope",
      "   @ :0",
      " [2] eval",
      "   @ ./boot.jl:373 [inlined]",
      " [3] include_string(mapexpr::typeof(REPL.softscope), mod::Module, code::String, filename::String)",
      "   @ Base ./loading.jl:1196"
     ]
    }
   ],
   "source": [
    "subsets"
   ]
  },
  {
   "cell_type": "code",
   "execution_count": 244,
   "id": "9e901d13",
   "metadata": {},
   "outputs": [
    {
     "data": {
      "text/plain": [
       "18564"
      ]
     },
     "execution_count": 244,
     "metadata": {},
     "output_type": "execute_result"
    }
   ],
   "source": [
    "length(combinations(1:18, 6))"
   ]
  },
  {
   "cell_type": "code",
   "execution_count": 243,
   "id": "493174f9",
   "metadata": {},
   "outputs": [
    {
     "name": "stdout",
     "output_type": "stream",
     "text": [
      "search: \u001b[0m\u001b[1mc\u001b[22m\u001b[0m\u001b[1mo\u001b[22m\u001b[0m\u001b[1mm\u001b[22m\u001b[0m\u001b[1mb\u001b[22m\u001b[0m\u001b[1mi\u001b[22m\u001b[0m\u001b[1mn\u001b[22m\u001b[0m\u001b[1ma\u001b[22m\u001b[0m\u001b[1mt\u001b[22m\u001b[0m\u001b[1mi\u001b[22m\u001b[0m\u001b[1mo\u001b[22m\u001b[0m\u001b[1mn\u001b[22m\u001b[0m\u001b[1ms\u001b[22m multiset_\u001b[0m\u001b[1mc\u001b[22m\u001b[0m\u001b[1mo\u001b[22m\u001b[0m\u001b[1mm\u001b[22m\u001b[0m\u001b[1mb\u001b[22m\u001b[0m\u001b[1mi\u001b[22m\u001b[0m\u001b[1mn\u001b[22m\u001b[0m\u001b[1ma\u001b[22m\u001b[0m\u001b[1mt\u001b[22m\u001b[0m\u001b[1mi\u001b[22m\u001b[0m\u001b[1mo\u001b[22m\u001b[0m\u001b[1mn\u001b[22m\u001b[0m\u001b[1ms\u001b[22m \u001b[0m\u001b[1mC\u001b[22m\u001b[0m\u001b[1mo\u001b[22molLexCo\u001b[0m\u001b[1mm\u001b[22m\u001b[0m\u001b[1mb\u001b[22m\u001b[0m\u001b[1mi\u001b[22m\u001b[0m\u001b[1mn\u001b[22m\u001b[0m\u001b[1ma\u001b[22m\u001b[0m\u001b[1mt\u001b[22m\u001b[0m\u001b[1mi\u001b[22m\u001b[0m\u001b[1mo\u001b[22m\u001b[0m\u001b[1mn\u001b[22m\u001b[0m\u001b[1ms\u001b[22m\n",
      "\n"
     ]
    },
    {
     "data": {
      "text/latex": [
       "\\begin{verbatim}\n",
       "combinations(a, n)\n",
       "\\end{verbatim}\n",
       "Generate all combinations of \\texttt{n} elements from an indexable object \\texttt{a}. Because the number of combinations can be very large, this function returns an iterator object. Use \\texttt{collect(combinations(a, n))} to get an array of all combinations.\n",
       "\n",
       "\\rule{\\textwidth}{1pt}\n",
       "\\begin{verbatim}\n",
       "combinations(a)\n",
       "\\end{verbatim}\n",
       "Generate combinations of the elements of \\texttt{a} of all orders. Chaining of order iterators is eager, but the sequence at each order is lazy.\n",
       "\n"
      ],
      "text/markdown": [
       "```\n",
       "combinations(a, n)\n",
       "```\n",
       "\n",
       "Generate all combinations of `n` elements from an indexable object `a`. Because the number of combinations can be very large, this function returns an iterator object. Use `collect(combinations(a, n))` to get an array of all combinations.\n",
       "\n",
       "---\n",
       "\n",
       "```\n",
       "combinations(a)\n",
       "```\n",
       "\n",
       "Generate combinations of the elements of `a` of all orders. Chaining of order iterators is eager, but the sequence at each order is lazy.\n"
      ],
      "text/plain": [
       "\u001b[36m  combinations(a, n)\u001b[39m\n",
       "\n",
       "  Generate all combinations of \u001b[36mn\u001b[39m elements from an indexable object \u001b[36ma\u001b[39m. Because\n",
       "  the number of combinations can be very large, this function returns an\n",
       "  iterator object. Use \u001b[36mcollect(combinations(a, n))\u001b[39m to get an array of all\n",
       "  combinations.\n",
       "\n",
       "  ────────────────────────────────────────────────────────────────────────────\n",
       "\n",
       "\u001b[36m  combinations(a)\u001b[39m\n",
       "\n",
       "  Generate combinations of the elements of \u001b[36ma\u001b[39m of all orders. Chaining of order\n",
       "  iterators is eager, but the sequence at each order is lazy."
      ]
     },
     "execution_count": 243,
     "metadata": {},
     "output_type": "execute_result"
    }
   ],
   "source": [
    "?combinations"
   ]
  },
  {
   "cell_type": "code",
   "execution_count": null,
   "id": "61fff22a",
   "metadata": {},
   "outputs": [],
   "source": []
  }
 ],
 "metadata": {
  "kernelspec": {
   "display_name": "Julia 1.7.1",
   "language": "julia",
   "name": "julia-1.7"
  },
  "language_info": {
   "file_extension": ".jl",
   "mimetype": "application/julia",
   "name": "julia",
   "version": "1.7.1"
  }
 },
 "nbformat": 4,
 "nbformat_minor": 5
}
