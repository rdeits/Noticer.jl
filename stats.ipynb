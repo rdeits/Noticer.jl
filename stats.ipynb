{
 "cells": [
  {
   "cell_type": "code",
   "execution_count": 1,
   "id": "cd75f3c4",
   "metadata": {},
   "outputs": [
    {
     "name": "stderr",
     "output_type": "stream",
     "text": [
      "\u001b[32m\u001b[1m  Activating\u001b[22m\u001b[39m new project at `~/Projects/Noticer.jl`\n"
     ]
    }
   ],
   "source": [
    "]activate ."
   ]
  },
  {
   "cell_type": "code",
   "execution_count": 3,
   "id": "510d76f8",
   "metadata": {},
   "outputs": [],
   "source": [
    "using PuzzleTools"
   ]
  },
  {
   "cell_type": "code",
   "execution_count": 8,
   "id": "4b516cb7",
   "metadata": {},
   "outputs": [],
   "source": [
    "words = PuzzleTools.Wordsets.unixwords();"
   ]
  },
  {
   "cell_type": "code",
   "execution_count": 10,
   "id": "e74a147d",
   "metadata": {},
   "outputs": [],
   "source": [
    "using Distributions"
   ]
  },
  {
   "cell_type": "code",
   "execution_count": 11,
   "id": "07379f49",
   "metadata": {},
   "outputs": [],
   "source": [
    "using LinearAlgebra: normalize"
   ]
  },
  {
   "cell_type": "code",
   "execution_count": 16,
   "id": "e3aa36a9",
   "metadata": {},
   "outputs": [
    {
     "data": {
      "text/plain": [
       "Multinomial{Float64, Vector{Float64}}(n=3, p=[0.16666666666666666, 0.3333333333333333, 0.5])"
      ]
     },
     "execution_count": 16,
     "metadata": {},
     "output_type": "execute_result"
    }
   ],
   "source": [
    "dist = Multinomial(3, normalize([1, 2, 3], 1))"
   ]
  },
  {
   "cell_type": "code",
   "execution_count": 24,
   "id": "af06598f",
   "metadata": {},
   "outputs": [
    {
     "data": {
      "text/plain": [
       "0.05555555555555554"
      ]
     },
     "execution_count": 24,
     "metadata": {},
     "output_type": "execute_result"
    }
   ],
   "source": [
    "pdf(dist, [1, 2, 0])"
   ]
  },
  {
   "cell_type": "code",
   "execution_count": 27,
   "id": "4eaa8bf1",
   "metadata": {},
   "outputs": [
    {
     "data": {
      "text/plain": [
       "0.12500000000000003"
      ]
     },
     "execution_count": 27,
     "metadata": {},
     "output_type": "execute_result"
    }
   ],
   "source": [
    "pdf(dist, [0, 0, 3])"
   ]
  },
  {
   "cell_type": "code",
   "execution_count": 28,
   "id": "aef87f77",
   "metadata": {},
   "outputs": [
    {
     "data": {
      "text/plain": [
       "0.12500000000000003"
      ]
     },
     "execution_count": 28,
     "metadata": {},
     "output_type": "execute_result"
    }
   ],
   "source": [
    "pdf(dist, [1, 0, 2])"
   ]
  },
  {
   "cell_type": "code",
   "execution_count": 29,
   "id": "ab9fe91f",
   "metadata": {},
   "outputs": [
    {
     "data": {
      "text/plain": [
       "Multinomial{Float64, Vector{Float64}}(n=5, p=[0.16666666666666666, 0.3333333333333333, 0.5])"
      ]
     },
     "execution_count": 29,
     "metadata": {},
     "output_type": "execute_result"
    }
   ],
   "source": [
    "dist = Multinomial(5, normalize([1, 2, 3], 1))"
   ]
  },
  {
   "cell_type": "code",
   "execution_count": 30,
   "id": "a8412d92",
   "metadata": {},
   "outputs": [
    {
     "data": {
      "text/plain": [
       "0.03125"
      ]
     },
     "execution_count": 30,
     "metadata": {},
     "output_type": "execute_result"
    }
   ],
   "source": [
    "pdf(dist, [0, 0, 5])"
   ]
  },
  {
   "cell_type": "code",
   "execution_count": 31,
   "id": "22639124",
   "metadata": {},
   "outputs": [
    {
     "data": {
      "text/plain": [
       "0.05208333333333332"
      ]
     },
     "execution_count": 31,
     "metadata": {},
     "output_type": "execute_result"
    }
   ],
   "source": [
    "pdf(dist, [1, 0, 4])"
   ]
  },
  {
   "cell_type": "code",
   "execution_count": 32,
   "id": "8ff538d1",
   "metadata": {},
   "outputs": [
    {
     "data": {
      "text/plain": [
       "0.03125"
      ]
     },
     "execution_count": 32,
     "metadata": {},
     "output_type": "execute_result"
    }
   ],
   "source": [
    "0.5^5"
   ]
  },
  {
   "cell_type": "code",
   "execution_count": 33,
   "id": "ba125ae1",
   "metadata": {},
   "outputs": [
    {
     "data": {
      "text/plain": [
       "-2.954910279033736"
      ]
     },
     "execution_count": 33,
     "metadata": {},
     "output_type": "execute_result"
    }
   ],
   "source": [
    "logpdf(dist, [1, 0, 4])"
   ]
  },
  {
   "cell_type": "code",
   "execution_count": 34,
   "id": "9b9d8cf8",
   "metadata": {},
   "outputs": [
    {
     "data": {
      "text/plain": [
       "Multinomial{Float64, Vector{Float64}}(n=5, p=[0.16666666666666666, 0.0, 0.3333333333333333, 0.5])"
      ]
     },
     "execution_count": 34,
     "metadata": {},
     "output_type": "execute_result"
    }
   ],
   "source": [
    "dist = Multinomial(5, normalize([1, 0, 2, 3], 1))"
   ]
  },
  {
   "cell_type": "code",
   "execution_count": 35,
   "id": "e1242ed0",
   "metadata": {},
   "outputs": [
    {
     "data": {
      "text/plain": [
       "0.03125"
      ]
     },
     "execution_count": 35,
     "metadata": {},
     "output_type": "execute_result"
    }
   ],
   "source": [
    "pdf(dist, [0, 0, 0, 5])"
   ]
  },
  {
   "cell_type": "markdown",
   "id": "8947c828",
   "metadata": {},
   "source": [
    "On reflection, I'm not sure the multinomial distribution makes sense here. Let's go back to the idea of counting the number of 'm's in a set of words. It's clearly pretty interesting if all of our words have exactly 2 'm's. What if 4 out of 5 have exactly 2 'm's but the last has some other number? That might be interesting too, but does its interestingness (from a puzzle perspective) depend on how many 'm's that last word has? I'd argue that it doesn't. A count of 'm's of [2, 2, 2, 2, 5] is more unlikely (according to the multinomial distribution) than a count of [2, 2, 2, 2, 1] since few words have 5 'm's, but I don't think that actually matters from a puzzle perspective. In both cases, we have 4 of 5 words with some interesting feature (2 'm's) and 1 word without that feature. \n",
    "\n",
    "That seems to argue in favor of the original one-hot style from Collective.jl. In that case, \"has 2 'm's\" is a boolean feature, and the sample would be [true, true, true, true, false] regardless of whether we had 5 'm's or 1 in the last word. I think that's closer to what we actually want. "
   ]
  },
  {
   "cell_type": "code",
   "execution_count": 55,
   "id": "13351570",
   "metadata": {},
   "outputs": [
    {
     "data": {
      "text/plain": [
       "Binomial{Float64}(n=5, p=0.25)"
      ]
     },
     "execution_count": 55,
     "metadata": {},
     "output_type": "execute_result"
    }
   ],
   "source": [
    "dist = Binomial(5, 0.25)"
   ]
  },
  {
   "cell_type": "code",
   "execution_count": 56,
   "id": "5a88428f",
   "metadata": {},
   "outputs": [
    {
     "data": {
      "text/plain": [
       "0.23730468750000017"
      ]
     },
     "execution_count": 56,
     "metadata": {},
     "output_type": "execute_result"
    }
   ],
   "source": [
    "pdf(dist, 0)"
   ]
  },
  {
   "cell_type": "code",
   "execution_count": 57,
   "id": "e24d1a7d",
   "metadata": {},
   "outputs": [
    {
     "data": {
      "text/plain": [
       "0.2373046875"
      ]
     },
     "execution_count": 57,
     "metadata": {},
     "output_type": "execute_result"
    }
   ],
   "source": [
    "0.75^5"
   ]
  },
  {
   "cell_type": "code",
   "execution_count": 58,
   "id": "769c5531",
   "metadata": {},
   "outputs": [
    {
     "data": {
      "text/plain": [
       "0.0009765625000000009"
      ]
     },
     "execution_count": 58,
     "metadata": {},
     "output_type": "execute_result"
    }
   ],
   "source": [
    "pdf(dist, 5)"
   ]
  },
  {
   "cell_type": "code",
   "execution_count": 59,
   "id": "2abea2f9",
   "metadata": {},
   "outputs": [
    {
     "data": {
      "text/plain": [
       "0.0009765625"
      ]
     },
     "execution_count": 59,
     "metadata": {},
     "output_type": "execute_result"
    }
   ],
   "source": [
    "0.25^5"
   ]
  },
  {
   "cell_type": "code",
   "execution_count": 60,
   "id": "cbc5915e",
   "metadata": {},
   "outputs": [
    {
     "data": {
      "text/plain": [
       "0.26367187500000017"
      ]
     },
     "execution_count": 60,
     "metadata": {},
     "output_type": "execute_result"
    }
   ],
   "source": [
    "pdf(dist, 2)"
   ]
  },
  {
   "cell_type": "code",
   "execution_count": 46,
   "id": "1e777518",
   "metadata": {},
   "outputs": [
    {
     "data": {
      "text/plain": [
       "naive_pdf (generic function with 1 method)"
      ]
     },
     "execution_count": 46,
     "metadata": {},
     "output_type": "execute_result"
    }
   ],
   "source": [
    "function naive_pdf(dist, k)\n",
    "    factorial(dist.n) / (factorial(k) * factorial(dist.n - k)) * dist.p^k * (1 - dist.p)^(dist.n - k)\n",
    "end"
   ]
  },
  {
   "cell_type": "code",
   "execution_count": 61,
   "id": "49a1d816",
   "metadata": {},
   "outputs": [
    {
     "data": {
      "text/plain": [
       "Binomial{Float64}(n=5, p=0.25)"
      ]
     },
     "execution_count": 61,
     "metadata": {},
     "output_type": "execute_result"
    }
   ],
   "source": [
    "dist = Binomial(5, 0.25)"
   ]
  },
  {
   "cell_type": "code",
   "execution_count": 62,
   "id": "33124801",
   "metadata": {},
   "outputs": [
    {
     "data": {
      "text/plain": [
       "0.263671875"
      ]
     },
     "execution_count": 62,
     "metadata": {},
     "output_type": "execute_result"
    }
   ],
   "source": [
    "naive_pdf(dist, 2)"
   ]
  },
  {
   "cell_type": "code",
   "execution_count": 63,
   "id": "8384d734",
   "metadata": {},
   "outputs": [],
   "source": [
    "using BenchmarkTools"
   ]
  },
  {
   "cell_type": "code",
   "execution_count": 64,
   "id": "318743a5",
   "metadata": {},
   "outputs": [
    {
     "name": "stdout",
     "output_type": "stream",
     "text": [
      "  103.809 ns (0 allocations: 0 bytes)\n"
     ]
    },
    {
     "data": {
      "text/plain": [
       "0.26367187500000017"
      ]
     },
     "execution_count": 64,
     "metadata": {},
     "output_type": "execute_result"
    }
   ],
   "source": [
    "@btime pdf($dist, 2)"
   ]
  },
  {
   "cell_type": "code",
   "execution_count": 65,
   "id": "f5c6f6ef",
   "metadata": {},
   "outputs": [
    {
     "name": "stdout",
     "output_type": "stream",
     "text": [
      "  93.359 ns (0 allocations: 0 bytes)\n"
     ]
    },
    {
     "data": {
      "text/plain": [
       "-1.3330498466010776"
      ]
     },
     "execution_count": 65,
     "metadata": {},
     "output_type": "execute_result"
    }
   ],
   "source": [
    "@btime logpdf($dist, 2)"
   ]
  },
  {
   "cell_type": "code",
   "execution_count": 66,
   "id": "be16c17d",
   "metadata": {},
   "outputs": [
    {
     "name": "stdout",
     "output_type": "stream",
     "text": [
      "  7.728 ns (0 allocations: 0 bytes)\n"
     ]
    },
    {
     "data": {
      "text/plain": [
       "0.263671875"
      ]
     },
     "execution_count": 66,
     "metadata": {},
     "output_type": "execute_result"
    }
   ],
   "source": [
    "@btime naive_pdf($dist, 2)"
   ]
  },
  {
   "cell_type": "code",
   "execution_count": 67,
   "id": "b9b757c9",
   "metadata": {},
   "outputs": [
    {
     "data": {
      "text/plain": [
       "Binomial{Float64}(n=10, p=0.25)"
      ]
     },
     "execution_count": 67,
     "metadata": {},
     "output_type": "execute_result"
    }
   ],
   "source": [
    "dist = Binomial(10, 0.25)"
   ]
  },
  {
   "cell_type": "code",
   "execution_count": 68,
   "id": "fc9c4afd",
   "metadata": {},
   "outputs": [
    {
     "name": "stdout",
     "output_type": "stream",
     "text": [
      "  94.074 ns (0 allocations: 0 bytes)\n"
     ]
    },
    {
     "data": {
      "text/plain": [
       "0.28156757354736345"
      ]
     },
     "execution_count": 68,
     "metadata": {},
     "output_type": "execute_result"
    }
   ],
   "source": [
    "@btime pdf($dist, 2)"
   ]
  },
  {
   "cell_type": "code",
   "execution_count": 69,
   "id": "88fefd53",
   "metadata": {},
   "outputs": [
    {
     "name": "stdout",
     "output_type": "stream",
     "text": [
      "  96.182 ns (0 allocations: 0 bytes)\n"
     ]
    },
    {
     "data": {
      "text/plain": [
       "0.2815675735473633"
      ]
     },
     "execution_count": 69,
     "metadata": {},
     "output_type": "execute_result"
    }
   ],
   "source": [
    "@btime naive_pdf($dist, 2)"
   ]
  },
  {
   "cell_type": "code",
   "execution_count": 70,
   "id": "cc73dd34",
   "metadata": {},
   "outputs": [
    {
     "data": {
      "text/plain": [
       "Binomial{Float64}(n=20, p=0.25)"
      ]
     },
     "execution_count": 70,
     "metadata": {},
     "output_type": "execute_result"
    }
   ],
   "source": [
    "dist = Binomial(20, 0.25)"
   ]
  },
  {
   "cell_type": "code",
   "execution_count": 71,
   "id": "d06d14a2",
   "metadata": {},
   "outputs": [
    {
     "name": "stdout",
     "output_type": "stream",
     "text": [
      "  94.523 ns (0 allocations: 0 bytes)\n"
     ]
    },
    {
     "data": {
      "text/plain": [
       "0.06694780759971757"
      ]
     },
     "execution_count": 71,
     "metadata": {},
     "output_type": "execute_result"
    }
   ],
   "source": [
    "@btime pdf($dist, 2)"
   ]
  },
  {
   "cell_type": "code",
   "execution_count": 72,
   "id": "6995237f",
   "metadata": {},
   "outputs": [
    {
     "name": "stdout",
     "output_type": "stream",
     "text": [
      "  96.304 ns (0 allocations: 0 bytes)\n"
     ]
    },
    {
     "data": {
      "text/plain": [
       "0.06694780759971763"
      ]
     },
     "execution_count": 72,
     "metadata": {},
     "output_type": "execute_result"
    }
   ],
   "source": [
    "@btime naive_pdf($dist, 2)"
   ]
  },
  {
   "cell_type": "code",
   "execution_count": 73,
   "id": "08cae028",
   "metadata": {},
   "outputs": [
    {
     "name": "stdout",
     "output_type": "stream",
     "text": [
      "  95.431 ns (0 allocations: 0 bytes)\n"
     ]
    },
    {
     "data": {
      "text/plain": [
       "0.009922275279677708"
      ]
     },
     "execution_count": 73,
     "metadata": {},
     "output_type": "execute_result"
    }
   ],
   "source": [
    "@btime pdf($dist, 10)"
   ]
  },
  {
   "cell_type": "code",
   "execution_count": 74,
   "id": "b50db22e",
   "metadata": {},
   "outputs": [
    {
     "name": "stdout",
     "output_type": "stream",
     "text": [
      "  169.432 ns (0 allocations: 0 bytes)\n"
     ]
    },
    {
     "data": {
      "text/plain": [
       "0.009922275279677706"
      ]
     },
     "execution_count": 74,
     "metadata": {},
     "output_type": "execute_result"
    }
   ],
   "source": [
    "@btime naive_pdf($dist, 10)"
   ]
  },
  {
   "cell_type": "code",
   "execution_count": 75,
   "id": "65ddc050",
   "metadata": {},
   "outputs": [
    {
     "data": {
      "text/plain": [
       "Binomial{Float64}(n=1000, p=0.25)"
      ]
     },
     "execution_count": 75,
     "metadata": {},
     "output_type": "execute_result"
    }
   ],
   "source": [
    "dist = Binomial(1000, 0.25)"
   ]
  },
  {
   "cell_type": "code",
   "execution_count": 76,
   "id": "da83c1a1",
   "metadata": {},
   "outputs": [
    {
     "name": "stdout",
     "output_type": "stream",
     "text": [
      "  95.614 ns (0 allocations: 0 bytes)\n"
     ]
    },
    {
     "data": {
      "text/plain": [
       "8.559791450762579e-65"
      ]
     },
     "execution_count": 76,
     "metadata": {},
     "output_type": "execute_result"
    }
   ],
   "source": [
    "@btime pdf($dist, 500)"
   ]
  },
  {
   "cell_type": "code",
   "execution_count": 77,
   "id": "9d58323b",
   "metadata": {},
   "outputs": [
    {
     "ename": "LoadError",
     "evalue": "OverflowError: 1000 is too large to look up in the table; consider using `factorial(big(1000))` instead",
     "output_type": "error",
     "traceback": [
      "OverflowError: 1000 is too large to look up in the table; consider using `factorial(big(1000))` instead",
      "",
      "Stacktrace:",
      "  [1] factorial_lookup",
      "    @ ./combinatorics.jl:19 [inlined]",
      "  [2] factorial",
      "    @ ./combinatorics.jl:27 [inlined]",
      "  [3] naive_pdf(dist::Binomial{Float64}, k::Int64)",
      "    @ Main ./In[46]:2",
      "  [4] var\"##core#406\"(dist#405::Binomial{Float64})",
      "    @ Main ~/.julia/packages/BenchmarkTools/SnZV6/src/execution.jl:483",
      "  [5] var\"##sample#407\"(::Tuple{Binomial{Float64}}, __params::BenchmarkTools.Parameters)",
      "    @ Main ~/.julia/packages/BenchmarkTools/SnZV6/src/execution.jl:489",
      "  [6] _run(b::BenchmarkTools.Benchmark, p::BenchmarkTools.Parameters; verbose::Bool, pad::String, kwargs::Base.Pairs{Symbol, Integer, NTuple{4, Symbol}, NamedTuple{(:samples, :evals, :gctrial, :gcsample), Tuple{Int64, Int64, Bool, Bool}}})",
      "    @ BenchmarkTools ~/.julia/packages/BenchmarkTools/SnZV6/src/execution.jl:99",
      "  [7] #invokelatest#2",
      "    @ ./essentials.jl:718 [inlined]",
      "  [8] #run_result#45",
      "    @ ~/.julia/packages/BenchmarkTools/SnZV6/src/execution.jl:34 [inlined]",
      "  [9] run(b::BenchmarkTools.Benchmark, p::BenchmarkTools.Parameters; progressid::Nothing, nleaves::Float64, ndone::Float64, kwargs::Base.Pairs{Symbol, Integer, NTuple{5, Symbol}, NamedTuple{(:verbose, :samples, :evals, :gctrial, :gcsample), Tuple{Bool, Int64, Int64, Bool, Bool}}})",
      "    @ BenchmarkTools ~/.julia/packages/BenchmarkTools/SnZV6/src/execution.jl:117",
      " [10] #warmup#54",
      "    @ ~/.julia/packages/BenchmarkTools/SnZV6/src/execution.jl:169 [inlined]",
      " [11] warmup(item::BenchmarkTools.Benchmark)",
      "    @ BenchmarkTools ~/.julia/packages/BenchmarkTools/SnZV6/src/execution.jl:169",
      " [12] top-level scope",
      "    @ ~/.julia/packages/BenchmarkTools/SnZV6/src/execution.jl:569",
      " [13] eval",
      "    @ ./boot.jl:373 [inlined]",
      " [14] include_string(mapexpr::typeof(REPL.softscope), mod::Module, code::String, filename::String)",
      "    @ Base ./loading.jl:1196"
     ]
    }
   ],
   "source": [
    "@btime naive_pdf($dist, 500)"
   ]
  },
  {
   "cell_type": "code",
   "execution_count": 78,
   "id": "15366078",
   "metadata": {},
   "outputs": [
    {
     "name": "stdout",
     "output_type": "stream",
     "text": [
      "  28.904 ns (0 allocations: 0 bytes)\n"
     ]
    },
    {
     "data": {
      "text/plain": [
       "-Inf"
      ]
     },
     "execution_count": 78,
     "metadata": {},
     "output_type": "execute_result"
    }
   ],
   "source": [
    "@btime Distributions.betalogpdf(1, 2, 3)"
   ]
  },
  {
   "cell_type": "code",
   "execution_count": 80,
   "id": "1c254a86",
   "metadata": {},
   "outputs": [],
   "source": [
    "@edit Distributions.betalogpdf(1, 2, 3)"
   ]
  },
  {
   "cell_type": "code",
   "execution_count": 82,
   "id": "27571847",
   "metadata": {},
   "outputs": [],
   "source": [
    "using StatsBase"
   ]
  },
  {
   "cell_type": "code",
   "execution_count": 83,
   "id": "21ee2847",
   "metadata": {},
   "outputs": [
    {
     "data": {
      "text/plain": [
       "1.0986122886681098"
      ]
     },
     "execution_count": 83,
     "metadata": {},
     "output_type": "execute_result"
    }
   ],
   "source": [
    "kldivergence([1, 0, 0], [1/3, 1/3, 1/3])"
   ]
  },
  {
   "cell_type": "code",
   "execution_count": 84,
   "id": "d3cbae97",
   "metadata": {},
   "outputs": [
    {
     "data": {
      "text/plain": [
       "1.791759469228055"
      ]
     },
     "execution_count": 84,
     "metadata": {},
     "output_type": "execute_result"
    }
   ],
   "source": [
    "kldivergence([1, 0, 0], normalize([1, 2, 3], 1))"
   ]
  },
  {
   "cell_type": "code",
   "execution_count": 85,
   "id": "2cece7d9",
   "metadata": {},
   "outputs": [
    {
     "data": {
      "text/plain": [
       "0.6931471805599453"
      ]
     },
     "execution_count": 85,
     "metadata": {},
     "output_type": "execute_result"
    }
   ],
   "source": [
    "kldivergence([0, 0, 1], normalize([1, 2, 3], 1))"
   ]
  },
  {
   "cell_type": "code",
   "execution_count": 86,
   "id": "7e854c51",
   "metadata": {},
   "outputs": [
    {
     "data": {
      "text/plain": [
       "1.3862943611198906"
      ]
     },
     "execution_count": 86,
     "metadata": {},
     "output_type": "execute_result"
    }
   ],
   "source": [
    "kldivergence([1, 0], [0.25, 0.75])"
   ]
  },
  {
   "cell_type": "code",
   "execution_count": 96,
   "id": "de626a5c",
   "metadata": {},
   "outputs": [],
   "source": [
    "using HypothesisTests: MultinomialLRTest, ChisqTest"
   ]
  },
  {
   "cell_type": "code",
   "execution_count": 91,
   "id": "6cfd189f",
   "metadata": {},
   "outputs": [
    {
     "data": {
      "text/plain": [
       "Multinomial Likelihood Ratio Test\n",
       "---------------------------------\n",
       "Population details:\n",
       "    parameter of interest:   Multinomial Probabilities\n",
       "    value under h_0:         [0.333333, 0.333333, 0.333333]\n",
       "    point estimate:          [0.333333, 0.333333, 0.333333]\n",
       "    95% confidence interval: [(0.0, 1.0), (0.0, 1.0), (0.0, 1.0)]\n",
       "\n",
       "Test summary:\n",
       "    outcome with 95% confidence: fail to reject h_0\n",
       "    one-sided p-value:           1.0000\n",
       "\n",
       "Details:\n",
       "    Sample size:        3\n",
       "    statistic:          0.0\n",
       "    degrees of freedom: 2\n",
       "    residuals:          [0.0, 0.0, 0.0]\n",
       "    std. residuals:     [0.0, 0.0, 0.0]\n"
      ]
     },
     "execution_count": 91,
     "metadata": {},
     "output_type": "execute_result"
    }
   ],
   "source": [
    "MultinomialLRTest([1, 1, 1], normalize([1, 1, 1], 1))"
   ]
  },
  {
   "cell_type": "code",
   "execution_count": 95,
   "id": "c28f6dc9",
   "metadata": {},
   "outputs": [
    {
     "data": {
      "text/plain": [
       "Multinomial Likelihood Ratio Test\n",
       "---------------------------------\n",
       "Population details:\n",
       "    parameter of interest:   Multinomial Probabilities\n",
       "    value under h_0:         [0.333333, 0.333333, 0.333333]\n",
       "    point estimate:          [0.0909091, 0.0, 0.909091]\n",
       "    95% confidence interval: [(0.0, 0.2467), (0.0, 0.1558), (0.8182, 1.0)]\n",
       "\n",
       "Test summary:\n",
       "    outcome with 95% confidence: reject h_0\n",
       "    one-sided p-value:           NaN\n",
       "\n",
       "Details:\n",
       "    Sample size:        11\n",
       "    statistic:          NaN\n",
       "    degrees of freedom: 2\n",
       "    residuals:          [-1.39262, -1.91485, 3.30748]\n",
       "    std. residuals:     [-1.70561, -2.34521, 4.05081]\n"
      ]
     },
     "execution_count": 95,
     "metadata": {},
     "output_type": "execute_result"
    }
   ],
   "source": [
    "MultinomialLRTest([1, 0, 10], normalize([1, 1, 1], 1))"
   ]
  },
  {
   "cell_type": "code",
   "execution_count": 97,
   "id": "c6e40778",
   "metadata": {},
   "outputs": [
    {
     "data": {
      "text/plain": [
       "Pearson's Chi-square Test\n",
       "-------------------------\n",
       "Population details:\n",
       "    parameter of interest:   Multinomial Probabilities\n",
       "    value under h_0:         [0.333333, 0.333333, 0.333333]\n",
       "    point estimate:          [0.333333, 0.333333, 0.333333]\n",
       "    95% confidence interval: [(0.0, 1.0), (0.0, 1.0), (0.0, 1.0)]\n",
       "\n",
       "Test summary:\n",
       "    outcome with 95% confidence: fail to reject h_0\n",
       "    one-sided p-value:           1.0000\n",
       "\n",
       "Details:\n",
       "    Sample size:        3\n",
       "    statistic:          0.0\n",
       "    degrees of freedom: 2\n",
       "    residuals:          [0.0, 0.0, 0.0]\n",
       "    std. residuals:     [0.0, 0.0, 0.0]\n"
      ]
     },
     "execution_count": 97,
     "metadata": {},
     "output_type": "execute_result"
    }
   ],
   "source": [
    "ChisqTest([1, 1, 1], normalize([1, 1, 1], 1))"
   ]
  },
  {
   "cell_type": "code",
   "execution_count": 100,
   "id": "b904397e",
   "metadata": {},
   "outputs": [
    {
     "data": {
      "text/plain": [
       "Pearson's Chi-square Test\n",
       "-------------------------\n",
       "Population details:\n",
       "    parameter of interest:   Multinomial Probabilities\n",
       "    value under h_0:         [0.333333, 0.333333, 0.333333]\n",
       "    point estimate:          [0.0, 0.166667, 0.833333]\n",
       "    95% confidence interval: [(0.0, 0.2781), (0.0, 0.4448), (0.6667, 1.0)]\n",
       "\n",
       "Test summary:\n",
       "    outcome with 95% confidence: reject h_0\n",
       "    one-sided p-value:           0.0302\n",
       "\n",
       "Details:\n",
       "    Sample size:        6\n",
       "    statistic:          7.0\n",
       "    degrees of freedom: 2\n",
       "    residuals:          [-1.41421, -0.707107, 2.12132]\n",
       "    std. residuals:     [-1.73205, -0.866025, 2.59808]\n"
      ]
     },
     "execution_count": 100,
     "metadata": {},
     "output_type": "execute_result"
    }
   ],
   "source": [
    "ChisqTest([0, 1, 5], normalize([1, 1, 1], 1))"
   ]
  },
  {
   "cell_type": "code",
   "execution_count": 101,
   "id": "ac2f958a",
   "metadata": {},
   "outputs": [
    {
     "data": {
      "text/plain": [
       "Pearson's Chi-square Test\n",
       "-------------------------\n",
       "Population details:\n",
       "    parameter of interest:   Multinomial Probabilities\n",
       "    value under h_0:         [0.75, 0.25]\n",
       "    point estimate:          [0.2, 0.8]\n",
       "    95% confidence interval: [(0.0, 0.5257), (0.6, 1.0)]\n",
       "\n",
       "Test summary:\n",
       "    outcome with 95% confidence: reject h_0\n",
       "    one-sided p-value:           0.0045\n",
       "\n",
       "Details:\n",
       "    Sample size:        5\n",
       "    statistic:          8.066666666666666\n",
       "    degrees of freedom: 1\n",
       "    residuals:          [-1.42009, 2.45967]\n",
       "    std. residuals:     [-2.84019, 2.84019]\n"
      ]
     },
     "execution_count": 101,
     "metadata": {},
     "output_type": "execute_result"
    }
   ],
   "source": [
    "ChisqTest([1, 4], [0.75, 0.25])"
   ]
  },
  {
   "cell_type": "code",
   "execution_count": 107,
   "id": "6f68b334",
   "metadata": {},
   "outputs": [
    {
     "data": {
      "text/plain": [
       "0.015625000000000007"
      ]
     },
     "execution_count": 107,
     "metadata": {},
     "output_type": "execute_result"
    }
   ],
   "source": [
    "dist = Binomial(5, 0.25)\n",
    "pdf(dist, 4) + pdf(dist, 5)"
   ]
  },
  {
   "cell_type": "code",
   "execution_count": 110,
   "id": "9fe1f906",
   "metadata": {},
   "outputs": [],
   "source": [
    "using HypothesisTests: pvalue"
   ]
  },
  {
   "cell_type": "code",
   "execution_count": 111,
   "id": "b707f701",
   "metadata": {},
   "outputs": [
    {
     "data": {
      "text/plain": [
       "5.133013955787431e-5"
      ]
     },
     "execution_count": 111,
     "metadata": {},
     "output_type": "execute_result"
    }
   ],
   "source": [
    "pvalue(ChisqTest([0, 0, 5, 0], normalize([1, 3, 1, 0.5], 1)))"
   ]
  },
  {
   "cell_type": "code",
   "execution_count": 112,
   "id": "2c628890",
   "metadata": {},
   "outputs": [
    {
     "data": {
      "text/plain": [
       "0.001995790028753647"
      ]
     },
     "execution_count": 112,
     "metadata": {},
     "output_type": "execute_result"
    }
   ],
   "source": [
    "pvalue(ChisqTest([0, 0, 4, 1], normalize([1, 3, 1, 0.5], 1)))"
   ]
  },
  {
   "cell_type": "code",
   "execution_count": null,
   "id": "40b25898",
   "metadata": {},
   "outputs": [],
   "source": []
  }
 ],
 "metadata": {
  "kernelspec": {
   "display_name": "Julia 1.7.1",
   "language": "julia",
   "name": "julia-1.7"
  },
  "language_info": {
   "file_extension": ".jl",
   "mimetype": "application/julia",
   "name": "julia",
   "version": "1.7.1"
  }
 },
 "nbformat": 4,
 "nbformat_minor": 5
}
